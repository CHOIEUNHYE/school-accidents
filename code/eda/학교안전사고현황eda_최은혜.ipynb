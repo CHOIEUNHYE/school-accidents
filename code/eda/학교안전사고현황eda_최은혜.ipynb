{
 "cells": [
  {
   "cell_type": "markdown",
   "metadata": {},
   "source": [
    "# 학교 안전사고 현황 분석\n",
    "\n",
    "- 코드 작성자 : 최은혜\n",
    "- 코드 작성일 : 2024-07-06"
   ]
  },
  {
   "cell_type": "markdown",
   "metadata": {},
   "source": [
    "## 0. 라이브러리 및 데이터 임포트"
   ]
  },
  {
   "cell_type": "code",
   "execution_count": null,
   "metadata": {},
   "outputs": [],
   "source": [
    "import pandas as pd\n",
    "import numpy as np\n",
    "import polars as pl\n",
    "from datetime import datetime\n",
    "import plotly.express as px\n",
    "from wordcloud import WordCloud\n",
    "import matplotlib.pyplot as plt\n",
    "import plotly.graph_objects as go\n",
    "from plotly.subplots import make_subplots\n",
    "# !pip install geopandas\n",
    "import geopandas as gpd\n",
    "import json\n",
    "\n",
    "# 팔레트 색깔\n",
    "palette = [\"#5c7dd2\",\"#92b8ff\",\"#aeceff\",\"#c7e4ff\",'#c3b7eb', '#9590e6', '#837ed5']\n",
    "palette_blue =[\"#5fa8d3\", \"#cae9ff\", \"#1b4965\", \"#62b6cb\", \"#bee9e8\"]\n",
    "palette_purple = [ \"#39324E\", \"#9f86c0\", \"#be95c4\", \"#EBC7DB\",\"#5e548e\"]\n"
   ]
  },
  {
   "cell_type": "code",
   "execution_count": null,
   "metadata": {},
   "outputs": [],
   "source": [
    "# df_2019 = pd.read_excel('../../data/★2019~2023 학교안전사고 데이터_수정.xlsx',sheet_name='2019')\n",
    "# df_2020 = pd.read_excel('../../data/★2019~2023 학교안전사고 데이터_수정.xlsx',sheet_name='2020')\n",
    "# df_2021 = pd.read_excel('../../data/★2019~2023 학교안전사고 데이터_수정.xlsx',sheet_name='2021')\n",
    "# df_2022 = pd.read_excel('../../data/★2019~2023 학교안전사고 데이터_수정.xlsx',sheet_name='2022')\n",
    "# df_2023 = pd.read_excel('../../data/★2019~2023 학교안전사고 데이터_수정.xlsx',sheet_name='2023').rename(columns={'매개물':'사고매개물'})"
   ]
  },
  {
   "cell_type": "code",
   "execution_count": null,
   "metadata": {},
   "outputs": [],
   "source": [
    "# df = pd.concat([df_2019,df_2020,df_2021,df_2022,df_2023])\n",
    "# df.to_csv('학교안전사고데이터_통합.csv',index=False,encoding='utf-8-sig')"
   ]
  },
  {
   "cell_type": "code",
   "execution_count": null,
   "metadata": {},
   "outputs": [],
   "source": [
    "\n",
    "# df = df.to_pandas()\n",
    "\n",
    "# df['사고발생일'] = pd.to_datetime(df['사고발생일'])\n",
    "\n",
    "# df_before_2018 = df.query(\"사고발생일 < '2019-01-01'\")\n",
    "# df_2019 = df[df['사고발생일'].between('2019-01-01', '2019-12-31')]\n",
    "# df_2020 = df[df['사고발생일'].between('2020-01-01', '2020-12-31')]\n",
    "# df_2021 = df[df['사고발생일'].between('2021-01-01', '2021-12-31')]\n",
    "# df_2022 = df[df['사고발생일'].between('2022-01-01', '2022-12-31')]\n",
    "# df_2023 = df[df['사고발생일'].between('2023-01-01', '2023-12-31')]"
   ]
  },
  {
   "cell_type": "code",
   "execution_count": null,
   "metadata": {},
   "outputs": [],
   "source": [
    "# df.to_csv('학교안전사고데이터_통합.csv',index=False,encoding='utf-8-sig')"
   ]
  },
  {
   "cell_type": "code",
   "execution_count": null,
   "metadata": {},
   "outputs": [],
   "source": [
    "# df = df[df['사고발생일'].between('2019-01-01', '2023-12-31')]"
   ]
  },
  {
   "cell_type": "code",
   "execution_count": null,
   "metadata": {},
   "outputs": [],
   "source": [
    "df = pl.read_csv('../../data/학교안전사고데이터통합/학교안전사고데이터_통합.csv')\n",
    "df = df.to_pandas()\n",
    "df['사고발생일'] = pd.to_datetime(df['사고발생일'])\n",
    "df['연도'] = df['사고발생일'].map(lambda x : x.year)\n",
    "\n",
    "df_2019 = df[df['사고발생일'].between('2019-01-01', '2019-12-31')]\n",
    "df_2020 = df[df['사고발생일'].between('2020-01-01', '2020-12-31')]\n",
    "df_2021 = df[df['사고발생일'].between('2021-01-01', '2021-12-31')]\n",
    "df_2022 = df[df['사고발생일'].between('2022-01-01', '2022-12-31')]\n",
    "df_2023 = df[df['사고발생일'].between('2023-01-01', '2023-12-31')]"
   ]
  },
  {
   "cell_type": "code",
   "execution_count": null,
   "metadata": {},
   "outputs": [],
   "source": [
    "df"
   ]
  },
  {
   "cell_type": "markdown",
   "metadata": {},
   "source": [
    "## 1. 학교 안전사고 현황 EDA"
   ]
  },
  {
   "cell_type": "markdown",
   "metadata": {},
   "source": [
    "### 1-1. 연도별 사고 현황"
   ]
  },
  {
   "cell_type": "code",
   "execution_count": null,
   "metadata": {},
   "outputs": [],
   "source": []
  },
  {
   "cell_type": "markdown",
   "metadata": {},
   "source": [
    "### 1-2. 지역별 사고 현황\n",
    "\n",
    "- 시도별 사고 현황\n",
    "    - 시도별 총 사고건수\n",
    "    - 시도별 연도별 전체 사고건수\n",
    "    - 시도별 연도별 전체 학교 수 대비 안전사고 발생 학교 비율\n",
    "        -  전체 학교 중 안전사고가 발생한 학교의 비율(2021년 동작구의 전체 학교 N곳 중 M곳의 학교에서 안전사고가 발생했다.)\n",
    "    - 시도별 연도별 전체 학교 수 대비 안전사고 발생 건수\n",
    "- 시군구별 사고 현황\n",
    "    - 시군구별 총 사고 건수 (시도별에서 시도를 선택하면 확인할 수 있도록)\n",
    "    - 시군구별 연도별 총 사고건수\n",
    "    - 시도별 연도별 전체 학교 수 대비 안전사고 발생 학교 비율\n",
    "        -  전체 학교 중 안전사고가 발생한 학교의 비율(2021년 동작구의 전체 학교 N곳 중 M곳의 학교에서 안전사고가 발생했다.)\n",
    "    - 시도별 연도별 전체 학교 수 대비 안전사고 발생 건수"
   ]
  },
  {
   "cell_type": "code",
   "execution_count": null,
   "metadata": {},
   "outputs": [],
   "source": [
    "df_2023.교육청.unique()\n",
    "\n",
    "'''\n",
    "교육청(시도)\n",
    "교육지원청(시군구) --> 시군구별 분석 가능\n",
    "    교육지원청은 시·도 교육청의 하급 교육행정기관으로, 교육장(3급 또는 4급 상당)의 감독 아래 시·도의 교육·학예에 관한 사무를 일부 분장한다. \n",
    "'''"
   ]
  },
  {
   "cell_type": "markdown",
   "metadata": {},
   "source": [
    "### 1-3. 학교급별 사고 현황\n",
    "\n",
    "- 학교급별 (연도별) 총 사고 수\n",
    "- 학교급별 (연도별) 학년별 사고 수\n",
    "- 학교급별 (연도별) 성별별 사고 수\n",
    "- 학교급별 하루 평균 발생 사고 수 : 초등학교에선 하루에 평균 몇 건의 사고가 발생하는지?\n",
    "- 학교급별 사고 내용 (사고 형태, 사과 당시 활동, 사고매개물)\n",
    "    - 학교급별 사고 내용에 대한 비교 (초등학교는 어떤 사고가 주로 발생하고, 중학교는 어떤 사고가 주로 발생하는지를 파악하고자 하는 내용)"
   ]
  },
  {
   "cell_type": "code",
   "execution_count": 619,
   "metadata": {},
   "outputs": [
    {
     "data": {
      "application/vnd.plotly.v1+json": {
       "config": {
        "plotlyServerURL": "https://plot.ly"
       },
       "data": [
        {
         "customdata": [
          25343,
          141368,
          148740,
          90979,
          1704
         ],
         "hovertemplate": "학교급 : %{y}<br>사고건수 : %{customdata:.f}건",
         "name": "남",
         "orientation": "h",
         "type": "bar",
         "x": [
          -25343,
          -141368,
          -148740,
          -90979,
          -1704
         ],
         "y": [
          "유치원",
          "초등학교",
          "중학교",
          "고등학교",
          "특수학교"
         ]
        },
        {
         "hovertemplate": "학교급 : %{y}<br>사고건수 : %{x:.f}건",
         "name": "여",
         "orientation": "h",
         "type": "bar",
         "x": [
          17060,
          77462,
          67425,
          39071,
          854
         ],
         "y": [
          "유치원",
          "초등학교",
          "중학교",
          "고등학교",
          "특수학교"
         ]
        }
       ],
       "layout": {
        "bargap": 0.01,
        "barmode": "relative",
        "font": {
         "color": "black",
         "family": "KoPubWorld돋움체_Pro"
        },
        "hoverlabel": {
         "font": {
          "family": "KoPubWorld돋움체_Pro",
          "size": 15
         }
        },
        "legend": {
         "orientation": "h",
         "title": {
          "text": " "
         },
         "x": 0.05,
         "y": 1.2
        },
        "paper_bgcolor": "white",
        "plot_bgcolor": "white",
        "template": {
         "data": {
          "bar": [
           {
            "error_x": {
             "color": "#2a3f5f"
            },
            "error_y": {
             "color": "#2a3f5f"
            },
            "marker": {
             "line": {
              "color": "#E5ECF6",
              "width": 0.5
             },
             "pattern": {
              "fillmode": "overlay",
              "size": 10,
              "solidity": 0.2
             }
            },
            "type": "bar"
           }
          ],
          "barpolar": [
           {
            "marker": {
             "line": {
              "color": "#E5ECF6",
              "width": 0.5
             },
             "pattern": {
              "fillmode": "overlay",
              "size": 10,
              "solidity": 0.2
             }
            },
            "type": "barpolar"
           }
          ],
          "carpet": [
           {
            "aaxis": {
             "endlinecolor": "#2a3f5f",
             "gridcolor": "white",
             "linecolor": "white",
             "minorgridcolor": "white",
             "startlinecolor": "#2a3f5f"
            },
            "baxis": {
             "endlinecolor": "#2a3f5f",
             "gridcolor": "white",
             "linecolor": "white",
             "minorgridcolor": "white",
             "startlinecolor": "#2a3f5f"
            },
            "type": "carpet"
           }
          ],
          "choropleth": [
           {
            "colorbar": {
             "outlinewidth": 0,
             "ticks": ""
            },
            "type": "choropleth"
           }
          ],
          "contour": [
           {
            "colorbar": {
             "outlinewidth": 0,
             "ticks": ""
            },
            "colorscale": [
             [
              0,
              "#0d0887"
             ],
             [
              0.1111111111111111,
              "#46039f"
             ],
             [
              0.2222222222222222,
              "#7201a8"
             ],
             [
              0.3333333333333333,
              "#9c179e"
             ],
             [
              0.4444444444444444,
              "#bd3786"
             ],
             [
              0.5555555555555556,
              "#d8576b"
             ],
             [
              0.6666666666666666,
              "#ed7953"
             ],
             [
              0.7777777777777778,
              "#fb9f3a"
             ],
             [
              0.8888888888888888,
              "#fdca26"
             ],
             [
              1,
              "#f0f921"
             ]
            ],
            "type": "contour"
           }
          ],
          "contourcarpet": [
           {
            "colorbar": {
             "outlinewidth": 0,
             "ticks": ""
            },
            "type": "contourcarpet"
           }
          ],
          "heatmap": [
           {
            "colorbar": {
             "outlinewidth": 0,
             "ticks": ""
            },
            "colorscale": [
             [
              0,
              "#0d0887"
             ],
             [
              0.1111111111111111,
              "#46039f"
             ],
             [
              0.2222222222222222,
              "#7201a8"
             ],
             [
              0.3333333333333333,
              "#9c179e"
             ],
             [
              0.4444444444444444,
              "#bd3786"
             ],
             [
              0.5555555555555556,
              "#d8576b"
             ],
             [
              0.6666666666666666,
              "#ed7953"
             ],
             [
              0.7777777777777778,
              "#fb9f3a"
             ],
             [
              0.8888888888888888,
              "#fdca26"
             ],
             [
              1,
              "#f0f921"
             ]
            ],
            "type": "heatmap"
           }
          ],
          "heatmapgl": [
           {
            "colorbar": {
             "outlinewidth": 0,
             "ticks": ""
            },
            "colorscale": [
             [
              0,
              "#0d0887"
             ],
             [
              0.1111111111111111,
              "#46039f"
             ],
             [
              0.2222222222222222,
              "#7201a8"
             ],
             [
              0.3333333333333333,
              "#9c179e"
             ],
             [
              0.4444444444444444,
              "#bd3786"
             ],
             [
              0.5555555555555556,
              "#d8576b"
             ],
             [
              0.6666666666666666,
              "#ed7953"
             ],
             [
              0.7777777777777778,
              "#fb9f3a"
             ],
             [
              0.8888888888888888,
              "#fdca26"
             ],
             [
              1,
              "#f0f921"
             ]
            ],
            "type": "heatmapgl"
           }
          ],
          "histogram": [
           {
            "marker": {
             "pattern": {
              "fillmode": "overlay",
              "size": 10,
              "solidity": 0.2
             }
            },
            "type": "histogram"
           }
          ],
          "histogram2d": [
           {
            "colorbar": {
             "outlinewidth": 0,
             "ticks": ""
            },
            "colorscale": [
             [
              0,
              "#0d0887"
             ],
             [
              0.1111111111111111,
              "#46039f"
             ],
             [
              0.2222222222222222,
              "#7201a8"
             ],
             [
              0.3333333333333333,
              "#9c179e"
             ],
             [
              0.4444444444444444,
              "#bd3786"
             ],
             [
              0.5555555555555556,
              "#d8576b"
             ],
             [
              0.6666666666666666,
              "#ed7953"
             ],
             [
              0.7777777777777778,
              "#fb9f3a"
             ],
             [
              0.8888888888888888,
              "#fdca26"
             ],
             [
              1,
              "#f0f921"
             ]
            ],
            "type": "histogram2d"
           }
          ],
          "histogram2dcontour": [
           {
            "colorbar": {
             "outlinewidth": 0,
             "ticks": ""
            },
            "colorscale": [
             [
              0,
              "#0d0887"
             ],
             [
              0.1111111111111111,
              "#46039f"
             ],
             [
              0.2222222222222222,
              "#7201a8"
             ],
             [
              0.3333333333333333,
              "#9c179e"
             ],
             [
              0.4444444444444444,
              "#bd3786"
             ],
             [
              0.5555555555555556,
              "#d8576b"
             ],
             [
              0.6666666666666666,
              "#ed7953"
             ],
             [
              0.7777777777777778,
              "#fb9f3a"
             ],
             [
              0.8888888888888888,
              "#fdca26"
             ],
             [
              1,
              "#f0f921"
             ]
            ],
            "type": "histogram2dcontour"
           }
          ],
          "mesh3d": [
           {
            "colorbar": {
             "outlinewidth": 0,
             "ticks": ""
            },
            "type": "mesh3d"
           }
          ],
          "parcoords": [
           {
            "line": {
             "colorbar": {
              "outlinewidth": 0,
              "ticks": ""
             }
            },
            "type": "parcoords"
           }
          ],
          "pie": [
           {
            "automargin": true,
            "type": "pie"
           }
          ],
          "scatter": [
           {
            "fillpattern": {
             "fillmode": "overlay",
             "size": 10,
             "solidity": 0.2
            },
            "type": "scatter"
           }
          ],
          "scatter3d": [
           {
            "line": {
             "colorbar": {
              "outlinewidth": 0,
              "ticks": ""
             }
            },
            "marker": {
             "colorbar": {
              "outlinewidth": 0,
              "ticks": ""
             }
            },
            "type": "scatter3d"
           }
          ],
          "scattercarpet": [
           {
            "marker": {
             "colorbar": {
              "outlinewidth": 0,
              "ticks": ""
             }
            },
            "type": "scattercarpet"
           }
          ],
          "scattergeo": [
           {
            "marker": {
             "colorbar": {
              "outlinewidth": 0,
              "ticks": ""
             }
            },
            "type": "scattergeo"
           }
          ],
          "scattergl": [
           {
            "marker": {
             "colorbar": {
              "outlinewidth": 0,
              "ticks": ""
             }
            },
            "type": "scattergl"
           }
          ],
          "scattermapbox": [
           {
            "marker": {
             "colorbar": {
              "outlinewidth": 0,
              "ticks": ""
             }
            },
            "type": "scattermapbox"
           }
          ],
          "scatterpolar": [
           {
            "marker": {
             "colorbar": {
              "outlinewidth": 0,
              "ticks": ""
             }
            },
            "type": "scatterpolar"
           }
          ],
          "scatterpolargl": [
           {
            "marker": {
             "colorbar": {
              "outlinewidth": 0,
              "ticks": ""
             }
            },
            "type": "scatterpolargl"
           }
          ],
          "scatterternary": [
           {
            "marker": {
             "colorbar": {
              "outlinewidth": 0,
              "ticks": ""
             }
            },
            "type": "scatterternary"
           }
          ],
          "surface": [
           {
            "colorbar": {
             "outlinewidth": 0,
             "ticks": ""
            },
            "colorscale": [
             [
              0,
              "#0d0887"
             ],
             [
              0.1111111111111111,
              "#46039f"
             ],
             [
              0.2222222222222222,
              "#7201a8"
             ],
             [
              0.3333333333333333,
              "#9c179e"
             ],
             [
              0.4444444444444444,
              "#bd3786"
             ],
             [
              0.5555555555555556,
              "#d8576b"
             ],
             [
              0.6666666666666666,
              "#ed7953"
             ],
             [
              0.7777777777777778,
              "#fb9f3a"
             ],
             [
              0.8888888888888888,
              "#fdca26"
             ],
             [
              1,
              "#f0f921"
             ]
            ],
            "type": "surface"
           }
          ],
          "table": [
           {
            "cells": {
             "fill": {
              "color": "#EBF0F8"
             },
             "line": {
              "color": "white"
             }
            },
            "header": {
             "fill": {
              "color": "#C8D4E3"
             },
             "line": {
              "color": "white"
             }
            },
            "type": "table"
           }
          ]
         },
         "layout": {
          "annotationdefaults": {
           "arrowcolor": "#2a3f5f",
           "arrowhead": 0,
           "arrowwidth": 1
          },
          "autotypenumbers": "strict",
          "coloraxis": {
           "colorbar": {
            "outlinewidth": 0,
            "ticks": ""
           }
          },
          "colorscale": {
           "diverging": [
            [
             0,
             "#8e0152"
            ],
            [
             0.1,
             "#c51b7d"
            ],
            [
             0.2,
             "#de77ae"
            ],
            [
             0.3,
             "#f1b6da"
            ],
            [
             0.4,
             "#fde0ef"
            ],
            [
             0.5,
             "#f7f7f7"
            ],
            [
             0.6,
             "#e6f5d0"
            ],
            [
             0.7,
             "#b8e186"
            ],
            [
             0.8,
             "#7fbc41"
            ],
            [
             0.9,
             "#4d9221"
            ],
            [
             1,
             "#276419"
            ]
           ],
           "sequential": [
            [
             0,
             "#0d0887"
            ],
            [
             0.1111111111111111,
             "#46039f"
            ],
            [
             0.2222222222222222,
             "#7201a8"
            ],
            [
             0.3333333333333333,
             "#9c179e"
            ],
            [
             0.4444444444444444,
             "#bd3786"
            ],
            [
             0.5555555555555556,
             "#d8576b"
            ],
            [
             0.6666666666666666,
             "#ed7953"
            ],
            [
             0.7777777777777778,
             "#fb9f3a"
            ],
            [
             0.8888888888888888,
             "#fdca26"
            ],
            [
             1,
             "#f0f921"
            ]
           ],
           "sequentialminus": [
            [
             0,
             "#0d0887"
            ],
            [
             0.1111111111111111,
             "#46039f"
            ],
            [
             0.2222222222222222,
             "#7201a8"
            ],
            [
             0.3333333333333333,
             "#9c179e"
            ],
            [
             0.4444444444444444,
             "#bd3786"
            ],
            [
             0.5555555555555556,
             "#d8576b"
            ],
            [
             0.6666666666666666,
             "#ed7953"
            ],
            [
             0.7777777777777778,
             "#fb9f3a"
            ],
            [
             0.8888888888888888,
             "#fdca26"
            ],
            [
             1,
             "#f0f921"
            ]
           ]
          },
          "colorway": [
           "#636efa",
           "#EF553B",
           "#00cc96",
           "#ab63fa",
           "#FFA15A",
           "#19d3f3",
           "#FF6692",
           "#B6E880",
           "#FF97FF",
           "#FECB52"
          ],
          "font": {
           "color": "#2a3f5f"
          },
          "geo": {
           "bgcolor": "white",
           "lakecolor": "white",
           "landcolor": "#E5ECF6",
           "showlakes": true,
           "showland": true,
           "subunitcolor": "white"
          },
          "hoverlabel": {
           "align": "left"
          },
          "hovermode": "closest",
          "mapbox": {
           "style": "light"
          },
          "paper_bgcolor": "white",
          "plot_bgcolor": "#E5ECF6",
          "polar": {
           "angularaxis": {
            "gridcolor": "white",
            "linecolor": "white",
            "ticks": ""
           },
           "bgcolor": "#E5ECF6",
           "radialaxis": {
            "gridcolor": "white",
            "linecolor": "white",
            "ticks": ""
           }
          },
          "scene": {
           "xaxis": {
            "backgroundcolor": "#E5ECF6",
            "gridcolor": "white",
            "gridwidth": 2,
            "linecolor": "white",
            "showbackground": true,
            "ticks": "",
            "zerolinecolor": "white"
           },
           "yaxis": {
            "backgroundcolor": "#E5ECF6",
            "gridcolor": "white",
            "gridwidth": 2,
            "linecolor": "white",
            "showbackground": true,
            "ticks": "",
            "zerolinecolor": "white"
           },
           "zaxis": {
            "backgroundcolor": "#E5ECF6",
            "gridcolor": "white",
            "gridwidth": 2,
            "linecolor": "white",
            "showbackground": true,
            "ticks": "",
            "zerolinecolor": "white"
           }
          },
          "shapedefaults": {
           "line": {
            "color": "#2a3f5f"
           }
          },
          "ternary": {
           "aaxis": {
            "gridcolor": "white",
            "linecolor": "white",
            "ticks": ""
           },
           "baxis": {
            "gridcolor": "white",
            "linecolor": "white",
            "ticks": ""
           },
           "bgcolor": "#E5ECF6",
           "caxis": {
            "gridcolor": "white",
            "linecolor": "white",
            "ticks": ""
           }
          },
          "title": {
           "x": 0.05
          },
          "xaxis": {
           "automargin": true,
           "gridcolor": "white",
           "linecolor": "white",
           "ticks": "",
           "title": {
            "standoff": 15
           },
           "zerolinecolor": "white",
           "zerolinewidth": 2
          },
          "yaxis": {
           "automargin": true,
           "gridcolor": "white",
           "linecolor": "white",
           "ticks": "",
           "title": {
            "standoff": 15
           },
           "zerolinecolor": "white",
           "zerolinewidth": 2
          }
         }
        },
        "xaxis": {
         "showticklabels": false
        },
        "yaxis": {
         "tickfont": {
          "size": 17
         }
        }
       }
      }
     },
     "metadata": {},
     "output_type": "display_data"
    }
   ],
   "source": [
    "# 데이터 \n",
    "level_gender = df.groupby(['학교급','사고자성별']).count()[['구분']].reset_index()\n",
    "level_gender = level_gender[level_gender['학교급']!='기타학교']\n",
    "level_order = ['유치원','초등학교','중학교','고등학교','특수학교']\n",
    "level_gender['학교급'] = pd.Categorical(level_gender['학교급'],categories=level_order, ordered=True)\n",
    "level_gender = level_gender.sort_values('학교급',ascending=False).reset_index(drop=True)\n",
    "level_gender_pivot = level_gender.pivot_table(index='학교급',columns='사고자성별',values='구분').reset_index()\n",
    "\n",
    "# 그래프\n",
    "fig = go.Figure()\n",
    "fig.add_trace(go.Bar(x=-level_gender_pivot['남'].values,\n",
    "                        y=level_gender_pivot['학교급'],\n",
    "                        orientation='h',\n",
    "                        name='남',\n",
    "                        customdata=level_gender_pivot['남'],))\n",
    "\n",
    "fig.add_trace(go.Bar(x= level_gender_pivot['여'],\n",
    "                        y =level_gender_pivot['학교급'],\n",
    "                        orientation='h',\n",
    "                        name= '여'))    \n",
    "\n",
    "fig.update_layout(barmode='relative', \n",
    "                #   yaxis_autorange='reversed',\n",
    "                  bargap=0.01,\n",
    "                  legend_orientation ='h',\n",
    "                  legend_x=0.05, legend_y=1.2\n",
    "                 )\n",
    "\n",
    "\n",
    "# Hover 텍스트 설정\n",
    "hover_text_male = '학교급 : %{y}<br>사고건수 : %{customdata:.f}건'\n",
    "hover_text_female = '학교급 : %{y}<br>사고건수 : %{x:.f}건'\n",
    "\n",
    "fig.update_traces(\n",
    "    hovertemplate=hover_text_male,\n",
    "    selector=dict(name='남')\n",
    ")\n",
    "\n",
    "fig.update_traces(\n",
    "    hovertemplate=hover_text_female,\n",
    "    selector=dict(name='여')\n",
    ")\n",
    "fig.update_layout(\n",
    "            font=dict({'family':'KoPubWorld돋움체_Pro',\n",
    "                    'color':'black'}), #전체 폰트 설정(로컬 폰트 사용 가능)\n",
    "            hoverlabel=dict(        #호버 박스 폰트 설정\n",
    "                font_size=15,\n",
    "                font_family=\"KoPubWorld돋움체_Pro\"\n",
    "            ),\n",
    "            paper_bgcolor='white',  # 전체 배경색\n",
    "            plot_bgcolor='white',    # 플롯 배경색\n",
    "            legend_title_text=' '\n",
    "            \n",
    "            )\n",
    "fig.update_xaxes(showticklabels=False)\n",
    "fig.update_yaxes(tickfont=dict(size=17))\n",
    "\n",
    "fig"
   ]
  },
  {
   "cell_type": "markdown",
   "metadata": {},
   "source": [
    "### 1-4. 사고 내용 분석\n",
    "\n",
    "- 장소별 사고 현황\n",
    "    - 장소별 사고 발생 건수 (누적? 연도별?)\n",
    "    - 장소별 하루 평균 사고 발생 건수 : 해당 장소에서 하루에 얼마나 사고가 발생하는지?\n",
    "    - 장소별 사고 부위, 사고 형태\n",
    "\n"
   ]
  },
  {
   "cell_type": "code",
   "execution_count": null,
   "metadata": {},
   "outputs": [],
   "source": [
    "def get_grouped_count(df,col,year):\n",
    "    if col=='사고장소':\n",
    "        df[col].replace('교외활동','교외',inplace=True)\n",
    "    new_df = df.groupby(col).count()[['구분']]\n",
    "    new_df['퍼센트'] = round(new_df/new_df.sum()*100,1)\n",
    "    new_df.reset_index(inplace=True)\n",
    "    new_df.columns = [col,'사고건수','퍼센트']\n",
    "    new_df['연도'] = year\n",
    "    new_df.sort_values('사고건수',ascending=False,inplace=True)\n",
    "    return new_df"
   ]
  },
  {
   "cell_type": "markdown",
   "metadata": {},
   "source": [
    "#### 2023년 장소별 하루 평균 발생 건수"
   ]
  },
  {
   "cell_type": "code",
   "execution_count": null,
   "metadata": {},
   "outputs": [],
   "source": [
    "acc_spot_oneday_2023 = df_2023.groupby(['사고장소']).count()[['구분']].reset_index()\n",
    "acc_spot_oneday_2023['하루평균발생사고수'] = round(acc_spot_oneday_2023['구분']/365,2)\n",
    "acc_spot_oneday_2023.columns = ['사고장소','총사고수','하루평균발생사고수']\n",
    "acc_spot_oneday_2023"
   ]
  },
  {
   "cell_type": "markdown",
   "metadata": {},
   "source": [
    "#### 장소별 5개년 사고발생 비율"
   ]
  },
  {
   "cell_type": "code",
   "execution_count": null,
   "metadata": {},
   "outputs": [],
   "source": [
    "def get_grouped_count_spot(df,col,year):\n",
    "    new_df = df.groupby(col).count()[['구분']].replace('교외활동','교외')\n",
    "    new_df = new_df.groupby(col).count()[['구분']]\n",
    "    new_df['퍼센트'] = round(new_df/new_df.sum()*100,2)\n",
    "    new_df['퍼센트'] = new_df['퍼센트'].map(lambda x : str(x)+'%')\n",
    "    new_df.reset_index(inplace=True)\n",
    "    new_df.columns = [col,'사고건수','퍼센트']\n",
    "    new_df['연도'] = str(year)\n",
    "    new_df[['연도','사고장소']]\n",
    "    return new_df"
   ]
  },
  {
   "cell_type": "code",
   "execution_count": null,
   "metadata": {},
   "outputs": [],
   "source": [
    "acc_spot_2019 = get_grouped_count(df_2019,'사고장소',2019)\n",
    "acc_spot_2020 = get_grouped_count(df_2020,'사고장소',2020)\n",
    "acc_spot_2021 = get_grouped_count(df_2021,'사고장소',2021)\n",
    "acc_spot_2022 = get_grouped_count(df_2022,'사고장소',2022)\n",
    "acc_spot_2023 = get_grouped_count(df_2023,'사고장소',2023)\n",
    "\n",
    "acc_spot = pd.concat([acc_spot_2019,acc_spot_2020,acc_spot_2021,acc_spot_2022,acc_spot_2023])\n",
    "acc_spot"
   ]
  },
  {
   "cell_type": "code",
   "execution_count": null,
   "metadata": {},
   "outputs": [],
   "source": [
    "# go 모듈 사용\n",
    "# import plotly.graph_objects as go\n",
    "# animals=['giraffes', 'orangutans', 'monkeys']\n",
    "\n",
    "# fig = go.Figure(data=[\n",
    "#     go.Bar(name='SF Zoo', x=animals, y=[20, 14, 23]),\n",
    "#     go.Bar(name='LA Zoo', x=animals, y=[12, 18, 29])\n",
    "# ])\n",
    "# # Change the bar mode\n",
    "# fig.update_layout(barmode='group')\n",
    "# fig.show()"
   ]
  },
  {
   "cell_type": "code",
   "execution_count": null,
   "metadata": {},
   "outputs": [],
   "source": [
    "\n",
    "\n",
    "\n",
    "# px 모듈 사용\n",
    "# import plotly.express as px\n",
    "\n",
    "# palette = [\n",
    "#     \"#231942\",\n",
    "#     \"#5e548e\",\n",
    "#     \"#9f86c0\",\n",
    "#     \"#be95c4\",\n",
    "#     \"#e0b1cb\"\n",
    "# ]\n",
    "\n",
    "# fig = px.histogram(acc_spot, x=\"사고장소\", y=\"사고건수\",\n",
    "#              color='연도', barmode='group',\n",
    "#              height=500,\n",
    "#              width=1200,\n",
    "#              color_discrete_sequence=palette,\n",
    "#              hover_name=\"연도\")\n",
    "\n",
    "# fig.update_traces(\n",
    "#              hovertemplate='사고건수: %{y}건'+'<br>사고장소: %{x}')\n",
    "\n",
    "# fig.update_layout(\n",
    "#             font=dict({'family':'KoPubWorld돋움체_Pro',\n",
    "#                       'color':'black'}), #전체 폰트 설정(로컬 폰트 사용 가능)\n",
    "#             hoverlabel=dict(        #호버 박스 폰트 설정\n",
    "#                 # bgcolor=\"white\",\n",
    "#                 font_size=15,\n",
    "#                 font_family=\"KoPubWorld돋움체_Pro\"\n",
    "#             ),\n",
    "#             paper_bgcolor='white',  # 전체 배경색\n",
    "#             plot_bgcolor='white',    # 플롯 배경색\n",
    "#             # yaxis_ticksuffix=\" \",\n",
    "#             )\n",
    "\n",
    "\n",
    "# # legend bold처리\n",
    "# # fig.for_each_trace(lambda t: t.update(name = '<b>' + t.name +'</b>'))\n",
    "\n",
    "# fig.update_xaxes(title=' ',\n",
    "#                  title_font_family='KoPubWorld돋움체 Medium',\n",
    "#                  tickfont=dict(size=17))\n",
    "\n",
    "# fig.update_yaxes(title=' ',\n",
    "#                  title_font_family='KoPubWorld돋움체 Medium',\n",
    "#                  tickformat=\"~2s\",\n",
    "#                  tickfont=dict({'size':15,'family':'KoPubWorld돋움체 Medium'})\n",
    "#                  )\n",
    "\n",
    "# fig.show()"
   ]
  },
  {
   "cell_type": "code",
   "execution_count": null,
   "metadata": {},
   "outputs": [],
   "source": [
    "def draw_stack_chart(df,y_list):\n",
    "    fig = px.bar(acc_spot_5years, x=\"연도\", y=y_list, \n",
    "            #  title=\"5개년 장소별 학교 안전사고 발생 추이\",\n",
    "             color_discrete_sequence=palette,\n",
    "             height=500,\n",
    "             width=1000)\n",
    "\n",
    "    hover_text = df.columns[0] + ': %{x}<br>' + df.columns[1] + ': %{y}건'\n",
    "    fig.update_traces(\n",
    "                hovertemplate=hover_text)\n",
    "    fig.update_layout(\n",
    "                font=dict({'family':'KoPubWorld돋움체_Pro',\n",
    "                        'color':'black'}), #전체 폰트 설정(로컬 폰트 사용 가능)\n",
    "                hoverlabel=dict(        #호버 박스 폰트 설정\n",
    "                    # bgcolor=\"white\",\n",
    "                    font_size=15,\n",
    "                    font_family=\"KoPubWorld돋움체_Pro\"\n",
    "                ),\n",
    "                paper_bgcolor='white',  # 전체 배경색\n",
    "                plot_bgcolor='white',    # 플롯 배경색\n",
    "                yaxis_ticksuffix=\"%\",\n",
    "                legend_title_text=' '\n",
    "                )\n",
    "\n",
    "    fig.update_xaxes(title=' ',\n",
    "                    title_font_family='KoPubWorld돋움체 Medium',\n",
    "                    tickfont=dict(size=17))\n",
    "\n",
    "    fig.update_yaxes(title=' ',\n",
    "                    # title_font_family='KoPubWorld돋움체 Medium',\n",
    "                    # tickformat=\"~2s\",\n",
    "                    # tickfont=dict({'size':15,'family':'KoPubWorld돋움체 Medium'})\n",
    "                    )\n",
    "\n",
    "    fig.show()"
   ]
  },
  {
   "cell_type": "code",
   "execution_count": null,
   "metadata": {},
   "outputs": [],
   "source": [
    "acc_spot"
   ]
  },
  {
   "cell_type": "code",
   "execution_count": null,
   "metadata": {},
   "outputs": [],
   "source": [
    "df.groupby('사고장소').count()[['구분']].replace('교외활동','교외')"
   ]
  },
  {
   "cell_type": "code",
   "execution_count": null,
   "metadata": {},
   "outputs": [],
   "source": [
    "new_df = df.groupby('사고장소').count()[['구분']].reset_index().replace('교외활동','교외')\n",
    "new_df = new_df.groupby('사고장소').sum()[['구분']]\n",
    "new_df\n",
    "new_df['퍼센트'] = round(new_df/new_df.sum()*100,2)\n",
    "new_df\n",
    "# new_df.reset_index(inplace=True)\n",
    "# new_df.columns = [col,'사고건수','퍼센트']\n",
    "# new_df['연도'] = str(year)"
   ]
  },
  {
   "cell_type": "code",
   "execution_count": null,
   "metadata": {},
   "outputs": [],
   "source": [
    "acc_spot_5years = acc_spot.pivot_table(index='연도', columns='사고장소', values=['사고건수','퍼센트']).reindex(index=[2019,2020,2021,2022,2023])\n",
    "acc_spot_5years"
   ]
  },
  {
   "cell_type": "code",
   "execution_count": null,
   "metadata": {},
   "outputs": [],
   "source": [
    "acc_spot_5years = acc_spot.pivot_table(index='연도', columns='사고장소', values=['사고건수','퍼센트']).reindex(index=[2019,2020,2021,2022,2023])\n",
    "acc_spot_5years.fillna(0, inplace=True)\n",
    "acc_spot_5years['퍼센트'][location]"
   ]
  },
  {
   "cell_type": "code",
   "execution_count": null,
   "metadata": {},
   "outputs": [],
   "source": [
    "# 5개년 장소 데이터프레임 생성\n",
    "acc_spot_5years = acc_spot.pivot_table(index='연도', columns='사고장소', values=['사고건수','퍼센트']).reindex(index=[2019,2020,2021,2022,2023])\n",
    "acc_spot_5years.fillna(0, inplace=True)\n",
    "\n",
    "# 각 사고장소 별로 trace 추가\n",
    "fig = go.Figure()\n",
    "\n",
    "locations = [\"교외\", \"교실\", \"부속시설\", \"운동장\", \"통로\"]\n",
    "colors = palette\n",
    "\n",
    "for location, color in zip(locations, colors):\n",
    "    fig.add_trace(go.Bar(\n",
    "        x=acc_spot_5years.index,\n",
    "        y=acc_spot_5years['퍼센트'][location],\n",
    "        name=location,\n",
    "        marker_color=color,\n",
    "        customdata=acc_spot_5years['사고건수'][location],\n",
    "        hovertemplate='<b>%{x}</b><br>' +\n",
    "                      '사고장소 : ' + location + '<br>' +\n",
    "                      '퍼센트 : %{y}<br>' +\n",
    "                      '사고 건수 : %{customdata}건<extra></extra>',\n",
    "    ))\n",
    "\n",
    "# 레이아웃 업데이트\n",
    "fig.update_layout(\n",
    "    title={\n",
    "    'text': \"<b>5개년 학교 장소별 안전사고 발생 추이</b>\",\n",
    "    'x': 0.5,\n",
    "    'xanchor': 'center',\n",
    "    'yanchor': 'top',\n",
    "    'font':{'size':20}\n",
    "    },\n",
    "    barmode='stack',\n",
    "    height=500,\n",
    "    width=1000,\n",
    "    font=dict(\n",
    "        family='KoPubWorld돋움체_Pro',\n",
    "        color='black'\n",
    "    ),\n",
    "    hoverlabel=dict(\n",
    "        font_size=15,\n",
    "        font_family=\"KoPubWorld돋움체_Pro\"\n",
    "    ),\n",
    "    paper_bgcolor='white',\n",
    "    plot_bgcolor='white',\n",
    "    yaxis=dict(\n",
    "        ticksuffix=\"%\",\n",
    "    ),\n",
    "    legend=dict(\n",
    "        title_text=' '\n",
    "    ),\n",
    "    xaxis=dict(\n",
    "        title=' ',\n",
    "        title_font_family='KoPubWorld돋움체 Medium',\n",
    "        tickfont=dict(size=17)\n",
    "    )\n",
    ")\n",
    "\n",
    "# 차트 보여주기\n",
    "fig.show()\n"
   ]
  },
  {
   "cell_type": "code",
   "execution_count": null,
   "metadata": {},
   "outputs": [],
   "source": [
    "def fig_update_template(fig):\n",
    "    # 레이아웃 업데이트\n",
    "    fig.update_layout(\n",
    "        barmode='stack',\n",
    "        height=500,\n",
    "        width=1000,\n",
    "        font=dict(\n",
    "            family='KoPubWorld돋움체_Pro',\n",
    "            color='black'\n",
    "        ),\n",
    "        hoverlabel=dict(\n",
    "            font_size=15,\n",
    "            font_family=\"KoPubWorld돋움체_Pro\"\n",
    "        ),\n",
    "        paper_bgcolor='white',\n",
    "        plot_bgcolor='white',\n",
    "        yaxis=dict(\n",
    "            ticksuffix=\"%\",\n",
    "        ),\n",
    "        legend=dict(\n",
    "            title_text=' '\n",
    "        ),\n",
    "        xaxis=dict(\n",
    "            title=' ',\n",
    "            title_font_family='KoPubWorld돋움체 Medium',\n",
    "            tickfont=dict(size=17)\n",
    "        )\n",
    "    )"
   ]
  },
  {
   "cell_type": "code",
   "execution_count": null,
   "metadata": {},
   "outputs": [],
   "source": [
    "def acc_spot_5years_chart(df):\n",
    "    # 5개년 장소 데이터프레임 생성\n",
    "    acc_spot_5years = df.pivot_table(index='연도', columns='사고장소', values=['사고건수','퍼센트']).reindex(index=[2019,2020,2021,2022,2023])\n",
    "    acc_spot_5years.fillna(0, inplace=True)\n",
    "\n",
    "    # 각 사고장소 별로 trace 추가\n",
    "    fig = go.Figure()\n",
    "\n",
    "    locations = [\"교외\", \"교실\", \"부속시설\", \"운동장\", \"통로\"]\n",
    "    colors = palette\n",
    "\n",
    "    for location, color in zip(locations, colors):\n",
    "        fig.add_trace(go.Bar(\n",
    "            x=acc_spot_5years.index,\n",
    "            y=acc_spot_5years['퍼센트'][location],\n",
    "            name=location,\n",
    "            marker_color=color,\n",
    "            customdata=acc_spot_5years['사고건수'][location],\n",
    "            hovertemplate='<b>%{x}</b><br>' +\n",
    "                        '사고장소 : ' + location + '<br>' +\n",
    "                        '퍼센트 : %{y}<br>' +\n",
    "                        '사고 건수 : %{customdata}건<extra></extra>',\n",
    "        ))\n",
    "\n",
    "    # 레이아웃 업데이트\n",
    "    fig_update_template(fig)\n",
    "\n",
    "    # 차트 반환\n",
    "    return fig\n",
    "acc_spot_5years_chart(acc_spot)"
   ]
  },
  {
   "cell_type": "markdown",
   "metadata": {},
   "source": [
    "#### 장소별 연도별 사고 건수"
   ]
  },
  {
   "cell_type": "code",
   "execution_count": null,
   "metadata": {},
   "outputs": [],
   "source": [
    "def horizontal_chart_one_year(df,col):\n",
    "    fig = px.bar(df.sort_values('사고건수'), x=\"사고건수\", y=col,color_discrete_sequence=[palette[0]])\n",
    "    fig.update_layout(    \n",
    "                font=dict({'family':'KoPubWorld돋움체_Pro',\n",
    "                        'color':'black'}), #전체 폰트 설정(로컬 폰트 사용 가능)\n",
    "                hoverlabel=dict(        #호버 박스 폰트 설정\n",
    "                    # bgcolor=\"white\",\n",
    "                    font_size=15,\n",
    "                    font_family=\"KoPubWorld돋움체_Pro\"\n",
    "                ),\n",
    "                paper_bgcolor='white',  # 전체 배경색\n",
    "                plot_bgcolor='white',    # 플롯 배경색\n",
    "                legend_title_text='  ',\n",
    "                yaxis_ticksuffix=\"  \",\n",
    "                )           \n",
    "                # barcornerradius=15\n",
    "    hover_text = '사고장소 : %{y}<br>사고건수 : %{x}건<extra></extra>'\n",
    "    fig.update_traces(\n",
    "                hovertemplate=hover_text)\n",
    "\n",
    "\n",
    "    fig.update_xaxes(title=' ',\n",
    "                    title_font_family='KoPubWorld돋움체',\n",
    "                    tickfont=dict(size=14),\n",
    "                    tickformat=\"~2s\",\n",
    "                    )\n",
    "\n",
    "    fig.update_yaxes(title=' ',\n",
    "                    tickfont=dict(size=17)\n",
    "                    # title_font_family='KoPubWorld돋움체 Medium',\n",
    "                    # tickformat=\"~2s\",\n",
    "                    # tickfont=dict({'size':15,'family':'KoPubWorld돋움체 Medium'})\n",
    "                    )\n",
    "    return fig\n",
    "horizontal_chart(acc_spot_2019,'사고장소')"
   ]
  },
  {
   "cell_type": "code",
   "execution_count": null,
   "metadata": {},
   "outputs": [],
   "source": [
    "horizontal_chart(acc_spot_2020,'사고장소')"
   ]
  },
  {
   "cell_type": "markdown",
   "metadata": {},
   "source": [
    "#### 장소별 사고부위"
   ]
  },
  {
   "cell_type": "code",
   "execution_count": null,
   "metadata": {},
   "outputs": [],
   "source": [
    "temp_df = df.copy()\n",
    "temp_df['사고장소'] = temp_df['사고장소'].str.replace('교외활동','교외')\n",
    "temp_df['사고부위'] = temp_df['사고부위'].str.replace('머리\\(두부\\)','머리')\n",
    "acc_body = temp_df.groupby(['사고장소','사고부위']).count()[['구분']].reset_index().sort_values('구분')\n",
    "acc_body"
   ]
  },
  {
   "cell_type": "code",
   "execution_count": null,
   "metadata": {},
   "outputs": [],
   "source": [
    "\n",
    "def spot_body_chart(df):\n",
    "\n",
    "    spot_list = ['교실','운동장','교외','통로','부속시설']\n",
    "    fig = make_subplots(rows=1, cols=5,\n",
    "                        subplot_titles=spot_list,\n",
    "                        horizontal_spacing=0.05)\n",
    "\n",
    "\n",
    "\n",
    "    for i in range(0,5):\n",
    "\n",
    "        fig.add_trace(go.Bar(y=df[df['사고장소']==spot_list[i]]['사고부위'].tail(3),\n",
    "                            x=df[df['사고장소']==spot_list[i]]['구분'].tail(3),\n",
    "                            name=spot_list[i],orientation='h',\n",
    "                            marker=dict(color=palette[i]),\n",
    "                            hovertemplate=f'<b>{spot_list[i]}</b><br>'\n",
    "                            '사고건수 : %{x:.f}건<br>' +\n",
    "                            '사고부위 : %{y}<br><extra></extra>'),\n",
    "                            1, i+1)\n",
    "        \n",
    "\n",
    "\n",
    "    fig.update_layout(   \n",
    "                font=dict({'family':'KoPubWorld돋움체_Pro',\n",
    "                        'color':'black',\n",
    "                        'size':20}), #전체 폰트 설정(로컬 폰트 사용 가능)\n",
    "                hoverlabel=dict(        #호버 박스 폰트 설정\n",
    "                    # bgcolor=\"white\",\n",
    "                    font_size=15,\n",
    "                    font_family=\"KoPubWorld돋움체_Pro\"\n",
    "                ),\n",
    "                paper_bgcolor='white',  # 전체 배경색\n",
    "                plot_bgcolor='white',    # 플롯 배경색\n",
    "                legend_title_text='  ',\n",
    "                height=350,\n",
    "                showlegend=False,  # 범례 숨기기\n",
    "                # colors=palette_purple\n",
    "                # barcornerradius=15\n",
    "                )\n",
    "\n",
    "    fig.update_yaxes(ticksuffix='  ',\n",
    "                    title_font_family='KoPubWorld돋움체 Medium',\n",
    "                    tickfont=dict(size=15))    \n",
    "\n",
    "    fig.update_xaxes(\n",
    "                    title=' ',\n",
    "                    title_font_family='KoPubWorld돋움체 Medium',\n",
    "                    tickfont=dict(size=12),\n",
    "                    # tickformat=\",\",\n",
    "                    )\n",
    "\n",
    "\n",
    "\n",
    "    return fig\n",
    "spot_body_chart(acc_body)"
   ]
  },
  {
   "cell_type": "code",
   "execution_count": null,
   "metadata": {},
   "outputs": [],
   "source": [
    "\n",
    "\n",
    "\n",
    "spot_list = ['교실','운동장','교외','통로','부속시설']\n",
    "fig = make_subplots(rows=1, cols=5,\n",
    "                    subplot_titles=spot_list,\n",
    "                    horizontal_spacing=0.05)\n",
    "\n",
    "\n",
    "\n",
    "for i in range(0,5):\n",
    "\n",
    "    fig.add_trace(go.Bar(y=acc_body[acc_body['사고장소']==spot_list[i]]['사고부위'].tail(3),\n",
    "                         x=acc_body[acc_body['사고장소']==spot_list[i]]['구분'].tail(3),\n",
    "                         name=spot_list[i],orientation='h',\n",
    "                         marker=dict(color=palette[i]),\n",
    "                         hovertemplate='사고건수 : %{x:.f}건<br>' +\n",
    "                          '사고부위 : %{y}<br><extra></extra>'),\n",
    "                         1, i+1)\n",
    "    \n",
    "\n",
    "\n",
    "fig.update_layout(   \n",
    "            font=dict({'family':'KoPubWorld돋움체_Pro',\n",
    "                    'color':'black',\n",
    "                    'size':20}), #전체 폰트 설정(로컬 폰트 사용 가능)\n",
    "            hoverlabel=dict(        #호버 박스 폰트 설정\n",
    "                # bgcolor=\"white\",\n",
    "                font_size=15,\n",
    "                font_family=\"KoPubWorld돋움체_Pro\"\n",
    "            ),\n",
    "            paper_bgcolor='white',  # 전체 배경색\n",
    "            plot_bgcolor='white',    # 플롯 배경색\n",
    "            legend_title_text='  ',\n",
    "            height=350,\n",
    "            showlegend=False,  # 범례 숨기기\n",
    "            # colors=palette_purple\n",
    "            # barcornerradius=15\n",
    "            )\n",
    "\n",
    "fig.update_yaxes(ticksuffix='  ',\n",
    "                title_font_family='KoPubWorld돋움체 Medium',\n",
    "                tickfont=dict(size=15))    \n",
    "\n",
    "fig.update_xaxes(\n",
    "                 title=' ',\n",
    "                title_font_family='KoPubWorld돋움체 Medium',\n",
    "                tickfont=dict(size=12),\n",
    "                # tickformat=\",\",\n",
    "                )\n",
    "\n",
    "\n",
    "\n",
    "fig.show()"
   ]
  },
  {
   "cell_type": "markdown",
   "metadata": {},
   "source": [
    "#### 장소별 사고 당시 활동"
   ]
  },
  {
   "cell_type": "code",
   "execution_count": null,
   "metadata": {},
   "outputs": [],
   "source": [
    "temp_df = df.copy()\n",
    "temp_df['사고장소'] = temp_df['사고장소'].str.replace('교외활동','교외')\n",
    "temp_df['사고당시활동'] = temp_df['사고당시활동']\n",
    "acc_how = temp_df[temp_df['연도']!=2023].groupby(['사고장소','사고당시활동']).count()[['구분']].reset_index().sort_values('구분')\n",
    "acc_how"
   ]
  },
  {
   "cell_type": "code",
   "execution_count": null,
   "metadata": {},
   "outputs": [],
   "source": [
    "# 사고장소별로 데이터프레임 나누기\n",
    "locations = acc_how['사고장소'].unique()\n",
    "\n",
    "# 서브플롯 생성\n",
    "fig = make_subplots(rows=1, cols=len(locations), subplot_titles=locations, specs=[[{'type': 'pie'} for _ in locations]])\n",
    "\n",
    "# 각 사고장소에 대해 파이 차트 추가\n",
    "for i, location in enumerate(locations):\n",
    "    location_df = acc_how[acc_how['사고장소'] == location]\n",
    "    fig.add_trace(go.Pie(\n",
    "        labels=location_df['사고당시활동'],\n",
    "        values=location_df['구분'],\n",
    "        name=location,\n",
    "        textinfo='label',\n",
    "        marker=dict(colors=palette),\n",
    "        # hole=0.3,  # 도넛 차트로 설정\n",
    "        hovertemplate=\"<b>%{label}</b><br>사고건수: %{value}<br>퍼센트: %{percent}\",\n",
    "    ), row=1, col=i+1)\n",
    "\n",
    "# 레이아웃 업데이트\n",
    "fig.update_layout(\n",
    "    title_text=\"사고장소별 사고당시활동 분포\",\n",
    "    font=dict(\n",
    "        family='KoPubWorld돋움체_Pro',\n",
    "        color='black'\n",
    "    ),\n",
    "    hoverlabel=dict(\n",
    "        font_size=15,\n",
    "        font_family=\"KoPubWorld돋움체_Pro\"\n",
    "    ),\n",
    "    paper_bgcolor='white',\n",
    "    plot_bgcolor='white',\n",
    ")\n",
    "fig.update_traces(textposition='inside')\n",
    "fig.update_layout(uniformtext_minsize=12, uniformtext_mode='hide')\n",
    "\n",
    "# 차트 보여주기\n",
    "fig.show()"
   ]
  },
  {
   "cell_type": "code",
   "execution_count": null,
   "metadata": {},
   "outputs": [],
   "source": [
    "\n",
    "spot_list = ['교실','운동장','교외','통로','부속시설']\n",
    "fig = make_subplots(rows=1, cols=5,\n",
    "                    subplot_titles=spot_list,\n",
    "                    horizontal_spacing=0.07)\n",
    "\n",
    "\n",
    "\n",
    "for i in range(0,5):\n",
    "\n",
    "    fig.add_trace(go.Bar(y=acc_how[acc_how['사고장소']==spot_list[i]]['사고당시활동'].tail(5),\n",
    "                         x=acc_how[acc_how['사고장소']==spot_list[i]]['구분'].tail(5),\n",
    "                         name=spot_list[i],orientation='h',\n",
    "                         marker=dict(color=palette[i]),\n",
    "                         hovertemplate='사고건수 : %{x:.f}건<br>' +\n",
    "                          '사고당시활동 : %{y}<br><extra></extra>'),\n",
    "                         1, i+1)\n",
    "    \n",
    "\n",
    "\n",
    "fig.update_layout(   \n",
    "            font=dict({'family':'KoPubWorld돋움체_Pro',\n",
    "                    'color':'black',\n",
    "                    'size':20}), #전체 폰트 설정(로컬 폰트 사용 가능)\n",
    "            hoverlabel=dict(        #호버 박스 폰트 설정\n",
    "                # bgcolor=\"white\",\n",
    "                font_size=15,\n",
    "                font_family=\"KoPubWorld돋움체_Pro\"\n",
    "            ),\n",
    "            paper_bgcolor='white',  # 전체 배경색\n",
    "            plot_bgcolor='white',    # 플롯 배경색\n",
    "            legend_title_text='  ',\n",
    "            height=350,\n",
    "            showlegend=False,  # 범례 숨기기\n",
    "            )\n",
    "\n",
    "fig.update_yaxes(ticksuffix='  ',\n",
    "                title_font_family='KoPubWorld돋움체 Medium',\n",
    "                tickfont=dict(size=15))    \n",
    "\n",
    "fig.update_xaxes(\n",
    "                 title=' ',\n",
    "                title_font_family='KoPubWorld돋움체 Medium',\n",
    "                tickfont=dict(size=12),\n",
    "                # tickformat=\",\",\n",
    "                )\n",
    "\n",
    "\n",
    "\n",
    "# Use `hole` to create a donut-like pie chart\n",
    "# fig.update_traces(marker=dict(colors=[\"#9f86c0\", \"#be95c4\", \"#EBC7DB\",\"#9a8f97\",\"#c3baba\",\"#e9e3e6\",\"#b2b2b2\",\"#736f72\"]))\n",
    "\n",
    "fig.show()"
   ]
  },
  {
   "cell_type": "code",
   "execution_count": null,
   "metadata": {},
   "outputs": [],
   "source": [
    "# Treemap 생성\n",
    "fig = px.treemap(\n",
    "    acc_how,\n",
    "    path=['사고장소', '사고당시활동'],  # Treemap의 경로 (계층 구조)\n",
    "    values='구분',  # 크기 값\n",
    "    title='사고장소 및 사고당시활동에 따른 사고 분포',\n",
    "    # color_discrete_sequence=px.colors.qualitative.Set3\n",
    "    color_discrete_sequence= [palette[0]]+palette[2:]\n",
    ")\n",
    "\n",
    "# 텍스트 크기를 크게 조정\n",
    "fig.update_traces(textinfo=\"label+value+percent entry\", textfont_size=16)\n",
    "\n",
    "fig.update_layout(   \n",
    "            font=dict({'family':'KoPubWorld돋움체_Pro',\n",
    "                    'color':'black',\n",
    "                    'size':20}), #전체 폰트 설정(로컬 폰트 사용 가능)\n",
    "            hoverlabel=dict(        #호버 박스 폰트 설정\n",
    "                # bgcolor=\"white\",\n",
    "                font_size=15,\n",
    "                font_family=\"KoPubWorld돋움체_Pro\"\n",
    "            ),\n",
    "            paper_bgcolor='white',  # 전체 배경색\n",
    "            plot_bgcolor='white',    # 플롯 배경색\n",
    "            legend_title_text='  ',\n",
    "            height=500,\n",
    "            showlegend=False,  # 범례 숨기기\n",
    "            )\n",
    "\n",
    "# Treemap 시각화\n",
    "fig.show()"
   ]
  },
  {
   "cell_type": "markdown",
   "metadata": {},
   "source": [
    "- 시간별 사고 현황\n",
    "    - 계절별 사고 발생 현황 : 계절별로 어떤 사고가 많이 발생하는지 (계절별 예방 대책 제시 가능)\n",
    "        - 계절별 사고 건수\n",
    "        - 계절별 사고 부위\n",
    "        - 계절별 사고당시활동\n",
    "    - 사고 시간별 사고 현황 (수업시간, 쉬는시간, 식사시간 등)\n",
    "        - 사고 시간별 사고 건수\n",
    "            - 사고 발생 시각별 건수(오전, 점심, 오후 정도의 비교가 의미 있지 않을지? <br>\n",
    "            : 사고 시간별 건수 분석은 그냥 학교에서의 전체 시간이 수업시간, 쉬는 시간으로 뭉뚱그려진 게 좀 아쉬워서 오전 오후의 비교도 하면 어떨지 생각해봄, 애들이 밥먹고 하교 시간이 다가오면 좀 신나서 더 위험하다든가.. 그런 추측)\n",
    "        - 사고 시간별 하루 평균 사고 발생 건수 : 해당 시간 대에 하루에 얼마나 사고가 발생하는지?\n",
    "        - 사고 시간별 사고 형태, 사고 당시 활동, 사고 매개물 <br>\n",
    "        : 사고 시간별로 어떤 사고가 많이 발생하는지? 등하교 시간에 자주 발생하는 사고 내용, 점심시간에 자주 발생하는 사고 내용 등 파악"
   ]
  },
  {
   "cell_type": "markdown",
   "metadata": {},
   "source": [
    "#### 월별 사고 건수"
   ]
  },
  {
   "cell_type": "code",
   "execution_count": null,
   "metadata": {},
   "outputs": [],
   "source": [
    "# 사고월 컬럼 추가\n",
    "df['사고월'] = df['사고발생일'].apply(lambda x:str(x.month)+'월')\n",
    "# 계절을 결정하는 함수\n",
    "def get_season(date):\n",
    "    month = date.month\n",
    "    if month in [3, 4, 5]:\n",
    "        return '봄'\n",
    "    elif month in [6, 7, 8]:\n",
    "        return '여름'\n",
    "    elif month in [9, 10, 11]:\n",
    "        return '가을'\n",
    "    else:\n",
    "        return '겨울'\n",
    "\n",
    "# 새로운 '계절' 컬럼 추가\n",
    "df['계절'] = df['사고발생일'].apply(get_season)\n",
    "temp_df=df.copy()\n",
    "\n",
    "# 초등 저학년 고학년 나누기\n",
    "temp_df.loc[(temp_df['학교급']=='초등학교')&(temp_df['사고자학년'].isin(['1학년','2학년','3학년'])),'학교급']='초등학교(저학년)'\n",
    "temp_df.loc[(temp_df['학교급']=='초등학교')&(temp_df['사고자학년'].isin(['4학년','5학년','6학년'])),'학교급']='초등학교(고학년)'\n",
    "\n"
   ]
  },
  {
   "cell_type": "code",
   "execution_count": 620,
   "metadata": {},
   "outputs": [
    {
     "data": {
      "text/html": [
       "<div>\n",
       "<style scoped>\n",
       "    .dataframe tbody tr th:only-of-type {\n",
       "        vertical-align: middle;\n",
       "    }\n",
       "\n",
       "    .dataframe tbody tr th {\n",
       "        vertical-align: top;\n",
       "    }\n",
       "\n",
       "    .dataframe thead th {\n",
       "        text-align: right;\n",
       "    }\n",
       "</style>\n",
       "<table border=\"1\" class=\"dataframe\">\n",
       "  <thead>\n",
       "    <tr style=\"text-align: right;\">\n",
       "      <th></th>\n",
       "      <th>사고월</th>\n",
       "      <th>사고건수</th>\n",
       "    </tr>\n",
       "  </thead>\n",
       "  <tbody>\n",
       "    <tr>\n",
       "      <th>3</th>\n",
       "      <td>1월</td>\n",
       "      <td>7960</td>\n",
       "    </tr>\n",
       "    <tr>\n",
       "      <th>4</th>\n",
       "      <td>2월</td>\n",
       "      <td>5726</td>\n",
       "    </tr>\n",
       "    <tr>\n",
       "      <th>5</th>\n",
       "      <td>3월</td>\n",
       "      <td>52813</td>\n",
       "    </tr>\n",
       "    <tr>\n",
       "      <th>6</th>\n",
       "      <td>4월</td>\n",
       "      <td>67424</td>\n",
       "    </tr>\n",
       "    <tr>\n",
       "      <th>7</th>\n",
       "      <td>5월</td>\n",
       "      <td>75098</td>\n",
       "    </tr>\n",
       "    <tr>\n",
       "      <th>8</th>\n",
       "      <td>6월</td>\n",
       "      <td>70362</td>\n",
       "    </tr>\n",
       "    <tr>\n",
       "      <th>9</th>\n",
       "      <td>7월</td>\n",
       "      <td>43272</td>\n",
       "    </tr>\n",
       "    <tr>\n",
       "      <th>10</th>\n",
       "      <td>8월</td>\n",
       "      <td>27348</td>\n",
       "    </tr>\n",
       "    <tr>\n",
       "      <th>11</th>\n",
       "      <td>9월</td>\n",
       "      <td>64808</td>\n",
       "    </tr>\n",
       "    <tr>\n",
       "      <th>0</th>\n",
       "      <td>10월</td>\n",
       "      <td>70421</td>\n",
       "    </tr>\n",
       "    <tr>\n",
       "      <th>1</th>\n",
       "      <td>11월</td>\n",
       "      <td>76552</td>\n",
       "    </tr>\n",
       "    <tr>\n",
       "      <th>2</th>\n",
       "      <td>12월</td>\n",
       "      <td>50176</td>\n",
       "    </tr>\n",
       "  </tbody>\n",
       "</table>\n",
       "</div>"
      ],
      "text/plain": [
       "    사고월   사고건수\n",
       "3    1월   7960\n",
       "4    2월   5726\n",
       "5    3월  52813\n",
       "6    4월  67424\n",
       "7    5월  75098\n",
       "8    6월  70362\n",
       "9    7월  43272\n",
       "10   8월  27348\n",
       "11   9월  64808\n",
       "0   10월  70421\n",
       "1   11월  76552\n",
       "2   12월  50176"
      ]
     },
     "execution_count": 620,
     "metadata": {},
     "output_type": "execute_result"
    }
   ],
   "source": [
    "acc_month = temp_df.groupby('사고월').count()[['구분']].reset_index()\n",
    "acc_month.columns = ['사고월','사고건수']\n",
    "months = [\"1월\", \"2월\", \"3월\", \"4월\", \"5월\", \"6월\", \"7월\", \"8월\", \"9월\", \"10월\", \"11월\", \"12월\"]\n",
    "\n",
    "# pd.Categorical을 사용하여 순서를 지정하고, sort_values를 적용\n",
    "acc_month['사고월'] = pd.Categorical(acc_month['사고월'], categories=months, ordered=True)\n",
    "acc_month.sort_values('사고월')"
   ]
  },
  {
   "cell_type": "code",
   "execution_count": null,
   "metadata": {},
   "outputs": [],
   "source": [
    "\n",
    "fig = px.bar(acc_month, x=\"사고월\", y=\"사고건수\",\n",
    "             height=500,\n",
    "             width=1200,\n",
    "             color_discrete_sequence=palette,\n",
    "             hover_name=\"사고월\",\n",
    "             category_orders={'사고월': months})  # 원하는 순서로 카테고리 순서 지정)\n",
    "\n",
    "fig.update_traces(\n",
    "             hovertemplate='사고건수 : %{y}건'+'<br>사고월 : %{x}')\n",
    "\n",
    "fig.update_layout(\n",
    "            font=dict({'family':'KoPubWorld돋움체_Pro',\n",
    "                      'color':'black'}), #전체 폰트 설정(로컬 폰트 사용 가능)\n",
    "            hoverlabel=dict(        #호버 박스 폰트 설정\n",
    "                # bgcolor=\"white\",\n",
    "                font_size=15,\n",
    "                font_family=\"KoPubWorld돋움체_Pro\"\n",
    "            ),\n",
    "            paper_bgcolor='white',  # 전체 배경색\n",
    "            plot_bgcolor='white',    # 플롯 배경색\n",
    "            # yaxis_ticksuffix=\" \",\n",
    "            )\n",
    "\n",
    "\n",
    "\n",
    "\n",
    "fig.update_xaxes(title=' ',\n",
    "                 title_font_family='KoPubWorld돋움체 Medium',\n",
    "                 tickfont=dict(size=17))\n",
    "\n",
    "fig.update_yaxes(title=' ',\n",
    "                 title_font_family='KoPubWorld돋움체 Medium',\n",
    "                 tickformat=\"~2s\",\n",
    "                 tickfont=dict({'size':15,'family':'KoPubWorld돋움체 Medium'})\n",
    "                 )\n"
   ]
  },
  {
   "cell_type": "markdown",
   "metadata": {},
   "source": [
    "#### 월별 사고장소분포"
   ]
  },
  {
   "cell_type": "code",
   "execution_count": null,
   "metadata": {},
   "outputs": [],
   "source": [
    "month_spot = temp_df.groupby(['사고월','사고장소'])[['구분']].count().reset_index()\n",
    "month_spot\n",
    "\n",
    "# 각 행에 대해 퍼센트를 계산하여 새로운 컬럼 추가\n",
    "month_spot['퍼센트'] = month_spot.apply(lambda row:round((row['구분'] / total_by_school[row['사고월']]) * 100,1), axis=1)\n",
    "month_spot.columns = ['사고월','사고장소','사고건수','퍼센트']"
   ]
  },
  {
   "cell_type": "code",
   "execution_count": null,
   "metadata": {},
   "outputs": [],
   "source": [
    "# heatmap 그리기 위한 데이터 재구성\n",
    "months = month_spot['사고월']\n",
    "spots = month_spot['사고장소']\n",
    "values = month_spot['사고건수']\n",
    "\n",
    "fig = go.Figure(data=go.Heatmap(\n",
    "    z=values,\n",
    "    x=months,\n",
    "    y=spots,\n",
    "    colorscale=['#e5edfb', '#ccdbf7', '#b2c9f3', '#99b6ef', '#7fa4eb', '#6592e7', '#4c80e3', '#326edf']\n",
    "\n",
    ",  # 색상 스케일 설정\n",
    "    colorbar=dict(title='사고건수',\n",
    "                    titlefont=dict(size=12)),  # colorbar 설정\n",
    "))\n",
    "\n",
    "fig.update_traces(\n",
    "             hovertemplate='사고장소 : %{y}'+'<br>사고월 : %{x}'+'<br>사고건수 : %{z:.f}건<extra></extra>')\n",
    "fig.update_xaxes(categoryorder='array', categoryarray=['1월','2월','3월','4월','5월','6월','7월','8월','9월','10월','11월','12월'])\n",
    "fig.update_layout(\n",
    "            font=dict({'family':'KoPubWorld돋움체_Pro',\n",
    "                      'color':'black',\n",
    "                      'size':18}), #전체 폰트 설정(로컬 폰트 사용 가능)\n",
    "            hoverlabel=dict(        #호버 박스 폰트 설정\n",
    "                # bgcolor=\"white\",\n",
    "                font_size=15,\n",
    "                font_family=\"KoPubWorld돋움체_Pro\"\n",
    "            ),\n",
    "            paper_bgcolor='white',  # 전체 배경색\n",
    "            plot_bgcolor='white',    # 플롯 배경색\n",
    "            yaxis_ticksuffix=\" \",\n",
    "            yaxis=dict(\n",
    "            title=' ',\n",
    "            title_font_family='KoPubWorld돋움체 Medium',\n",
    "            tickfont=dict(size=15),\n",
    "        ),\n",
    "            )\n",
    "\n",
    "\n",
    "# 차트 보여주기\n",
    "fig.show()\n"
   ]
  },
  {
   "cell_type": "markdown",
   "metadata": {},
   "source": [
    "#### (유정이파트)월별 학교급별 안전사고건수"
   ]
  },
  {
   "cell_type": "code",
   "execution_count": 622,
   "metadata": {},
   "outputs": [
    {
     "data": {
      "application/vnd.plotly.v1+json": {
       "config": {
        "plotlyServerURL": "https://plot.ly"
       },
       "data": [
        {
         "customdata": [
          2051,
          1537,
          3729,
          4471,
          4191,
          4566,
          3594,
          2399,
          3773,
          4325,
          4805,
          2962
         ],
         "hovertemplate": "<b>%{x}</b><br>학교급 : 유치원<br>퍼센트 : %{y}<br>사고 건수 : %{customdata}건<extra></extra>",
         "marker": {
          "color": "#5c7dd2"
         },
         "name": "유치원",
         "type": "bar",
         "x": [
          "1월",
          "2월",
          "3월",
          "4월",
          "5월",
          "6월",
          "7월",
          "8월",
          "9월",
          "10월",
          "11월",
          "12월"
         ],
         "y": [
          25.8,
          26.8,
          7.1,
          6.6,
          5.6,
          6.5,
          8.3,
          8.8,
          5.8,
          6.1,
          6.3,
          5.9
         ]
        },
        {
         "customdata": [
          1501,
          1211,
          6207,
          8353,
          8508,
          8562,
          6441,
          2510,
          7689,
          9270,
          10910,
          7878
         ],
         "hovertemplate": "<b>%{x}</b><br>학교급 : 초등학교(저학년)<br>퍼센트 : %{y}<br>사고 건수 : %{customdata}건<extra></extra>",
         "marker": {
          "color": "#92b8ff"
         },
         "name": "초등학교(저학년)",
         "type": "bar",
         "x": [
          "1월",
          "2월",
          "3월",
          "4월",
          "5월",
          "6월",
          "7월",
          "8월",
          "9월",
          "10월",
          "11월",
          "12월"
         ],
         "y": [
          18.9,
          21.1,
          11.8,
          12.4,
          11.3,
          12.2,
          14.9,
          9.2,
          11.9,
          13.2,
          14.3,
          15.7
         ]
        },
        {
         "customdata": [
          1630,
          1483,
          9666,
          13754,
          15077,
          16237,
          11919,
          4200,
          15043,
          16823,
          19279,
          14000
         ],
         "hovertemplate": "<b>%{x}</b><br>학교급 : 초등학교(고학년)<br>퍼센트 : %{y}<br>사고 건수 : %{customdata}건<extra></extra>",
         "marker": {
          "color": "#aeceff"
         },
         "name": "초등학교(고학년)",
         "type": "bar",
         "x": [
          "1월",
          "2월",
          "3월",
          "4월",
          "5월",
          "6월",
          "7월",
          "8월",
          "9월",
          "10월",
          "11월",
          "12월"
         ],
         "y": [
          20.5,
          25.9,
          18.3,
          20.4,
          20.1,
          23.1,
          27.5,
          15.4,
          23.2,
          23.9,
          25.2,
          27.9
         ]
        },
        {
         "customdata": [
          1724,
          670,
          19298,
          24549,
          26322,
          25389,
          12851,
          10315,
          23226,
          26188,
          27546,
          18087
         ],
         "hovertemplate": "<b>%{x}</b><br>학교급 : 중학교<br>퍼센트 : %{y}<br>사고 건수 : %{customdata}건<extra></extra>",
         "marker": {
          "color": "#c7e4ff"
         },
         "name": "중학교",
         "type": "bar",
         "x": [
          "1월",
          "2월",
          "3월",
          "4월",
          "5월",
          "6월",
          "7월",
          "8월",
          "9월",
          "10월",
          "11월",
          "12월"
         ],
         "y": [
          21.7,
          11.7,
          36.5,
          36.4,
          35.1,
          36.1,
          29.7,
          37.7,
          35.8,
          37.2,
          36,
          36
         ]
        },
        {
         "customdata": [
          936,
          734,
          13410,
          15706,
          20412,
          15024,
          8080,
          7697,
          14528,
          13193,
          13459,
          6871
         ],
         "hovertemplate": "<b>%{x}</b><br>학교급 : 고등학교<br>퍼센트 : %{y}<br>사고 건수 : %{customdata}건<extra></extra>",
         "marker": {
          "color": "#c3b7eb"
         },
         "name": "고등학교",
         "type": "bar",
         "x": [
          "1월",
          "2월",
          "3월",
          "4월",
          "5월",
          "6월",
          "7월",
          "8월",
          "9월",
          "10월",
          "11월",
          "12월"
         ],
         "y": [
          11.8,
          12.8,
          25.4,
          23.3,
          27.2,
          21.4,
          18.7,
          28.1,
          22.4,
          18.7,
          17.6,
          13.7
         ]
        },
        {
         "customdata": [
          63,
          29,
          245,
          287,
          267,
          316,
          231,
          97,
          251,
          277,
          281,
          214
         ],
         "hovertemplate": "<b>%{x}</b><br>학교급 : 특수학교<br>퍼센트 : %{y}<br>사고 건수 : %{customdata}건<extra></extra>",
         "marker": {
          "color": "#9590e6"
         },
         "name": "특수학교",
         "type": "bar",
         "x": [
          "1월",
          "2월",
          "3월",
          "4월",
          "5월",
          "6월",
          "7월",
          "8월",
          "9월",
          "10월",
          "11월",
          "12월"
         ],
         "y": [
          0.8,
          0.5,
          0.5,
          0.4,
          0.4,
          0.4,
          0.5,
          0.4,
          0.4,
          0.4,
          0.4,
          0.4
         ]
        }
       ],
       "layout": {
        "barmode": "stack",
        "font": {
         "color": "black",
         "family": "KoPubWorld돋움체_Pro"
        },
        "height": 500,
        "hoverlabel": {
         "font": {
          "family": "KoPubWorld돋움체_Pro",
          "size": 15
         }
        },
        "legend": {
         "title": {
          "text": " "
         }
        },
        "paper_bgcolor": "white",
        "plot_bgcolor": "white",
        "template": {
         "data": {
          "bar": [
           {
            "error_x": {
             "color": "#2a3f5f"
            },
            "error_y": {
             "color": "#2a3f5f"
            },
            "marker": {
             "line": {
              "color": "#E5ECF6",
              "width": 0.5
             },
             "pattern": {
              "fillmode": "overlay",
              "size": 10,
              "solidity": 0.2
             }
            },
            "type": "bar"
           }
          ],
          "barpolar": [
           {
            "marker": {
             "line": {
              "color": "#E5ECF6",
              "width": 0.5
             },
             "pattern": {
              "fillmode": "overlay",
              "size": 10,
              "solidity": 0.2
             }
            },
            "type": "barpolar"
           }
          ],
          "carpet": [
           {
            "aaxis": {
             "endlinecolor": "#2a3f5f",
             "gridcolor": "white",
             "linecolor": "white",
             "minorgridcolor": "white",
             "startlinecolor": "#2a3f5f"
            },
            "baxis": {
             "endlinecolor": "#2a3f5f",
             "gridcolor": "white",
             "linecolor": "white",
             "minorgridcolor": "white",
             "startlinecolor": "#2a3f5f"
            },
            "type": "carpet"
           }
          ],
          "choropleth": [
           {
            "colorbar": {
             "outlinewidth": 0,
             "ticks": ""
            },
            "type": "choropleth"
           }
          ],
          "contour": [
           {
            "colorbar": {
             "outlinewidth": 0,
             "ticks": ""
            },
            "colorscale": [
             [
              0,
              "#0d0887"
             ],
             [
              0.1111111111111111,
              "#46039f"
             ],
             [
              0.2222222222222222,
              "#7201a8"
             ],
             [
              0.3333333333333333,
              "#9c179e"
             ],
             [
              0.4444444444444444,
              "#bd3786"
             ],
             [
              0.5555555555555556,
              "#d8576b"
             ],
             [
              0.6666666666666666,
              "#ed7953"
             ],
             [
              0.7777777777777778,
              "#fb9f3a"
             ],
             [
              0.8888888888888888,
              "#fdca26"
             ],
             [
              1,
              "#f0f921"
             ]
            ],
            "type": "contour"
           }
          ],
          "contourcarpet": [
           {
            "colorbar": {
             "outlinewidth": 0,
             "ticks": ""
            },
            "type": "contourcarpet"
           }
          ],
          "heatmap": [
           {
            "colorbar": {
             "outlinewidth": 0,
             "ticks": ""
            },
            "colorscale": [
             [
              0,
              "#0d0887"
             ],
             [
              0.1111111111111111,
              "#46039f"
             ],
             [
              0.2222222222222222,
              "#7201a8"
             ],
             [
              0.3333333333333333,
              "#9c179e"
             ],
             [
              0.4444444444444444,
              "#bd3786"
             ],
             [
              0.5555555555555556,
              "#d8576b"
             ],
             [
              0.6666666666666666,
              "#ed7953"
             ],
             [
              0.7777777777777778,
              "#fb9f3a"
             ],
             [
              0.8888888888888888,
              "#fdca26"
             ],
             [
              1,
              "#f0f921"
             ]
            ],
            "type": "heatmap"
           }
          ],
          "heatmapgl": [
           {
            "colorbar": {
             "outlinewidth": 0,
             "ticks": ""
            },
            "colorscale": [
             [
              0,
              "#0d0887"
             ],
             [
              0.1111111111111111,
              "#46039f"
             ],
             [
              0.2222222222222222,
              "#7201a8"
             ],
             [
              0.3333333333333333,
              "#9c179e"
             ],
             [
              0.4444444444444444,
              "#bd3786"
             ],
             [
              0.5555555555555556,
              "#d8576b"
             ],
             [
              0.6666666666666666,
              "#ed7953"
             ],
             [
              0.7777777777777778,
              "#fb9f3a"
             ],
             [
              0.8888888888888888,
              "#fdca26"
             ],
             [
              1,
              "#f0f921"
             ]
            ],
            "type": "heatmapgl"
           }
          ],
          "histogram": [
           {
            "marker": {
             "pattern": {
              "fillmode": "overlay",
              "size": 10,
              "solidity": 0.2
             }
            },
            "type": "histogram"
           }
          ],
          "histogram2d": [
           {
            "colorbar": {
             "outlinewidth": 0,
             "ticks": ""
            },
            "colorscale": [
             [
              0,
              "#0d0887"
             ],
             [
              0.1111111111111111,
              "#46039f"
             ],
             [
              0.2222222222222222,
              "#7201a8"
             ],
             [
              0.3333333333333333,
              "#9c179e"
             ],
             [
              0.4444444444444444,
              "#bd3786"
             ],
             [
              0.5555555555555556,
              "#d8576b"
             ],
             [
              0.6666666666666666,
              "#ed7953"
             ],
             [
              0.7777777777777778,
              "#fb9f3a"
             ],
             [
              0.8888888888888888,
              "#fdca26"
             ],
             [
              1,
              "#f0f921"
             ]
            ],
            "type": "histogram2d"
           }
          ],
          "histogram2dcontour": [
           {
            "colorbar": {
             "outlinewidth": 0,
             "ticks": ""
            },
            "colorscale": [
             [
              0,
              "#0d0887"
             ],
             [
              0.1111111111111111,
              "#46039f"
             ],
             [
              0.2222222222222222,
              "#7201a8"
             ],
             [
              0.3333333333333333,
              "#9c179e"
             ],
             [
              0.4444444444444444,
              "#bd3786"
             ],
             [
              0.5555555555555556,
              "#d8576b"
             ],
             [
              0.6666666666666666,
              "#ed7953"
             ],
             [
              0.7777777777777778,
              "#fb9f3a"
             ],
             [
              0.8888888888888888,
              "#fdca26"
             ],
             [
              1,
              "#f0f921"
             ]
            ],
            "type": "histogram2dcontour"
           }
          ],
          "mesh3d": [
           {
            "colorbar": {
             "outlinewidth": 0,
             "ticks": ""
            },
            "type": "mesh3d"
           }
          ],
          "parcoords": [
           {
            "line": {
             "colorbar": {
              "outlinewidth": 0,
              "ticks": ""
             }
            },
            "type": "parcoords"
           }
          ],
          "pie": [
           {
            "automargin": true,
            "type": "pie"
           }
          ],
          "scatter": [
           {
            "fillpattern": {
             "fillmode": "overlay",
             "size": 10,
             "solidity": 0.2
            },
            "type": "scatter"
           }
          ],
          "scatter3d": [
           {
            "line": {
             "colorbar": {
              "outlinewidth": 0,
              "ticks": ""
             }
            },
            "marker": {
             "colorbar": {
              "outlinewidth": 0,
              "ticks": ""
             }
            },
            "type": "scatter3d"
           }
          ],
          "scattercarpet": [
           {
            "marker": {
             "colorbar": {
              "outlinewidth": 0,
              "ticks": ""
             }
            },
            "type": "scattercarpet"
           }
          ],
          "scattergeo": [
           {
            "marker": {
             "colorbar": {
              "outlinewidth": 0,
              "ticks": ""
             }
            },
            "type": "scattergeo"
           }
          ],
          "scattergl": [
           {
            "marker": {
             "colorbar": {
              "outlinewidth": 0,
              "ticks": ""
             }
            },
            "type": "scattergl"
           }
          ],
          "scattermapbox": [
           {
            "marker": {
             "colorbar": {
              "outlinewidth": 0,
              "ticks": ""
             }
            },
            "type": "scattermapbox"
           }
          ],
          "scatterpolar": [
           {
            "marker": {
             "colorbar": {
              "outlinewidth": 0,
              "ticks": ""
             }
            },
            "type": "scatterpolar"
           }
          ],
          "scatterpolargl": [
           {
            "marker": {
             "colorbar": {
              "outlinewidth": 0,
              "ticks": ""
             }
            },
            "type": "scatterpolargl"
           }
          ],
          "scatterternary": [
           {
            "marker": {
             "colorbar": {
              "outlinewidth": 0,
              "ticks": ""
             }
            },
            "type": "scatterternary"
           }
          ],
          "surface": [
           {
            "colorbar": {
             "outlinewidth": 0,
             "ticks": ""
            },
            "colorscale": [
             [
              0,
              "#0d0887"
             ],
             [
              0.1111111111111111,
              "#46039f"
             ],
             [
              0.2222222222222222,
              "#7201a8"
             ],
             [
              0.3333333333333333,
              "#9c179e"
             ],
             [
              0.4444444444444444,
              "#bd3786"
             ],
             [
              0.5555555555555556,
              "#d8576b"
             ],
             [
              0.6666666666666666,
              "#ed7953"
             ],
             [
              0.7777777777777778,
              "#fb9f3a"
             ],
             [
              0.8888888888888888,
              "#fdca26"
             ],
             [
              1,
              "#f0f921"
             ]
            ],
            "type": "surface"
           }
          ],
          "table": [
           {
            "cells": {
             "fill": {
              "color": "#EBF0F8"
             },
             "line": {
              "color": "white"
             }
            },
            "header": {
             "fill": {
              "color": "#C8D4E3"
             },
             "line": {
              "color": "white"
             }
            },
            "type": "table"
           }
          ]
         },
         "layout": {
          "annotationdefaults": {
           "arrowcolor": "#2a3f5f",
           "arrowhead": 0,
           "arrowwidth": 1
          },
          "autotypenumbers": "strict",
          "coloraxis": {
           "colorbar": {
            "outlinewidth": 0,
            "ticks": ""
           }
          },
          "colorscale": {
           "diverging": [
            [
             0,
             "#8e0152"
            ],
            [
             0.1,
             "#c51b7d"
            ],
            [
             0.2,
             "#de77ae"
            ],
            [
             0.3,
             "#f1b6da"
            ],
            [
             0.4,
             "#fde0ef"
            ],
            [
             0.5,
             "#f7f7f7"
            ],
            [
             0.6,
             "#e6f5d0"
            ],
            [
             0.7,
             "#b8e186"
            ],
            [
             0.8,
             "#7fbc41"
            ],
            [
             0.9,
             "#4d9221"
            ],
            [
             1,
             "#276419"
            ]
           ],
           "sequential": [
            [
             0,
             "#0d0887"
            ],
            [
             0.1111111111111111,
             "#46039f"
            ],
            [
             0.2222222222222222,
             "#7201a8"
            ],
            [
             0.3333333333333333,
             "#9c179e"
            ],
            [
             0.4444444444444444,
             "#bd3786"
            ],
            [
             0.5555555555555556,
             "#d8576b"
            ],
            [
             0.6666666666666666,
             "#ed7953"
            ],
            [
             0.7777777777777778,
             "#fb9f3a"
            ],
            [
             0.8888888888888888,
             "#fdca26"
            ],
            [
             1,
             "#f0f921"
            ]
           ],
           "sequentialminus": [
            [
             0,
             "#0d0887"
            ],
            [
             0.1111111111111111,
             "#46039f"
            ],
            [
             0.2222222222222222,
             "#7201a8"
            ],
            [
             0.3333333333333333,
             "#9c179e"
            ],
            [
             0.4444444444444444,
             "#bd3786"
            ],
            [
             0.5555555555555556,
             "#d8576b"
            ],
            [
             0.6666666666666666,
             "#ed7953"
            ],
            [
             0.7777777777777778,
             "#fb9f3a"
            ],
            [
             0.8888888888888888,
             "#fdca26"
            ],
            [
             1,
             "#f0f921"
            ]
           ]
          },
          "colorway": [
           "#636efa",
           "#EF553B",
           "#00cc96",
           "#ab63fa",
           "#FFA15A",
           "#19d3f3",
           "#FF6692",
           "#B6E880",
           "#FF97FF",
           "#FECB52"
          ],
          "font": {
           "color": "#2a3f5f"
          },
          "geo": {
           "bgcolor": "white",
           "lakecolor": "white",
           "landcolor": "#E5ECF6",
           "showlakes": true,
           "showland": true,
           "subunitcolor": "white"
          },
          "hoverlabel": {
           "align": "left"
          },
          "hovermode": "closest",
          "mapbox": {
           "style": "light"
          },
          "paper_bgcolor": "white",
          "plot_bgcolor": "#E5ECF6",
          "polar": {
           "angularaxis": {
            "gridcolor": "white",
            "linecolor": "white",
            "ticks": ""
           },
           "bgcolor": "#E5ECF6",
           "radialaxis": {
            "gridcolor": "white",
            "linecolor": "white",
            "ticks": ""
           }
          },
          "scene": {
           "xaxis": {
            "backgroundcolor": "#E5ECF6",
            "gridcolor": "white",
            "gridwidth": 2,
            "linecolor": "white",
            "showbackground": true,
            "ticks": "",
            "zerolinecolor": "white"
           },
           "yaxis": {
            "backgroundcolor": "#E5ECF6",
            "gridcolor": "white",
            "gridwidth": 2,
            "linecolor": "white",
            "showbackground": true,
            "ticks": "",
            "zerolinecolor": "white"
           },
           "zaxis": {
            "backgroundcolor": "#E5ECF6",
            "gridcolor": "white",
            "gridwidth": 2,
            "linecolor": "white",
            "showbackground": true,
            "ticks": "",
            "zerolinecolor": "white"
           }
          },
          "shapedefaults": {
           "line": {
            "color": "#2a3f5f"
           }
          },
          "ternary": {
           "aaxis": {
            "gridcolor": "white",
            "linecolor": "white",
            "ticks": ""
           },
           "baxis": {
            "gridcolor": "white",
            "linecolor": "white",
            "ticks": ""
           },
           "bgcolor": "#E5ECF6",
           "caxis": {
            "gridcolor": "white",
            "linecolor": "white",
            "ticks": ""
           }
          },
          "title": {
           "x": 0.05
          },
          "xaxis": {
           "automargin": true,
           "gridcolor": "white",
           "linecolor": "white",
           "ticks": "",
           "title": {
            "standoff": 15
           },
           "zerolinecolor": "white",
           "zerolinewidth": 2
          },
          "yaxis": {
           "automargin": true,
           "gridcolor": "white",
           "linecolor": "white",
           "ticks": "",
           "title": {
            "standoff": 15
           },
           "zerolinecolor": "white",
           "zerolinewidth": 2
          }
         }
        },
        "width": 1000,
        "xaxis": {
         "categoryarray": [
          "1월",
          "2월",
          "3월",
          "4월",
          "5월",
          "6월",
          "7월",
          "8월",
          "9월",
          "10월",
          "11월",
          "12월"
         ],
         "categoryorder": "array",
         "tickfont": {
          "size": 17
         },
         "title": {
          "font": {
           "family": "KoPubWorld돋움체 Medium"
          },
          "text": " "
         }
        },
        "yaxis": {
         "ticksuffix": "%",
         "title": {
          "text": " "
         }
        }
       }
      }
     },
     "metadata": {},
     "output_type": "display_data"
    }
   ],
   "source": [
    "# 데이터 준비\n",
    "# 사고월 컬럼 추가\n",
    "df['사고월'] = df['사고발생일'].apply(lambda x:str(x.month)+'월') # 이 작업이 굉장히 오래걸려서 원본 데이터에 미리 작업해서 저장해두는 게 좋을듯\n",
    "# 계절을 결정하는 함수\n",
    "def get_season(date):\n",
    "    month = date.month\n",
    "    if month in [3, 4, 5]:\n",
    "        return '봄'\n",
    "    elif month in [6, 7, 8]:\n",
    "        return '여름'\n",
    "    elif month in [9, 10, 11]:\n",
    "        return '가을'\n",
    "    else:\n",
    "        return '겨울'\n",
    "\n",
    "# 새로운 '계절' 컬럼 추가\n",
    "df['계절'] = df['사고발생일'].apply(get_season)\n",
    "temp_df=df.copy()\n",
    "\n",
    "# 초등 저학년 고학년 나누기\n",
    "temp_df.loc[(temp_df['학교급']=='초등학교')&(temp_df['사고자학년'].isin(['1학년','2학년','3학년'])),'학교급']='초등학교(저학년)'\n",
    "temp_df.loc[(temp_df['학교급']=='초등학교')&(temp_df['사고자학년'].isin(['4학년','5학년','6학년'])),'학교급']='초등학교(고학년)'\n",
    "\n",
    "\n",
    "# 각 사고월별 총 사고 건수 계산\n",
    "total_by_school = temp_df.groupby('사고월')['구분'].count()\n",
    "\n",
    "# 각 행에 대해 퍼센트를 계산하여 새로운 컬럼 추가\n",
    "level_month = temp_df.groupby(['학교급','사고월']).count()[['구분']].reset_index()\n",
    "level_month['퍼센트'] = level_month.apply(lambda row:round((row['구분'] / total_by_school[row['사고월']]) * 100,1), axis=1)\n",
    "level_month\n",
    "months = [\"1월\", \"2월\", \"3월\", \"4월\", \"5월\", \"6월\", \"7월\", \"8월\", \"9월\", \"10월\", \"11월\", \"12월\"]\n",
    "level_month_pivot = level_month.pivot_table(index='사고월', columns='학교급', values=['퍼센트','구분']).reindex(index=months)\n",
    "school_type_categories = [\"유치원\", \"초등학교(저학년)\", \"초등학교(고학년)\", \"중학교\", \"고등학교\", \"특수학교\"]\n",
    "\n",
    "\n",
    "# 그래프\n",
    "fig = go.Figure()\n",
    "\n",
    "# 각 학교급 별로 trace 추가\n",
    "for category, color in zip(school_type_categories, palette):\n",
    "    fig.add_trace(go.Bar(\n",
    "        x=level_month_pivot.index,\n",
    "        y=level_month_pivot['퍼센트'][category],\n",
    "        name=category,\n",
    "        marker_color=color,\n",
    "        customdata=level_month_pivot['구분'][category],\n",
    "        hovertemplate='<b>%{x}</b><br>' +\n",
    "                      '학교급 : ' + category + '<br>' +\n",
    "                      '퍼센트 : %{y}<br>' +\n",
    "                      '사고 건수 : %{customdata}건<extra></extra>',\n",
    "    ))\n",
    "    \n",
    "\n",
    "# 레이아웃 업데이트\n",
    "fig.update_layout(\n",
    "    barmode='stack',\n",
    "    height=500,\n",
    "    width=1000,\n",
    "    font=dict(\n",
    "        family='KoPubWorld돋움체_Pro',\n",
    "        color='black'\n",
    "    ),\n",
    "    hoverlabel=dict(\n",
    "        font_size=15,\n",
    "        font_family=\"KoPubWorld돋움체_Pro\"\n",
    "    ),\n",
    "    paper_bgcolor='white',\n",
    "    plot_bgcolor='white',\n",
    "    yaxis=dict(\n",
    "        ticksuffix=\"%\",title=' '\n",
    "    ),\n",
    "    legend=dict(\n",
    "        title_text=' '\n",
    "    ),\n",
    "    xaxis=dict(\n",
    "        title=' ',\n",
    "        title_font_family='KoPubWorld돋움체 Medium',\n",
    "        tickfont=dict(size=17),\n",
    "        categoryorder='array',\n",
    "        categoryarray=months\n",
    "    ),\n",
    ")\n",
    "\n",
    "# 차트 보여주기\n",
    "fig.show()\n"
   ]
  },
  {
   "cell_type": "markdown",
   "metadata": {},
   "source": [
    "#### 계절별 사고 부위 또는 사고 당시활동 비율 (파이차트로 그리기)"
   ]
  },
  {
   "cell_type": "code",
   "execution_count": null,
   "metadata": {},
   "outputs": [],
   "source": [
    "season_body = temp_df.groupby(['계절','사고부위']).count()[['구분']].reset_index()\n",
    "season_body.columns = ['계절','사고부위','사고건수']\n",
    "season_order = [\"봄\", \"여름\", \"가을\", \"겨울\"]\n",
    "season_body['계절'] = pd.Categorical(season_body['계절'], categories=season_order, ordered=True)\n",
    "season_body.sort_values(['계절','사고건수'],inplace=True)"
   ]
  },
  {
   "cell_type": "code",
   "execution_count": null,
   "metadata": {},
   "outputs": [],
   "source": [
    "# 계절별 팔레트 설정\n",
    "# [\"b3e093\",\"d6ec89\",\"a1c181\",\"8bb650\",\"76a45b\",\"5c8148\"]\n",
    "spring = [\"#f08080\",\"#f4978e\",\"#f8ad9d\",\"#fbc4ab\",\"#ffdab9\"][::-1]\n",
    "summer = [\"#d9ed92\", \"#b5e48c\", \"#99d98c\", \"#76c893\", \"#52b69a\"] #\"80ed99\",\n",
    "# fall = [\"ede0d4\",\"e6ccb2\",\"ddb892\",\"b08968\",\"7f5539\"]\n",
    "fall = [\"#ffd78a\", \"#fdc77b\", \"#fbb76b\", \"#faa75c\", \"#f8964c\", \"#f6863d\", \"#f4762d\"][:-2]\n",
    "winter = [\"#d5deef\",\"#b1c9ef\",\"#8aaee0\",\"#628ecb\",\"#597CAD\"]\n",
    "season_color = [spring,summer,fall,winter]\n",
    "# 계절별 색깔 지정\n",
    "season_onecolor = [spring[2],summer[1],fall[1],winter[2]]"
   ]
  },
  {
   "cell_type": "code",
   "execution_count": null,
   "metadata": {},
   "outputs": [],
   "source": [
    "season_body"
   ]
  },
  {
   "cell_type": "code",
   "execution_count": null,
   "metadata": {},
   "outputs": [],
   "source": [
    "# 계절별로 데이터프레임 나누기\n",
    "seasons = season_body['계절'].unique()\n",
    "\n",
    "# 서브플롯 생성\n",
    "fig = make_subplots(rows=1, cols=4, subplot_titles=(['봄', '여름', '가을', '겨울']))\n",
    "\n",
    "# 각 계절에 대한 바 차트 추가\n",
    "for i, season in enumerate(['봄', '여름', '가을', '겨울']):\n",
    "    season_data = season_body[season_body['계절'] == season]\n",
    "    fig.add_trace(\n",
    "        go.Bar(\n",
    "            y=season_data['사고부위'],\n",
    "            x=season_data['사고건수'],\n",
    "            orientation='h',  # 가로 바 차트로 설정\n",
    "            name=season,\n",
    "            marker=dict(color=season_onecolor[i])\n",
    "        ),\n",
    "        row=1, col=i+1\n",
    "    )\n",
    "\n",
    "# hovertemplate 설정\n",
    "fig.update_traces(hovertemplate='<b>%{label}</b><br>사고건수: %{value:.f%}건')\n",
    "\n",
    "# 레이아웃 업데이트\n",
    "fig.update_layout(\n",
    "    title_text=\"계절별 안전사고부위\",\n",
    "    font=dict(\n",
    "        family='KoPubWorld돋움체_Pro',\n",
    "        color='black',\n",
    "        size=18\n",
    "    ),\n",
    "    hoverlabel=dict(\n",
    "        font_size=15,\n",
    "        font_family=\"KoPubWorld돋움체_Pro\"\n",
    "    ),\n",
    "    paper_bgcolor='white',\n",
    "    plot_bgcolor='white',\n",
    "    legend=dict(\n",
    "        title_text=' '\n",
    "    ),\n",
    "    \n",
    ")\n",
    "\n",
    "# 서브플롯 각각의 레이아웃 업데이트\n",
    "for i, season in enumerate(['봄', '여름', '가을', '겨울']):\n",
    "    fig.update_xaxes(title=' ', title_font_family='KoPubWorld돋움체_Pro', tickfont=dict(size=12), row=1, col=i+1)\n",
    "    fig.update_yaxes(title=' ', tickfont=dict(size=15), row=1, col=i+1,ticksuffix=\" \")\n",
    "# 차트 보여주기\n",
    "fig.show()"
   ]
  },
  {
   "cell_type": "markdown",
   "metadata": {},
   "source": [
    "* 계절별 사고당시 활동"
   ]
  },
  {
   "cell_type": "code",
   "execution_count": null,
   "metadata": {},
   "outputs": [],
   "source": [
    "season_activity = temp_df.groupby(['계절','사고당시활동']).count()[['구분']].reset_index()\n",
    "# 계절을 categorical 데이터로 변환\n",
    "season_order = [\"봄\", \"여름\", \"가을\", \"겨울\"]\n",
    "season_activity['계절'] = pd.Categorical(season_activity['계절'], categories=season_order, ordered=True)\n",
    "season_activity.sort_values(['계절','구분'],inplace=True)"
   ]
  },
  {
   "cell_type": "code",
   "execution_count": null,
   "metadata": {},
   "outputs": [],
   "source": [
    "# 계절별로 데이터프레임 나누기\n",
    "seasons = season_activity['계절'].unique()\n",
    "\n",
    "# 서브플롯 생성\n",
    "fig = make_subplots(rows=1, cols=4, subplot_titles=seasons, specs=[[{'type': 'pie'}, {'type': 'pie'}, {'type': 'pie'}, {'type': 'pie'}]])\n",
    "\n",
    "# 각 계절에 대해 파이 차트 추가\n",
    "for i, season in enumerate(seasons):\n",
    "    season_df = season_activity[season_activity['계절'] == season]\n",
    "    fig.add_trace(go.Pie(\n",
    "        labels=season_df['사고당시활동'],\n",
    "        values=season_df['구분'],\n",
    "        name=season,\n",
    "        textinfo='percent+label',\n",
    "        marker=dict(colors=['#D4D4DB','#BABAC0',\"9F9FA4\"]+season_color[i][::-1])\n",
    "    ), row=1, col=i+1)\n",
    "\n",
    "# hovertemplate 설정\n",
    "fig.update_traces(hovertemplate='<b>%{label}</b><br>사고건수: %{value}건<br>퍼센트: %{percent}%<extra></extra>')\n",
    "\n",
    "\n",
    "# 레이아웃 업데이트\n",
    "fig.update_layout(\n",
    "    title_text=\"계절별 사고당시활동\",\n",
    "        font=dict(\n",
    "        family='KoPubWorld돋움체_Pro',\n",
    "        color='black',\n",
    "    ),\n",
    "    hoverlabel=dict(\n",
    "        font_size=15,\n",
    "        font_family=\"KoPubWorld돋움체_Pro\"\n",
    "    ),\n",
    "    paper_bgcolor='white',\n",
    "    plot_bgcolor='white',\n",
    "    yaxis=dict(\n",
    "        ticksuffix=\"%\",title=' '\n",
    "    ),\n",
    "    showlegend=False,\n",
    "    xaxis=dict(\n",
    "        title=' ',\n",
    "        title_font_family='KoPubWorld돋움체 Medium',\n",
    "        tickfont=dict(size=15),\n",
    "        categoryorder='array',\n",
    "        categoryarray=months\n",
    "    ),\n",
    ")\n",
    "\n",
    "# 각 서브플롯 제목의 텍스트 크기 업데이트\n",
    "for annotation in fig['layout']['annotations']:\n",
    "    annotation['font'] = dict(size=20)  # 원하는 크기로 설정\n",
    "\n",
    "# 차트 보여주기\n",
    "fig.show()"
   ]
  },
  {
   "cell_type": "code",
   "execution_count": null,
   "metadata": {},
   "outputs": [],
   "source": [
    "# # Tree맵 그리기 -- 폐기\n",
    "# #  계절별로 데이터프레임 나누기\n",
    "# seasons = season_activity['계절'].unique()\n",
    "\n",
    "# # 서브플롯 생성\n",
    "# fig = make_subplots(rows=1, cols=4, subplot_titles=season_order, specs=[[{'type': 'treemap'}, {'type': 'treemap'}, {'type': 'treemap'}, {'type': 'treemap'}]])\n",
    "\n",
    "# # 각 계절에 대해 트리맵 추가\n",
    "# for i, season in enumerate(season_order):\n",
    "#     season_df = season_activity[season_activity['계절'] == season]\n",
    "#     fig.add_trace(go.Treemap(\n",
    "#         labels=season_df['사고당시활동'],\n",
    "#         parents=[\"\"] * len(season_df),  # 트리맵에서는 parents를 빈 문자열로 설정합니다.\n",
    "#         values=season_df['구분'],\n",
    "\n",
    "#         text=season_df['구분'],\n",
    "#         # hovertemplate='<b>%{label}</b><br>사고건수: %{value}',\n",
    "#         marker_colors=['#D4D4DB','#BABAC0',\"9F9FA4\"]+season_color[i][::-1],  # px.colors.qualitative.Plotly는 기본 색상 팔레트입니다.\n",
    "#         name=season,\n",
    "#         hoverinfo='skip',\n",
    "#         textinfo = 'label+percent entry'\n",
    "#     ), row=1, col=i+1)\n",
    "\n",
    "# # 레이아웃 업데이트\n",
    "# fig.update_layout(\n",
    "#     # height=500,\n",
    "#     # width=1000,\n",
    "#     title_text=\"계절별 사고당시활동 분포\",\n",
    "#     font=dict(\n",
    "#         family='KoPubWorld돋움체_Pro',\n",
    "#         color='black',\n",
    "#         size=18\n",
    "#     ),\n",
    "#     hoverlabel=dict(\n",
    "#         font_size=15,\n",
    "#         font_family=\"KoPubWorld돋움체_Pro\"\n",
    "#     ),\n",
    "#     paper_bgcolor='white',\n",
    "#     plot_bgcolor='white',\n",
    "#     yaxis=dict(\n",
    "#         ticksuffix=\"%\",title=' '\n",
    "#     ),\n",
    "#     legend=dict(\n",
    "#         title_text=' '\n",
    "#     ),\n",
    "#     xaxis=dict(\n",
    "#         title=' ',\n",
    "#         title_font_family='KoPubWorld돋움체 Medium',\n",
    "#         tickfont=dict(size=17),\n",
    "#         categoryorder='array',\n",
    "#         categoryarray=months\n",
    "#     ),\n",
    "# )\n",
    "\n",
    "# # 차트 보여주기\n",
    "# fig.show()"
   ]
  },
  {
   "cell_type": "markdown",
   "metadata": {},
   "source": [
    "#### 사고시간별 사고건수"
   ]
  },
  {
   "cell_type": "code",
   "execution_count": null,
   "metadata": {},
   "outputs": [],
   "source": [
    "acc_time = temp_df.groupby('사고시간').count()[['구분']].reset_index().sort_values('구분')\n",
    "acc_time.columns = ['사고시간','사고건수']\n",
    "acc_time"
   ]
  },
  {
   "cell_type": "code",
   "execution_count": null,
   "metadata": {},
   "outputs": [],
   "source": [
    "## 구체적인 건수가 중요하다기 보단 직관적으로 그 비중을 확인하고 싶기 때문에 word cloud로 시각화함\n",
    "# 색 조정 함수\n",
    "def color_func(word, font_size, position,orientation,random_state=None, **kwargs):\n",
    "    return(\"hsl({:d},{:d}%, {:d}%)\".format(np.random.randint(210,300),np.random.randint(26,32),np.random.randint(45,80)))\n",
    "\n",
    "# 워드클라우드 생성에 사용할 데이터 준비\n",
    "word_freq = dict(zip(acc_time['사고시간'], acc_time['사고건수']))\n",
    "\n",
    "# 워드클라우드 생성\n",
    "wordcloud = WordCloud(width=800, height=500, background_color='white', colormap='viridis', max_font_size=150,relative_scaling=0.5,  # 상대 크기 조정\n",
    "                      font_path='../dashboard/component/font/KoPubWorld Dotum_Pro Bold.otf',color_func=color_func ).generate_from_frequencies(word_freq)\n",
    "\n",
    "# 워드클라우드 시각화\n",
    "plt.figure(figsize=(10, 5))\n",
    "plt.imshow(wordcloud, interpolation='bilinear')\n",
    "plt.axis('off')\n",
    "plt.show()"
   ]
  },
  {
   "cell_type": "markdown",
   "metadata": {},
   "source": [
    "#### 사고시간별 사고 내용"
   ]
  },
  {
   "cell_type": "code",
   "execution_count": null,
   "metadata": {},
   "outputs": [],
   "source": [
    "# 카테고리를 수정함, 같은 카테고리로 묶일 수 있는 항목을 묶어줌\n",
    "acc_time_analysis = acc_time.replace('체육수업','체육활동').replace('석식시간','식사시간').replace('점심시간','식사시간').replace('쉬는시간','휴식시간 및 청소시간').groupby('사고시간').sum()[['사고건수']].reset_index().sort_values('사고건수')\n",
    "acc_time_analysis"
   ]
  },
  {
   "cell_type": "code",
   "execution_count": null,
   "metadata": {},
   "outputs": [],
   "source": [
    "## 안전 사고 발생 사고시간 Top 5\n",
    "fig = px.bar(acc_time_analysis.tail(5), x=\"사고건수\", y='사고시간',color_discrete_sequence=[palette[0]])\n",
    "fig.update_layout(    \n",
    "            font=dict({'family':'KoPubWorld돋움체_Pro',\n",
    "                    'color':'black'}), #전체 폰트 설정(로컬 폰트 사용 가능)\n",
    "            hoverlabel=dict(        #호버 박스 폰트 설정\n",
    "                # bgcolor=\"white\",\n",
    "                font_size=15,\n",
    "                font_family=\"KoPubWorld돋움체_Pro\"\n",
    "            ),\n",
    "            paper_bgcolor='white',  # 전체 배경색\n",
    "            plot_bgcolor='white',    # 플롯 배경색\n",
    "            legend_title_text='  ',\n",
    "            yaxis_ticksuffix=\"  \",\n",
    "            \n",
    "            # barcornerradius=15\n",
    "            )\n",
    "# hovertemplate 설정\n",
    "fig.update_traces(hovertemplate='사고시간 : %{y}<br>사고건수 : %{x}건<extra></extra>')\n",
    "\n",
    "fig.update_xaxes(title=' ',\n",
    "                title_font_family='KoPubWorld돋움체 Medium',\n",
    "                tickfont=dict(size=14),\n",
    "                tickformat=\"~2s\",\n",
    "                )\n",
    "\n",
    "fig.update_yaxes(title=' ',\n",
    "                tickfont=dict(size=17)\n",
    "                )"
   ]
  },
  {
   "cell_type": "markdown",
   "metadata": {},
   "source": [
    "#### 2023년 사고시간별 하루 평균 사고 발생 수"
   ]
  },
  {
   "cell_type": "code",
   "execution_count": null,
   "metadata": {},
   "outputs": [],
   "source": [
    "## 2023년 하루 평균 사고 발생 수\n",
    "time_oneday = temp_df[temp_df['연도']==2023].groupby(['사고시간']).count()[['구분']].reset_index()\n",
    "time_oneday"
   ]
  },
  {
   "cell_type": "code",
   "execution_count": null,
   "metadata": {},
   "outputs": [],
   "source": [
    "time_oneday['하루평균사고수'] = round(time_oneday['구분']/365,1) # 주말제외하고 1년 246일로 계산해야하지 않을까? -- 사고시간별 사고수 그래프 옆에 Top 5만 수치로 적어주면 어떨지?\n",
    "time_oneday.sort_values('하루평균사고수',inplace=True)\n",
    "time_oneday"
   ]
  },
  {
   "cell_type": "markdown",
   "metadata": {},
   "source": [
    "#### 시간별 사고수"
   ]
  },
  {
   "cell_type": "code",
   "execution_count": null,
   "metadata": {},
   "outputs": [],
   "source": [
    "## 안전사고 발생 Top 5 사고시간 데이터만 추출\n",
    "time_analysis_df = temp_df.replace('체육수업','체육활동').replace('석식시간','식사시간').replace('점심시간','식사시간').replace('쉬는시간','휴식시간 및 청소시간')\n",
    "time_analysis_other_df = time_analysis_df[time_analysis_df['사고시간'].isin(['체육활동','식사시간','휴식시간 및 청소시간','수업시간','학교행사'])]\n",
    "time_analysis_how_df = time_analysis_other_df.groupby(['사고시간','사고당시활동']).count()[['구분']].reset_index()\n",
    "time_analysis_how_df"
   ]
  },
  {
   "cell_type": "code",
   "execution_count": null,
   "metadata": {},
   "outputs": [],
   "source": [
    "# Treemap 생성\n",
    "fig = px.treemap(\n",
    "    time_analysis_how_df,\n",
    "    path=['사고시간', '사고당시활동'],  # Treemap의 경로 (계층 구조)\n",
    "    values='구분',  # 크기 값\n",
    "    title='사고시간 및 사고당시활동에 따른 사고 분포',\n",
    "    color_discrete_sequence=palette\n",
    ")\n",
    "\n",
    "# 텍스트 크기를 크게 조정\n",
    "# fig.update_traces(textinfo=\"label+value+percent entry\", textfont_size=16)\n",
    "fig.update_traces(textinfo=\"label+value\", textfont_size=16,    \n",
    "                  hoverinfo='none',  # Hover 정보를 숨김 \n",
    "                  hovertemplate=None  # Hover 템플릿을 비활성화\n",
    "                  )\n",
    "fig.update_layout(   \n",
    "            font=dict({'family':'KoPubWorld돋움체_Pro',\n",
    "                    'color':'black',\n",
    "                    'size':20}), #전체 폰트 설정(로컬 폰트 사용 가능)\n",
    "            # hoverlabel=dict(        #호버 박스 폰트 설정\n",
    "            #     # bgcolor=\"white\",\n",
    "            #     font_size=15,\n",
    "            #     font_family=\"KoPubWorld돋움체_Pro\"\n",
    "            # ),\n",
    "            paper_bgcolor='white',  # 전체 배경색\n",
    "            plot_bgcolor='white',    # 플롯 배경색\n",
    "            legend_title_text='  ',\n",
    "            height=500,\n",
    "            showlegend=False,  # 범례 숨기기\n",
    "            )\n",
    "\n",
    "# Treemap 시각화\n",
    "fig.show()"
   ]
  },
  {
   "cell_type": "markdown",
   "metadata": {},
   "source": [
    "### 지도시각화"
   ]
  },
  {
   "cell_type": "code",
   "execution_count": null,
   "metadata": {},
   "outputs": [],
   "source": [
    "# korea_geojson2 = gpd.read_file('korea_geojson2.geojson')\n",
    "# korea_geojson2"
   ]
  },
  {
   "cell_type": "code",
   "execution_count": null,
   "metadata": {},
   "outputs": [],
   "source": [
    "geodf1 = df.groupby(['지역']).count()[['구분']].reset_index()\n",
    "geodf1"
   ]
  },
  {
   "cell_type": "code",
   "execution_count": null,
   "metadata": {},
   "outputs": [],
   "source": [
    "def extract_region(name):\n",
    "    if name in ['충청북도', '충청남도', '전라북도', '전라남도', '경상북도', '경상남도']:\n",
    "        return name[:1] + name[2]\n",
    "    elif name == '강원특별자치도':\n",
    "        return name[:2]\n",
    "    else:\n",
    "        return name[:2]"
   ]
  },
  {
   "cell_type": "code",
   "execution_count": null,
   "metadata": {},
   "outputs": [],
   "source": [
    "# 지역 표기 형식 변경 함수\n",
    "def extract_region(name):\n",
    "    if name in ['충청북도', '충청남도', '전라북도', '전라남도', '경상북도', '경상남도']:\n",
    "        return name[:1] + name[2]\n",
    "    elif name == '강원특별자치도':\n",
    "        return name[:2]\n",
    "    else:\n",
    "        return name[:2]\n",
    "\n",
    "# geojson파일 불러오기\n",
    "TL_geojson = gpd.read_file('TL_SCCO_CTPRVN.json')\n",
    "TL_geojson = TL_geojson.replace('강원도','강원특별자치도') # 강원도 표기 변경\n",
    "TL_geojson['지역'] = TL_geojson['CTP_KOR_NM'].apply(extract_region) # 학교 안전사고 데이터와 지역 표기 형식 맞추기(충청남도->충북)\n",
    "TL_geojson_loads = json.loads(TL_geojson.to_json()) # geojson 데이터프레임을 json 형식으로 변환\n",
    "merged = TL_geojson.merge(geodf1, on='지역')\n",
    "merged"
   ]
  },
  {
   "cell_type": "code",
   "execution_count": null,
   "metadata": {},
   "outputs": [],
   "source": [
    "### 지도시각화 시도\n",
    "\n",
    "# geojson = merged.to_json()\n",
    "# geo_json = json.loads(geojson)\n",
    "\n",
    "fig = px.choropleth_mapbox(\n",
    "    merged,\n",
    "    geojson=TL_geojson_loads,\n",
    "    locations='CTP_KOR_NM',\n",
    "    featureidkey=\"properties.CTP_KOR_NM\",\n",
    "    color='구분',\n",
    "    color_continuous_scale=\"OrRd\",\n",
    "    mapbox_style=\"carto-positron\",\n",
    "    zoom=6,\n",
    "    center={\"lat\": 36.5, \"lon\": 127.5},\n",
    "    opacity=0.5,\n",
    "    labels={'구분': 'Accident Count'}\n",
    ")\n",
    "# fig.update_geos(fitbounds=\"locations\", visible=False)\n",
    "fig.update_layout(margin={\"r\":0,\"t\":0,\"l\":0,\"b\":0})\n",
    "fig.show()\n"
   ]
  }
 ],
 "metadata": {
  "kernelspec": {
   "display_name": "base",
   "language": "python",
   "name": "python3"
  },
  "language_info": {
   "codemirror_mode": {
    "name": "ipython",
    "version": 3
   },
   "file_extension": ".py",
   "mimetype": "text/x-python",
   "name": "python",
   "nbconvert_exporter": "python",
   "pygments_lexer": "ipython3",
   "version": "3.10.9"
  }
 },
 "nbformat": 4,
 "nbformat_minor": 2
}
