{
 "cells": [
  {
   "cell_type": "markdown",
   "metadata": {},
   "source": [
    "# 학교 안전사고 현황 분석\n",
    "\n",
    "- 코드 작성자 : 최은혜\n",
    "- 코드 작성일 : 2024-07-06"
   ]
  },
  {
   "cell_type": "markdown",
   "metadata": {},
   "source": [
    "## 0. 라이브러리 및 데이터 임포트"
   ]
  },
  {
   "cell_type": "code",
   "execution_count": 60,
   "metadata": {},
   "outputs": [],
   "source": [
    "import pandas as pd\n",
    "import numpy as np\n",
    "import polars as pl\n",
    "from datetime import datetime\n",
    "import pyarrow\n",
    "import plotly.express as px"
   ]
  },
  {
   "cell_type": "code",
   "execution_count": 24,
   "metadata": {},
   "outputs": [],
   "source": [
    "# df_2019 = pd.read_excel('../../data/★2019~2023 학교안전사고 데이터_수정.xlsx',sheet_name='2019')\n",
    "# df_2020 = pd.read_excel('../../data/★2019~2023 학교안전사고 데이터_수정.xlsx',sheet_name='2020')\n",
    "# df_2021 = pd.read_excel('../../data/★2019~2023 학교안전사고 데이터_수정.xlsx',sheet_name='2021')\n",
    "# df_2022 = pd.read_excel('../../data/★2019~2023 학교안전사고 데이터_수정.xlsx',sheet_name='2022')\n",
    "# df_2023 = pd.read_excel('../../data/★2019~2023 학교안전사고 데이터_수정.xlsx',sheet_name='2023').rename(columns={'매개물':'사고매개물'})"
   ]
  },
  {
   "cell_type": "code",
   "execution_count": 29,
   "metadata": {},
   "outputs": [],
   "source": [
    "# df = pd.concat([df_2019,df_2020,df_2021,df_2022,df_2023])\n",
    "# df.to_csv('학교안전사고데이터_통합.csv',index=False,encoding='utf-8-sig')"
   ]
  },
  {
   "cell_type": "code",
   "execution_count": 12,
   "metadata": {},
   "outputs": [],
   "source": [
    "\n",
    "# df = df.to_pandas()\n",
    "\n",
    "# df['사고발생일'] = pd.to_datetime(df['사고발생일'])\n",
    "\n",
    "# df_before_2018 = df.query(\"사고발생일 < '2019-01-01'\")\n",
    "# df_2019 = df[df['사고발생일'].between('2019-01-01', '2019-12-31')]\n",
    "# df_2020 = df[df['사고발생일'].between('2020-01-01', '2020-12-31')]\n",
    "# df_2021 = df[df['사고발생일'].between('2021-01-01', '2021-12-31')]\n",
    "# df_2022 = df[df['사고발생일'].between('2022-01-01', '2022-12-31')]\n",
    "# df_2023 = df[df['사고발생일'].between('2023-01-01', '2023-12-31')]"
   ]
  },
  {
   "cell_type": "code",
   "execution_count": 80,
   "metadata": {},
   "outputs": [],
   "source": [
    "df.to_csv('학교안전사고데이터_통합.csv',index=False,encoding='utf-8-sig')"
   ]
  },
  {
   "cell_type": "code",
   "execution_count": 79,
   "metadata": {},
   "outputs": [],
   "source": [
    "df = df[df['사고발생일'].between('2019-01-01', '2023-12-31')]"
   ]
  },
  {
   "cell_type": "code",
   "execution_count": 41,
   "metadata": {},
   "outputs": [],
   "source": [
    "df = pd.read_csv('../../data/학교안전사고데이터통합/학교안전사고데이터_통합.csv')\n",
    "\n",
    "df['사고발생일'] = pd.to_datetime(df['사고발생일'])\n",
    "df['연도'] = df['사고발생일'].map(lambda x : x.year)\n",
    "\n",
    "df_2019 = df[df['사고발생일'].between('2019-01-01', '2019-12-31')]\n",
    "df_2020 = df[df['사고발생일'].between('2020-01-01', '2020-12-31')]\n",
    "df_2021 = df[df['사고발생일'].between('2021-01-01', '2021-12-31')]\n",
    "df_2022 = df[df['사고발생일'].between('2022-01-01', '2022-12-31')]\n",
    "df_2023 = df[df['사고발생일'].between('2023-01-01', '2023-12-31')]"
   ]
  },
  {
   "cell_type": "code",
   "execution_count": 51,
   "metadata": {},
   "outputs": [
    {
     "data": {
      "text/html": [
       "<div><style>\n",
       ".dataframe > thead > tr > th,\n",
       ".dataframe > tbody > tr > td {\n",
       "  text-align: right;\n",
       "  white-space: pre-wrap;\n",
       "}\n",
       "</style>\n",
       "<small>shape: (94_659, 18)</small><table border=\"1\" class=\"dataframe\"><thead><tr><th>구분</th><th>학교급</th><th>지역</th><th>교육청</th><th>설립유형</th><th>사고자구분</th><th>사고자성별</th><th>사고자학년</th><th>사고발생일</th><th>사고발생요일</th><th>사고발생시각</th><th>사고시간</th><th>사고장소</th><th>사고부위</th><th>사고형태</th><th>사고당시활동</th><th>사고매개물</th><th>매개물</th></tr><tr><td>str</td><td>str</td><td>str</td><td>str</td><td>str</td><td>str</td><td>str</td><td>str</td><td>datetime[μs]</td><td>str</td><td>str</td><td>str</td><td>str</td><td>str</td><td>str</td><td>str</td><td>str</td><td>str</td></tr></thead><tbody><tr><td>&quot;C0000048&quot;</td><td>&quot;유치원&quot;</td><td>&quot;충남&quot;</td><td>&quot;천안교육지원청&quot;</td><td>&quot;사립&quot;</td><td>&quot;일반학생&quot;</td><td>&quot;여&quot;</td><td>&quot;유아&quot;</td><td>2021-01-04 00:00:00</td><td>&quot;월&quot;</td><td>&quot;13:20&quot;</td><td>&quot;수업시간&quot;</td><td>&quot;교실&quot;</td><td>&quot;기타&quot;</td><td>&quot;낙상-미끄러짐&quot;</td><td>&quot;보행/주행&quot;</td><td>&quot;자연(사람/동물/식물 등)…</td><td>null</td></tr><tr><td>&quot;C0000076&quot;</td><td>&quot;유치원&quot;</td><td>&quot;부산&quot;</td><td>&quot;북부교육지원청&quot;</td><td>&quot;사립&quot;</td><td>&quot;일반학생&quot;</td><td>&quot;남&quot;</td><td>&quot;유아&quot;</td><td>2021-01-04 00:00:00</td><td>&quot;월&quot;</td><td>&quot;10:40&quot;</td><td>&quot;수업시간&quot;</td><td>&quot;교실&quot;</td><td>&quot;치아(구강)&quot;</td><td>&quot;낙상-떨어짐&quot;</td><td>&quot;장난/놀이&quot;</td><td>&quot;건물(문/창문/바닥/벽 등…</td><td>null</td></tr><tr><td>&quot;C0000111&quot;</td><td>&quot;고등학교&quot;</td><td>&quot;경남&quot;</td><td>&quot;경상남도교육청&quot;</td><td>&quot;공립&quot;</td><td>&quot;일반학생&quot;</td><td>&quot;남&quot;</td><td>&quot;2학년&quot;</td><td>2021-01-04 00:00:00</td><td>&quot;월&quot;</td><td>&quot;12:00&quot;</td><td>&quot;체육수업&quot;</td><td>&quot;운동장&quot;</td><td>&quot;복합부위&quot;</td><td>&quot;물리적힘 노출&quot;</td><td>&quot;구기운동&quot;</td><td>&quot;운동(놀이)용 장비/기구(…</td><td>null</td></tr><tr><td>&quot;C0000112&quot;</td><td>&quot;고등학교&quot;</td><td>&quot;경남&quot;</td><td>&quot;경상남도교육청&quot;</td><td>&quot;공립&quot;</td><td>&quot;일반학생&quot;</td><td>&quot;남&quot;</td><td>&quot;2학년&quot;</td><td>2021-01-04 00:00:00</td><td>&quot;월&quot;</td><td>&quot;12:00&quot;</td><td>&quot;수업시간&quot;</td><td>&quot;운동장&quot;</td><td>&quot;발&quot;</td><td>&quot;물리적힘 노출&quot;</td><td>&quot;실험실습&quot;</td><td>&quot;운송용구(차/자전거/선박/…</td><td>null</td></tr><tr><td>&quot;C0000113&quot;</td><td>&quot;고등학교&quot;</td><td>&quot;경남&quot;</td><td>&quot;경상남도교육청&quot;</td><td>&quot;공립&quot;</td><td>&quot;일반학생&quot;</td><td>&quot;남&quot;</td><td>&quot;2학년&quot;</td><td>2021-01-04 00:00:00</td><td>&quot;월&quot;</td><td>&quot;13:20&quot;</td><td>&quot;점심시간&quot;</td><td>&quot;운동장&quot;</td><td>&quot;발&quot;</td><td>&quot;낙상-넘어짐&quot;</td><td>&quot;구기운동&quot;</td><td>&quot;기타&quot;</td><td>null</td></tr><tr><td>&quot;C0000114&quot;</td><td>&quot;고등학교&quot;</td><td>&quot;경남&quot;</td><td>&quot;경상남도교육청&quot;</td><td>&quot;공립&quot;</td><td>&quot;일반학생&quot;</td><td>&quot;남&quot;</td><td>&quot;2학년&quot;</td><td>2021-01-04 00:00:00</td><td>&quot;월&quot;</td><td>&quot;14:00&quot;</td><td>&quot;체육수업&quot;</td><td>&quot;부속시설&quot;</td><td>&quot;손&quot;</td><td>&quot;물리적힘 노출&quot;</td><td>&quot;구기운동&quot;</td><td>&quot;운동(놀이)용 장비/기구(…</td><td>null</td></tr><tr><td>&quot;C0000115&quot;</td><td>&quot;초등학교&quot;</td><td>&quot;경남&quot;</td><td>&quot;남해교육지원청&quot;</td><td>&quot;공립&quot;</td><td>&quot;일반학생&quot;</td><td>&quot;남&quot;</td><td>&quot;6학년&quot;</td><td>2021-01-04 00:00:00</td><td>&quot;월&quot;</td><td>&quot;12:50&quot;</td><td>&quot;점심시간&quot;</td><td>&quot;교실&quot;</td><td>&quot;발&quot;</td><td>&quot;물리적힘 노출&quot;</td><td>&quot;식사/수면/휴식&quot;</td><td>&quot;자연(사람/동물/식물 등)…</td><td>null</td></tr><tr><td>&quot;C0000128&quot;</td><td>&quot;초등학교&quot;</td><td>&quot;전북&quot;</td><td>&quot;전주교육지원청&quot;</td><td>&quot;공립&quot;</td><td>&quot;일반학생&quot;</td><td>&quot;여&quot;</td><td>&quot;4학년&quot;</td><td>2021-01-04 00:00:00</td><td>&quot;월&quot;</td><td>&quot;11:17&quot;</td><td>&quot;체육수업&quot;</td><td>&quot;부속시설&quot;</td><td>&quot;머리(두부)&quot;</td><td>&quot;물리적힘 노출&quot;</td><td>&quot;기타&quot;</td><td>&quot;운동(놀이)용 장비/기구(…</td><td>null</td></tr><tr><td>&quot;C0000176&quot;</td><td>&quot;유치원&quot;</td><td>&quot;충북&quot;</td><td>&quot;청주교육지원청&quot;</td><td>&quot;공립&quot;</td><td>&quot;일반학생&quot;</td><td>&quot;남&quot;</td><td>&quot;유아&quot;</td><td>2021-01-04 00:00:00</td><td>&quot;월&quot;</td><td>&quot;11:30&quot;</td><td>&quot;수업시간&quot;</td><td>&quot;교실&quot;</td><td>&quot;치아(구강)&quot;</td><td>&quot;물리적힘 노출&quot;</td><td>&quot;보행/주행&quot;</td><td>&quot;가구(책상/의자/책장/탁자…</td><td>null</td></tr><tr><td>&quot;C0000178&quot;</td><td>&quot;유치원&quot;</td><td>&quot;충북&quot;</td><td>&quot;옥천교육지원청&quot;</td><td>&quot;사립&quot;</td><td>&quot;일반학생&quot;</td><td>&quot;남&quot;</td><td>&quot;유아&quot;</td><td>2021-01-01 00:00:00</td><td>&quot;금&quot;</td><td>&quot;15:30&quot;</td><td>&quot;기타&quot;</td><td>&quot;통로&quot;</td><td>&quot;기타&quot;</td><td>&quot;낙상-넘어짐&quot;</td><td>&quot;기타&quot;</td><td>&quot;건물(문/창문/바닥/벽 등…</td><td>null</td></tr><tr><td>&quot;C0000220&quot;</td><td>&quot;유치원&quot;</td><td>&quot;경남&quot;</td><td>&quot;창원교육지원청&quot;</td><td>&quot;사립&quot;</td><td>&quot;일반학생&quot;</td><td>&quot;남&quot;</td><td>&quot;유아&quot;</td><td>2021-01-04 00:00:00</td><td>&quot;월&quot;</td><td>&quot;14:15&quot;</td><td>&quot;수업시간&quot;</td><td>&quot;교실&quot;</td><td>&quot;치아(구강)&quot;</td><td>&quot;물리적힘 노출&quot;</td><td>&quot;장난/놀이&quot;</td><td>&quot;가구(책상/의자/책장/탁자…</td><td>null</td></tr><tr><td>&quot;C0000240&quot;</td><td>&quot;초등학교&quot;</td><td>&quot;전남&quot;</td><td>&quot;곡성교육지원청&quot;</td><td>&quot;공립&quot;</td><td>&quot;일반학생&quot;</td><td>&quot;여&quot;</td><td>&quot;6학년&quot;</td><td>2021-01-04 00:00:00</td><td>&quot;월&quot;</td><td>&quot;12:20&quot;</td><td>&quot;점심시간&quot;</td><td>&quot;교실&quot;</td><td>&quot;다리&quot;</td><td>&quot;물리적힘 노출&quot;</td><td>&quot;보행/주행&quot;</td><td>&quot;가구(책상/의자/책장/탁자…</td><td>null</td></tr><tr><td>&hellip;</td><td>&hellip;</td><td>&hellip;</td><td>&hellip;</td><td>&hellip;</td><td>&hellip;</td><td>&hellip;</td><td>&hellip;</td><td>&hellip;</td><td>&hellip;</td><td>&hellip;</td><td>&hellip;</td><td>&hellip;</td><td>&hellip;</td><td>&hellip;</td><td>&hellip;</td><td>&hellip;</td><td>&hellip;</td></tr><tr><td>&quot;E0183621&quot;</td><td>&quot;유치원&quot;</td><td>&quot;경기&quot;</td><td>&quot;이천교육지원청&quot;</td><td>&quot;사립&quot;</td><td>&quot;일반학생&quot;</td><td>&quot;남&quot;</td><td>&quot;유아&quot;</td><td>2021-10-01 00:00:00</td><td>&quot;금&quot;</td><td>&quot;17:40&quot;</td><td>&quot;기타&quot;</td><td>&quot;운동장&quot;</td><td>&quot;기타&quot;</td><td>&quot;낙상&quot;</td><td>&quot;장난/놀이&quot;</td><td>null</td><td>&quot;기타&quot;</td></tr><tr><td>&quot;E0183622&quot;</td><td>&quot;유치원&quot;</td><td>&quot;경기&quot;</td><td>&quot;이천교육지원청&quot;</td><td>&quot;사립&quot;</td><td>&quot;일반학생&quot;</td><td>&quot;남&quot;</td><td>&quot;유아&quot;</td><td>2021-10-13 00:00:00</td><td>&quot;수&quot;</td><td>&quot;15:00&quot;</td><td>&quot;기타&quot;</td><td>&quot;통로&quot;</td><td>&quot;손&quot;</td><td>&quot;물리적힘 노출&quot;</td><td>&quot;보행/주행&quot;</td><td>null</td><td>&quot;건물(문/창문/바닥/벽 등…</td></tr><tr><td>&quot;E0183624&quot;</td><td>&quot;유치원&quot;</td><td>&quot;경기&quot;</td><td>&quot;이천교육지원청&quot;</td><td>&quot;사립&quot;</td><td>&quot;일반학생&quot;</td><td>&quot;여&quot;</td><td>&quot;유아&quot;</td><td>2021-09-14 00:00:00</td><td>&quot;화&quot;</td><td>&quot;15:00&quot;</td><td>&quot;기타&quot;</td><td>&quot;운동장&quot;</td><td>&quot;발&quot;</td><td>&quot;물리적힘 노출&quot;</td><td>&quot;장난/놀이&quot;</td><td>null</td><td>&quot;운동(놀이)용 장비/기구(…</td></tr><tr><td>&quot;E0183626&quot;</td><td>&quot;유치원&quot;</td><td>&quot;경기&quot;</td><td>&quot;이천교육지원청&quot;</td><td>&quot;사립&quot;</td><td>&quot;일반학생&quot;</td><td>&quot;여&quot;</td><td>&quot;유아&quot;</td><td>2021-11-19 00:00:00</td><td>&quot;금&quot;</td><td>&quot;13:15&quot;</td><td>&quot;기타&quot;</td><td>&quot;부속시설&quot;</td><td>&quot;기타&quot;</td><td>&quot;기타&quot;</td><td>&quot;식사/수면/휴식&quot;</td><td>null</td><td>&quot;자연(사람/동물/식물 등)…</td></tr><tr><td>&quot;E0183627&quot;</td><td>&quot;유치원&quot;</td><td>&quot;경기&quot;</td><td>&quot;이천교육지원청&quot;</td><td>&quot;사립&quot;</td><td>&quot;일반학생&quot;</td><td>&quot;남&quot;</td><td>&quot;유아&quot;</td><td>2021-08-30 00:00:00</td><td>&quot;월&quot;</td><td>&quot;12:33&quot;</td><td>&quot;기타&quot;</td><td>&quot;통로&quot;</td><td>&quot;머리(두부)&quot;</td><td>&quot;물리적힘 노출&quot;</td><td>&quot;기타&quot;</td><td>null</td><td>&quot;가구(책상/의자/책장/탁자…</td></tr><tr><td>&quot;E0183839&quot;</td><td>&quot;중학교&quot;</td><td>&quot;울산&quot;</td><td>&quot;강북교육지원청&quot;</td><td>&quot;공립&quot;</td><td>&quot;일반학생&quot;</td><td>&quot;여&quot;</td><td>&quot;1학년&quot;</td><td>2021-07-09 00:00:00</td><td>&quot;금&quot;</td><td>&quot;15:20&quot;</td><td>&quot;등하교&quot;</td><td>&quot;통로&quot;</td><td>&quot;발&quot;</td><td>&quot;낙상&quot;</td><td>&quot;보행/주행&quot;</td><td>null</td><td>&quot;건물(문/창문/바닥/벽 등…</td></tr><tr><td>&quot;E0184682&quot;</td><td>&quot;고등학교&quot;</td><td>&quot;울산&quot;</td><td>&quot;울산교육청&quot;</td><td>&quot;공립&quot;</td><td>&quot;일반학생&quot;</td><td>&quot;여&quot;</td><td>&quot;1학년&quot;</td><td>2021-11-10 00:00:00</td><td>&quot;수&quot;</td><td>&quot;10:40&quot;</td><td>&quot;체육활동&quot;</td><td>&quot;부속시설&quot;</td><td>&quot;팔&quot;</td><td>&quot;물리적힘 노출&quot;</td><td>&quot;구기운동&quot;</td><td>null</td><td>&quot;운동(놀이)용 장비/기구(…</td></tr><tr><td>&quot;E0187317&quot;</td><td>&quot;중학교&quot;</td><td>&quot;서울&quot;</td><td>&quot;강동송파교육지원청&quot;</td><td>&quot;공립&quot;</td><td>&quot;일반학생&quot;</td><td>&quot;남&quot;</td><td>&quot;1학년&quot;</td><td>2021-04-14 00:00:00</td><td>&quot;수&quot;</td><td>&quot;10:20&quot;</td><td>&quot;체육활동&quot;</td><td>&quot;운동장&quot;</td><td>&quot;손&quot;</td><td>&quot;물리적힘 노출&quot;</td><td>&quot;구기운동&quot;</td><td>null</td><td>&quot;운동(놀이)용 장비/기구(…</td></tr><tr><td>&quot;E0187325&quot;</td><td>&quot;중학교&quot;</td><td>&quot;서울&quot;</td><td>&quot;강동송파교육지원청&quot;</td><td>&quot;공립&quot;</td><td>&quot;일반학생&quot;</td><td>&quot;남&quot;</td><td>&quot;1학년&quot;</td><td>2021-10-21 00:00:00</td><td>&quot;목&quot;</td><td>&quot;09:25&quot;</td><td>&quot;학교행사&quot;</td><td>&quot;운동장&quot;</td><td>&quot;다리&quot;</td><td>&quot;낙상&quot;</td><td>&quot;기타운동&quot;</td><td>null</td><td>&quot;건물(문/창문/바닥/벽 등…</td></tr><tr><td>&quot;E0191558&quot;</td><td>&quot;고등학교&quot;</td><td>&quot;경기&quot;</td><td>&quot;수원교육지원청&quot;</td><td>&quot;공립&quot;</td><td>&quot;일반학생&quot;</td><td>&quot;남&quot;</td><td>&quot;1학년&quot;</td><td>2021-04-14 00:00:00</td><td>&quot;수&quot;</td><td>&quot;16:45&quot;</td><td>&quot;쉬는시간&quot;</td><td>&quot;통로&quot;</td><td>&quot;발&quot;</td><td>&quot;낙상&quot;</td><td>&quot;보행/주행&quot;</td><td>null</td><td>&quot;건물(문/창문/바닥/벽 등…</td></tr><tr><td>&quot;E0192676&quot;</td><td>&quot;초등학교&quot;</td><td>&quot;강원&quot;</td><td>&quot;강릉교육지원청&quot;</td><td>&quot;공립&quot;</td><td>&quot;일반학생&quot;</td><td>&quot;여&quot;</td><td>&quot;6학년&quot;</td><td>2021-03-29 00:00:00</td><td>&quot;월&quot;</td><td>&quot;10:10&quot;</td><td>&quot;체육활동&quot;</td><td>&quot;운동장&quot;</td><td>&quot;발&quot;</td><td>&quot;낙상&quot;</td><td>&quot;기타&quot;</td><td>null</td><td>&quot;운동(놀이)용 장비/기구(…</td></tr><tr><td>&quot;E0192677&quot;</td><td>&quot;초등학교&quot;</td><td>&quot;강원&quot;</td><td>&quot;강릉교육지원청&quot;</td><td>&quot;공립&quot;</td><td>&quot;일반학생&quot;</td><td>&quot;남&quot;</td><td>&quot;6학년&quot;</td><td>2021-06-14 00:00:00</td><td>&quot;월&quot;</td><td>&quot;10:30&quot;</td><td>&quot;체육활동&quot;</td><td>&quot;부속시설&quot;</td><td>&quot;복합부위&quot;</td><td>&quot;물리적힘 노출&quot;</td><td>&quot;구기운동&quot;</td><td>null</td><td>&quot;운동(놀이)용 장비/기구(…</td></tr></tbody></table></div>"
      ],
      "text/plain": [
       "shape: (94_659, 18)\n",
       "┌──────────┬──────────┬──────┬─────────────┬───┬────────────┬────────────┬────────────┬────────────┐\n",
       "│ 구분     ┆ 학교급   ┆ 지역 ┆ 교육청      ┆ … ┆ 사고형태   ┆ 사고당시활 ┆ 사고매개물 ┆ 매개물     │\n",
       "│ ---      ┆ ---      ┆ ---  ┆ ---         ┆   ┆ ---        ┆ 동         ┆ ---        ┆ ---        │\n",
       "│ str      ┆ str      ┆ str  ┆ str         ┆   ┆ str        ┆ ---        ┆ str        ┆ str        │\n",
       "│          ┆          ┆      ┆             ┆   ┆            ┆ str        ┆            ┆            │\n",
       "╞══════════╪══════════╪══════╪═════════════╪═══╪════════════╪════════════╪════════════╪════════════╡\n",
       "│ C0000048 ┆ 유치원   ┆ 충남 ┆ 천안교육지  ┆ … ┆ 낙상-미끄  ┆ 보행/주행  ┆ 자연(사람/ ┆ null       │\n",
       "│          ┆          ┆      ┆ 원청        ┆   ┆ 러짐       ┆            ┆ 동물/식물  ┆            │\n",
       "│          ┆          ┆      ┆             ┆   ┆            ┆            ┆ 등)        ┆            │\n",
       "│ C0000076 ┆ 유치원   ┆ 부산 ┆ 북부교육지  ┆ … ┆ 낙상-떨어  ┆ 장난/놀이  ┆ 건물(문/창 ┆ null       │\n",
       "│          ┆          ┆      ┆ 원청        ┆   ┆ 짐         ┆            ┆ 문/바닥/벽 ┆            │\n",
       "│          ┆          ┆      ┆             ┆   ┆            ┆            ┆ 등)        ┆            │\n",
       "│ C0000111 ┆ 고등학교 ┆ 경남 ┆ 경상남도교  ┆ … ┆ 물리적힘   ┆ 구기운동   ┆ 운동(놀이) ┆ null       │\n",
       "│          ┆          ┆      ┆ 육청        ┆   ┆ 노출       ┆            ┆ 용 장비/기 ┆            │\n",
       "│          ┆          ┆      ┆             ┆   ┆            ┆            ┆ 구(공/운동 ┆            │\n",
       "│          ┆          ┆      ┆             ┆   ┆            ┆            ┆ 기구/운동  ┆            │\n",
       "│          ┆          ┆      ┆             ┆   ┆            ┆            ┆ 장 기구    ┆            │\n",
       "│          ┆          ┆      ┆             ┆   ┆            ┆            ┆ 등)        ┆            │\n",
       "│ C0000112 ┆ 고등학교 ┆ 경남 ┆ 경상남도교  ┆ … ┆ 물리적힘   ┆ 실험실습   ┆ 운송용구(  ┆ null       │\n",
       "│          ┆          ┆      ┆ 육청        ┆   ┆ 노출       ┆            ┆ 차/자전거/ ┆            │\n",
       "│          ┆          ┆      ┆             ┆   ┆            ┆            ┆ 선박/항공  ┆            │\n",
       "│          ┆          ┆      ┆             ┆   ┆            ┆            ┆ 기 등)     ┆            │\n",
       "│ …        ┆ …        ┆ …    ┆ …           ┆ … ┆ …          ┆ …          ┆ …          ┆ …          │\n",
       "│ E0187325 ┆ 중학교   ┆ 서울 ┆ 강동송파교  ┆ … ┆ 낙상       ┆ 기타운동   ┆ null       ┆ 건물(문/창 │\n",
       "│          ┆          ┆      ┆ 육지원청    ┆   ┆            ┆            ┆            ┆ 문/바닥/벽 │\n",
       "│          ┆          ┆      ┆             ┆   ┆            ┆            ┆            ┆ 등)        │\n",
       "│ E0191558 ┆ 고등학교 ┆ 경기 ┆ 수원교육지  ┆ … ┆ 낙상       ┆ 보행/주행  ┆ null       ┆ 건물(문/창 │\n",
       "│          ┆          ┆      ┆ 원청        ┆   ┆            ┆            ┆            ┆ 문/바닥/벽 │\n",
       "│          ┆          ┆      ┆             ┆   ┆            ┆            ┆            ┆ 등)        │\n",
       "│ E0192676 ┆ 초등학교 ┆ 강원 ┆ 강릉교육지  ┆ … ┆ 낙상       ┆ 기타       ┆ null       ┆ 운동(놀이) │\n",
       "│          ┆          ┆      ┆ 원청        ┆   ┆            ┆            ┆            ┆ 용 장비/기 │\n",
       "│          ┆          ┆      ┆             ┆   ┆            ┆            ┆            ┆ 구(공/운동 │\n",
       "│          ┆          ┆      ┆             ┆   ┆            ┆            ┆            ┆ 기구/운동  │\n",
       "│          ┆          ┆      ┆             ┆   ┆            ┆            ┆            ┆ 장 기구    │\n",
       "│          ┆          ┆      ┆             ┆   ┆            ┆            ┆            ┆ 등)        │\n",
       "│ E0192677 ┆ 초등학교 ┆ 강원 ┆ 강릉교육지  ┆ … ┆ 물리적힘   ┆ 구기운동   ┆ null       ┆ 운동(놀이) │\n",
       "│          ┆          ┆      ┆ 원청        ┆   ┆ 노출       ┆            ┆            ┆ 용 장비/기 │\n",
       "│          ┆          ┆      ┆             ┆   ┆            ┆            ┆            ┆ 구(공/운동 │\n",
       "│          ┆          ┆      ┆             ┆   ┆            ┆            ┆            ┆ 기구/운동  │\n",
       "│          ┆          ┆      ┆             ┆   ┆            ┆            ┆            ┆ 장 기구    │\n",
       "│          ┆          ┆      ┆             ┆   ┆            ┆            ┆            ┆ 등)        │\n",
       "└──────────┴──────────┴──────┴─────────────┴───┴────────────┴────────────┴────────────┴────────────┘"
      ]
     },
     "execution_count": 51,
     "metadata": {},
     "output_type": "execute_result"
    }
   ],
   "source": [
    "# df = pl.read_csv('../../data/학교안전사고데이터통합/학교안전사고데이터_통합.csv')\n",
    "# df = df.with_columns(\n",
    "#     pl.col(\"사고발생일\").str.to_datetime(\"%Y-%m-%d\")\n",
    "# )\n",
    "# df.filter(\n",
    "#     (pl.col(\"사고발생일\") >= datetime(2021, 1, 1)) &\n",
    "#     (pl.col(\"사고발생일\") <= datetime(2021, 12, 31))\n",
    "#     )"
   ]
  },
  {
   "cell_type": "markdown",
   "metadata": {},
   "source": [
    "## 1. 학교 안전사고 현황 EDA"
   ]
  },
  {
   "cell_type": "markdown",
   "metadata": {},
   "source": [
    "### 1-1. 연도별 사고 현황"
   ]
  },
  {
   "cell_type": "code",
   "execution_count": null,
   "metadata": {},
   "outputs": [],
   "source": []
  },
  {
   "cell_type": "markdown",
   "metadata": {},
   "source": [
    "### 1-2. 지역별 사고 현황\n",
    "\n",
    "- 시도별 사고 현황\n",
    "    - 시도별 총 사고건수\n",
    "    - 시도별 연도별 전체 사고건수\n",
    "    - 시도별 연도별 전체 학교 수 대비 안전사고 발생 학교 비율\n",
    "        -  전체 학교 중 안전사고가 발생한 학교의 비율(2021년 동작구의 전체 학교 N곳 중 M곳의 학교에서 안전사고가 발생했다.)\n",
    "    - 시도별 연도별 전체 학교 수 대비 안전사고 발생 건수\n",
    "- 시군구별 사고 현황\n",
    "    - 시군구별 총 사고 건수 (시도별에서 시도를 선택하면 확인할 수 있도록)\n",
    "    - 시군구별 연도별 총 사고건수\n",
    "    - 시도별 연도별 전체 학교 수 대비 안전사고 발생 학교 비율\n",
    "        -  전체 학교 중 안전사고가 발생한 학교의 비율(2021년 동작구의 전체 학교 N곳 중 M곳의 학교에서 안전사고가 발생했다.)\n",
    "    - 시도별 연도별 전체 학교 수 대비 안전사고 발생 건수"
   ]
  },
  {
   "cell_type": "code",
   "execution_count": 6,
   "metadata": {},
   "outputs": [
    {
     "data": {
      "text/plain": [
       "array(['제주시교육지원청', '거창교육지원청', '창원교육지원청', '통영교육지원청', '양산교육지원청', '경상남도교육청',\n",
       "       '거제교육지원청', '김해교육지원청', '진주교육지원청', '함안교육지원청', '사천교육지원청', '밀양교육지원청',\n",
       "       '영천교육지원청', '경상북도교육청', '김천교육지원청', '구미교육지원청', '경산교육지원청', '경주교육지원청',\n",
       "       '포항교육지원청', '성주교육지원청', '익산교육지원청', '전라북도교육청', '전주교육지원청', '김제교육지원청',\n",
       "       '천안교육지원청', '아산교육지원청', '논산교육지원청', '서천교육지원청', '공주교육지원청', '홍성교육지원청',\n",
       "       '서산교육지원청', '부여교육지원청', '당진교육지원청', '보은교육지원청', '청주교육지원청', '충청북도교육청',\n",
       "       '진천교육지원청', '영동교육지원청', '옥천교육지원청', '음성교육지원청', '군포의왕교육지원청', '부천교육지원청',\n",
       "       '평택교육지원청', '시흥교육지원청', '의정부교육지원청', '수원교육지원청', '고양교육지원청',\n",
       "       '동두천양주교육지원청', '파주교육지원청', '구리남양주교육지원청', '안산교육지원청', '안양과천교육지원청',\n",
       "       '화성오산교육지원청', '광명교육지원청', '김포교육지원청', '포천교육지원청', '용인교육지원청', '안성교육지원청',\n",
       "       '가평교육지원청', '광주하남교육지원청', '세종특별자치시교육청', '강남교육지원청', '울산교육청',\n",
       "       '강북교육지원청', '서부교육지원청', '동부교육지원청', '남부교육지원청', '북부교육지원청', '인천광역시교육청',\n",
       "       '해운대교육지원청', '동래교육지원청', '부산광역시교육청', '강동송파교육지원청', '강서양천교육지원청',\n",
       "       '성동광진교육지원청', '서울특별시교육청', '동작관악교육지원청', '서귀포시교육지원청', '고성교육지원청',\n",
       "       '안동교육지원청', '의성교육지원청', '문경교육지원청', '영주교육지원청', '무안교육지원청', '순창교육지원청',\n",
       "       '정읍교육지원청', '완주교육지원청', '괴산증평교육지원청', '충주교육지원청', '제천교육지원청', '강릉교육지원청',\n",
       "       '춘천교육지원청', '강원도교육청', '속초양양교육청', '원주교육지원청', '정선교육지원청', '태백교육지원청',\n",
       "       '양구교육지원청', '이천교육지원청', '성남교육지원청', '여주교육지원청', '양평교육지원청', '대전광역시교육청',\n",
       "       '달성교육지원청', '대구교육청', '순천교육지원청', '나주교육지원청', '장흥교육지원청', '목포교육지원청',\n",
       "       '완도교육지원청', '영광교육지원청', '장성교육지원청', '여수교육지원청', '보성교육지원청', '광양교육지원청',\n",
       "       '신안교육지원청', '곡성교육지원청', '해남교육지원청', '화순교육지원청', '고흥교육지원청', '군산교육지원청',\n",
       "       '남원교육지원청', '예산교육지원청', '영월교육지원청', '삼척교육지원청', '동해교육지원청', '평창교육지원청',\n",
       "       '광주광역시교육청', '강남서초교육지원청', '성북강북교육지원청', '중부교육지원청', '산청교육지원청',\n",
       "       '상주교육지원청', '함평교육지원청', '영암교육지원청', '울릉교육지원청', '담양교육지원청',\n",
       "       '제주특별자치도교육청', '하동교육지원청', '남해교육지원청', '칠곡교육지원청', '보령교육지원청',\n",
       "       '청양교육지원청', '강화교육지원청', '강진교육지원청', '진도교육지원청', '고창교육지원청', '장수교육지원청',\n",
       "       '횡성교육지원청', '울진교육지원청', '예천교육지원청', '화천교육지원청', '태안교육지원청', '철원교육지원청',\n",
       "       '청도교육지원청', '봉화교육지원청', '임실교육지원청', '고령교육지원청', '금산교육지원청', '무주교육지원청',\n",
       "       '창녕교육지원청', '인제교육지원청', '홍천교육지원청', '함양교육지원청', '진안교육지원청', '의령교육지원청',\n",
       "       '구례교육지원청', '단양교육지원청', '합천교육지원청', '부안교육지원청', '연천교육지원청', '군위교육지원청',\n",
       "       '청송교육지원청', '경기도교육청', '영덕교육지원청', '영양교육지원청'], dtype=object)"
      ]
     },
     "execution_count": 6,
     "metadata": {},
     "output_type": "execute_result"
    }
   ],
   "source": [
    "df_2023.교육청.unique()\n",
    "\n",
    "'''\n",
    "교육청(시도)\n",
    "교육지원청(시군구) --> 시군구별 분석 가능\n",
    "    교육지원청은 시·도 교육청의 하급 교육행정기관으로, 교육장(3급 또는 4급 상당)의 감독 아래 시·도의 교육·학예에 관한 사무를 일부 분장한다. \n",
    "'''"
   ]
  },
  {
   "cell_type": "markdown",
   "metadata": {},
   "source": [
    "### 1-3. 학교급별 사고 현황\n",
    "\n",
    "- 학교급별 (연도별) 총 사고 수\n",
    "- 학교급별 (연도별) 학년별 사고 수\n",
    "- 학교급별 (연도별) 성별별 사고 수\n",
    "- 학교급별 하루 평균 발생 사고 수 : 초등학교에선 하루에 평균 몇 건의 사고가 발생하는지?\n",
    "- 학교급별 사고 내용 (사고 형태, 사과 당시 활동, 사고매개물)\n",
    "    - 학교급별 사고 내용에 대한 비교 (초등학교는 어떤 사고가 주로 발생하고, 중학교는 어떤 사고가 주로 발생하는지를 파악하고자 하는 내용)"
   ]
  },
  {
   "cell_type": "code",
   "execution_count": 8,
   "metadata": {},
   "outputs": [
    {
     "data": {
      "text/plain": [
       "array(['초등학교', '중학교', '고등학교', '유치원', '기타학교', '특수학교'], dtype=object)"
      ]
     },
     "execution_count": 8,
     "metadata": {},
     "output_type": "execute_result"
    }
   ],
   "source": [
    "df_2023.학교급.unique()"
   ]
  },
  {
   "cell_type": "code",
   "execution_count": 35,
   "metadata": {},
   "outputs": [
    {
     "data": {
      "text/plain": [
       "학교급\n",
       "고등학교    39133\n",
       "기타학교      626\n",
       "유치원      9861\n",
       "중학교     71223\n",
       "초등학교    71608\n",
       "특수학교      726\n",
       "Name: 구분, dtype: int64"
      ]
     },
     "execution_count": 35,
     "metadata": {},
     "output_type": "execute_result"
    }
   ],
   "source": [
    "df_2023.groupby('학교급').count()['구분']"
   ]
  },
  {
   "cell_type": "code",
   "execution_count": 25,
   "metadata": {},
   "outputs": [
    {
     "data": {
      "text/plain": [
       "사고발생일\n",
       "2004-03-19      1\n",
       "2019-12-13      1\n",
       "2020-11-10      1\n",
       "2020-11-19      1\n",
       "2020-12-07      1\n",
       "             ... \n",
       "2023-12-23      1\n",
       "2023-12-26    200\n",
       "2023-12-27    163\n",
       "2023-12-28     97\n",
       "2023-12-29     28\n",
       "Name: 구분, Length: 531, dtype: int64"
      ]
     },
     "execution_count": 25,
     "metadata": {},
     "output_type": "execute_result"
    }
   ],
   "source": [
    "'''\n",
    "해당연도 사고 접수일 기준 데이터이므로 \n",
    "사고 발생연도는 해당연도 외 다른 연도 데이터도 포함 ( 발생연도 기준 분석 필요 )\n",
    "'''\n",
    "temp = df_2023[df_2023['학교급']=='초등학교'].groupby(['사고발생일']).count()['구분']\n",
    "temp\n"
   ]
  },
  {
   "cell_type": "code",
   "execution_count": 31,
   "metadata": {},
   "outputs": [
    {
     "data": {
      "text/plain": [
       "count    531.000000\n",
       "mean     134.854991\n",
       "std      173.027579\n",
       "min        1.000000\n",
       "25%        2.000000\n",
       "50%       13.000000\n",
       "75%      342.500000\n",
       "max      571.000000\n",
       "Name: 구분, dtype: float64"
      ]
     },
     "execution_count": 31,
     "metadata": {},
     "output_type": "execute_result"
    }
   ],
   "source": [
    "'''\n",
    "하루 평균 134건 실화야?? 이상치 제거 해야할듯 하루에 너무 많이 발생한 날은 제외시키고 다시보기...\n",
    "'''\n",
    "temp.describe()"
   ]
  },
  {
   "cell_type": "markdown",
   "metadata": {},
   "source": [
    "### 1-4. 사고 내용 분석\n",
    "\n",
    "- 장소별 사고 현황\n",
    "    - 장소별 사고 발생 건수 (누적? 연도별?)\n",
    "    - 장소별 하루 평균 사고 발생 건수 : 해당 장소에서 하루에 얼마나 사고가 발생하는지?\n",
    "    - 장소별 사고 부위, 사고 형태\n",
    "\n"
   ]
  },
  {
   "cell_type": "markdown",
   "metadata": {},
   "source": [
    "#### 장소별 최근 하루 평균 발생 건수 (2023만 따지는 게 나을듯)"
   ]
  },
  {
   "cell_type": "code",
   "execution_count": 78,
   "metadata": {},
   "outputs": [
    {
     "data": {
      "application/vnd.plotly.v1+json": {
       "config": {
        "plotlyServerURL": "https://plot.ly"
       },
       "data": [
        {
         "alignmentgroup": "True",
         "hovertemplate": "구분=%{y}<extra></extra>",
         "legendgroup": "",
         "marker": {
          "color": "#636efa"
         },
         "name": "",
         "notched": false,
         "offsetgroup": "",
         "orientation": "v",
         "showlegend": false,
         "type": "box",
         "x0": " ",
         "xaxis": "x",
         "y": [
          2,
          154,
          136,
          2,
          1,
          121,
          90,
          62,
          72,
          70,
          7,
          8,
          54,
          54,
          62,
          51,
          50,
          7,
          2,
          63,
          52,
          46,
          33,
          1,
          31,
          71,
          91,
          97,
          5,
          3,
          143,
          150,
          170,
          153,
          102,
          4,
          114,
          125,
          92,
          89,
          61,
          2,
          1,
          50,
          38,
          43,
          53,
          34,
          3,
          1,
          2,
          2,
          4,
          1,
          1,
          2,
          3,
          3,
          3,
          7,
          3,
          10,
          10,
          9,
          6,
          10,
          6,
          5,
          7,
          5,
          5,
          6,
          5,
          5,
          10,
          1,
          9,
          13,
          8,
          12,
          19,
          2,
          10,
          19,
          15,
          11,
          18,
          19,
          14,
          15,
          16,
          20,
          13,
          29,
          21,
          25,
          17,
          28,
          25,
          2,
          2,
          13,
          1,
          29,
          31,
          21,
          25,
          35,
          24,
          29,
          19,
          2,
          27,
          25,
          42,
          49,
          56,
          3,
          1,
          46,
          61,
          104,
          128,
          122,
          1,
          5,
          155,
          152,
          164,
          191,
          168,
          11,
          9,
          177,
          194,
          209,
          224,
          200,
          6,
          3,
          205,
          353,
          241,
          233,
          225,
          17,
          5,
          240,
          230,
          221,
          282,
          274,
          12,
          13,
          292,
          301,
          295,
          333,
          287,
          15,
          8,
          289,
          332,
          270,
          309,
          252,
          12,
          6,
          251,
          276,
          309,
          320,
          301,
          11,
          10,
          235,
          284,
          211,
          242,
          225,
          11,
          8,
          209,
          185,
          188,
          212,
          147,
          8,
          8,
          124,
          114,
          126,
          145,
          121,
          8,
          7,
          116,
          128,
          117,
          116,
          75,
          2,
          5,
          10,
          64,
          82,
          104,
          68,
          8,
          1,
          72,
          68,
          40,
          53,
          67,
          5,
          1,
          63,
          110,
          83,
          89,
          111,
          7,
          2,
          42,
          140,
          177,
          120,
          118,
          5,
          5,
          128,
          129,
          116,
          149,
          127,
          11,
          5,
          214,
          265,
          241,
          256,
          238,
          15,
          2,
          222,
          207,
          5,
          2,
          2,
          3,
          237,
          264,
          215,
          260,
          18,
          5,
          4,
          241,
          268,
          268,
          278,
          269,
          18,
          7,
          384,
          411,
          353,
          449,
          415,
          27,
          13,
          416,
          472,
          470,
          528,
          474,
          30,
          9,
          476,
          492,
          522,
          586,
          470,
          22,
          8,
          493,
          532,
          506,
          599,
          495,
          33,
          14,
          455,
          452,
          419,
          386,
          406,
          15,
          11,
          376,
          353,
          318,
          271,
          216,
          5,
          1,
          183,
          167,
          159,
          138,
          160,
          8,
          1,
          179,
          227,
          201,
          188,
          184,
          8,
          6,
          123,
          143,
          110,
          132,
          114,
          4,
          5,
          103,
          90,
          89,
          94,
          1,
          2,
          2,
          61,
          75,
          67,
          36
         ],
         "y0": " ",
         "yaxis": "y"
        }
       ],
       "layout": {
        "boxmode": "group",
        "legend": {
         "tracegroupgap": 0
        },
        "margin": {
         "t": 60
        },
        "template": {
         "data": {
          "bar": [
           {
            "error_x": {
             "color": "#2a3f5f"
            },
            "error_y": {
             "color": "#2a3f5f"
            },
            "marker": {
             "line": {
              "color": "#E5ECF6",
              "width": 0.5
             },
             "pattern": {
              "fillmode": "overlay",
              "size": 10,
              "solidity": 0.2
             }
            },
            "type": "bar"
           }
          ],
          "barpolar": [
           {
            "marker": {
             "line": {
              "color": "#E5ECF6",
              "width": 0.5
             },
             "pattern": {
              "fillmode": "overlay",
              "size": 10,
              "solidity": 0.2
             }
            },
            "type": "barpolar"
           }
          ],
          "carpet": [
           {
            "aaxis": {
             "endlinecolor": "#2a3f5f",
             "gridcolor": "white",
             "linecolor": "white",
             "minorgridcolor": "white",
             "startlinecolor": "#2a3f5f"
            },
            "baxis": {
             "endlinecolor": "#2a3f5f",
             "gridcolor": "white",
             "linecolor": "white",
             "minorgridcolor": "white",
             "startlinecolor": "#2a3f5f"
            },
            "type": "carpet"
           }
          ],
          "choropleth": [
           {
            "colorbar": {
             "outlinewidth": 0,
             "ticks": ""
            },
            "type": "choropleth"
           }
          ],
          "contour": [
           {
            "colorbar": {
             "outlinewidth": 0,
             "ticks": ""
            },
            "colorscale": [
             [
              0,
              "#0d0887"
             ],
             [
              0.1111111111111111,
              "#46039f"
             ],
             [
              0.2222222222222222,
              "#7201a8"
             ],
             [
              0.3333333333333333,
              "#9c179e"
             ],
             [
              0.4444444444444444,
              "#bd3786"
             ],
             [
              0.5555555555555556,
              "#d8576b"
             ],
             [
              0.6666666666666666,
              "#ed7953"
             ],
             [
              0.7777777777777778,
              "#fb9f3a"
             ],
             [
              0.8888888888888888,
              "#fdca26"
             ],
             [
              1,
              "#f0f921"
             ]
            ],
            "type": "contour"
           }
          ],
          "contourcarpet": [
           {
            "colorbar": {
             "outlinewidth": 0,
             "ticks": ""
            },
            "type": "contourcarpet"
           }
          ],
          "heatmap": [
           {
            "colorbar": {
             "outlinewidth": 0,
             "ticks": ""
            },
            "colorscale": [
             [
              0,
              "#0d0887"
             ],
             [
              0.1111111111111111,
              "#46039f"
             ],
             [
              0.2222222222222222,
              "#7201a8"
             ],
             [
              0.3333333333333333,
              "#9c179e"
             ],
             [
              0.4444444444444444,
              "#bd3786"
             ],
             [
              0.5555555555555556,
              "#d8576b"
             ],
             [
              0.6666666666666666,
              "#ed7953"
             ],
             [
              0.7777777777777778,
              "#fb9f3a"
             ],
             [
              0.8888888888888888,
              "#fdca26"
             ],
             [
              1,
              "#f0f921"
             ]
            ],
            "type": "heatmap"
           }
          ],
          "heatmapgl": [
           {
            "colorbar": {
             "outlinewidth": 0,
             "ticks": ""
            },
            "colorscale": [
             [
              0,
              "#0d0887"
             ],
             [
              0.1111111111111111,
              "#46039f"
             ],
             [
              0.2222222222222222,
              "#7201a8"
             ],
             [
              0.3333333333333333,
              "#9c179e"
             ],
             [
              0.4444444444444444,
              "#bd3786"
             ],
             [
              0.5555555555555556,
              "#d8576b"
             ],
             [
              0.6666666666666666,
              "#ed7953"
             ],
             [
              0.7777777777777778,
              "#fb9f3a"
             ],
             [
              0.8888888888888888,
              "#fdca26"
             ],
             [
              1,
              "#f0f921"
             ]
            ],
            "type": "heatmapgl"
           }
          ],
          "histogram": [
           {
            "marker": {
             "pattern": {
              "fillmode": "overlay",
              "size": 10,
              "solidity": 0.2
             }
            },
            "type": "histogram"
           }
          ],
          "histogram2d": [
           {
            "colorbar": {
             "outlinewidth": 0,
             "ticks": ""
            },
            "colorscale": [
             [
              0,
              "#0d0887"
             ],
             [
              0.1111111111111111,
              "#46039f"
             ],
             [
              0.2222222222222222,
              "#7201a8"
             ],
             [
              0.3333333333333333,
              "#9c179e"
             ],
             [
              0.4444444444444444,
              "#bd3786"
             ],
             [
              0.5555555555555556,
              "#d8576b"
             ],
             [
              0.6666666666666666,
              "#ed7953"
             ],
             [
              0.7777777777777778,
              "#fb9f3a"
             ],
             [
              0.8888888888888888,
              "#fdca26"
             ],
             [
              1,
              "#f0f921"
             ]
            ],
            "type": "histogram2d"
           }
          ],
          "histogram2dcontour": [
           {
            "colorbar": {
             "outlinewidth": 0,
             "ticks": ""
            },
            "colorscale": [
             [
              0,
              "#0d0887"
             ],
             [
              0.1111111111111111,
              "#46039f"
             ],
             [
              0.2222222222222222,
              "#7201a8"
             ],
             [
              0.3333333333333333,
              "#9c179e"
             ],
             [
              0.4444444444444444,
              "#bd3786"
             ],
             [
              0.5555555555555556,
              "#d8576b"
             ],
             [
              0.6666666666666666,
              "#ed7953"
             ],
             [
              0.7777777777777778,
              "#fb9f3a"
             ],
             [
              0.8888888888888888,
              "#fdca26"
             ],
             [
              1,
              "#f0f921"
             ]
            ],
            "type": "histogram2dcontour"
           }
          ],
          "mesh3d": [
           {
            "colorbar": {
             "outlinewidth": 0,
             "ticks": ""
            },
            "type": "mesh3d"
           }
          ],
          "parcoords": [
           {
            "line": {
             "colorbar": {
              "outlinewidth": 0,
              "ticks": ""
             }
            },
            "type": "parcoords"
           }
          ],
          "pie": [
           {
            "automargin": true,
            "type": "pie"
           }
          ],
          "scatter": [
           {
            "fillpattern": {
             "fillmode": "overlay",
             "size": 10,
             "solidity": 0.2
            },
            "type": "scatter"
           }
          ],
          "scatter3d": [
           {
            "line": {
             "colorbar": {
              "outlinewidth": 0,
              "ticks": ""
             }
            },
            "marker": {
             "colorbar": {
              "outlinewidth": 0,
              "ticks": ""
             }
            },
            "type": "scatter3d"
           }
          ],
          "scattercarpet": [
           {
            "marker": {
             "colorbar": {
              "outlinewidth": 0,
              "ticks": ""
             }
            },
            "type": "scattercarpet"
           }
          ],
          "scattergeo": [
           {
            "marker": {
             "colorbar": {
              "outlinewidth": 0,
              "ticks": ""
             }
            },
            "type": "scattergeo"
           }
          ],
          "scattergl": [
           {
            "marker": {
             "colorbar": {
              "outlinewidth": 0,
              "ticks": ""
             }
            },
            "type": "scattergl"
           }
          ],
          "scattermapbox": [
           {
            "marker": {
             "colorbar": {
              "outlinewidth": 0,
              "ticks": ""
             }
            },
            "type": "scattermapbox"
           }
          ],
          "scatterpolar": [
           {
            "marker": {
             "colorbar": {
              "outlinewidth": 0,
              "ticks": ""
             }
            },
            "type": "scatterpolar"
           }
          ],
          "scatterpolargl": [
           {
            "marker": {
             "colorbar": {
              "outlinewidth": 0,
              "ticks": ""
             }
            },
            "type": "scatterpolargl"
           }
          ],
          "scatterternary": [
           {
            "marker": {
             "colorbar": {
              "outlinewidth": 0,
              "ticks": ""
             }
            },
            "type": "scatterternary"
           }
          ],
          "surface": [
           {
            "colorbar": {
             "outlinewidth": 0,
             "ticks": ""
            },
            "colorscale": [
             [
              0,
              "#0d0887"
             ],
             [
              0.1111111111111111,
              "#46039f"
             ],
             [
              0.2222222222222222,
              "#7201a8"
             ],
             [
              0.3333333333333333,
              "#9c179e"
             ],
             [
              0.4444444444444444,
              "#bd3786"
             ],
             [
              0.5555555555555556,
              "#d8576b"
             ],
             [
              0.6666666666666666,
              "#ed7953"
             ],
             [
              0.7777777777777778,
              "#fb9f3a"
             ],
             [
              0.8888888888888888,
              "#fdca26"
             ],
             [
              1,
              "#f0f921"
             ]
            ],
            "type": "surface"
           }
          ],
          "table": [
           {
            "cells": {
             "fill": {
              "color": "#EBF0F8"
             },
             "line": {
              "color": "white"
             }
            },
            "header": {
             "fill": {
              "color": "#C8D4E3"
             },
             "line": {
              "color": "white"
             }
            },
            "type": "table"
           }
          ]
         },
         "layout": {
          "annotationdefaults": {
           "arrowcolor": "#2a3f5f",
           "arrowhead": 0,
           "arrowwidth": 1
          },
          "autotypenumbers": "strict",
          "coloraxis": {
           "colorbar": {
            "outlinewidth": 0,
            "ticks": ""
           }
          },
          "colorscale": {
           "diverging": [
            [
             0,
             "#8e0152"
            ],
            [
             0.1,
             "#c51b7d"
            ],
            [
             0.2,
             "#de77ae"
            ],
            [
             0.3,
             "#f1b6da"
            ],
            [
             0.4,
             "#fde0ef"
            ],
            [
             0.5,
             "#f7f7f7"
            ],
            [
             0.6,
             "#e6f5d0"
            ],
            [
             0.7,
             "#b8e186"
            ],
            [
             0.8,
             "#7fbc41"
            ],
            [
             0.9,
             "#4d9221"
            ],
            [
             1,
             "#276419"
            ]
           ],
           "sequential": [
            [
             0,
             "#0d0887"
            ],
            [
             0.1111111111111111,
             "#46039f"
            ],
            [
             0.2222222222222222,
             "#7201a8"
            ],
            [
             0.3333333333333333,
             "#9c179e"
            ],
            [
             0.4444444444444444,
             "#bd3786"
            ],
            [
             0.5555555555555556,
             "#d8576b"
            ],
            [
             0.6666666666666666,
             "#ed7953"
            ],
            [
             0.7777777777777778,
             "#fb9f3a"
            ],
            [
             0.8888888888888888,
             "#fdca26"
            ],
            [
             1,
             "#f0f921"
            ]
           ],
           "sequentialminus": [
            [
             0,
             "#0d0887"
            ],
            [
             0.1111111111111111,
             "#46039f"
            ],
            [
             0.2222222222222222,
             "#7201a8"
            ],
            [
             0.3333333333333333,
             "#9c179e"
            ],
            [
             0.4444444444444444,
             "#bd3786"
            ],
            [
             0.5555555555555556,
             "#d8576b"
            ],
            [
             0.6666666666666666,
             "#ed7953"
            ],
            [
             0.7777777777777778,
             "#fb9f3a"
            ],
            [
             0.8888888888888888,
             "#fdca26"
            ],
            [
             1,
             "#f0f921"
            ]
           ]
          },
          "colorway": [
           "#636efa",
           "#EF553B",
           "#00cc96",
           "#ab63fa",
           "#FFA15A",
           "#19d3f3",
           "#FF6692",
           "#B6E880",
           "#FF97FF",
           "#FECB52"
          ],
          "font": {
           "color": "#2a3f5f"
          },
          "geo": {
           "bgcolor": "white",
           "lakecolor": "white",
           "landcolor": "#E5ECF6",
           "showlakes": true,
           "showland": true,
           "subunitcolor": "white"
          },
          "hoverlabel": {
           "align": "left"
          },
          "hovermode": "closest",
          "mapbox": {
           "style": "light"
          },
          "paper_bgcolor": "white",
          "plot_bgcolor": "#E5ECF6",
          "polar": {
           "angularaxis": {
            "gridcolor": "white",
            "linecolor": "white",
            "ticks": ""
           },
           "bgcolor": "#E5ECF6",
           "radialaxis": {
            "gridcolor": "white",
            "linecolor": "white",
            "ticks": ""
           }
          },
          "scene": {
           "xaxis": {
            "backgroundcolor": "#E5ECF6",
            "gridcolor": "white",
            "gridwidth": 2,
            "linecolor": "white",
            "showbackground": true,
            "ticks": "",
            "zerolinecolor": "white"
           },
           "yaxis": {
            "backgroundcolor": "#E5ECF6",
            "gridcolor": "white",
            "gridwidth": 2,
            "linecolor": "white",
            "showbackground": true,
            "ticks": "",
            "zerolinecolor": "white"
           },
           "zaxis": {
            "backgroundcolor": "#E5ECF6",
            "gridcolor": "white",
            "gridwidth": 2,
            "linecolor": "white",
            "showbackground": true,
            "ticks": "",
            "zerolinecolor": "white"
           }
          },
          "shapedefaults": {
           "line": {
            "color": "#2a3f5f"
           }
          },
          "ternary": {
           "aaxis": {
            "gridcolor": "white",
            "linecolor": "white",
            "ticks": ""
           },
           "baxis": {
            "gridcolor": "white",
            "linecolor": "white",
            "ticks": ""
           },
           "bgcolor": "#E5ECF6",
           "caxis": {
            "gridcolor": "white",
            "linecolor": "white",
            "ticks": ""
           }
          },
          "title": {
           "x": 0.05
          },
          "xaxis": {
           "automargin": true,
           "gridcolor": "white",
           "linecolor": "white",
           "ticks": "",
           "title": {
            "standoff": 15
           },
           "zerolinecolor": "white",
           "zerolinewidth": 2
          },
          "yaxis": {
           "automargin": true,
           "gridcolor": "white",
           "linecolor": "white",
           "ticks": "",
           "title": {
            "standoff": 15
           },
           "zerolinecolor": "white",
           "zerolinewidth": 2
          }
         }
        },
        "xaxis": {
         "anchor": "y",
         "domain": [
          0,
          1
         ]
        },
        "yaxis": {
         "anchor": "x",
         "domain": [
          0,
          1
         ],
         "title": {
          "text": "구분"
         }
        }
       }
      }
     },
     "metadata": {},
     "output_type": "display_data"
    }
   ],
   "source": [
    "fig = px.box(df_2020.groupby('사고발생일').count(), y=\"구분\")\n",
    "fig.show()"
   ]
  },
  {
   "cell_type": "code",
   "execution_count": 68,
   "metadata": {},
   "outputs": [
    {
     "data": {
      "text/html": [
       "<div>\n",
       "<style scoped>\n",
       "    .dataframe tbody tr th:only-of-type {\n",
       "        vertical-align: middle;\n",
       "    }\n",
       "\n",
       "    .dataframe tbody tr th {\n",
       "        vertical-align: top;\n",
       "    }\n",
       "\n",
       "    .dataframe thead th {\n",
       "        text-align: right;\n",
       "    }\n",
       "</style>\n",
       "<table border=\"1\" class=\"dataframe\">\n",
       "  <thead>\n",
       "    <tr style=\"text-align: right;\">\n",
       "      <th></th>\n",
       "      <th>구분</th>\n",
       "      <th>학교급</th>\n",
       "      <th>지역</th>\n",
       "      <th>교육청</th>\n",
       "      <th>설립유형</th>\n",
       "      <th>사고자구분</th>\n",
       "      <th>사고자성별</th>\n",
       "      <th>사고자학년</th>\n",
       "      <th>사고발생요일</th>\n",
       "      <th>사고발생시각</th>\n",
       "      <th>사고시간</th>\n",
       "      <th>사고장소</th>\n",
       "      <th>사고부위</th>\n",
       "      <th>사고형태</th>\n",
       "      <th>사고당시활동</th>\n",
       "      <th>사고매개물</th>\n",
       "      <th>연도</th>\n",
       "    </tr>\n",
       "    <tr>\n",
       "      <th>사고발생일</th>\n",
       "      <th></th>\n",
       "      <th></th>\n",
       "      <th></th>\n",
       "      <th></th>\n",
       "      <th></th>\n",
       "      <th></th>\n",
       "      <th></th>\n",
       "      <th></th>\n",
       "      <th></th>\n",
       "      <th></th>\n",
       "      <th></th>\n",
       "      <th></th>\n",
       "      <th></th>\n",
       "      <th></th>\n",
       "      <th></th>\n",
       "      <th></th>\n",
       "      <th></th>\n",
       "    </tr>\n",
       "  </thead>\n",
       "  <tbody>\n",
       "    <tr>\n",
       "      <th>2023-05-12</th>\n",
       "      <td>1488</td>\n",
       "      <td>1488</td>\n",
       "      <td>1488</td>\n",
       "      <td>1488</td>\n",
       "      <td>1488</td>\n",
       "      <td>1488</td>\n",
       "      <td>1488</td>\n",
       "      <td>1486</td>\n",
       "      <td>1488</td>\n",
       "      <td>1488</td>\n",
       "      <td>1488</td>\n",
       "      <td>1488</td>\n",
       "      <td>1488</td>\n",
       "      <td>1488</td>\n",
       "      <td>1488</td>\n",
       "      <td>1488</td>\n",
       "      <td>1488</td>\n",
       "    </tr>\n",
       "    <tr>\n",
       "      <th>2023-05-19</th>\n",
       "      <td>1473</td>\n",
       "      <td>1473</td>\n",
       "      <td>1473</td>\n",
       "      <td>1473</td>\n",
       "      <td>1473</td>\n",
       "      <td>1473</td>\n",
       "      <td>1473</td>\n",
       "      <td>1465</td>\n",
       "      <td>1473</td>\n",
       "      <td>1473</td>\n",
       "      <td>1473</td>\n",
       "      <td>1473</td>\n",
       "      <td>1473</td>\n",
       "      <td>1473</td>\n",
       "      <td>1473</td>\n",
       "      <td>1473</td>\n",
       "      <td>1473</td>\n",
       "    </tr>\n",
       "    <tr>\n",
       "      <th>2023-05-11</th>\n",
       "      <td>1463</td>\n",
       "      <td>1463</td>\n",
       "      <td>1463</td>\n",
       "      <td>1463</td>\n",
       "      <td>1463</td>\n",
       "      <td>1463</td>\n",
       "      <td>1463</td>\n",
       "      <td>1457</td>\n",
       "      <td>1463</td>\n",
       "      <td>1463</td>\n",
       "      <td>1463</td>\n",
       "      <td>1463</td>\n",
       "      <td>1463</td>\n",
       "      <td>1463</td>\n",
       "      <td>1463</td>\n",
       "      <td>1463</td>\n",
       "      <td>1463</td>\n",
       "    </tr>\n",
       "    <tr>\n",
       "      <th>2023-09-21</th>\n",
       "      <td>1381</td>\n",
       "      <td>1381</td>\n",
       "      <td>1381</td>\n",
       "      <td>1381</td>\n",
       "      <td>1381</td>\n",
       "      <td>1381</td>\n",
       "      <td>1381</td>\n",
       "      <td>1378</td>\n",
       "      <td>1381</td>\n",
       "      <td>1381</td>\n",
       "      <td>1381</td>\n",
       "      <td>1381</td>\n",
       "      <td>1381</td>\n",
       "      <td>1381</td>\n",
       "      <td>1381</td>\n",
       "      <td>1381</td>\n",
       "      <td>1381</td>\n",
       "    </tr>\n",
       "    <tr>\n",
       "      <th>2023-10-26</th>\n",
       "      <td>1350</td>\n",
       "      <td>1350</td>\n",
       "      <td>1350</td>\n",
       "      <td>1350</td>\n",
       "      <td>1350</td>\n",
       "      <td>1350</td>\n",
       "      <td>1350</td>\n",
       "      <td>1345</td>\n",
       "      <td>1350</td>\n",
       "      <td>1350</td>\n",
       "      <td>1350</td>\n",
       "      <td>1350</td>\n",
       "      <td>1350</td>\n",
       "      <td>1350</td>\n",
       "      <td>1350</td>\n",
       "      <td>1350</td>\n",
       "      <td>1350</td>\n",
       "    </tr>\n",
       "    <tr>\n",
       "      <th>...</th>\n",
       "      <td>...</td>\n",
       "      <td>...</td>\n",
       "      <td>...</td>\n",
       "      <td>...</td>\n",
       "      <td>...</td>\n",
       "      <td>...</td>\n",
       "      <td>...</td>\n",
       "      <td>...</td>\n",
       "      <td>...</td>\n",
       "      <td>...</td>\n",
       "      <td>...</td>\n",
       "      <td>...</td>\n",
       "      <td>...</td>\n",
       "      <td>...</td>\n",
       "      <td>...</td>\n",
       "      <td>...</td>\n",
       "      <td>...</td>\n",
       "    </tr>\n",
       "    <tr>\n",
       "      <th>2023-06-19</th>\n",
       "      <td>989</td>\n",
       "      <td>989</td>\n",
       "      <td>989</td>\n",
       "      <td>989</td>\n",
       "      <td>989</td>\n",
       "      <td>989</td>\n",
       "      <td>989</td>\n",
       "      <td>988</td>\n",
       "      <td>989</td>\n",
       "      <td>989</td>\n",
       "      <td>989</td>\n",
       "      <td>989</td>\n",
       "      <td>989</td>\n",
       "      <td>989</td>\n",
       "      <td>989</td>\n",
       "      <td>989</td>\n",
       "      <td>989</td>\n",
       "    </tr>\n",
       "    <tr>\n",
       "      <th>2023-11-20</th>\n",
       "      <td>982</td>\n",
       "      <td>982</td>\n",
       "      <td>982</td>\n",
       "      <td>982</td>\n",
       "      <td>982</td>\n",
       "      <td>982</td>\n",
       "      <td>982</td>\n",
       "      <td>980</td>\n",
       "      <td>982</td>\n",
       "      <td>982</td>\n",
       "      <td>982</td>\n",
       "      <td>982</td>\n",
       "      <td>982</td>\n",
       "      <td>982</td>\n",
       "      <td>982</td>\n",
       "      <td>982</td>\n",
       "      <td>982</td>\n",
       "    </tr>\n",
       "    <tr>\n",
       "      <th>2023-11-28</th>\n",
       "      <td>981</td>\n",
       "      <td>981</td>\n",
       "      <td>981</td>\n",
       "      <td>981</td>\n",
       "      <td>981</td>\n",
       "      <td>981</td>\n",
       "      <td>981</td>\n",
       "      <td>980</td>\n",
       "      <td>981</td>\n",
       "      <td>981</td>\n",
       "      <td>981</td>\n",
       "      <td>981</td>\n",
       "      <td>981</td>\n",
       "      <td>981</td>\n",
       "      <td>981</td>\n",
       "      <td>981</td>\n",
       "      <td>981</td>\n",
       "    </tr>\n",
       "    <tr>\n",
       "      <th>2023-03-23</th>\n",
       "      <td>978</td>\n",
       "      <td>978</td>\n",
       "      <td>978</td>\n",
       "      <td>978</td>\n",
       "      <td>978</td>\n",
       "      <td>978</td>\n",
       "      <td>978</td>\n",
       "      <td>976</td>\n",
       "      <td>978</td>\n",
       "      <td>978</td>\n",
       "      <td>978</td>\n",
       "      <td>978</td>\n",
       "      <td>978</td>\n",
       "      <td>978</td>\n",
       "      <td>978</td>\n",
       "      <td>978</td>\n",
       "      <td>978</td>\n",
       "    </tr>\n",
       "    <tr>\n",
       "      <th>2023-11-22</th>\n",
       "      <td>966</td>\n",
       "      <td>966</td>\n",
       "      <td>966</td>\n",
       "      <td>966</td>\n",
       "      <td>966</td>\n",
       "      <td>966</td>\n",
       "      <td>966</td>\n",
       "      <td>962</td>\n",
       "      <td>966</td>\n",
       "      <td>966</td>\n",
       "      <td>966</td>\n",
       "      <td>966</td>\n",
       "      <td>966</td>\n",
       "      <td>966</td>\n",
       "      <td>966</td>\n",
       "      <td>966</td>\n",
       "      <td>966</td>\n",
       "    </tr>\n",
       "  </tbody>\n",
       "</table>\n",
       "<p>100 rows × 17 columns</p>\n",
       "</div>"
      ],
      "text/plain": [
       "              구분   학교급    지역   교육청  설립유형  사고자구분  사고자성별  사고자학년  사고발생요일  사고발생시각  \\\n",
       "사고발생일                                                                           \n",
       "2023-05-12  1488  1488  1488  1488  1488   1488   1488   1486    1488    1488   \n",
       "2023-05-19  1473  1473  1473  1473  1473   1473   1473   1465    1473    1473   \n",
       "2023-05-11  1463  1463  1463  1463  1463   1463   1463   1457    1463    1463   \n",
       "2023-09-21  1381  1381  1381  1381  1381   1381   1381   1378    1381    1381   \n",
       "2023-10-26  1350  1350  1350  1350  1350   1350   1350   1345    1350    1350   \n",
       "...          ...   ...   ...   ...   ...    ...    ...    ...     ...     ...   \n",
       "2023-06-19   989   989   989   989   989    989    989    988     989     989   \n",
       "2023-11-20   982   982   982   982   982    982    982    980     982     982   \n",
       "2023-11-28   981   981   981   981   981    981    981    980     981     981   \n",
       "2023-03-23   978   978   978   978   978    978    978    976     978     978   \n",
       "2023-11-22   966   966   966   966   966    966    966    962     966     966   \n",
       "\n",
       "            사고시간  사고장소  사고부위  사고형태  사고당시활동  사고매개물    연도  \n",
       "사고발생일                                                    \n",
       "2023-05-12  1488  1488  1488  1488    1488   1488  1488  \n",
       "2023-05-19  1473  1473  1473  1473    1473   1473  1473  \n",
       "2023-05-11  1463  1463  1463  1463    1463   1463  1463  \n",
       "2023-09-21  1381  1381  1381  1381    1381   1381  1381  \n",
       "2023-10-26  1350  1350  1350  1350    1350   1350  1350  \n",
       "...          ...   ...   ...   ...     ...    ...   ...  \n",
       "2023-06-19   989   989   989   989     989    989   989  \n",
       "2023-11-20   982   982   982   982     982    982   982  \n",
       "2023-11-28   981   981   981   981     981    981   981  \n",
       "2023-03-23   978   978   978   978     978    978   978  \n",
       "2023-11-22   966   966   966   966     966    966   966  \n",
       "\n",
       "[100 rows x 17 columns]"
      ]
     },
     "execution_count": 68,
     "metadata": {},
     "output_type": "execute_result"
    }
   ],
   "source": [
    "df_2023.groupby('사고발생일').count().sort_values('구분',ascending=False)"
   ]
  },
  {
   "cell_type": "code",
   "execution_count": 56,
   "metadata": {},
   "outputs": [
    {
     "data": {
      "text/html": [
       "<div>\n",
       "<style scoped>\n",
       "    .dataframe tbody tr th:only-of-type {\n",
       "        vertical-align: middle;\n",
       "    }\n",
       "\n",
       "    .dataframe tbody tr th {\n",
       "        vertical-align: top;\n",
       "    }\n",
       "\n",
       "    .dataframe thead th {\n",
       "        text-align: right;\n",
       "    }\n",
       "</style>\n",
       "<table border=\"1\" class=\"dataframe\">\n",
       "  <thead>\n",
       "    <tr style=\"text-align: right;\">\n",
       "      <th></th>\n",
       "      <th>사고장소</th>\n",
       "      <th>구분</th>\n",
       "      <th>하루평균발생건수</th>\n",
       "    </tr>\n",
       "  </thead>\n",
       "  <tbody>\n",
       "    <tr>\n",
       "      <th>0</th>\n",
       "      <td>교실</td>\n",
       "      <td>101136</td>\n",
       "      <td>55.42</td>\n",
       "    </tr>\n",
       "    <tr>\n",
       "      <th>1</th>\n",
       "      <td>교외</td>\n",
       "      <td>10084</td>\n",
       "      <td>5.53</td>\n",
       "    </tr>\n",
       "    <tr>\n",
       "      <th>2</th>\n",
       "      <td>교외활동</td>\n",
       "      <td>15910</td>\n",
       "      <td>8.72</td>\n",
       "    </tr>\n",
       "    <tr>\n",
       "      <th>3</th>\n",
       "      <td>부속시설</td>\n",
       "      <td>201897</td>\n",
       "      <td>110.63</td>\n",
       "    </tr>\n",
       "    <tr>\n",
       "      <th>4</th>\n",
       "      <td>운동장</td>\n",
       "      <td>199856</td>\n",
       "      <td>109.51</td>\n",
       "    </tr>\n",
       "    <tr>\n",
       "      <th>5</th>\n",
       "      <td>통로</td>\n",
       "      <td>83077</td>\n",
       "      <td>45.52</td>\n",
       "    </tr>\n",
       "  </tbody>\n",
       "</table>\n",
       "</div>"
      ],
      "text/plain": [
       "   사고장소      구분  하루평균발생건수\n",
       "0    교실  101136     55.42\n",
       "1    교외   10084      5.53\n",
       "2  교외활동   15910      8.72\n",
       "3  부속시설  201897    110.63\n",
       "4   운동장  199856    109.51\n",
       "5    통로   83077     45.52"
      ]
     },
     "execution_count": 56,
     "metadata": {},
     "output_type": "execute_result"
    }
   ],
   "source": [
    "## 5개년 비교 필요 없을듯?\n",
    "acc_spot_one_day = df.groupby(['사고장소']).count()[['구분']].reset_index()\n",
    "acc_spot_one_day['하루평균발생건수'] = round(acc_spot_one_day['구분']/(365*5),2)\n",
    "acc_spot_one_day"
   ]
  },
  {
   "cell_type": "code",
   "execution_count": 88,
   "metadata": {},
   "outputs": [
    {
     "data": {
      "text/html": [
       "<div>\n",
       "<style scoped>\n",
       "    .dataframe tbody tr th:only-of-type {\n",
       "        vertical-align: middle;\n",
       "    }\n",
       "\n",
       "    .dataframe tbody tr th {\n",
       "        vertical-align: top;\n",
       "    }\n",
       "\n",
       "    .dataframe thead th {\n",
       "        text-align: right;\n",
       "    }\n",
       "</style>\n",
       "<table border=\"1\" class=\"dataframe\">\n",
       "  <thead>\n",
       "    <tr style=\"text-align: right;\">\n",
       "      <th></th>\n",
       "      <th>사고장소</th>\n",
       "      <th>총사고수</th>\n",
       "      <th>하루평균발생사고수</th>\n",
       "    </tr>\n",
       "  </thead>\n",
       "  <tbody>\n",
       "    <tr>\n",
       "      <th>0</th>\n",
       "      <td>교실</td>\n",
       "      <td>29852</td>\n",
       "      <td>81.79</td>\n",
       "    </tr>\n",
       "    <tr>\n",
       "      <th>1</th>\n",
       "      <td>교외</td>\n",
       "      <td>9793</td>\n",
       "      <td>26.83</td>\n",
       "    </tr>\n",
       "    <tr>\n",
       "      <th>2</th>\n",
       "      <td>부속시설</td>\n",
       "      <td>69539</td>\n",
       "      <td>190.52</td>\n",
       "    </tr>\n",
       "    <tr>\n",
       "      <th>3</th>\n",
       "      <td>운동장</td>\n",
       "      <td>54015</td>\n",
       "      <td>147.99</td>\n",
       "    </tr>\n",
       "    <tr>\n",
       "      <th>4</th>\n",
       "      <td>통로</td>\n",
       "      <td>25085</td>\n",
       "      <td>68.73</td>\n",
       "    </tr>\n",
       "  </tbody>\n",
       "</table>\n",
       "</div>"
      ],
      "text/plain": [
       "   사고장소   총사고수  하루평균발생사고수\n",
       "0    교실  29852      81.79\n",
       "1    교외   9793      26.83\n",
       "2  부속시설  69539     190.52\n",
       "3   운동장  54015     147.99\n",
       "4    통로  25085      68.73"
      ]
     },
     "execution_count": 88,
     "metadata": {},
     "output_type": "execute_result"
    }
   ],
   "source": [
    "acc_spot_oneday_2023 = df_2023.groupby(['사고장소']).count()[['구분']].reset_index()\n",
    "acc_spot_oneday_2023['하루평균발생사고수'] = round(acc_spot_oneday_2023['구분']/365,2)\n",
    "acc_spot_oneday_2023.columns = ['사고장소','총사고수','하루평균발생사고수']\n",
    "acc_spot_oneday_2023"
   ]
  },
  {
   "cell_type": "code",
   "execution_count": 90,
   "metadata": {},
   "outputs": [
    {
     "data": {
      "text/plain": [
       "'교실'"
      ]
     },
     "execution_count": 90,
     "metadata": {},
     "output_type": "execute_result"
    }
   ],
   "source": [
    "acc_spot_oneday_2023.iloc[0,0]"
   ]
  },
  {
   "cell_type": "code",
   "execution_count": 24,
   "metadata": {},
   "outputs": [],
   "source": [
    "def get_grouped_count(df,col,year):\n",
    "    new_df = df.groupby(col).count()[['구분']]\n",
    "    new_df['퍼센트'] = round(new_df/new_df.sum()*100,3)\n",
    "    new_df.reset_index(inplace=True)\n",
    "    new_df.columns = [col,'사고건수','퍼센트']\n",
    "    new_df['연도'] = year\n",
    "    new_df.sort_values('사고건수',ascending=False,inplace=True)\n",
    "    return new_df"
   ]
  },
  {
   "cell_type": "code",
   "execution_count": 4,
   "metadata": {},
   "outputs": [
    {
     "data": {
      "text/html": [
       "<div>\n",
       "<style scoped>\n",
       "    .dataframe tbody tr th:only-of-type {\n",
       "        vertical-align: middle;\n",
       "    }\n",
       "\n",
       "    .dataframe tbody tr th {\n",
       "        vertical-align: top;\n",
       "    }\n",
       "\n",
       "    .dataframe thead th {\n",
       "        text-align: right;\n",
       "    }\n",
       "</style>\n",
       "<table border=\"1\" class=\"dataframe\">\n",
       "  <thead>\n",
       "    <tr style=\"text-align: right;\">\n",
       "      <th></th>\n",
       "      <th>사고장소</th>\n",
       "      <th>사고건수</th>\n",
       "      <th>퍼센트</th>\n",
       "      <th>연도</th>\n",
       "    </tr>\n",
       "  </thead>\n",
       "  <tbody>\n",
       "    <tr>\n",
       "      <th>0</th>\n",
       "      <td>교실</td>\n",
       "      <td>24471</td>\n",
       "      <td>17.610</td>\n",
       "      <td>2019</td>\n",
       "    </tr>\n",
       "    <tr>\n",
       "      <th>1</th>\n",
       "      <td>교외</td>\n",
       "      <td>1</td>\n",
       "      <td>0.001</td>\n",
       "      <td>2019</td>\n",
       "    </tr>\n",
       "    <tr>\n",
       "      <th>2</th>\n",
       "      <td>교외활동</td>\n",
       "      <td>5781</td>\n",
       "      <td>4.160</td>\n",
       "      <td>2019</td>\n",
       "    </tr>\n",
       "    <tr>\n",
       "      <th>3</th>\n",
       "      <td>부속시설</td>\n",
       "      <td>37260</td>\n",
       "      <td>26.813</td>\n",
       "      <td>2019</td>\n",
       "    </tr>\n",
       "    <tr>\n",
       "      <th>4</th>\n",
       "      <td>운동장</td>\n",
       "      <td>50750</td>\n",
       "      <td>36.521</td>\n",
       "      <td>2019</td>\n",
       "    </tr>\n",
       "    <tr>\n",
       "      <th>5</th>\n",
       "      <td>통로</td>\n",
       "      <td>20700</td>\n",
       "      <td>14.896</td>\n",
       "      <td>2019</td>\n",
       "    </tr>\n",
       "    <tr>\n",
       "      <th>0</th>\n",
       "      <td>교실</td>\n",
       "      <td>7802</td>\n",
       "      <td>19.774</td>\n",
       "      <td>2020</td>\n",
       "    </tr>\n",
       "    <tr>\n",
       "      <th>1</th>\n",
       "      <td>교외</td>\n",
       "      <td>1</td>\n",
       "      <td>0.003</td>\n",
       "      <td>2020</td>\n",
       "    </tr>\n",
       "    <tr>\n",
       "      <th>2</th>\n",
       "      <td>교외활동</td>\n",
       "      <td>1388</td>\n",
       "      <td>3.518</td>\n",
       "      <td>2020</td>\n",
       "    </tr>\n",
       "    <tr>\n",
       "      <th>3</th>\n",
       "      <td>부속시설</td>\n",
       "      <td>13327</td>\n",
       "      <td>33.778</td>\n",
       "      <td>2020</td>\n",
       "    </tr>\n",
       "    <tr>\n",
       "      <th>4</th>\n",
       "      <td>운동장</td>\n",
       "      <td>11850</td>\n",
       "      <td>30.034</td>\n",
       "      <td>2020</td>\n",
       "    </tr>\n",
       "    <tr>\n",
       "      <th>5</th>\n",
       "      <td>통로</td>\n",
       "      <td>5087</td>\n",
       "      <td>12.893</td>\n",
       "      <td>2020</td>\n",
       "    </tr>\n",
       "    <tr>\n",
       "      <th>0</th>\n",
       "      <td>교실</td>\n",
       "      <td>15624</td>\n",
       "      <td>16.506</td>\n",
       "      <td>2021</td>\n",
       "    </tr>\n",
       "    <tr>\n",
       "      <th>1</th>\n",
       "      <td>교외</td>\n",
       "      <td>9</td>\n",
       "      <td>0.010</td>\n",
       "      <td>2021</td>\n",
       "    </tr>\n",
       "    <tr>\n",
       "      <th>2</th>\n",
       "      <td>교외활동</td>\n",
       "      <td>3034</td>\n",
       "      <td>3.205</td>\n",
       "      <td>2021</td>\n",
       "    </tr>\n",
       "    <tr>\n",
       "      <th>3</th>\n",
       "      <td>부속시설</td>\n",
       "      <td>34130</td>\n",
       "      <td>36.056</td>\n",
       "      <td>2021</td>\n",
       "    </tr>\n",
       "    <tr>\n",
       "      <th>4</th>\n",
       "      <td>운동장</td>\n",
       "      <td>29450</td>\n",
       "      <td>31.112</td>\n",
       "      <td>2021</td>\n",
       "    </tr>\n",
       "    <tr>\n",
       "      <th>5</th>\n",
       "      <td>통로</td>\n",
       "      <td>12412</td>\n",
       "      <td>13.112</td>\n",
       "      <td>2021</td>\n",
       "    </tr>\n",
       "    <tr>\n",
       "      <th>0</th>\n",
       "      <td>교실</td>\n",
       "      <td>23387</td>\n",
       "      <td>15.529</td>\n",
       "      <td>2022</td>\n",
       "    </tr>\n",
       "    <tr>\n",
       "      <th>1</th>\n",
       "      <td>교외</td>\n",
       "      <td>280</td>\n",
       "      <td>0.186</td>\n",
       "      <td>2022</td>\n",
       "    </tr>\n",
       "    <tr>\n",
       "      <th>2</th>\n",
       "      <td>교외활동</td>\n",
       "      <td>5707</td>\n",
       "      <td>3.790</td>\n",
       "      <td>2022</td>\n",
       "    </tr>\n",
       "    <tr>\n",
       "      <th>3</th>\n",
       "      <td>부속시설</td>\n",
       "      <td>47641</td>\n",
       "      <td>31.634</td>\n",
       "      <td>2022</td>\n",
       "    </tr>\n",
       "    <tr>\n",
       "      <th>4</th>\n",
       "      <td>운동장</td>\n",
       "      <td>53791</td>\n",
       "      <td>35.718</td>\n",
       "      <td>2022</td>\n",
       "    </tr>\n",
       "    <tr>\n",
       "      <th>5</th>\n",
       "      <td>통로</td>\n",
       "      <td>19793</td>\n",
       "      <td>13.143</td>\n",
       "      <td>2022</td>\n",
       "    </tr>\n",
       "    <tr>\n",
       "      <th>0</th>\n",
       "      <td>교실</td>\n",
       "      <td>29852</td>\n",
       "      <td>15.855</td>\n",
       "      <td>2023</td>\n",
       "    </tr>\n",
       "    <tr>\n",
       "      <th>1</th>\n",
       "      <td>교외</td>\n",
       "      <td>9793</td>\n",
       "      <td>5.201</td>\n",
       "      <td>2023</td>\n",
       "    </tr>\n",
       "    <tr>\n",
       "      <th>2</th>\n",
       "      <td>부속시설</td>\n",
       "      <td>69539</td>\n",
       "      <td>36.933</td>\n",
       "      <td>2023</td>\n",
       "    </tr>\n",
       "    <tr>\n",
       "      <th>3</th>\n",
       "      <td>운동장</td>\n",
       "      <td>54015</td>\n",
       "      <td>28.688</td>\n",
       "      <td>2023</td>\n",
       "    </tr>\n",
       "    <tr>\n",
       "      <th>4</th>\n",
       "      <td>통로</td>\n",
       "      <td>25085</td>\n",
       "      <td>13.323</td>\n",
       "      <td>2023</td>\n",
       "    </tr>\n",
       "  </tbody>\n",
       "</table>\n",
       "</div>"
      ],
      "text/plain": [
       "   사고장소   사고건수     퍼센트    연도\n",
       "0    교실  24471  17.610  2019\n",
       "1    교외      1   0.001  2019\n",
       "2  교외활동   5781   4.160  2019\n",
       "3  부속시설  37260  26.813  2019\n",
       "4   운동장  50750  36.521  2019\n",
       "5    통로  20700  14.896  2019\n",
       "0    교실   7802  19.774  2020\n",
       "1    교외      1   0.003  2020\n",
       "2  교외활동   1388   3.518  2020\n",
       "3  부속시설  13327  33.778  2020\n",
       "4   운동장  11850  30.034  2020\n",
       "5    통로   5087  12.893  2020\n",
       "0    교실  15624  16.506  2021\n",
       "1    교외      9   0.010  2021\n",
       "2  교외활동   3034   3.205  2021\n",
       "3  부속시설  34130  36.056  2021\n",
       "4   운동장  29450  31.112  2021\n",
       "5    통로  12412  13.112  2021\n",
       "0    교실  23387  15.529  2022\n",
       "1    교외    280   0.186  2022\n",
       "2  교외활동   5707   3.790  2022\n",
       "3  부속시설  47641  31.634  2022\n",
       "4   운동장  53791  35.718  2022\n",
       "5    통로  19793  13.143  2022\n",
       "0    교실  29852  15.855  2023\n",
       "1    교외   9793   5.201  2023\n",
       "2  부속시설  69539  36.933  2023\n",
       "3   운동장  54015  28.688  2023\n",
       "4    통로  25085  13.323  2023"
      ]
     },
     "execution_count": 4,
     "metadata": {},
     "output_type": "execute_result"
    }
   ],
   "source": [
    "acc_spot_2019 = get_grouped_count(df_2019,'사고장소',2019)\n",
    "acc_spot_2020 = get_grouped_count(df_2020,'사고장소',2020)\n",
    "acc_spot_2021 = get_grouped_count(df_2021,'사고장소',2021)\n",
    "acc_spot_2022 = get_grouped_count(df_2022,'사고장소',2022)\n",
    "acc_spot_2023 = get_grouped_count(df_2023,'사고장소',2023)\n",
    "\n",
    "acc_spot = pd.concat([acc_spot_2019,acc_spot_2020,acc_spot_2021,acc_spot_2022,acc_spot_2023])\n",
    "acc_spot"
   ]
  },
  {
   "cell_type": "markdown",
   "metadata": {},
   "source": [
    "## "
   ]
  },
  {
   "cell_type": "code",
   "execution_count": 5,
   "metadata": {},
   "outputs": [],
   "source": [
    "# import matplotlib.pyplot as plt\n",
    "# import numpy as np\n",
    "# from matplotlib import rc\n",
    "# import seaborn as sns\n",
    "# import matplotlib.font_manager as fm\n",
    "\n",
    "# plt.rcParams['axes.unicode_minus'] = False\n",
    "# rc('font', family='NanumBarunGothic')\n",
    "# sns.set_theme(style=\"whitegrid\",font=\"NanumBarunGothic\",font_scale=1.6,\n",
    "#               rc={\"axes.unicode_minus\":False})"
   ]
  },
  {
   "cell_type": "code",
   "execution_count": null,
   "metadata": {},
   "outputs": [],
   "source": [
    "# go 모듈 사용\n",
    "# import plotly.graph_objects as go\n",
    "# animals=['giraffes', 'orangutans', 'monkeys']\n",
    "\n",
    "# fig = go.Figure(data=[\n",
    "#     go.Bar(name='SF Zoo', x=animals, y=[20, 14, 23]),\n",
    "#     go.Bar(name='LA Zoo', x=animals, y=[12, 18, 29])\n",
    "# ])\n",
    "# # Change the bar mode\n",
    "# fig.update_layout(barmode='group')\n",
    "# fig.show()"
   ]
  },
  {
   "cell_type": "code",
   "execution_count": null,
   "metadata": {},
   "outputs": [],
   "source": [
    "# px 모듈 사용\n",
    "# import plotly.express as px\n",
    "\n",
    "# palette = [\n",
    "#     \"#231942\",\n",
    "#     \"#5e548e\",\n",
    "#     \"#9f86c0\",\n",
    "#     \"#be95c4\",\n",
    "#     \"#e0b1cb\"\n",
    "# ]\n",
    "\n",
    "# fig = px.histogram(acc_spot, x=\"사고장소\", y=\"사고건수\",\n",
    "#              color='연도', barmode='group',\n",
    "#              height=500,\n",
    "#              width=1200,\n",
    "#              color_discrete_sequence=palette,\n",
    "#              hover_name=\"연도\")\n",
    "\n",
    "# fig.update_traces(\n",
    "#              hovertemplate='사고건수: %{y}건'+'<br>사고장소: %{x}')\n",
    "\n",
    "# fig.update_layout(\n",
    "#             font=dict({'family':'KoPubWorld돋움체_Pro',\n",
    "#                       'color':'black'}), #전체 폰트 설정(로컬 폰트 사용 가능)\n",
    "#             hoverlabel=dict(        #호버 박스 폰트 설정\n",
    "#                 # bgcolor=\"white\",\n",
    "#                 font_size=15,\n",
    "#                 font_family=\"KoPubWorld돋움체_Pro\"\n",
    "#             ),\n",
    "#             paper_bgcolor='white',  # 전체 배경색\n",
    "#             plot_bgcolor='white',    # 플롯 배경색\n",
    "#             # yaxis_ticksuffix=\" \",\n",
    "#             )\n",
    "\n",
    "\n",
    "# # legend bold처리\n",
    "# # fig.for_each_trace(lambda t: t.update(name = '<b>' + t.name +'</b>'))\n",
    "\n",
    "# fig.update_xaxes(title=' ',\n",
    "#                  title_font_family='KoPubWorld돋움체 Medium',\n",
    "#                  tickfont=dict(size=17))\n",
    "\n",
    "# fig.update_yaxes(title=' ',\n",
    "#                  title_font_family='KoPubWorld돋움체 Medium',\n",
    "#                  tickformat=\"~2s\",\n",
    "#                  tickfont=dict({'size':15,'family':'KoPubWorld돋움체 Medium'})\n",
    "#                  )\n",
    "\n",
    "# fig.show()"
   ]
  },
  {
   "cell_type": "code",
   "execution_count": 9,
   "metadata": {},
   "outputs": [],
   "source": [
    "palette = [\n",
    "    \"#231942\",\n",
    "    \"#5e548e\",\n",
    "    \"#9f86c0\",\n",
    "    \"#be95c4\",\n",
    "    \"#e0b1cb\"\n",
    "]"
   ]
  },
  {
   "cell_type": "code",
   "execution_count": 10,
   "metadata": {},
   "outputs": [],
   "source": [
    "def make_px_chart(df,palette = [\"#231942\",\"#5e548e\",\"#9f86c0\",\"#be95c4\",\"#e0b1cb\"]):\n",
    "    fig = px.histogram(df, x=df.columns[0], y=df.columns[1],\n",
    "             color='연도', barmode='group',\n",
    "             height=500,\n",
    "             width=1200,\n",
    "             color_discrete_sequence=palette,\n",
    "             hover_name=\"연도\")\n",
    "\n",
    "    hover_text = df.columns[0] + ': %{x}<br>' + df.columns[1] + ': %{y}건'\n",
    "    fig.update_traces(\n",
    "                hovertemplate=hover_text)\n",
    "\n",
    "    fig.update_layout(\n",
    "                font=dict({'family':'KoPubWorld돋움체_Pro',\n",
    "                        'color':'black'}), #전체 폰트 설정(로컬 폰트 사용 가능)\n",
    "                hoverlabel=dict(        #호버 박스 폰트 설정\n",
    "                    # bgcolor=\"white\",\n",
    "                    font_size=15,\n",
    "                    font_family=\"KoPubWorld돋움체_Pro\"\n",
    "                ),\n",
    "                paper_bgcolor='white',  # 전체 배경색\n",
    "                plot_bgcolor='white',    # 플롯 배경색\n",
    "                # yaxis_ticksuffix=\" \",\n",
    "                )\n",
    "\n",
    "\n",
    "    # legend bold처리\n",
    "    # fig.for_each_trace(lambda t: t.update(name = '<b>' + t.name +'</b>'))\n",
    "\n",
    "    fig.update_xaxes(title=' ',\n",
    "                    title_font_family='KoPubWorld돋움체 Medium',\n",
    "                    tickfont=dict(size=17))\n",
    "\n",
    "    fig.update_yaxes(title=' ',\n",
    "                    title_font_family='KoPubWorld돋움체 Medium',\n",
    "                    tickformat=\"~2s\",\n",
    "                    tickfont=dict({'size':15,'family':'KoPubWorld돋움체 Medium'})\n",
    "                    )\n",
    "\n",
    "    fig.show()"
   ]
  },
  {
   "cell_type": "code",
   "execution_count": 11,
   "metadata": {},
   "outputs": [
    {
     "data": {
      "application/vnd.plotly.v1+json": {
       "config": {
        "plotlyServerURL": "https://plot.ly"
       },
       "data": [
        {
         "alignmentgroup": "True",
         "bingroup": "x",
         "histfunc": "sum",
         "hovertemplate": "사고장소: %{x}<br>사고건수: %{y}건",
         "legendgroup": "2019",
         "marker": {
          "color": "#231942",
          "pattern": {
           "shape": ""
          }
         },
         "name": "2019",
         "offsetgroup": "2019",
         "orientation": "v",
         "showlegend": true,
         "type": "histogram",
         "x": [
          "교실",
          "교외",
          "교외활동",
          "부속시설",
          "운동장",
          "통로"
         ],
         "xaxis": "x",
         "y": [
          24471,
          1,
          5781,
          37260,
          50750,
          20700
         ],
         "yaxis": "y"
        },
        {
         "alignmentgroup": "True",
         "bingroup": "x",
         "histfunc": "sum",
         "hovertemplate": "사고장소: %{x}<br>사고건수: %{y}건",
         "legendgroup": "2020",
         "marker": {
          "color": "#5e548e",
          "pattern": {
           "shape": ""
          }
         },
         "name": "2020",
         "offsetgroup": "2020",
         "orientation": "v",
         "showlegend": true,
         "type": "histogram",
         "x": [
          "교실",
          "교외",
          "교외활동",
          "부속시설",
          "운동장",
          "통로"
         ],
         "xaxis": "x",
         "y": [
          7802,
          1,
          1388,
          13327,
          11850,
          5087
         ],
         "yaxis": "y"
        },
        {
         "alignmentgroup": "True",
         "bingroup": "x",
         "histfunc": "sum",
         "hovertemplate": "사고장소: %{x}<br>사고건수: %{y}건",
         "legendgroup": "2021",
         "marker": {
          "color": "#9f86c0",
          "pattern": {
           "shape": ""
          }
         },
         "name": "2021",
         "offsetgroup": "2021",
         "orientation": "v",
         "showlegend": true,
         "type": "histogram",
         "x": [
          "교실",
          "교외",
          "교외활동",
          "부속시설",
          "운동장",
          "통로"
         ],
         "xaxis": "x",
         "y": [
          15624,
          9,
          3034,
          34130,
          29450,
          12412
         ],
         "yaxis": "y"
        },
        {
         "alignmentgroup": "True",
         "bingroup": "x",
         "histfunc": "sum",
         "hovertemplate": "사고장소: %{x}<br>사고건수: %{y}건",
         "legendgroup": "2022",
         "marker": {
          "color": "#be95c4",
          "pattern": {
           "shape": ""
          }
         },
         "name": "2022",
         "offsetgroup": "2022",
         "orientation": "v",
         "showlegend": true,
         "type": "histogram",
         "x": [
          "교실",
          "교외",
          "교외활동",
          "부속시설",
          "운동장",
          "통로"
         ],
         "xaxis": "x",
         "y": [
          23387,
          280,
          5707,
          47641,
          53791,
          19793
         ],
         "yaxis": "y"
        },
        {
         "alignmentgroup": "True",
         "bingroup": "x",
         "histfunc": "sum",
         "hovertemplate": "사고장소: %{x}<br>사고건수: %{y}건",
         "legendgroup": "2023",
         "marker": {
          "color": "#e0b1cb",
          "pattern": {
           "shape": ""
          }
         },
         "name": "2023",
         "offsetgroup": "2023",
         "orientation": "v",
         "showlegend": true,
         "type": "histogram",
         "x": [
          "교실",
          "교외",
          "부속시설",
          "운동장",
          "통로"
         ],
         "xaxis": "x",
         "y": [
          29852,
          9793,
          69539,
          54015,
          25085
         ],
         "yaxis": "y"
        }
       ],
       "layout": {
        "barmode": "group",
        "font": {
         "color": "black",
         "family": "KoPubWorld돋움체_Pro"
        },
        "height": 500,
        "hoverlabel": {
         "font": {
          "family": "KoPubWorld돋움체_Pro",
          "size": 15
         }
        },
        "legend": {
         "title": {
          "text": "연도"
         },
         "tracegroupgap": 0
        },
        "margin": {
         "t": 60
        },
        "paper_bgcolor": "white",
        "plot_bgcolor": "white",
        "template": {
         "data": {
          "candlestick": [
           {
            "decreasing": {
             "line": {
              "color": "#000033"
             }
            },
            "increasing": {
             "line": {
              "color": "#000032"
             }
            },
            "type": "candlestick"
           }
          ],
          "contour": [
           {
            "colorscale": [
             [
              0,
              "#000011"
             ],
             [
              0.1111111111111111,
              "#000012"
             ],
             [
              0.2222222222222222,
              "#000013"
             ],
             [
              0.3333333333333333,
              "#000014"
             ],
             [
              0.4444444444444444,
              "#000015"
             ],
             [
              0.5555555555555556,
              "#000016"
             ],
             [
              0.6666666666666666,
              "#000017"
             ],
             [
              0.7777777777777778,
              "#000018"
             ],
             [
              0.8888888888888888,
              "#000019"
             ],
             [
              1,
              "#000020"
             ]
            ],
            "type": "contour"
           }
          ],
          "contourcarpet": [
           {
            "colorscale": [
             [
              0,
              "#000011"
             ],
             [
              0.1111111111111111,
              "#000012"
             ],
             [
              0.2222222222222222,
              "#000013"
             ],
             [
              0.3333333333333333,
              "#000014"
             ],
             [
              0.4444444444444444,
              "#000015"
             ],
             [
              0.5555555555555556,
              "#000016"
             ],
             [
              0.6666666666666666,
              "#000017"
             ],
             [
              0.7777777777777778,
              "#000018"
             ],
             [
              0.8888888888888888,
              "#000019"
             ],
             [
              1,
              "#000020"
             ]
            ],
            "type": "contourcarpet"
           }
          ],
          "heatmap": [
           {
            "colorscale": [
             [
              0,
              "#000011"
             ],
             [
              0.1111111111111111,
              "#000012"
             ],
             [
              0.2222222222222222,
              "#000013"
             ],
             [
              0.3333333333333333,
              "#000014"
             ],
             [
              0.4444444444444444,
              "#000015"
             ],
             [
              0.5555555555555556,
              "#000016"
             ],
             [
              0.6666666666666666,
              "#000017"
             ],
             [
              0.7777777777777778,
              "#000018"
             ],
             [
              0.8888888888888888,
              "#000019"
             ],
             [
              1,
              "#000020"
             ]
            ],
            "type": "heatmap"
           }
          ],
          "histogram2d": [
           {
            "colorscale": [
             [
              0,
              "#000011"
             ],
             [
              0.1111111111111111,
              "#000012"
             ],
             [
              0.2222222222222222,
              "#000013"
             ],
             [
              0.3333333333333333,
              "#000014"
             ],
             [
              0.4444444444444444,
              "#000015"
             ],
             [
              0.5555555555555556,
              "#000016"
             ],
             [
              0.6666666666666666,
              "#000017"
             ],
             [
              0.7777777777777778,
              "#000018"
             ],
             [
              0.8888888888888888,
              "#000019"
             ],
             [
              1,
              "#000020"
             ]
            ],
            "type": "histogram2d"
           }
          ],
          "icicle": [
           {
            "textfont": {
             "color": "white"
            },
            "type": "icicle"
           }
          ],
          "sankey": [
           {
            "textfont": {
             "color": "#000036"
            },
            "type": "sankey"
           }
          ],
          "scatter": [
           {
            "marker": {
             "line": {
              "width": 0
             }
            },
            "type": "scatter"
           }
          ],
          "table": [
           {
            "cells": {
             "fill": {
              "color": "#000038"
             },
             "font": {
              "color": "#000037"
             },
             "line": {
              "color": "#000039"
             }
            },
            "header": {
             "fill": {
              "color": "#000040"
             },
             "font": {
              "color": "#000036"
             },
             "line": {
              "color": "#000039"
             }
            },
            "type": "table"
           }
          ],
          "waterfall": [
           {
            "connector": {
             "line": {
              "color": "#000036",
              "width": 2
             }
            },
            "decreasing": {
             "marker": {
              "color": "#000033"
             }
            },
            "increasing": {
             "marker": {
              "color": "#000032"
             }
            },
            "totals": {
             "marker": {
              "color": "#000034"
             }
            },
            "type": "waterfall"
           }
          ]
         },
         "layout": {
          "coloraxis": {
           "colorscale": [
            [
             0,
             "#000011"
            ],
            [
             0.1111111111111111,
             "#000012"
            ],
            [
             0.2222222222222222,
             "#000013"
            ],
            [
             0.3333333333333333,
             "#000014"
            ],
            [
             0.4444444444444444,
             "#000015"
            ],
            [
             0.5555555555555556,
             "#000016"
            ],
            [
             0.6666666666666666,
             "#000017"
            ],
            [
             0.7777777777777778,
             "#000018"
            ],
            [
             0.8888888888888888,
             "#000019"
            ],
            [
             1,
             "#000020"
            ]
           ]
          },
          "colorscale": {
           "diverging": [
            [
             0,
             "#000021"
            ],
            [
             0.1,
             "#000022"
            ],
            [
             0.2,
             "#000023"
            ],
            [
             0.3,
             "#000024"
            ],
            [
             0.4,
             "#000025"
            ],
            [
             0.5,
             "#000026"
            ],
            [
             0.6,
             "#000027"
            ],
            [
             0.7,
             "#000028"
            ],
            [
             0.8,
             "#000029"
            ],
            [
             0.9,
             "#000030"
            ],
            [
             1,
             "#000031"
            ]
           ],
           "sequential": [
            [
             0,
             "#000011"
            ],
            [
             0.1111111111111111,
             "#000012"
            ],
            [
             0.2222222222222222,
             "#000013"
            ],
            [
             0.3333333333333333,
             "#000014"
            ],
            [
             0.4444444444444444,
             "#000015"
            ],
            [
             0.5555555555555556,
             "#000016"
            ],
            [
             0.6666666666666666,
             "#000017"
            ],
            [
             0.7777777777777778,
             "#000018"
            ],
            [
             0.8888888888888888,
             "#000019"
            ],
            [
             1,
             "#000020"
            ]
           ],
           "sequentialminus": [
            [
             0,
             "#000011"
            ],
            [
             0.1111111111111111,
             "#000012"
            ],
            [
             0.2222222222222222,
             "#000013"
            ],
            [
             0.3333333333333333,
             "#000014"
            ],
            [
             0.4444444444444444,
             "#000015"
            ],
            [
             0.5555555555555556,
             "#000016"
            ],
            [
             0.6666666666666666,
             "#000017"
            ],
            [
             0.7777777777777778,
             "#000018"
            ],
            [
             0.8888888888888888,
             "#000019"
            ],
            [
             1,
             "#000020"
            ]
           ]
          },
          "colorway": [
           "#000001",
           "#000002",
           "#000003",
           "#000004",
           "#000005",
           "#000006",
           "#000007",
           "#000008",
           "#000009",
           "#000010"
          ]
         }
        },
        "width": 1200,
        "xaxis": {
         "anchor": "y",
         "domain": [
          0,
          1
         ],
         "tickfont": {
          "size": 17
         },
         "title": {
          "font": {
           "family": "KoPubWorld돋움체 Medium"
          },
          "text": " "
         }
        },
        "yaxis": {
         "anchor": "x",
         "domain": [
          0,
          1
         ],
         "tickfont": {
          "family": "KoPubWorld돋움체 Medium",
          "size": 15
         },
         "tickformat": "~2s",
         "title": {
          "font": {
           "family": "KoPubWorld돋움체 Medium"
          },
          "text": " "
         }
        }
       }
      }
     },
     "metadata": {},
     "output_type": "display_data"
    }
   ],
   "source": [
    "make_px_chart(acc_spot)"
   ]
  },
  {
   "cell_type": "code",
   "execution_count": 96,
   "metadata": {},
   "outputs": [
    {
     "data": {
      "image/png": "[encoded data removed]",
      "text/plain": [
       "<Figure size 1945x600 with 1 Axes>"
      ]
     },
     "metadata": {},
     "output_type": "display_data"
    }
   ],
   "source": [
    "g = sns.catplot(\n",
    "    data=acc_spot, kind=\"bar\",\n",
    "    x=\"사고장소\", y=\"사고건수\", hue=\"연도\",\n",
    "    errorbar=\"sd\", height=6, aspect=3\n",
    ")\n",
    "sns.color_palette(\"flare\")\n",
    "g.despine(left=True)\n",
    "g.set_axis_labels(\"\", \"사고건수\")\n",
    "g.legend.set_title(\"\")\n",
    "plt.show()"
   ]
  },
  {
   "cell_type": "markdown",
   "metadata": {},
   "source": [
    "하루평균 건수 사고부위 사고 형태"
   ]
  },
  {
   "cell_type": "code",
   "execution_count": 117,
   "metadata": {},
   "outputs": [],
   "source": [
    "def all_year_df(col):\n",
    "    df_list = []\n",
    "    val_name = [ f'acc_{y}' for y in range(2019,2024) ]\n",
    "    for y in range(2019,2024):\n",
    "        df_list.append(get_grouped_count(globals()['df_'+str(y)],col,str(y)))\n",
    "    df = pd.concat(df_list)\n",
    "    return df"
   ]
  },
  {
   "cell_type": "code",
   "execution_count": 26,
   "metadata": {},
   "outputs": [
    {
     "data": {
      "text/html": [
       "<div>\n",
       "<style scoped>\n",
       "    .dataframe tbody tr th:only-of-type {\n",
       "        vertical-align: middle;\n",
       "    }\n",
       "\n",
       "    .dataframe tbody tr th {\n",
       "        vertical-align: top;\n",
       "    }\n",
       "\n",
       "    .dataframe thead th {\n",
       "        text-align: right;\n",
       "    }\n",
       "</style>\n",
       "<table border=\"1\" class=\"dataframe\">\n",
       "  <thead>\n",
       "    <tr style=\"text-align: right;\">\n",
       "      <th></th>\n",
       "      <th>사고부위</th>\n",
       "      <th>사고건수</th>\n",
       "      <th>퍼센트</th>\n",
       "      <th>연도</th>\n",
       "    </tr>\n",
       "  </thead>\n",
       "  <tbody>\n",
       "    <tr>\n",
       "      <th>5</th>\n",
       "      <td>손</td>\n",
       "      <td>33034</td>\n",
       "      <td>23.772</td>\n",
       "      <td>2019</td>\n",
       "    </tr>\n",
       "    <tr>\n",
       "      <th>3</th>\n",
       "      <td>발</td>\n",
       "      <td>32330</td>\n",
       "      <td>23.265</td>\n",
       "      <td>2019</td>\n",
       "    </tr>\n",
       "    <tr>\n",
       "      <th>2</th>\n",
       "      <td>머리(두부)</td>\n",
       "      <td>27336</td>\n",
       "      <td>19.671</td>\n",
       "      <td>2019</td>\n",
       "    </tr>\n",
       "    <tr>\n",
       "      <th>1</th>\n",
       "      <td>다리</td>\n",
       "      <td>17858</td>\n",
       "      <td>12.851</td>\n",
       "      <td>2019</td>\n",
       "    </tr>\n",
       "    <tr>\n",
       "      <th>7</th>\n",
       "      <td>팔</td>\n",
       "      <td>13184</td>\n",
       "      <td>9.487</td>\n",
       "      <td>2019</td>\n",
       "    </tr>\n",
       "    <tr>\n",
       "      <th>3</th>\n",
       "      <td>발</td>\n",
       "      <td>10429</td>\n",
       "      <td>26.433</td>\n",
       "      <td>2020</td>\n",
       "    </tr>\n",
       "    <tr>\n",
       "      <th>5</th>\n",
       "      <td>손</td>\n",
       "      <td>9416</td>\n",
       "      <td>23.865</td>\n",
       "      <td>2020</td>\n",
       "    </tr>\n",
       "    <tr>\n",
       "      <th>2</th>\n",
       "      <td>머리(두부)</td>\n",
       "      <td>6315</td>\n",
       "      <td>16.006</td>\n",
       "      <td>2020</td>\n",
       "    </tr>\n",
       "    <tr>\n",
       "      <th>1</th>\n",
       "      <td>다리</td>\n",
       "      <td>3580</td>\n",
       "      <td>9.074</td>\n",
       "      <td>2020</td>\n",
       "    </tr>\n",
       "    <tr>\n",
       "      <th>4</th>\n",
       "      <td>복합부위</td>\n",
       "      <td>3482</td>\n",
       "      <td>8.825</td>\n",
       "      <td>2020</td>\n",
       "    </tr>\n",
       "    <tr>\n",
       "      <th>5</th>\n",
       "      <td>손</td>\n",
       "      <td>25614</td>\n",
       "      <td>27.059</td>\n",
       "      <td>2021</td>\n",
       "    </tr>\n",
       "    <tr>\n",
       "      <th>3</th>\n",
       "      <td>발</td>\n",
       "      <td>25336</td>\n",
       "      <td>26.766</td>\n",
       "      <td>2021</td>\n",
       "    </tr>\n",
       "    <tr>\n",
       "      <th>2</th>\n",
       "      <td>머리(두부)</td>\n",
       "      <td>13816</td>\n",
       "      <td>14.596</td>\n",
       "      <td>2021</td>\n",
       "    </tr>\n",
       "    <tr>\n",
       "      <th>4</th>\n",
       "      <td>복합부위</td>\n",
       "      <td>10483</td>\n",
       "      <td>11.074</td>\n",
       "      <td>2021</td>\n",
       "    </tr>\n",
       "    <tr>\n",
       "      <th>1</th>\n",
       "      <td>다리</td>\n",
       "      <td>7120</td>\n",
       "      <td>7.522</td>\n",
       "      <td>2021</td>\n",
       "    </tr>\n",
       "    <tr>\n",
       "      <th>5</th>\n",
       "      <td>손</td>\n",
       "      <td>41729</td>\n",
       "      <td>27.709</td>\n",
       "      <td>2022</td>\n",
       "    </tr>\n",
       "    <tr>\n",
       "      <th>3</th>\n",
       "      <td>발</td>\n",
       "      <td>39050</td>\n",
       "      <td>25.930</td>\n",
       "      <td>2022</td>\n",
       "    </tr>\n",
       "    <tr>\n",
       "      <th>2</th>\n",
       "      <td>머리(두부)</td>\n",
       "      <td>22374</td>\n",
       "      <td>14.857</td>\n",
       "      <td>2022</td>\n",
       "    </tr>\n",
       "    <tr>\n",
       "      <th>4</th>\n",
       "      <td>복합부위</td>\n",
       "      <td>15867</td>\n",
       "      <td>10.536</td>\n",
       "      <td>2022</td>\n",
       "    </tr>\n",
       "    <tr>\n",
       "      <th>1</th>\n",
       "      <td>다리</td>\n",
       "      <td>12318</td>\n",
       "      <td>8.179</td>\n",
       "      <td>2022</td>\n",
       "    </tr>\n",
       "    <tr>\n",
       "      <th>5</th>\n",
       "      <td>손</td>\n",
       "      <td>52373</td>\n",
       "      <td>27.816</td>\n",
       "      <td>2023</td>\n",
       "    </tr>\n",
       "    <tr>\n",
       "      <th>3</th>\n",
       "      <td>발</td>\n",
       "      <td>48661</td>\n",
       "      <td>25.844</td>\n",
       "      <td>2023</td>\n",
       "    </tr>\n",
       "    <tr>\n",
       "      <th>2</th>\n",
       "      <td>머리(두부)</td>\n",
       "      <td>27343</td>\n",
       "      <td>14.522</td>\n",
       "      <td>2023</td>\n",
       "    </tr>\n",
       "    <tr>\n",
       "      <th>4</th>\n",
       "      <td>복합부위</td>\n",
       "      <td>22365</td>\n",
       "      <td>11.878</td>\n",
       "      <td>2023</td>\n",
       "    </tr>\n",
       "    <tr>\n",
       "      <th>1</th>\n",
       "      <td>다리</td>\n",
       "      <td>15297</td>\n",
       "      <td>8.124</td>\n",
       "      <td>2023</td>\n",
       "    </tr>\n",
       "  </tbody>\n",
       "</table>\n",
       "</div>"
      ],
      "text/plain": [
       "     사고부위   사고건수     퍼센트    연도\n",
       "5       손  33034  23.772  2019\n",
       "3       발  32330  23.265  2019\n",
       "2  머리(두부)  27336  19.671  2019\n",
       "1      다리  17858  12.851  2019\n",
       "7       팔  13184   9.487  2019\n",
       "3       발  10429  26.433  2020\n",
       "5       손   9416  23.865  2020\n",
       "2  머리(두부)   6315  16.006  2020\n",
       "1      다리   3580   9.074  2020\n",
       "4    복합부위   3482   8.825  2020\n",
       "5       손  25614  27.059  2021\n",
       "3       발  25336  26.766  2021\n",
       "2  머리(두부)  13816  14.596  2021\n",
       "4    복합부위  10483  11.074  2021\n",
       "1      다리   7120   7.522  2021\n",
       "5       손  41729  27.709  2022\n",
       "3       발  39050  25.930  2022\n",
       "2  머리(두부)  22374  14.857  2022\n",
       "4    복합부위  15867  10.536  2022\n",
       "1      다리  12318   8.179  2022\n",
       "5       손  52373  27.816  2023\n",
       "3       발  48661  25.844  2023\n",
       "2  머리(두부)  27343  14.522  2023\n",
       "4    복합부위  22365  11.878  2023\n",
       "1      다리  15297   8.124  2023"
      ]
     },
     "execution_count": 26,
     "metadata": {},
     "output_type": "execute_result"
    }
   ],
   "source": [
    "acc_body_2019 = get_grouped_count(df_2019,'사고부위',2019).head(5)\n",
    "acc_body_2020 = get_grouped_count(df_2020,'사고부위',2020).head(5)\n",
    "acc_body_2021 = get_grouped_count(df_2021,'사고부위',2021).head(5)\n",
    "acc_body_2022 = get_grouped_count(df_2022,'사고부위',2022).head(5)\n",
    "acc_body_2023 = get_grouped_count(df_2023,'사고부위',2023).head(5)\n",
    "\n",
    "acc_body = pd.concat([acc_body_2019,acc_body_2020,acc_body_2021,acc_body_2022,acc_body_2023])\n",
    "acc_body"
   ]
  },
  {
   "cell_type": "code",
   "execution_count": 27,
   "metadata": {},
   "outputs": [
    {
     "data": {
      "application/vnd.plotly.v1+json": {
       "config": {
        "plotlyServerURL": "https://plot.ly"
       },
       "data": [
        {
         "alignmentgroup": "True",
         "bingroup": "x",
         "histfunc": "sum",
         "hovertemplate": "사고부위: %{x}<br>사고건수: %{y}건",
         "legendgroup": "2019",
         "marker": {
          "color": "#231942",
          "pattern": {
           "shape": ""
          }
         },
         "name": "2019",
         "offsetgroup": "2019",
         "orientation": "v",
         "showlegend": true,
         "type": "histogram",
         "x": [
          "손",
          "발",
          "머리(두부)",
          "다리",
          "팔"
         ],
         "xaxis": "x",
         "y": [
          33034,
          32330,
          27336,
          17858,
          13184
         ],
         "yaxis": "y"
        },
        {
         "alignmentgroup": "True",
         "bingroup": "x",
         "histfunc": "sum",
         "hovertemplate": "사고부위: %{x}<br>사고건수: %{y}건",
         "legendgroup": "2020",
         "marker": {
          "color": "#5e548e",
          "pattern": {
           "shape": ""
          }
         },
         "name": "2020",
         "offsetgroup": "2020",
         "orientation": "v",
         "showlegend": true,
         "type": "histogram",
         "x": [
          "발",
          "손",
          "머리(두부)",
          "다리",
          "복합부위"
         ],
         "xaxis": "x",
         "y": [
          10429,
          9416,
          6315,
          3580,
          3482
         ],
         "yaxis": "y"
        },
        {
         "alignmentgroup": "True",
         "bingroup": "x",
         "histfunc": "sum",
         "hovertemplate": "사고부위: %{x}<br>사고건수: %{y}건",
         "legendgroup": "2021",
         "marker": {
          "color": "#9f86c0",
          "pattern": {
           "shape": ""
          }
         },
         "name": "2021",
         "offsetgroup": "2021",
         "orientation": "v",
         "showlegend": true,
         "type": "histogram",
         "x": [
          "손",
          "발",
          "머리(두부)",
          "복합부위",
          "다리"
         ],
         "xaxis": "x",
         "y": [
          25614,
          25336,
          13816,
          10483,
          7120
         ],
         "yaxis": "y"
        },
        {
         "alignmentgroup": "True",
         "bingroup": "x",
         "histfunc": "sum",
         "hovertemplate": "사고부위: %{x}<br>사고건수: %{y}건",
         "legendgroup": "2022",
         "marker": {
          "color": "#be95c4",
          "pattern": {
           "shape": ""
          }
         },
         "name": "2022",
         "offsetgroup": "2022",
         "orientation": "v",
         "showlegend": true,
         "type": "histogram",
         "x": [
          "손",
          "발",
          "머리(두부)",
          "복합부위",
          "다리"
         ],
         "xaxis": "x",
         "y": [
          41729,
          39050,
          22374,
          15867,
          12318
         ],
         "yaxis": "y"
        },
        {
         "alignmentgroup": "True",
         "bingroup": "x",
         "histfunc": "sum",
         "hovertemplate": "사고부위: %{x}<br>사고건수: %{y}건",
         "legendgroup": "2023",
         "marker": {
          "color": "#e0b1cb",
          "pattern": {
           "shape": ""
          }
         },
         "name": "2023",
         "offsetgroup": "2023",
         "orientation": "v",
         "showlegend": true,
         "type": "histogram",
         "x": [
          "손",
          "발",
          "머리(두부)",
          "복합부위",
          "다리"
         ],
         "xaxis": "x",
         "y": [
          52373,
          48661,
          27343,
          22365,
          15297
         ],
         "yaxis": "y"
        }
       ],
       "layout": {
        "barmode": "group",
        "font": {
         "color": "black",
         "family": "KoPubWorld돋움체_Pro"
        },
        "height": 500,
        "hoverlabel": {
         "font": {
          "family": "KoPubWorld돋움체_Pro",
          "size": 15
         }
        },
        "legend": {
         "title": {
          "text": "연도"
         },
         "tracegroupgap": 0
        },
        "margin": {
         "t": 60
        },
        "paper_bgcolor": "white",
        "plot_bgcolor": "white",
        "template": {
         "data": {
          "candlestick": [
           {
            "decreasing": {
             "line": {
              "color": "#000033"
             }
            },
            "increasing": {
             "line": {
              "color": "#000032"
             }
            },
            "type": "candlestick"
           }
          ],
          "contour": [
           {
            "colorscale": [
             [
              0,
              "#000011"
             ],
             [
              0.1111111111111111,
              "#000012"
             ],
             [
              0.2222222222222222,
              "#000013"
             ],
             [
              0.3333333333333333,
              "#000014"
             ],
             [
              0.4444444444444444,
              "#000015"
             ],
             [
              0.5555555555555556,
              "#000016"
             ],
             [
              0.6666666666666666,
              "#000017"
             ],
             [
              0.7777777777777778,
              "#000018"
             ],
             [
              0.8888888888888888,
              "#000019"
             ],
             [
              1,
              "#000020"
             ]
            ],
            "type": "contour"
           }
          ],
          "contourcarpet": [
           {
            "colorscale": [
             [
              0,
              "#000011"
             ],
             [
              0.1111111111111111,
              "#000012"
             ],
             [
              0.2222222222222222,
              "#000013"
             ],
             [
              0.3333333333333333,
              "#000014"
             ],
             [
              0.4444444444444444,
              "#000015"
             ],
             [
              0.5555555555555556,
              "#000016"
             ],
             [
              0.6666666666666666,
              "#000017"
             ],
             [
              0.7777777777777778,
              "#000018"
             ],
             [
              0.8888888888888888,
              "#000019"
             ],
             [
              1,
              "#000020"
             ]
            ],
            "type": "contourcarpet"
           }
          ],
          "heatmap": [
           {
            "colorscale": [
             [
              0,
              "#000011"
             ],
             [
              0.1111111111111111,
              "#000012"
             ],
             [
              0.2222222222222222,
              "#000013"
             ],
             [
              0.3333333333333333,
              "#000014"
             ],
             [
              0.4444444444444444,
              "#000015"
             ],
             [
              0.5555555555555556,
              "#000016"
             ],
             [
              0.6666666666666666,
              "#000017"
             ],
             [
              0.7777777777777778,
              "#000018"
             ],
             [
              0.8888888888888888,
              "#000019"
             ],
             [
              1,
              "#000020"
             ]
            ],
            "type": "heatmap"
           }
          ],
          "histogram2d": [
           {
            "colorscale": [
             [
              0,
              "#000011"
             ],
             [
              0.1111111111111111,
              "#000012"
             ],
             [
              0.2222222222222222,
              "#000013"
             ],
             [
              0.3333333333333333,
              "#000014"
             ],
             [
              0.4444444444444444,
              "#000015"
             ],
             [
              0.5555555555555556,
              "#000016"
             ],
             [
              0.6666666666666666,
              "#000017"
             ],
             [
              0.7777777777777778,
              "#000018"
             ],
             [
              0.8888888888888888,
              "#000019"
             ],
             [
              1,
              "#000020"
             ]
            ],
            "type": "histogram2d"
           }
          ],
          "icicle": [
           {
            "textfont": {
             "color": "white"
            },
            "type": "icicle"
           }
          ],
          "sankey": [
           {
            "textfont": {
             "color": "#000036"
            },
            "type": "sankey"
           }
          ],
          "scatter": [
           {
            "marker": {
             "line": {
              "width": 0
             }
            },
            "type": "scatter"
           }
          ],
          "table": [
           {
            "cells": {
             "fill": {
              "color": "#000038"
             },
             "font": {
              "color": "#000037"
             },
             "line": {
              "color": "#000039"
             }
            },
            "header": {
             "fill": {
              "color": "#000040"
             },
             "font": {
              "color": "#000036"
             },
             "line": {
              "color": "#000039"
             }
            },
            "type": "table"
           }
          ],
          "waterfall": [
           {
            "connector": {
             "line": {
              "color": "#000036",
              "width": 2
             }
            },
            "decreasing": {
             "marker": {
              "color": "#000033"
             }
            },
            "increasing": {
             "marker": {
              "color": "#000032"
             }
            },
            "totals": {
             "marker": {
              "color": "#000034"
             }
            },
            "type": "waterfall"
           }
          ]
         },
         "layout": {
          "coloraxis": {
           "colorscale": [
            [
             0,
             "#000011"
            ],
            [
             0.1111111111111111,
             "#000012"
            ],
            [
             0.2222222222222222,
             "#000013"
            ],
            [
             0.3333333333333333,
             "#000014"
            ],
            [
             0.4444444444444444,
             "#000015"
            ],
            [
             0.5555555555555556,
             "#000016"
            ],
            [
             0.6666666666666666,
             "#000017"
            ],
            [
             0.7777777777777778,
             "#000018"
            ],
            [
             0.8888888888888888,
             "#000019"
            ],
            [
             1,
             "#000020"
            ]
           ]
          },
          "colorscale": {
           "diverging": [
            [
             0,
             "#000021"
            ],
            [
             0.1,
             "#000022"
            ],
            [
             0.2,
             "#000023"
            ],
            [
             0.3,
             "#000024"
            ],
            [
             0.4,
             "#000025"
            ],
            [
             0.5,
             "#000026"
            ],
            [
             0.6,
             "#000027"
            ],
            [
             0.7,
             "#000028"
            ],
            [
             0.8,
             "#000029"
            ],
            [
             0.9,
             "#000030"
            ],
            [
             1,
             "#000031"
            ]
           ],
           "sequential": [
            [
             0,
             "#000011"
            ],
            [
             0.1111111111111111,
             "#000012"
            ],
            [
             0.2222222222222222,
             "#000013"
            ],
            [
             0.3333333333333333,
             "#000014"
            ],
            [
             0.4444444444444444,
             "#000015"
            ],
            [
             0.5555555555555556,
             "#000016"
            ],
            [
             0.6666666666666666,
             "#000017"
            ],
            [
             0.7777777777777778,
             "#000018"
            ],
            [
             0.8888888888888888,
             "#000019"
            ],
            [
             1,
             "#000020"
            ]
           ],
           "sequentialminus": [
            [
             0,
             "#000011"
            ],
            [
             0.1111111111111111,
             "#000012"
            ],
            [
             0.2222222222222222,
             "#000013"
            ],
            [
             0.3333333333333333,
             "#000014"
            ],
            [
             0.4444444444444444,
             "#000015"
            ],
            [
             0.5555555555555556,
             "#000016"
            ],
            [
             0.6666666666666666,
             "#000017"
            ],
            [
             0.7777777777777778,
             "#000018"
            ],
            [
             0.8888888888888888,
             "#000019"
            ],
            [
             1,
             "#000020"
            ]
           ]
          },
          "colorway": [
           "#000001",
           "#000002",
           "#000003",
           "#000004",
           "#000005",
           "#000006",
           "#000007",
           "#000008",
           "#000009",
           "#000010"
          ]
         }
        },
        "width": 1200,
        "xaxis": {
         "anchor": "y",
         "domain": [
          0,
          1
         ],
         "tickfont": {
          "size": 17
         },
         "title": {
          "font": {
           "family": "KoPubWorld돋움체 Medium"
          },
          "text": " "
         }
        },
        "yaxis": {
         "anchor": "x",
         "domain": [
          0,
          1
         ],
         "tickfont": {
          "family": "KoPubWorld돋움체 Medium",
          "size": 15
         },
         "tickformat": "~2s",
         "title": {
          "font": {
           "family": "KoPubWorld돋움체 Medium"
          },
          "text": " "
         }
        }
       }
      }
     },
     "metadata": {},
     "output_type": "display_data"
    }
   ],
   "source": [
    "make_px_chart(acc_body)"
   ]
  },
  {
   "cell_type": "code",
   "execution_count": 120,
   "metadata": {},
   "outputs": [
    {
     "data": {
      "application/vnd.plotly.v1+json": {
       "config": {
        "plotlyServerURL": "https://plot.ly"
       },
       "data": [
        {
         "alignmentgroup": "True",
         "bingroup": "x",
         "histfunc": "sum",
         "hovertemplate": "사고형태: %{x}<br>사고건수: %{y}건",
         "legendgroup": "2019",
         "marker": {
          "color": "#231942",
          "pattern": {
           "shape": ""
          }
         },
         "name": "2019",
         "offsetgroup": "2019",
         "orientation": "v",
         "showlegend": true,
         "type": "histogram",
         "x": [
          "기타",
          "낙상",
          "낙상-넘어짐",
          "낙상-떨어짐",
          "낙상-미끄러짐",
          "물리적힘 노출",
          "사람과의 충돌"
         ],
         "xaxis": "x",
         "y": [
          11232,
          1,
          36162,
          5423,
          11906,
          54884,
          19355
         ],
         "yaxis": "y"
        },
        {
         "alignmentgroup": "True",
         "bingroup": "x",
         "histfunc": "sum",
         "hovertemplate": "사고형태: %{x}<br>사고건수: %{y}건",
         "legendgroup": "2020",
         "marker": {
          "color": "#5e548e",
          "pattern": {
           "shape": ""
          }
         },
         "name": "2020",
         "offsetgroup": "2020",
         "orientation": "v",
         "showlegend": true,
         "type": "histogram",
         "x": [
          "기타",
          "낙상",
          "낙상-넘어짐",
          "낙상-떨어짐",
          "낙상-미끄러짐",
          "물리적힘 노출",
          "사람과의 충돌"
         ],
         "xaxis": "x",
         "y": [
          4191,
          19,
          10724,
          1407,
          6088,
          15252,
          1774
         ],
         "yaxis": "y"
        },
        {
         "alignmentgroup": "True",
         "bingroup": "x",
         "histfunc": "sum",
         "hovertemplate": "사고형태: %{x}<br>사고건수: %{y}건",
         "legendgroup": "2021",
         "marker": {
          "color": "#9f86c0",
          "pattern": {
           "shape": ""
          }
         },
         "name": "2021",
         "offsetgroup": "2021",
         "orientation": "v",
         "showlegend": true,
         "type": "histogram",
         "x": [
          "기타",
          "낙상",
          "낙상-넘어짐",
          "낙상-떨어짐",
          "낙상-미끄러짐",
          "물리적힘 노출",
          "사람과의 충돌"
         ],
         "xaxis": "x",
         "y": [
          8587,
          81,
          25517,
          3071,
          15136,
          39251,
          3016
         ],
         "yaxis": "y"
        },
        {
         "alignmentgroup": "True",
         "bingroup": "x",
         "histfunc": "sum",
         "hovertemplate": "사고형태: %{x}<br>사고건수: %{y}건",
         "legendgroup": "2022",
         "marker": {
          "color": "#be95c4",
          "pattern": {
           "shape": ""
          }
         },
         "name": "2022",
         "offsetgroup": "2022",
         "orientation": "v",
         "showlegend": true,
         "type": "histogram",
         "x": [
          "기타",
          "낙상",
          "낙상-넘어짐",
          "낙상-떨어짐",
          "낙상-미끄러짐",
          "물리적힘 노출",
          "사람과의 충돌"
         ],
         "xaxis": "x",
         "y": [
          11495,
          2157,
          38817,
          4664,
          23103,
          65422,
          4941
         ],
         "yaxis": "y"
        },
        {
         "alignmentgroup": "True",
         "bingroup": "x",
         "histfunc": "sum",
         "hovertemplate": "사고형태: %{x}<br>사고건수: %{y}건",
         "legendgroup": "2023",
         "marker": {
          "color": "#e0b1cb",
          "pattern": {
           "shape": ""
          }
         },
         "name": "2023",
         "offsetgroup": "2023",
         "orientation": "v",
         "showlegend": true,
         "type": "histogram",
         "x": [
          "기타",
          "낙상",
          "물리적힘 노출",
          "사람과의 충돌",
          "염좌·삐임 등 신체 충격"
         ],
         "xaxis": "x",
         "y": [
          8795,
          42259,
          72505,
          22073,
          42652
         ],
         "yaxis": "y"
        }
       ],
       "layout": {
        "barmode": "group",
        "font": {
         "color": "black",
         "family": "KoPubWorld돋움체_Pro"
        },
        "height": 500,
        "hoverlabel": {
         "font": {
          "family": "KoPubWorld돋움체_Pro",
          "size": 15
         }
        },
        "legend": {
         "title": {
          "text": "연도"
         },
         "tracegroupgap": 0
        },
        "margin": {
         "t": 60
        },
        "paper_bgcolor": "white",
        "plot_bgcolor": "white",
        "template": {
         "data": {
          "bar": [
           {
            "error_x": {
             "color": "#2a3f5f"
            },
            "error_y": {
             "color": "#2a3f5f"
            },
            "marker": {
             "line": {
              "color": "#E5ECF6",
              "width": 0.5
             },
             "pattern": {
              "fillmode": "overlay",
              "size": 10,
              "solidity": 0.2
             }
            },
            "type": "bar"
           }
          ],
          "barpolar": [
           {
            "marker": {
             "line": {
              "color": "#E5ECF6",
              "width": 0.5
             },
             "pattern": {
              "fillmode": "overlay",
              "size": 10,
              "solidity": 0.2
             }
            },
            "type": "barpolar"
           }
          ],
          "carpet": [
           {
            "aaxis": {
             "endlinecolor": "#2a3f5f",
             "gridcolor": "white",
             "linecolor": "white",
             "minorgridcolor": "white",
             "startlinecolor": "#2a3f5f"
            },
            "baxis": {
             "endlinecolor": "#2a3f5f",
             "gridcolor": "white",
             "linecolor": "white",
             "minorgridcolor": "white",
             "startlinecolor": "#2a3f5f"
            },
            "type": "carpet"
           }
          ],
          "choropleth": [
           {
            "colorbar": {
             "outlinewidth": 0,
             "ticks": ""
            },
            "type": "choropleth"
           }
          ],
          "contour": [
           {
            "colorbar": {
             "outlinewidth": 0,
             "ticks": ""
            },
            "colorscale": [
             [
              0,
              "#0d0887"
             ],
             [
              0.1111111111111111,
              "#46039f"
             ],
             [
              0.2222222222222222,
              "#7201a8"
             ],
             [
              0.3333333333333333,
              "#9c179e"
             ],
             [
              0.4444444444444444,
              "#bd3786"
             ],
             [
              0.5555555555555556,
              "#d8576b"
             ],
             [
              0.6666666666666666,
              "#ed7953"
             ],
             [
              0.7777777777777778,
              "#fb9f3a"
             ],
             [
              0.8888888888888888,
              "#fdca26"
             ],
             [
              1,
              "#f0f921"
             ]
            ],
            "type": "contour"
           }
          ],
          "contourcarpet": [
           {
            "colorbar": {
             "outlinewidth": 0,
             "ticks": ""
            },
            "type": "contourcarpet"
           }
          ],
          "heatmap": [
           {
            "colorbar": {
             "outlinewidth": 0,
             "ticks": ""
            },
            "colorscale": [
             [
              0,
              "#0d0887"
             ],
             [
              0.1111111111111111,
              "#46039f"
             ],
             [
              0.2222222222222222,
              "#7201a8"
             ],
             [
              0.3333333333333333,
              "#9c179e"
             ],
             [
              0.4444444444444444,
              "#bd3786"
             ],
             [
              0.5555555555555556,
              "#d8576b"
             ],
             [
              0.6666666666666666,
              "#ed7953"
             ],
             [
              0.7777777777777778,
              "#fb9f3a"
             ],
             [
              0.8888888888888888,
              "#fdca26"
             ],
             [
              1,
              "#f0f921"
             ]
            ],
            "type": "heatmap"
           }
          ],
          "heatmapgl": [
           {
            "colorbar": {
             "outlinewidth": 0,
             "ticks": ""
            },
            "colorscale": [
             [
              0,
              "#0d0887"
             ],
             [
              0.1111111111111111,
              "#46039f"
             ],
             [
              0.2222222222222222,
              "#7201a8"
             ],
             [
              0.3333333333333333,
              "#9c179e"
             ],
             [
              0.4444444444444444,
              "#bd3786"
             ],
             [
              0.5555555555555556,
              "#d8576b"
             ],
             [
              0.6666666666666666,
              "#ed7953"
             ],
             [
              0.7777777777777778,
              "#fb9f3a"
             ],
             [
              0.8888888888888888,
              "#fdca26"
             ],
             [
              1,
              "#f0f921"
             ]
            ],
            "type": "heatmapgl"
           }
          ],
          "histogram": [
           {
            "marker": {
             "pattern": {
              "fillmode": "overlay",
              "size": 10,
              "solidity": 0.2
             }
            },
            "type": "histogram"
           }
          ],
          "histogram2d": [
           {
            "colorbar": {
             "outlinewidth": 0,
             "ticks": ""
            },
            "colorscale": [
             [
              0,
              "#0d0887"
             ],
             [
              0.1111111111111111,
              "#46039f"
             ],
             [
              0.2222222222222222,
              "#7201a8"
             ],
             [
              0.3333333333333333,
              "#9c179e"
             ],
             [
              0.4444444444444444,
              "#bd3786"
             ],
             [
              0.5555555555555556,
              "#d8576b"
             ],
             [
              0.6666666666666666,
              "#ed7953"
             ],
             [
              0.7777777777777778,
              "#fb9f3a"
             ],
             [
              0.8888888888888888,
              "#fdca26"
             ],
             [
              1,
              "#f0f921"
             ]
            ],
            "type": "histogram2d"
           }
          ],
          "histogram2dcontour": [
           {
            "colorbar": {
             "outlinewidth": 0,
             "ticks": ""
            },
            "colorscale": [
             [
              0,
              "#0d0887"
             ],
             [
              0.1111111111111111,
              "#46039f"
             ],
             [
              0.2222222222222222,
              "#7201a8"
             ],
             [
              0.3333333333333333,
              "#9c179e"
             ],
             [
              0.4444444444444444,
              "#bd3786"
             ],
             [
              0.5555555555555556,
              "#d8576b"
             ],
             [
              0.6666666666666666,
              "#ed7953"
             ],
             [
              0.7777777777777778,
              "#fb9f3a"
             ],
             [
              0.8888888888888888,
              "#fdca26"
             ],
             [
              1,
              "#f0f921"
             ]
            ],
            "type": "histogram2dcontour"
           }
          ],
          "mesh3d": [
           {
            "colorbar": {
             "outlinewidth": 0,
             "ticks": ""
            },
            "type": "mesh3d"
           }
          ],
          "parcoords": [
           {
            "line": {
             "colorbar": {
              "outlinewidth": 0,
              "ticks": ""
             }
            },
            "type": "parcoords"
           }
          ],
          "pie": [
           {
            "automargin": true,
            "type": "pie"
           }
          ],
          "scatter": [
           {
            "fillpattern": {
             "fillmode": "overlay",
             "size": 10,
             "solidity": 0.2
            },
            "type": "scatter"
           }
          ],
          "scatter3d": [
           {
            "line": {
             "colorbar": {
              "outlinewidth": 0,
              "ticks": ""
             }
            },
            "marker": {
             "colorbar": {
              "outlinewidth": 0,
              "ticks": ""
             }
            },
            "type": "scatter3d"
           }
          ],
          "scattercarpet": [
           {
            "marker": {
             "colorbar": {
              "outlinewidth": 0,
              "ticks": ""
             }
            },
            "type": "scattercarpet"
           }
          ],
          "scattergeo": [
           {
            "marker": {
             "colorbar": {
              "outlinewidth": 0,
              "ticks": ""
             }
            },
            "type": "scattergeo"
           }
          ],
          "scattergl": [
           {
            "marker": {
             "colorbar": {
              "outlinewidth": 0,
              "ticks": ""
             }
            },
            "type": "scattergl"
           }
          ],
          "scattermapbox": [
           {
            "marker": {
             "colorbar": {
              "outlinewidth": 0,
              "ticks": ""
             }
            },
            "type": "scattermapbox"
           }
          ],
          "scatterpolar": [
           {
            "marker": {
             "colorbar": {
              "outlinewidth": 0,
              "ticks": ""
             }
            },
            "type": "scatterpolar"
           }
          ],
          "scatterpolargl": [
           {
            "marker": {
             "colorbar": {
              "outlinewidth": 0,
              "ticks": ""
             }
            },
            "type": "scatterpolargl"
           }
          ],
          "scatterternary": [
           {
            "marker": {
             "colorbar": {
              "outlinewidth": 0,
              "ticks": ""
             }
            },
            "type": "scatterternary"
           }
          ],
          "surface": [
           {
            "colorbar": {
             "outlinewidth": 0,
             "ticks": ""
            },
            "colorscale": [
             [
              0,
              "#0d0887"
             ],
             [
              0.1111111111111111,
              "#46039f"
             ],
             [
              0.2222222222222222,
              "#7201a8"
             ],
             [
              0.3333333333333333,
              "#9c179e"
             ],
             [
              0.4444444444444444,
              "#bd3786"
             ],
             [
              0.5555555555555556,
              "#d8576b"
             ],
             [
              0.6666666666666666,
              "#ed7953"
             ],
             [
              0.7777777777777778,
              "#fb9f3a"
             ],
             [
              0.8888888888888888,
              "#fdca26"
             ],
             [
              1,
              "#f0f921"
             ]
            ],
            "type": "surface"
           }
          ],
          "table": [
           {
            "cells": {
             "fill": {
              "color": "#EBF0F8"
             },
             "line": {
              "color": "white"
             }
            },
            "header": {
             "fill": {
              "color": "#C8D4E3"
             },
             "line": {
              "color": "white"
             }
            },
            "type": "table"
           }
          ]
         },
         "layout": {
          "annotationdefaults": {
           "arrowcolor": "#2a3f5f",
           "arrowhead": 0,
           "arrowwidth": 1
          },
          "autotypenumbers": "strict",
          "coloraxis": {
           "colorbar": {
            "outlinewidth": 0,
            "ticks": ""
           }
          },
          "colorscale": {
           "diverging": [
            [
             0,
             "#8e0152"
            ],
            [
             0.1,
             "#c51b7d"
            ],
            [
             0.2,
             "#de77ae"
            ],
            [
             0.3,
             "#f1b6da"
            ],
            [
             0.4,
             "#fde0ef"
            ],
            [
             0.5,
             "#f7f7f7"
            ],
            [
             0.6,
             "#e6f5d0"
            ],
            [
             0.7,
             "#b8e186"
            ],
            [
             0.8,
             "#7fbc41"
            ],
            [
             0.9,
             "#4d9221"
            ],
            [
             1,
             "#276419"
            ]
           ],
           "sequential": [
            [
             0,
             "#0d0887"
            ],
            [
             0.1111111111111111,
             "#46039f"
            ],
            [
             0.2222222222222222,
             "#7201a8"
            ],
            [
             0.3333333333333333,
             "#9c179e"
            ],
            [
             0.4444444444444444,
             "#bd3786"
            ],
            [
             0.5555555555555556,
             "#d8576b"
            ],
            [
             0.6666666666666666,
             "#ed7953"
            ],
            [
             0.7777777777777778,
             "#fb9f3a"
            ],
            [
             0.8888888888888888,
             "#fdca26"
            ],
            [
             1,
             "#f0f921"
            ]
           ],
           "sequentialminus": [
            [
             0,
             "#0d0887"
            ],
            [
             0.1111111111111111,
             "#46039f"
            ],
            [
             0.2222222222222222,
             "#7201a8"
            ],
            [
             0.3333333333333333,
             "#9c179e"
            ],
            [
             0.4444444444444444,
             "#bd3786"
            ],
            [
             0.5555555555555556,
             "#d8576b"
            ],
            [
             0.6666666666666666,
             "#ed7953"
            ],
            [
             0.7777777777777778,
             "#fb9f3a"
            ],
            [
             0.8888888888888888,
             "#fdca26"
            ],
            [
             1,
             "#f0f921"
            ]
           ]
          },
          "colorway": [
           "#636efa",
           "#EF553B",
           "#00cc96",
           "#ab63fa",
           "#FFA15A",
           "#19d3f3",
           "#FF6692",
           "#B6E880",
           "#FF97FF",
           "#FECB52"
          ],
          "font": {
           "color": "#2a3f5f"
          },
          "geo": {
           "bgcolor": "white",
           "lakecolor": "white",
           "landcolor": "#E5ECF6",
           "showlakes": true,
           "showland": true,
           "subunitcolor": "white"
          },
          "hoverlabel": {
           "align": "left"
          },
          "hovermode": "closest",
          "mapbox": {
           "style": "light"
          },
          "paper_bgcolor": "white",
          "plot_bgcolor": "#E5ECF6",
          "polar": {
           "angularaxis": {
            "gridcolor": "white",
            "linecolor": "white",
            "ticks": ""
           },
           "bgcolor": "#E5ECF6",
           "radialaxis": {
            "gridcolor": "white",
            "linecolor": "white",
            "ticks": ""
           }
          },
          "scene": {
           "xaxis": {
            "backgroundcolor": "#E5ECF6",
            "gridcolor": "white",
            "gridwidth": 2,
            "linecolor": "white",
            "showbackground": true,
            "ticks": "",
            "zerolinecolor": "white"
           },
           "yaxis": {
            "backgroundcolor": "#E5ECF6",
            "gridcolor": "white",
            "gridwidth": 2,
            "linecolor": "white",
            "showbackground": true,
            "ticks": "",
            "zerolinecolor": "white"
           },
           "zaxis": {
            "backgroundcolor": "#E5ECF6",
            "gridcolor": "white",
            "gridwidth": 2,
            "linecolor": "white",
            "showbackground": true,
            "ticks": "",
            "zerolinecolor": "white"
           }
          },
          "shapedefaults": {
           "line": {
            "color": "#2a3f5f"
           }
          },
          "ternary": {
           "aaxis": {
            "gridcolor": "white",
            "linecolor": "white",
            "ticks": ""
           },
           "baxis": {
            "gridcolor": "white",
            "linecolor": "white",
            "ticks": ""
           },
           "bgcolor": "#E5ECF6",
           "caxis": {
            "gridcolor": "white",
            "linecolor": "white",
            "ticks": ""
           }
          },
          "title": {
           "x": 0.05
          },
          "xaxis": {
           "automargin": true,
           "gridcolor": "white",
           "linecolor": "white",
           "ticks": "",
           "title": {
            "standoff": 15
           },
           "zerolinecolor": "white",
           "zerolinewidth": 2
          },
          "yaxis": {
           "automargin": true,
           "gridcolor": "white",
           "linecolor": "white",
           "ticks": "",
           "title": {
            "standoff": 15
           },
           "zerolinecolor": "white",
           "zerolinewidth": 2
          }
         }
        },
        "width": 1200,
        "xaxis": {
         "anchor": "y",
         "domain": [
          0,
          1
         ],
         "tickfont": {
          "size": 17
         },
         "title": {
          "font": {
           "family": "KoPubWorld돋움체 Medium"
          },
          "text": " "
         }
        },
        "yaxis": {
         "anchor": "x",
         "domain": [
          0,
          1
         ],
         "tickfont": {
          "family": "KoPubWorld돋움체 Medium",
          "size": 15
         },
         "tickformat": "~2s",
         "title": {
          "font": {
           "family": "KoPubWorld돋움체 Medium"
          },
          "text": " "
         }
        }
       }
      }
     },
     "metadata": {},
     "output_type": "display_data"
    }
   ],
   "source": [
    "acc_how = all_year_df('사고형태')\n",
    "make_px_chart(acc_how)"
   ]
  },
  {
   "cell_type": "markdown",
   "metadata": {},
   "source": [
    "- 시간별 사고 현황\n",
    "    - 계절별 사고 발생 현황 : 계절별로 어떤 사고가 많이 발생하는지 (계절별 예방 대책 제시 가능)\n",
    "        - 계절별 사고 건수\n",
    "        - 계절별 사고 부위\n",
    "        - 계절별 사고당시활동\n",
    "    - 사고 시간별 사고 현황 (수업시간, 쉬는시간, 식사시간 등)\n",
    "        - 사고 시간별 사고 건수\n",
    "            - 사고 발생 시각별 건수(오전, 점심, 오후 정도의 비교가 의미 있지 않을지? <br>\n",
    "            : 사고 시간별 건수 분석은 그냥 학교에서의 전체 시간이 수업시간, 쉬는 시간으로 뭉뚱그려진 게 좀 아쉬워서 오전 오후의 비교도 하면 어떨지 생각해봄, 애들이 밥먹고 하교 시간이 다가오면 좀 신나서 더 위험하다든가.. 그런 추측)\n",
    "        - 사고 시간별 하루 평균 사고 발생 건수 : 해당 시간 대에 하루에 얼마나 사고가 발생하는지?\n",
    "        - 사고 시간별 사고 형태, 사고 당시 활동, 사고 매개물 <br>\n",
    "        : 사고 시간별로 어떤 사고가 많이 발생하는지? 등하교 시간에 자주 발생하는 사고 내용, 점심시간에 자주 발생하는 사고 내용 등 파악"
   ]
  },
  {
   "cell_type": "code",
   "execution_count": null,
   "metadata": {},
   "outputs": [],
   "source": []
  },
  {
   "cell_type": "code",
   "execution_count": null,
   "metadata": {},
   "outputs": [],
   "source": []
  }
 ],
 "metadata": {
  "kernelspec": {
   "display_name": "base",
   "language": "python",
   "name": "python3"
  },
  "language_info": {
   "codemirror_mode": {
    "name": "ipython",
    "version": 3
   },
   "file_extension": ".py",
   "mimetype": "text/x-python",
   "name": "python",
   "nbconvert_exporter": "python",
   "pygments_lexer": "ipython3",
   "version": "3.10.9"
  }
 },
 "nbformat": 4,
 "nbformat_minor": 2
}
