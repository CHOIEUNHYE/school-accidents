{
 "cells": [
  {
   "cell_type": "markdown",
   "metadata": {},
   "source": [
    "# 학교 안전사고 현황 분석\n",
    "\n",
    "- 코드 작성자 : 이유정\n",
    "- 코드 작성일 : 2024-07-06\n",
    "\n",
    "맡은 부분 알아서 잘 정리해주세요!!🥰"
   ]
  },
  {
   "cell_type": "markdown",
   "metadata": {},
   "source": [
    "## 0. 라이브러리 및 데이터 임포트"
   ]
  },
  {
   "cell_type": "code",
   "execution_count": 139,
   "metadata": {},
   "outputs": [],
   "source": [
    "import pandas as pd\n",
    "from pandas.api.types import CategoricalDtype\n",
    "import numpy as np\n",
    "import polars as pl\n",
    "from datetime import datetime\n",
    "import pyarrow\n",
    "import plotly.express as px\n",
    "import plotly.graph_objects as go\n",
    "from plotly.subplots import make_subplots\n",
    "import streamlit as st"
   ]
  },
  {
   "cell_type": "code",
   "execution_count": 140,
   "metadata": {},
   "outputs": [],
   "source": [
    "df = pd.read_csv('C:/Users/cabby/Desktop/학교안전사고데이터_5개년통합.csv')\n",
    "\n",
    "df['사고발생일'] = pd.to_datetime(df['사고발생일'])\n",
    "df['연도'] = df['사고발생일'].map(lambda x : x.year)\n",
    "\n",
    "df_2019 = df[df['사고발생일'].between('2019-01-01', '2019-12-31')]\n",
    "df_2020 = df[df['사고발생일'].between('2020-01-01', '2020-12-31')]\n",
    "df_2021 = df[df['사고발생일'].between('2021-01-01', '2021-12-31')]\n",
    "df_2022 = df[df['사고발생일'].between('2022-01-01', '2022-12-31')]\n",
    "df_2023 = df[df['사고발생일'].between('2023-01-01', '2023-12-31')]"
   ]
  },
  {
   "cell_type": "markdown",
   "metadata": {},
   "source": [
    "## 1. 학교 안전사고 현황 EDA"
   ]
  },
  {
   "cell_type": "markdown",
   "metadata": {},
   "source": [
    "### 1-1. 연도별 사고 현황"
   ]
  },
  {
   "cell_type": "code",
   "execution_count": null,
   "metadata": {},
   "outputs": [],
   "source": []
  },
  {
   "cell_type": "markdown",
   "metadata": {},
   "source": [
    "### 1-2. 지역별 사고 현황\n",
    "\n",
    "- 시도별 사고 현황\n",
    "    - 시도별 총 사고건수\n",
    "    - 시도별 연도별 전체 사고건수\n",
    "    - 시도별 연도별 전체 학교 수 대비 안전사고 발생 학교 비율\n",
    "        -  전체 학교 중 안전사고가 발생한 학교의 비율(2021년 동작구의 전체 학교 N곳 중 M곳의 학교에서 안전사고가 발생했다.)\n",
    "    - 시도별 연도별 전체 학교 수 대비 안전사고 발생 건수\n",
    "- 시군구별 사고 현황\n",
    "    - 시군구별 총 사고 건수 (시도별에서 시도를 선택하면 확인할 수 있도록)\n",
    "    - 시군구별 연도별 총 사고건수\n",
    "    - 시도별 연도별 전체 학교 수 대비 안전사고 발생 학교 비율\n",
    "        -  전체 학교 중 안전사고가 발생한 학교의 비율(2021년 동작구의 전체 학교 N곳 중 M곳의 학교에서 안전사고가 발생했다.)\n",
    "    - 시도별 연도별 전체 학교 수 대비 안전사고 발생 건수"
   ]
  },
  {
   "cell_type": "code",
   "execution_count": 6,
   "metadata": {},
   "outputs": [
    {
     "data": {
      "text/plain": [
       "array(['제주시교육지원청', '거창교육지원청', '창원교육지원청', '통영교육지원청', '양산교육지원청', '경상남도교육청',\n",
       "       '거제교육지원청', '김해교육지원청', '진주교육지원청', '함안교육지원청', '사천교육지원청', '밀양교육지원청',\n",
       "       '영천교육지원청', '경상북도교육청', '김천교육지원청', '구미교육지원청', '경산교육지원청', '경주교육지원청',\n",
       "       '포항교육지원청', '성주교육지원청', '익산교육지원청', '전라북도교육청', '전주교육지원청', '김제교육지원청',\n",
       "       '천안교육지원청', '아산교육지원청', '논산교육지원청', '서천교육지원청', '공주교육지원청', '홍성교육지원청',\n",
       "       '서산교육지원청', '부여교육지원청', '당진교육지원청', '보은교육지원청', '청주교육지원청', '충청북도교육청',\n",
       "       '진천교육지원청', '영동교육지원청', '옥천교육지원청', '음성교육지원청', '군포의왕교육지원청', '부천교육지원청',\n",
       "       '평택교육지원청', '시흥교육지원청', '의정부교육지원청', '수원교육지원청', '고양교육지원청',\n",
       "       '동두천양주교육지원청', '파주교육지원청', '구리남양주교육지원청', '안산교육지원청', '안양과천교육지원청',\n",
       "       '화성오산교육지원청', '광명교육지원청', '김포교육지원청', '포천교육지원청', '용인교육지원청', '안성교육지원청',\n",
       "       '가평교육지원청', '광주하남교육지원청', '세종특별자치시교육청', '강남교육지원청', '울산교육청',\n",
       "       '강북교육지원청', '서부교육지원청', '동부교육지원청', '남부교육지원청', '북부교육지원청', '인천광역시교육청',\n",
       "       '해운대교육지원청', '동래교육지원청', '부산광역시교육청', '강동송파교육지원청', '강서양천교육지원청',\n",
       "       '성동광진교육지원청', '서울특별시교육청', '동작관악교육지원청', '서귀포시교육지원청', '고성교육지원청',\n",
       "       '안동교육지원청', '의성교육지원청', '문경교육지원청', '영주교육지원청', '무안교육지원청', '순창교육지원청',\n",
       "       '정읍교육지원청', '완주교육지원청', '괴산증평교육지원청', '충주교육지원청', '제천교육지원청', '강릉교육지원청',\n",
       "       '춘천교육지원청', '강원도교육청', '속초양양교육청', '원주교육지원청', '정선교육지원청', '태백교육지원청',\n",
       "       '양구교육지원청', '이천교육지원청', '성남교육지원청', '여주교육지원청', '양평교육지원청', '대전광역시교육청',\n",
       "       '달성교육지원청', '대구교육청', '순천교육지원청', '나주교육지원청', '장흥교육지원청', '목포교육지원청',\n",
       "       '완도교육지원청', '영광교육지원청', '장성교육지원청', '여수교육지원청', '보성교육지원청', '광양교육지원청',\n",
       "       '신안교육지원청', '곡성교육지원청', '해남교육지원청', '화순교육지원청', '고흥교육지원청', '군산교육지원청',\n",
       "       '남원교육지원청', '예산교육지원청', '영월교육지원청', '삼척교육지원청', '동해교육지원청', '평창교육지원청',\n",
       "       '광주광역시교육청', '강남서초교육지원청', '성북강북교육지원청', '중부교육지원청', '산청교육지원청',\n",
       "       '상주교육지원청', '함평교육지원청', '영암교육지원청', '울릉교육지원청', '담양교육지원청',\n",
       "       '제주특별자치도교육청', '하동교육지원청', '남해교육지원청', '칠곡교육지원청', '보령교육지원청',\n",
       "       '청양교육지원청', '강화교육지원청', '강진교육지원청', '진도교육지원청', '고창교육지원청', '장수교육지원청',\n",
       "       '횡성교육지원청', '울진교육지원청', '예천교육지원청', '화천교육지원청', '태안교육지원청', '철원교육지원청',\n",
       "       '청도교육지원청', '봉화교육지원청', '임실교육지원청', '고령교육지원청', '금산교육지원청', '무주교육지원청',\n",
       "       '창녕교육지원청', '인제교육지원청', '홍천교육지원청', '함양교육지원청', '진안교육지원청', '의령교육지원청',\n",
       "       '구례교육지원청', '단양교육지원청', '합천교육지원청', '부안교육지원청', '연천교육지원청', '군위교육지원청',\n",
       "       '청송교육지원청', '경기도교육청', '영덕교육지원청', '영양교육지원청'], dtype=object)"
      ]
     },
     "execution_count": 6,
     "metadata": {},
     "output_type": "execute_result"
    }
   ],
   "source": [
    "df_2023.교육청.unique()\n",
    "\n",
    "'''\n",
    "교육청(시도)\n",
    "교육지원청(시군구) --> 시군구별 분석 가능\n",
    "    교육지원청은 시·도 교육청의 하급 교육행정기관으로, 교육장(3급 또는 4급 상당)의 감독 아래 시·도의 교육·학예에 관한 사무를 일부 분장한다. \n",
    "'''"
   ]
  },
  {
   "cell_type": "markdown",
   "metadata": {},
   "source": [
    "### 1-3. 학교급별 사고 현황\n",
    "\n",
    "- 학교급별 하루 평균 사고 수\n",
    "- 학교급별 총 사고 수\n",
    "- 학교급별 성별별 사고 수\n",
    "- 학교급별 학년별 사고 수\n",
    "- 학교급별 사고 내용(사고 시간, 사고 장소, 사고 부위, 사고 형태, 사고 당시 활동, 사고 매개물)"
   ]
  },
  {
   "cell_type": "markdown",
   "metadata": {},
   "source": [
    "##### 1-3-0. 데이터 일부 추출 및 공통 함수 지정"
   ]
  },
  {
   "cell_type": "code",
   "execution_count": 143,
   "metadata": {},
   "outputs": [
    {
     "name": "stdout",
     "output_type": "stream",
     "text": [
      "Index(['구분', '학교급', '지역', '교육청', '설립유형', '사고자구분', '사고자성별', '사고자학년', '사고발생일',\n",
      "       '사고발생요일', '사고발생시각', '사고시간', '사고장소', '사고부위', '사고형태', '사고당시활동', '사고매개물',\n",
      "       '연도'],\n",
      "      dtype='object')\n",
      "['중학교' '초등학교' '고등학교' '유치원' '특수학교' '기타학교']\n"
     ]
    },
    {
     "data": {
      "text/plain": [
       "학교급\n",
       "고등학교    130050\n",
       "기타학교      1954\n",
       "유치원      42403\n",
       "중학교     216165\n",
       "초등학교    218830\n",
       "특수학교      2558\n",
       "Name: 구분, dtype: int64"
      ]
     },
     "execution_count": 143,
     "metadata": {},
     "output_type": "execute_result"
    }
   ],
   "source": [
    "# 기본 정보 확인\n",
    "print(df.columns)\n",
    "print(df.학교급.unique())\n",
    "df.groupby('학교급').count()['구분']"
   ]
  },
  {
   "cell_type": "code",
   "execution_count": 152,
   "metadata": {},
   "outputs": [
    {
     "name": "stdout",
     "output_type": "stream",
     "text": [
      "추출 전: ['일반학생' '특수학교(학급)학생' '체육특기학생' '교직원' '교육활동참여자' '교직원(계약직)' '교직원(일반직)' nan\n",
      " '교직원(교원)' '일반인' '기타(일반인 등)']\n",
      "추출 후: ['일반학생' '특수학교(학급)학생' '체육특기학생']\n"
     ]
    },
    {
     "name": "stderr",
     "output_type": "stream",
     "text": [
      "C:\\Users\\cabby\\AppData\\Local\\Temp\\ipykernel_28384\\750086091.py:8: SettingWithCopyWarning:\n",
      "\n",
      "\n",
      "A value is trying to be set on a copy of a slice from a DataFrame.\n",
      "Try using .loc[row_indexer,col_indexer] = value instead\n",
      "\n",
      "See the caveats in the documentation: https://pandas.pydata.org/pandas-docs/stable/user_guide/indexing.html#returning-a-view-versus-a-copy\n",
      "\n"
     ]
    }
   ],
   "source": [
    "# 사고자구분 중 '일반학생', '특수학교(학급)학생', '체육특기학생' 값만 추출\n",
    "print('추출 전:', df.사고자구분.unique())\n",
    "\n",
    "sch_df = df[df['사고자구분'].isin(['일반학생', '특수학교(학급)학생', '체육특기학생'])]\n",
    "print('추출 후:', sch_df.사고자구분.unique())\n",
    "\n",
    "# 연도 type str로 변경\n",
    "sch_df['연도'] = sch_df['연도'].astype(str)"
   ]
  },
  {
   "cell_type": "code",
   "execution_count": 145,
   "metadata": {},
   "outputs": [],
   "source": [
    "# 초등학교 저학년/고학년 구분        \n",
    "def update_school_level(row):\n",
    "    if row['학교급'] == '초등학교':\n",
    "        if row['사고자학년'] == '1학년' or row['사고자학년'] == '2학년' or row['사고자학년'] == '3학년':\n",
    "            return '초등학교_저학년'\n",
    "        elif row['사고자학년'] == '4학년' or row['사고자학년'] == '5학년' or row['사고자학년'] == '6학년':\n",
    "            return '초등학교_고학년'\n",
    "        \n",
    "    return row['학교급']"
   ]
  },
  {
   "cell_type": "code",
   "execution_count": 146,
   "metadata": {},
   "outputs": [],
   "source": [
    "# 학교급별 총 사고 수 시각화(1)\n",
    "def create_h_barchart(df, year, x_col, y_col, y_order):\n",
    "    year_df = df[df['연도'] == year]\n",
    "    \n",
    "    fig = go.Figure()\n",
    "    fig.add_trace(go.Bar(\n",
    "        y=year_df[y_col],\n",
    "        x=year_df[x_col],\n",
    "        orientation='h',\n",
    "        marker=dict(color='#4a5fa8'),\n",
    "        hovertemplate=f'<b>%{{y}}</b><br>사고수: %{{x:,}}건<extra></extra>'\n",
    "        ))\n",
    "    fig.update_layout(\n",
    "        font=dict(\n",
    "            family='KoPubWorld돋움체_Pro',\n",
    "            ),\n",
    "        hoverlabel=dict(\n",
    "            font_size=14,\n",
    "            font_family=\"KoPubWorld돋움체_Pro\"\n",
    "            ),\n",
    "        yaxis=dict(\n",
    "            categoryorder='array', \n",
    "            categoryarray=y_order\n",
    "            ),\n",
    "        height=400,\n",
    "        width=800,\n",
    "        margin=dict(t=50)\n",
    "        )\n",
    "\n",
    "    return fig"
   ]
  },
  {
   "cell_type": "code",
   "execution_count": 147,
   "metadata": {},
   "outputs": [],
   "source": [
    "# 학교급별 총 사고 수 시각화(2)\n",
    "def create_piechart(df, year, name_col, value_col, name_order, colors):\n",
    "    year_df = df[df['연도'] == year]\n",
    "    \n",
    "    fig = px.pie(\n",
    "        year_df,\n",
    "        names=name_col,\n",
    "        values=value_col,\n",
    "        category_orders={name_col: name_order},\n",
    "        color=name_col,\n",
    "        color_discrete_map=colors\n",
    "        )\n",
    "    fig.update_traces(texttemplate='%{label}<br><span style=\"font-size:15px\">%{percent:.2%}</span>',\n",
    "                      hovertemplate='<b>%{label}</b><br>사고수: %{value}건<br>')\n",
    "    fig.update_layout(\n",
    "        font=dict(\n",
    "            family='KoPubWorld돋움체_Pro',\n",
    "            ),\n",
    "        hoverlabel=dict(\n",
    "            font_size=14,\n",
    "            font_family=\"KoPubWorld돋움체_Pro\"\n",
    "            ),\n",
    "        showlegend=False,\n",
    "        height=400,\n",
    "        width=400,\n",
    "        margin=dict(t=120, r=60)\n",
    "        )\n",
    "    \n",
    "    return fig"
   ]
  },
  {
   "cell_type": "code",
   "execution_count": 148,
   "metadata": {},
   "outputs": [],
   "source": [
    "# 학교급별 사고자 성별 시각화\n",
    "def create_pyramid_chart(df, year, x_col, y_col):\n",
    "    year_df = df[df['연도'] == year]\n",
    "    male_df = year_df[year_df['사고자성별'] == '남']\n",
    "    female_df = year_df[year_df['사고자성별'] == '여']\n",
    "\n",
    "    fig = go.Figure()\n",
    "    fig.add_trace(go.Bar(\n",
    "        x=-male_df[x_col],\n",
    "        y=male_df[y_col],\n",
    "        orientation='h',\n",
    "        name='남',\n",
    "        customdata=male_df[[x_col, '사고수 비율']],\n",
    "        marker_color='#c7e4ff',\n",
    "        text=male_df['사고수 비율'].apply(lambda x: f\"{x:.2f}%\"),\n",
    "        textposition='inside',\n",
    "        texttemplate='%{text}'\n",
    "        ))\n",
    "    fig.add_trace(go.Bar(\n",
    "        x=female_df[x_col],\n",
    "        y=female_df[y_col],\n",
    "        orientation='h',\n",
    "        name='여',\n",
    "        customdata=female_df[[x_col, '사고수 비율']],\n",
    "        marker_color='#FFE0B2',\n",
    "        text=female_df['사고수 비율'].apply(lambda x: f\"{x:.2f}%\"),\n",
    "        textposition='inside',\n",
    "        texttemplate='%{text}'\n",
    "        ))\n",
    "    fig.update_layout(\n",
    "        barmode='relative',\n",
    "        bargap=0.01,\n",
    "        legend_orientation='h',\n",
    "        legend_x=1,\n",
    "        legend_y=1.24,\n",
    "        legend_xanchor='right',\n",
    "        legend_yanchor='top',\n",
    "        font=dict(\n",
    "            family='KoPubWorld돋움체_Pro',\n",
    "            color='black'\n",
    "            ),\n",
    "        hoverlabel=dict(\n",
    "            font_size=14,\n",
    "            font_family=\"KoPubWorld돋움체_Pro\"\n",
    "            ),\n",
    "        paper_bgcolor='white',\n",
    "        plot_bgcolor='white',\n",
    "        legend_title_text=' ',\n",
    "        height=430,\n",
    "        width=800,\n",
    "        margin=dict(t=85, r=30)\n",
    "        )\n",
    "\n",
    "    hover_text_male = '<b>%{y}</b><br>사고수: %{customdata[0]:.f}건<br>퍼센트: %{customdata[1]:.2f}%'\n",
    "    hover_text_female = '<b>%{y}</b><br>사고수: %{customdata[0]:.f}건<br>퍼센트: %{customdata[1]:.2f}%'\n",
    "\n",
    "    fig.update_traces(\n",
    "        hovertemplate=hover_text_male,\n",
    "        selector=dict(name='남')\n",
    "        )\n",
    "    fig.update_traces(\n",
    "        hovertemplate=hover_text_female,\n",
    "        selector=dict(name='여')\n",
    "        )\n",
    "    fig.update_xaxes(\n",
    "        showticklabels=True,\n",
    "        title_text=\"\",\n",
    "        title_font=dict(size=12)  \n",
    "        )\n",
    "    fig.update_yaxes(\n",
    "        tickfont=dict(size=12)  \n",
    "        )\n",
    "\n",
    "    return fig\n"
   ]
  },
  {
   "cell_type": "code",
   "execution_count": 149,
   "metadata": {},
   "outputs": [],
   "source": [
    "# 학교급별 사고자 학년 시각화\n",
    "def create_donut_chart(df, year, sch_level, name_col, value_col, name_order, colors):\n",
    "    sch_year_df = df[(df['연도'] == year) & (df['학교급'] == sch_level)]\n",
    "    \n",
    "    fig = px.pie(\n",
    "        sch_year_df,\n",
    "        names=name_col,\n",
    "        values=value_col,\n",
    "        hole=0.4,\n",
    "        category_orders={name_col: name_order},\n",
    "        color=name_col,\n",
    "        color_discrete_map=colors,\n",
    "        )\n",
    "    fig.update_layout(\n",
    "        annotations=[\n",
    "            dict(\n",
    "                text=sch_level,\n",
    "                x=0.5,\n",
    "                y=0.5,\n",
    "                font_size=15,\n",
    "                showarrow=False\n",
    "                )\n",
    "            ]\n",
    "        )\n",
    "    fig.update_traces(texttemplate='%{label}<br><span style=\"font-size:13px\">%{percent:.2%}</span>',\n",
    "                      hovertemplate='<b>%{label}</b><br>사고수: %{value:,}건<br>')\n",
    "    fig.update_layout(\n",
    "        font=dict(\n",
    "            family='KoPubWorld돋움체_Pro',\n",
    "            color='black'\n",
    "            ),\n",
    "        hoverlabel=dict(\n",
    "            font_size=14,\n",
    "            font_family=\"KoPubWorld돋움체_Pro\"\n",
    "            ),\n",
    "        paper_bgcolor='white',\n",
    "        plot_bgcolor='white',\n",
    "        showlegend=False,\n",
    "        height=360,\n",
    "        width=360,\n",
    "        margin=dict(t=60)\n",
    "        )\n",
    "\n",
    "    return fig"
   ]
  },
  {
   "cell_type": "code",
   "execution_count": 150,
   "metadata": {},
   "outputs": [],
   "source": [
    "# 학교급별 사고 수 월별 비교 시각화\n",
    "def create_stacked_barchart(df, school_type_categories, palette, months):\n",
    "    fig = go.Figure()\n",
    "    for category, color in zip(school_type_categories, palette):\n",
    "        fig.add_trace(go.Bar(\n",
    "            x=df.index,\n",
    "            y=df['퍼센트'][category],\n",
    "            name=category,\n",
    "            marker_color=color,\n",
    "            customdata=df['구분'][category],\n",
    "            hovertemplate='<b>%{x}</b><br>' +\n",
    "                          '학교급: ' + category + '<br>' +\n",
    "                          '사고수: %{customdata}건<br>' +\n",
    "                          '퍼센트: %{y}<extra></extra>'\n",
    "                          ))\n",
    "    fig.update_layout(\n",
    "        barmode='stack',\n",
    "        height=500,\n",
    "        width=1100,\n",
    "        font=dict(\n",
    "            family='KoPubWorld돋움체_Pro',\n",
    "            color='black'\n",
    "            ),\n",
    "        hoverlabel=dict(\n",
    "            font_size=14,\n",
    "            font_family=\"KoPubWorld돋움체_Pro\"\n",
    "            ),\n",
    "        paper_bgcolor='white',\n",
    "        plot_bgcolor='white',\n",
    "        yaxis=dict(\n",
    "            ticksuffix=\"%\", title=' '\n",
    "            ),\n",
    "        legend=dict(\n",
    "            title_text=' '\n",
    "            ),\n",
    "        xaxis=dict(\n",
    "            title=' ',\n",
    "            title_font_family='KoPubWorld돋움체 Medium',\n",
    "            tickfont=dict(size=17),\n",
    "            categoryorder='array',\n",
    "            categoryarray=months\n",
    "            ),\n",
    "        margin=dict(t=30, l=105, r=105)\n",
    "        )\n",
    "\n",
    "    return fig"
   ]
  },
  {
   "cell_type": "code",
   "execution_count": 151,
   "metadata": {},
   "outputs": [],
   "source": [
    "def create_sub_barchart(df, category_col, value_col, colors):\n",
    "    df = df[df['학교급'].notna()]\n",
    "    unique_school_levels = df['학교급'].unique()\n",
    "    \n",
    "    num_rows = 2\n",
    "    num_cols = 3\n",
    "    fig = make_subplots(\n",
    "        rows=num_rows, cols=num_cols,  \n",
    "        subplot_titles=unique_school_levels,  \n",
    "        horizontal_spacing=0.1,\n",
    "        vertical_spacing=0.3\n",
    "        )\n",
    "    for i, school_level in enumerate(unique_school_levels):\n",
    "        row = i // num_cols + 1\n",
    "        col = i % num_cols + 1\n",
    "        level_data = df[df['학교급'] == school_level].sort_values(value_col, ascending=False).head(5)\n",
    "        fig.add_trace(\n",
    "            go.Bar(\n",
    "                y=level_data[category_col],\n",
    "                x=level_data[value_col],\n",
    "                name=school_level,\n",
    "                orientation='h',\n",
    "                marker=dict(color=colors.get(school_level)),  \n",
    "                hovertemplate='<b>%{y}</b><br>사고수: %{x:,}건<extra></extra>',   \n",
    "                width=0.8\n",
    "                ),\n",
    "            row=row, col=col\n",
    "            )\n",
    "    fig.update_layout(\n",
    "        barmode='stack',\n",
    "        font=dict(\n",
    "            family='KoPubWorld돋움체_Pro',\n",
    "            color='black',\n",
    "            size=20\n",
    "            ),\n",
    "        hoverlabel=dict(\n",
    "            font_size=14,\n",
    "            font_family=\"KoPubWorld돋움체_Pro\"\n",
    "            ),\n",
    "        height=600,  \n",
    "        width=1100,  \n",
    "        showlegend=False,\n",
    "        margin=dict(t=100, l=170)\n",
    "        )\n",
    "    fig.update_yaxes(\n",
    "        autorange=\"reversed\",\n",
    "        ticksuffix='  ',\n",
    "        title_font_family='KoPubWorld돋움체 Medium',\n",
    "        tickfont=dict(size=12)\n",
    "        )   \n",
    "    fig.update_xaxes(\n",
    "        title=' ',\n",
    "        title_font_family='KoPubWorld돋움체 Medium',\n",
    "        tickfont=dict(size=12)\n",
    "        )\n",
    "    \n",
    "    return fig"
   ]
  },
  {
   "cell_type": "markdown",
   "metadata": {},
   "source": [
    "#### 1-3-1. 학교급별 하루 평균 사고 수"
   ]
  },
  {
   "cell_type": "code",
   "execution_count": 153,
   "metadata": {},
   "outputs": [
    {
     "name": "stderr",
     "output_type": "stream",
     "text": [
      "C:\\Users\\cabby\\AppData\\Local\\Temp\\ipykernel_28384\\603056736.py:11: FutureWarning:\n",
      "\n",
      "The default of observed=False is deprecated and will be changed to True in a future version of pandas. Pass observed=False to retain current behavior or observed=True to adopt the future default and silence this warning.\n",
      "\n"
     ]
    },
    {
     "data": {
      "text/html": [
       "<div>\n",
       "<style scoped>\n",
       "    .dataframe tbody tr th:only-of-type {\n",
       "        vertical-align: middle;\n",
       "    }\n",
       "\n",
       "    .dataframe tbody tr th {\n",
       "        vertical-align: top;\n",
       "    }\n",
       "\n",
       "    .dataframe thead th {\n",
       "        text-align: right;\n",
       "    }\n",
       "</style>\n",
       "<table border=\"1\" class=\"dataframe\">\n",
       "  <thead>\n",
       "    <tr style=\"text-align: right;\">\n",
       "      <th></th>\n",
       "      <th>연도</th>\n",
       "      <th>학교급</th>\n",
       "      <th>총사고수</th>\n",
       "      <th>하루평균사고수</th>\n",
       "      <th>전년대비증감률</th>\n",
       "    </tr>\n",
       "  </thead>\n",
       "  <tbody>\n",
       "    <tr>\n",
       "      <th>0</th>\n",
       "      <td>2019</td>\n",
       "      <td>유치원</td>\n",
       "      <td>8735</td>\n",
       "      <td>23.93</td>\n",
       "      <td>0.000000</td>\n",
       "    </tr>\n",
       "    <tr>\n",
       "      <th>1</th>\n",
       "      <td>2019</td>\n",
       "      <td>초등학교</td>\n",
       "      <td>53728</td>\n",
       "      <td>147.20</td>\n",
       "      <td>0.000000</td>\n",
       "    </tr>\n",
       "    <tr>\n",
       "      <th>2</th>\n",
       "      <td>2019</td>\n",
       "      <td>중학교</td>\n",
       "      <td>43579</td>\n",
       "      <td>119.39</td>\n",
       "      <td>0.000000</td>\n",
       "    </tr>\n",
       "    <tr>\n",
       "      <th>3</th>\n",
       "      <td>2019</td>\n",
       "      <td>고등학교</td>\n",
       "      <td>31601</td>\n",
       "      <td>86.58</td>\n",
       "      <td>0.000000</td>\n",
       "    </tr>\n",
       "    <tr>\n",
       "      <th>4</th>\n",
       "      <td>2019</td>\n",
       "      <td>특수학교</td>\n",
       "      <td>545</td>\n",
       "      <td>1.49</td>\n",
       "      <td>0.000000</td>\n",
       "    </tr>\n",
       "    <tr>\n",
       "      <th>5</th>\n",
       "      <td>2019</td>\n",
       "      <td>기타학교</td>\n",
       "      <td>357</td>\n",
       "      <td>0.98</td>\n",
       "      <td>0.000000</td>\n",
       "    </tr>\n",
       "    <tr>\n",
       "      <th>6</th>\n",
       "      <td>2020</td>\n",
       "      <td>유치원</td>\n",
       "      <td>6026</td>\n",
       "      <td>16.51</td>\n",
       "      <td>-31.007104</td>\n",
       "    </tr>\n",
       "    <tr>\n",
       "      <th>7</th>\n",
       "      <td>2020</td>\n",
       "      <td>초등학교</td>\n",
       "      <td>10928</td>\n",
       "      <td>29.94</td>\n",
       "      <td>-79.660326</td>\n",
       "    </tr>\n",
       "    <tr>\n",
       "      <th>8</th>\n",
       "      <td>2020</td>\n",
       "      <td>중학교</td>\n",
       "      <td>11214</td>\n",
       "      <td>30.72</td>\n",
       "      <td>-74.269202</td>\n",
       "    </tr>\n",
       "    <tr>\n",
       "      <th>9</th>\n",
       "      <td>2020</td>\n",
       "      <td>고등학교</td>\n",
       "      <td>10752</td>\n",
       "      <td>29.46</td>\n",
       "      <td>-65.973666</td>\n",
       "    </tr>\n",
       "    <tr>\n",
       "      <th>10</th>\n",
       "      <td>2020</td>\n",
       "      <td>특수학교</td>\n",
       "      <td>269</td>\n",
       "      <td>0.74</td>\n",
       "      <td>-50.335570</td>\n",
       "    </tr>\n",
       "    <tr>\n",
       "      <th>11</th>\n",
       "      <td>2020</td>\n",
       "      <td>기타학교</td>\n",
       "      <td>152</td>\n",
       "      <td>0.42</td>\n",
       "      <td>-57.142857</td>\n",
       "    </tr>\n",
       "    <tr>\n",
       "      <th>12</th>\n",
       "      <td>2021</td>\n",
       "      <td>유치원</td>\n",
       "      <td>9187</td>\n",
       "      <td>25.17</td>\n",
       "      <td>52.453059</td>\n",
       "    </tr>\n",
       "    <tr>\n",
       "      <th>13</th>\n",
       "      <td>2021</td>\n",
       "      <td>초등학교</td>\n",
       "      <td>30597</td>\n",
       "      <td>83.83</td>\n",
       "      <td>179.993320</td>\n",
       "    </tr>\n",
       "    <tr>\n",
       "      <th>14</th>\n",
       "      <td>2021</td>\n",
       "      <td>중학교</td>\n",
       "      <td>34037</td>\n",
       "      <td>93.25</td>\n",
       "      <td>203.548177</td>\n",
       "    </tr>\n",
       "    <tr>\n",
       "      <th>15</th>\n",
       "      <td>2021</td>\n",
       "      <td>고등학교</td>\n",
       "      <td>19822</td>\n",
       "      <td>54.31</td>\n",
       "      <td>84.351663</td>\n",
       "    </tr>\n",
       "    <tr>\n",
       "      <th>16</th>\n",
       "      <td>2021</td>\n",
       "      <td>특수학교</td>\n",
       "      <td>440</td>\n",
       "      <td>1.21</td>\n",
       "      <td>63.513514</td>\n",
       "    </tr>\n",
       "    <tr>\n",
       "      <th>17</th>\n",
       "      <td>2021</td>\n",
       "      <td>기타학교</td>\n",
       "      <td>340</td>\n",
       "      <td>0.93</td>\n",
       "      <td>121.428571</td>\n",
       "    </tr>\n",
       "    <tr>\n",
       "      <th>18</th>\n",
       "      <td>2022</td>\n",
       "      <td>유치원</td>\n",
       "      <td>9104</td>\n",
       "      <td>24.94</td>\n",
       "      <td>-0.913786</td>\n",
       "    </tr>\n",
       "    <tr>\n",
       "      <th>19</th>\n",
       "      <td>2022</td>\n",
       "      <td>초등학교</td>\n",
       "      <td>53129</td>\n",
       "      <td>145.56</td>\n",
       "      <td>73.637123</td>\n",
       "    </tr>\n",
       "    <tr>\n",
       "      <th>20</th>\n",
       "      <td>2022</td>\n",
       "      <td>중학교</td>\n",
       "      <td>57568</td>\n",
       "      <td>157.72</td>\n",
       "      <td>69.136729</td>\n",
       "    </tr>\n",
       "    <tr>\n",
       "      <th>21</th>\n",
       "      <td>2022</td>\n",
       "      <td>고등학교</td>\n",
       "      <td>29428</td>\n",
       "      <td>80.62</td>\n",
       "      <td>48.444117</td>\n",
       "    </tr>\n",
       "    <tr>\n",
       "      <th>22</th>\n",
       "      <td>2022</td>\n",
       "      <td>특수학교</td>\n",
       "      <td>536</td>\n",
       "      <td>1.47</td>\n",
       "      <td>21.487603</td>\n",
       "    </tr>\n",
       "    <tr>\n",
       "      <th>23</th>\n",
       "      <td>2022</td>\n",
       "      <td>기타학교</td>\n",
       "      <td>502</td>\n",
       "      <td>1.38</td>\n",
       "      <td>48.387097</td>\n",
       "    </tr>\n",
       "    <tr>\n",
       "      <th>24</th>\n",
       "      <td>2023</td>\n",
       "      <td>유치원</td>\n",
       "      <td>9002</td>\n",
       "      <td>24.66</td>\n",
       "      <td>-1.122694</td>\n",
       "    </tr>\n",
       "    <tr>\n",
       "      <th>25</th>\n",
       "      <td>2023</td>\n",
       "      <td>초등학교</td>\n",
       "      <td>69893</td>\n",
       "      <td>191.49</td>\n",
       "      <td>31.553998</td>\n",
       "    </tr>\n",
       "    <tr>\n",
       "      <th>26</th>\n",
       "      <td>2023</td>\n",
       "      <td>중학교</td>\n",
       "      <td>69494</td>\n",
       "      <td>190.39</td>\n",
       "      <td>20.713923</td>\n",
       "    </tr>\n",
       "    <tr>\n",
       "      <th>27</th>\n",
       "      <td>2023</td>\n",
       "      <td>고등학교</td>\n",
       "      <td>38212</td>\n",
       "      <td>104.69</td>\n",
       "      <td>29.856115</td>\n",
       "    </tr>\n",
       "    <tr>\n",
       "      <th>28</th>\n",
       "      <td>2023</td>\n",
       "      <td>특수학교</td>\n",
       "      <td>681</td>\n",
       "      <td>1.87</td>\n",
       "      <td>27.210884</td>\n",
       "    </tr>\n",
       "    <tr>\n",
       "      <th>29</th>\n",
       "      <td>2023</td>\n",
       "      <td>기타학교</td>\n",
       "      <td>585</td>\n",
       "      <td>1.60</td>\n",
       "      <td>15.942029</td>\n",
       "    </tr>\n",
       "  </tbody>\n",
       "</table>\n",
       "</div>"
      ],
      "text/plain": [
       "      연도   학교급   총사고수  하루평균사고수     전년대비증감률\n",
       "0   2019   유치원   8735    23.93    0.000000\n",
       "1   2019  초등학교  53728   147.20    0.000000\n",
       "2   2019   중학교  43579   119.39    0.000000\n",
       "3   2019  고등학교  31601    86.58    0.000000\n",
       "4   2019  특수학교    545     1.49    0.000000\n",
       "5   2019  기타학교    357     0.98    0.000000\n",
       "6   2020   유치원   6026    16.51  -31.007104\n",
       "7   2020  초등학교  10928    29.94  -79.660326\n",
       "8   2020   중학교  11214    30.72  -74.269202\n",
       "9   2020  고등학교  10752    29.46  -65.973666\n",
       "10  2020  특수학교    269     0.74  -50.335570\n",
       "11  2020  기타학교    152     0.42  -57.142857\n",
       "12  2021   유치원   9187    25.17   52.453059\n",
       "13  2021  초등학교  30597    83.83  179.993320\n",
       "14  2021   중학교  34037    93.25  203.548177\n",
       "15  2021  고등학교  19822    54.31   84.351663\n",
       "16  2021  특수학교    440     1.21   63.513514\n",
       "17  2021  기타학교    340     0.93  121.428571\n",
       "18  2022   유치원   9104    24.94   -0.913786\n",
       "19  2022  초등학교  53129   145.56   73.637123\n",
       "20  2022   중학교  57568   157.72   69.136729\n",
       "21  2022  고등학교  29428    80.62   48.444117\n",
       "22  2022  특수학교    536     1.47   21.487603\n",
       "23  2022  기타학교    502     1.38   48.387097\n",
       "24  2023   유치원   9002    24.66   -1.122694\n",
       "25  2023  초등학교  69893   191.49   31.553998\n",
       "26  2023   중학교  69494   190.39   20.713923\n",
       "27  2023  고등학교  38212   104.69   29.856115\n",
       "28  2023  특수학교    681     1.87   27.210884\n",
       "29  2023  기타학교    585     1.60   15.942029"
      ]
     },
     "execution_count": 153,
     "metadata": {},
     "output_type": "execute_result"
    }
   ],
   "source": [
    "# sch_aver_acci 데이터프레임\n",
    "# 연도, 학교급 기준으로 groupby 후 각 연도와 학교급별 총 사고발생일 수 계산\n",
    "sch_aver_acci = sch_df.groupby(['연도', '학교급']).agg(총사고수=('사고발생일', 'count')).reset_index()\n",
    "# 연도, 학교급 기준으로 정렬\n",
    "custom_order = [\"유치원\", \"초등학교\", \"중학교\", \"고등학교\", \"특수학교\", \"기타학교\"]\n",
    "sch_aver_acci['학교급'] = pd.Categorical(sch_aver_acci['학교급'], categories=custom_order, ordered=True)\n",
    "sch_aver_acci = sch_aver_acci.sort_values(['연도', '학교급']).reset_index(drop=True)\n",
    "# 하루 평균 사고 발생 수 계산\n",
    "sch_aver_acci['하루평균사고수'] = round(sch_aver_acci['총사고수'] / 365, 2)\n",
    "# 전년 대비 증감률 계산\n",
    "sch_aver_acci['전년대비증감률'] = sch_aver_acci.groupby('학교급')['하루평균사고수'].pct_change().fillna(0) * 100\n",
    "sch_aver_acci"
   ]
  },
  {
   "cell_type": "markdown",
   "metadata": {},
   "source": [
    "#### 1-3-2. 학교급별 총 사고 수"
   ]
  },
  {
   "cell_type": "code",
   "execution_count": 157,
   "metadata": {},
   "outputs": [
    {
     "data": {
      "text/html": [
       "<div>\n",
       "<style scoped>\n",
       "    .dataframe tbody tr th:only-of-type {\n",
       "        vertical-align: middle;\n",
       "    }\n",
       "\n",
       "    .dataframe tbody tr th {\n",
       "        vertical-align: top;\n",
       "    }\n",
       "\n",
       "    .dataframe thead th {\n",
       "        text-align: right;\n",
       "    }\n",
       "</style>\n",
       "<table border=\"1\" class=\"dataframe\">\n",
       "  <thead>\n",
       "    <tr style=\"text-align: right;\">\n",
       "      <th></th>\n",
       "      <th>연도</th>\n",
       "      <th>학교급</th>\n",
       "      <th>총 사고수</th>\n",
       "    </tr>\n",
       "  </thead>\n",
       "  <tbody>\n",
       "    <tr>\n",
       "      <th>0</th>\n",
       "      <td>2019</td>\n",
       "      <td>유치원</td>\n",
       "      <td>8735</td>\n",
       "    </tr>\n",
       "    <tr>\n",
       "      <th>1</th>\n",
       "      <td>2019</td>\n",
       "      <td>초등학교</td>\n",
       "      <td>53728</td>\n",
       "    </tr>\n",
       "    <tr>\n",
       "      <th>2</th>\n",
       "      <td>2019</td>\n",
       "      <td>중학교</td>\n",
       "      <td>43579</td>\n",
       "    </tr>\n",
       "    <tr>\n",
       "      <th>3</th>\n",
       "      <td>2019</td>\n",
       "      <td>고등학교</td>\n",
       "      <td>31601</td>\n",
       "    </tr>\n",
       "    <tr>\n",
       "      <th>4</th>\n",
       "      <td>2019</td>\n",
       "      <td>특수학교</td>\n",
       "      <td>545</td>\n",
       "    </tr>\n",
       "    <tr>\n",
       "      <th>5</th>\n",
       "      <td>2019</td>\n",
       "      <td>기타학교</td>\n",
       "      <td>357</td>\n",
       "    </tr>\n",
       "    <tr>\n",
       "      <th>6</th>\n",
       "      <td>2020</td>\n",
       "      <td>유치원</td>\n",
       "      <td>6026</td>\n",
       "    </tr>\n",
       "    <tr>\n",
       "      <th>7</th>\n",
       "      <td>2020</td>\n",
       "      <td>초등학교</td>\n",
       "      <td>10928</td>\n",
       "    </tr>\n",
       "    <tr>\n",
       "      <th>8</th>\n",
       "      <td>2020</td>\n",
       "      <td>중학교</td>\n",
       "      <td>11214</td>\n",
       "    </tr>\n",
       "    <tr>\n",
       "      <th>9</th>\n",
       "      <td>2020</td>\n",
       "      <td>고등학교</td>\n",
       "      <td>10752</td>\n",
       "    </tr>\n",
       "    <tr>\n",
       "      <th>10</th>\n",
       "      <td>2020</td>\n",
       "      <td>특수학교</td>\n",
       "      <td>269</td>\n",
       "    </tr>\n",
       "    <tr>\n",
       "      <th>11</th>\n",
       "      <td>2020</td>\n",
       "      <td>기타학교</td>\n",
       "      <td>152</td>\n",
       "    </tr>\n",
       "    <tr>\n",
       "      <th>12</th>\n",
       "      <td>2021</td>\n",
       "      <td>유치원</td>\n",
       "      <td>9187</td>\n",
       "    </tr>\n",
       "    <tr>\n",
       "      <th>13</th>\n",
       "      <td>2021</td>\n",
       "      <td>초등학교</td>\n",
       "      <td>30597</td>\n",
       "    </tr>\n",
       "    <tr>\n",
       "      <th>14</th>\n",
       "      <td>2021</td>\n",
       "      <td>중학교</td>\n",
       "      <td>34037</td>\n",
       "    </tr>\n",
       "    <tr>\n",
       "      <th>15</th>\n",
       "      <td>2021</td>\n",
       "      <td>고등학교</td>\n",
       "      <td>19822</td>\n",
       "    </tr>\n",
       "    <tr>\n",
       "      <th>16</th>\n",
       "      <td>2021</td>\n",
       "      <td>특수학교</td>\n",
       "      <td>440</td>\n",
       "    </tr>\n",
       "    <tr>\n",
       "      <th>17</th>\n",
       "      <td>2021</td>\n",
       "      <td>기타학교</td>\n",
       "      <td>340</td>\n",
       "    </tr>\n",
       "    <tr>\n",
       "      <th>18</th>\n",
       "      <td>2022</td>\n",
       "      <td>유치원</td>\n",
       "      <td>9104</td>\n",
       "    </tr>\n",
       "    <tr>\n",
       "      <th>19</th>\n",
       "      <td>2022</td>\n",
       "      <td>초등학교</td>\n",
       "      <td>53129</td>\n",
       "    </tr>\n",
       "    <tr>\n",
       "      <th>20</th>\n",
       "      <td>2022</td>\n",
       "      <td>중학교</td>\n",
       "      <td>57568</td>\n",
       "    </tr>\n",
       "    <tr>\n",
       "      <th>21</th>\n",
       "      <td>2022</td>\n",
       "      <td>고등학교</td>\n",
       "      <td>29428</td>\n",
       "    </tr>\n",
       "    <tr>\n",
       "      <th>22</th>\n",
       "      <td>2022</td>\n",
       "      <td>특수학교</td>\n",
       "      <td>536</td>\n",
       "    </tr>\n",
       "    <tr>\n",
       "      <th>23</th>\n",
       "      <td>2022</td>\n",
       "      <td>기타학교</td>\n",
       "      <td>502</td>\n",
       "    </tr>\n",
       "    <tr>\n",
       "      <th>24</th>\n",
       "      <td>2023</td>\n",
       "      <td>유치원</td>\n",
       "      <td>9002</td>\n",
       "    </tr>\n",
       "    <tr>\n",
       "      <th>25</th>\n",
       "      <td>2023</td>\n",
       "      <td>초등학교</td>\n",
       "      <td>69893</td>\n",
       "    </tr>\n",
       "    <tr>\n",
       "      <th>26</th>\n",
       "      <td>2023</td>\n",
       "      <td>중학교</td>\n",
       "      <td>69494</td>\n",
       "    </tr>\n",
       "    <tr>\n",
       "      <th>27</th>\n",
       "      <td>2023</td>\n",
       "      <td>고등학교</td>\n",
       "      <td>38212</td>\n",
       "    </tr>\n",
       "    <tr>\n",
       "      <th>28</th>\n",
       "      <td>2023</td>\n",
       "      <td>특수학교</td>\n",
       "      <td>681</td>\n",
       "    </tr>\n",
       "    <tr>\n",
       "      <th>29</th>\n",
       "      <td>2023</td>\n",
       "      <td>기타학교</td>\n",
       "      <td>585</td>\n",
       "    </tr>\n",
       "  </tbody>\n",
       "</table>\n",
       "</div>"
      ],
      "text/plain": [
       "      연도   학교급  총 사고수\n",
       "0   2019   유치원   8735\n",
       "1   2019  초등학교  53728\n",
       "2   2019   중학교  43579\n",
       "3   2019  고등학교  31601\n",
       "4   2019  특수학교    545\n",
       "5   2019  기타학교    357\n",
       "6   2020   유치원   6026\n",
       "7   2020  초등학교  10928\n",
       "8   2020   중학교  11214\n",
       "9   2020  고등학교  10752\n",
       "10  2020  특수학교    269\n",
       "11  2020  기타학교    152\n",
       "12  2021   유치원   9187\n",
       "13  2021  초등학교  30597\n",
       "14  2021   중학교  34037\n",
       "15  2021  고등학교  19822\n",
       "16  2021  특수학교    440\n",
       "17  2021  기타학교    340\n",
       "18  2022   유치원   9104\n",
       "19  2022  초등학교  53129\n",
       "20  2022   중학교  57568\n",
       "21  2022  고등학교  29428\n",
       "22  2022  특수학교    536\n",
       "23  2022  기타학교    502\n",
       "24  2023   유치원   9002\n",
       "25  2023  초등학교  69893\n",
       "26  2023   중학교  69494\n",
       "27  2023  고등학교  38212\n",
       "28  2023  특수학교    681\n",
       "29  2023  기타학교    585"
      ]
     },
     "execution_count": 157,
     "metadata": {},
     "output_type": "execute_result"
    }
   ],
   "source": [
    "# sch_tot_acci 데이터프레임(초등학교 저학년/고학년 구분X)\n",
    "# 연도, 학교급 기준으로 groupby\n",
    "sch_tot_acci = sch_df.groupby(['연도', '학교급']).size().reset_index(name='총 사고수')\n",
    "# 연도, 학교급 기준으로 정렬\n",
    "custom_order = [\"유치원\", \"초등학교\", \"중학교\", \"고등학교\", \"특수학교\", \"기타학교\"]\n",
    "sch_tot_acci['학교급'] = pd.Categorical(sch_tot_acci['학교급'], categories=custom_order, ordered=True)\n",
    "sch_tot_acci = sch_tot_acci.sort_values(['연도', '학교급']).reset_index(drop=True)\n",
    "sch_tot_acci"
   ]
  },
  {
   "cell_type": "code",
   "execution_count": 165,
   "metadata": {},
   "outputs": [
    {
     "data": {
      "application/vnd.plotly.v1+json": {
       "config": {
        "plotlyServerURL": "https://plot.ly"
       },
       "data": [
        {
         "hovertemplate": "<b>%{y}</b><br>사고수: %{x:,}건<extra></extra>",
         "marker": {
          "color": "#4a5fa8"
         },
         "orientation": "h",
         "type": "bar",
         "x": [
          8735,
          53728,
          43579,
          31601,
          545,
          357
         ],
         "y": [
          "유치원",
          "초등학교",
          "중학교",
          "고등학교",
          "특수학교",
          "기타학교"
         ]
        }
       ],
       "layout": {
        "font": {
         "family": "KoPubWorld돋움체_Pro"
        },
        "height": 400,
        "hoverlabel": {
         "font": {
          "family": "KoPubWorld돋움체_Pro",
          "size": 14
         }
        },
        "margin": {
         "t": 50
        },
        "template": {
         "data": {
          "candlestick": [
           {
            "decreasing": {
             "line": {
              "color": "#000033"
             }
            },
            "increasing": {
             "line": {
              "color": "#000032"
             }
            },
            "type": "candlestick"
           }
          ],
          "contour": [
           {
            "colorscale": [
             [
              0,
              "#000011"
             ],
             [
              0.1111111111111111,
              "#000012"
             ],
             [
              0.2222222222222222,
              "#000013"
             ],
             [
              0.3333333333333333,
              "#000014"
             ],
             [
              0.4444444444444444,
              "#000015"
             ],
             [
              0.5555555555555556,
              "#000016"
             ],
             [
              0.6666666666666666,
              "#000017"
             ],
             [
              0.7777777777777778,
              "#000018"
             ],
             [
              0.8888888888888888,
              "#000019"
             ],
             [
              1,
              "#000020"
             ]
            ],
            "type": "contour"
           }
          ],
          "contourcarpet": [
           {
            "colorscale": [
             [
              0,
              "#000011"
             ],
             [
              0.1111111111111111,
              "#000012"
             ],
             [
              0.2222222222222222,
              "#000013"
             ],
             [
              0.3333333333333333,
              "#000014"
             ],
             [
              0.4444444444444444,
              "#000015"
             ],
             [
              0.5555555555555556,
              "#000016"
             ],
             [
              0.6666666666666666,
              "#000017"
             ],
             [
              0.7777777777777778,
              "#000018"
             ],
             [
              0.8888888888888888,
              "#000019"
             ],
             [
              1,
              "#000020"
             ]
            ],
            "type": "contourcarpet"
           }
          ],
          "heatmap": [
           {
            "colorscale": [
             [
              0,
              "#000011"
             ],
             [
              0.1111111111111111,
              "#000012"
             ],
             [
              0.2222222222222222,
              "#000013"
             ],
             [
              0.3333333333333333,
              "#000014"
             ],
             [
              0.4444444444444444,
              "#000015"
             ],
             [
              0.5555555555555556,
              "#000016"
             ],
             [
              0.6666666666666666,
              "#000017"
             ],
             [
              0.7777777777777778,
              "#000018"
             ],
             [
              0.8888888888888888,
              "#000019"
             ],
             [
              1,
              "#000020"
             ]
            ],
            "type": "heatmap"
           }
          ],
          "histogram2d": [
           {
            "colorscale": [
             [
              0,
              "#000011"
             ],
             [
              0.1111111111111111,
              "#000012"
             ],
             [
              0.2222222222222222,
              "#000013"
             ],
             [
              0.3333333333333333,
              "#000014"
             ],
             [
              0.4444444444444444,
              "#000015"
             ],
             [
              0.5555555555555556,
              "#000016"
             ],
             [
              0.6666666666666666,
              "#000017"
             ],
             [
              0.7777777777777778,
              "#000018"
             ],
             [
              0.8888888888888888,
              "#000019"
             ],
             [
              1,
              "#000020"
             ]
            ],
            "type": "histogram2d"
           }
          ],
          "icicle": [
           {
            "textfont": {
             "color": "white"
            },
            "type": "icicle"
           }
          ],
          "sankey": [
           {
            "textfont": {
             "color": "#000036"
            },
            "type": "sankey"
           }
          ],
          "scatter": [
           {
            "marker": {
             "line": {
              "width": 0
             }
            },
            "type": "scatter"
           }
          ],
          "table": [
           {
            "cells": {
             "fill": {
              "color": "#000038"
             },
             "font": {
              "color": "#000037"
             },
             "line": {
              "color": "#000039"
             }
            },
            "header": {
             "fill": {
              "color": "#000040"
             },
             "font": {
              "color": "#000036"
             },
             "line": {
              "color": "#000039"
             }
            },
            "type": "table"
           }
          ],
          "waterfall": [
           {
            "connector": {
             "line": {
              "color": "#000036",
              "width": 2
             }
            },
            "decreasing": {
             "marker": {
              "color": "#000033"
             }
            },
            "increasing": {
             "marker": {
              "color": "#000032"
             }
            },
            "totals": {
             "marker": {
              "color": "#000034"
             }
            },
            "type": "waterfall"
           }
          ]
         },
         "layout": {
          "coloraxis": {
           "colorscale": [
            [
             0,
             "#000011"
            ],
            [
             0.1111111111111111,
             "#000012"
            ],
            [
             0.2222222222222222,
             "#000013"
            ],
            [
             0.3333333333333333,
             "#000014"
            ],
            [
             0.4444444444444444,
             "#000015"
            ],
            [
             0.5555555555555556,
             "#000016"
            ],
            [
             0.6666666666666666,
             "#000017"
            ],
            [
             0.7777777777777778,
             "#000018"
            ],
            [
             0.8888888888888888,
             "#000019"
            ],
            [
             1,
             "#000020"
            ]
           ]
          },
          "colorscale": {
           "diverging": [
            [
             0,
             "#000021"
            ],
            [
             0.1,
             "#000022"
            ],
            [
             0.2,
             "#000023"
            ],
            [
             0.3,
             "#000024"
            ],
            [
             0.4,
             "#000025"
            ],
            [
             0.5,
             "#000026"
            ],
            [
             0.6,
             "#000027"
            ],
            [
             0.7,
             "#000028"
            ],
            [
             0.8,
             "#000029"
            ],
            [
             0.9,
             "#000030"
            ],
            [
             1,
             "#000031"
            ]
           ],
           "sequential": [
            [
             0,
             "#000011"
            ],
            [
             0.1111111111111111,
             "#000012"
            ],
            [
             0.2222222222222222,
             "#000013"
            ],
            [
             0.3333333333333333,
             "#000014"
            ],
            [
             0.4444444444444444,
             "#000015"
            ],
            [
             0.5555555555555556,
             "#000016"
            ],
            [
             0.6666666666666666,
             "#000017"
            ],
            [
             0.7777777777777778,
             "#000018"
            ],
            [
             0.8888888888888888,
             "#000019"
            ],
            [
             1,
             "#000020"
            ]
           ],
           "sequentialminus": [
            [
             0,
             "#000011"
            ],
            [
             0.1111111111111111,
             "#000012"
            ],
            [
             0.2222222222222222,
             "#000013"
            ],
            [
             0.3333333333333333,
             "#000014"
            ],
            [
             0.4444444444444444,
             "#000015"
            ],
            [
             0.5555555555555556,
             "#000016"
            ],
            [
             0.6666666666666666,
             "#000017"
            ],
            [
             0.7777777777777778,
             "#000018"
            ],
            [
             0.8888888888888888,
             "#000019"
            ],
            [
             1,
             "#000020"
            ]
           ]
          },
          "colorway": [
           "#000001",
           "#000002",
           "#000003",
           "#000004",
           "#000005",
           "#000006",
           "#000007",
           "#000008",
           "#000009",
           "#000010"
          ]
         }
        },
        "width": 800,
        "yaxis": {
         "categoryarray": [
          "기타학교",
          "특수학교",
          "고등학교",
          "중학교",
          "초등학교",
          "유치원"
         ],
         "categoryorder": "array"
        }
       }
      }
     },
     "metadata": {},
     "output_type": "display_data"
    }
   ],
   "source": [
    "# sch_tot_acci 그래프 시각화(2019년)\n",
    "custom_order = [\"기타학교\", \"특수학교\", \"고등학교\", \"중학교\", \"초등학교\", \"유치원\"]\n",
    "create_h_barchart(sch_tot_acci, '2019', \"총 사고수\", \"학교급\", custom_order)"
   ]
  },
  {
   "cell_type": "code",
   "execution_count": 162,
   "metadata": {},
   "outputs": [
    {
     "data": {
      "text/html": [
       "<div>\n",
       "<style scoped>\n",
       "    .dataframe tbody tr th:only-of-type {\n",
       "        vertical-align: middle;\n",
       "    }\n",
       "\n",
       "    .dataframe tbody tr th {\n",
       "        vertical-align: top;\n",
       "    }\n",
       "\n",
       "    .dataframe thead th {\n",
       "        text-align: right;\n",
       "    }\n",
       "</style>\n",
       "<table border=\"1\" class=\"dataframe\">\n",
       "  <thead>\n",
       "    <tr style=\"text-align: right;\">\n",
       "      <th></th>\n",
       "      <th>연도</th>\n",
       "      <th>학교급</th>\n",
       "      <th>총 사고수</th>\n",
       "    </tr>\n",
       "  </thead>\n",
       "  <tbody>\n",
       "    <tr>\n",
       "      <th>0</th>\n",
       "      <td>2019</td>\n",
       "      <td>유치원</td>\n",
       "      <td>8735</td>\n",
       "    </tr>\n",
       "    <tr>\n",
       "      <th>1</th>\n",
       "      <td>2019</td>\n",
       "      <td>초등학교(저학년)</td>\n",
       "      <td>21340</td>\n",
       "    </tr>\n",
       "    <tr>\n",
       "      <th>2</th>\n",
       "      <td>2019</td>\n",
       "      <td>초등학교(고학년)</td>\n",
       "      <td>32195</td>\n",
       "    </tr>\n",
       "    <tr>\n",
       "      <th>3</th>\n",
       "      <td>2019</td>\n",
       "      <td>중학교</td>\n",
       "      <td>43579</td>\n",
       "    </tr>\n",
       "    <tr>\n",
       "      <th>4</th>\n",
       "      <td>2019</td>\n",
       "      <td>고등학교</td>\n",
       "      <td>31601</td>\n",
       "    </tr>\n",
       "    <tr>\n",
       "      <th>5</th>\n",
       "      <td>2019</td>\n",
       "      <td>특수학교</td>\n",
       "      <td>545</td>\n",
       "    </tr>\n",
       "    <tr>\n",
       "      <th>6</th>\n",
       "      <td>2019</td>\n",
       "      <td>기타학교</td>\n",
       "      <td>357</td>\n",
       "    </tr>\n",
       "    <tr>\n",
       "      <th>8</th>\n",
       "      <td>2020</td>\n",
       "      <td>유치원</td>\n",
       "      <td>6026</td>\n",
       "    </tr>\n",
       "    <tr>\n",
       "      <th>9</th>\n",
       "      <td>2020</td>\n",
       "      <td>초등학교(저학년)</td>\n",
       "      <td>4674</td>\n",
       "    </tr>\n",
       "    <tr>\n",
       "      <th>10</th>\n",
       "      <td>2020</td>\n",
       "      <td>초등학교(고학년)</td>\n",
       "      <td>6242</td>\n",
       "    </tr>\n",
       "    <tr>\n",
       "      <th>11</th>\n",
       "      <td>2020</td>\n",
       "      <td>중학교</td>\n",
       "      <td>11214</td>\n",
       "    </tr>\n",
       "    <tr>\n",
       "      <th>12</th>\n",
       "      <td>2020</td>\n",
       "      <td>고등학교</td>\n",
       "      <td>10752</td>\n",
       "    </tr>\n",
       "    <tr>\n",
       "      <th>13</th>\n",
       "      <td>2020</td>\n",
       "      <td>특수학교</td>\n",
       "      <td>269</td>\n",
       "    </tr>\n",
       "    <tr>\n",
       "      <th>14</th>\n",
       "      <td>2020</td>\n",
       "      <td>기타학교</td>\n",
       "      <td>152</td>\n",
       "    </tr>\n",
       "    <tr>\n",
       "      <th>16</th>\n",
       "      <td>2021</td>\n",
       "      <td>유치원</td>\n",
       "      <td>9187</td>\n",
       "    </tr>\n",
       "    <tr>\n",
       "      <th>17</th>\n",
       "      <td>2021</td>\n",
       "      <td>초등학교(저학년)</td>\n",
       "      <td>11712</td>\n",
       "    </tr>\n",
       "    <tr>\n",
       "      <th>18</th>\n",
       "      <td>2021</td>\n",
       "      <td>초등학교(고학년)</td>\n",
       "      <td>18885</td>\n",
       "    </tr>\n",
       "    <tr>\n",
       "      <th>19</th>\n",
       "      <td>2021</td>\n",
       "      <td>중학교</td>\n",
       "      <td>34037</td>\n",
       "    </tr>\n",
       "    <tr>\n",
       "      <th>20</th>\n",
       "      <td>2021</td>\n",
       "      <td>고등학교</td>\n",
       "      <td>19822</td>\n",
       "    </tr>\n",
       "    <tr>\n",
       "      <th>21</th>\n",
       "      <td>2021</td>\n",
       "      <td>특수학교</td>\n",
       "      <td>440</td>\n",
       "    </tr>\n",
       "    <tr>\n",
       "      <th>22</th>\n",
       "      <td>2021</td>\n",
       "      <td>기타학교</td>\n",
       "      <td>340</td>\n",
       "    </tr>\n",
       "    <tr>\n",
       "      <th>23</th>\n",
       "      <td>2022</td>\n",
       "      <td>유치원</td>\n",
       "      <td>9104</td>\n",
       "    </tr>\n",
       "    <tr>\n",
       "      <th>24</th>\n",
       "      <td>2022</td>\n",
       "      <td>초등학교(저학년)</td>\n",
       "      <td>17633</td>\n",
       "    </tr>\n",
       "    <tr>\n",
       "      <th>25</th>\n",
       "      <td>2022</td>\n",
       "      <td>초등학교(고학년)</td>\n",
       "      <td>35492</td>\n",
       "    </tr>\n",
       "    <tr>\n",
       "      <th>26</th>\n",
       "      <td>2022</td>\n",
       "      <td>중학교</td>\n",
       "      <td>57568</td>\n",
       "    </tr>\n",
       "    <tr>\n",
       "      <th>27</th>\n",
       "      <td>2022</td>\n",
       "      <td>고등학교</td>\n",
       "      <td>29428</td>\n",
       "    </tr>\n",
       "    <tr>\n",
       "      <th>28</th>\n",
       "      <td>2022</td>\n",
       "      <td>특수학교</td>\n",
       "      <td>536</td>\n",
       "    </tr>\n",
       "    <tr>\n",
       "      <th>29</th>\n",
       "      <td>2022</td>\n",
       "      <td>기타학교</td>\n",
       "      <td>502</td>\n",
       "    </tr>\n",
       "    <tr>\n",
       "      <th>31</th>\n",
       "      <td>2023</td>\n",
       "      <td>유치원</td>\n",
       "      <td>9002</td>\n",
       "    </tr>\n",
       "    <tr>\n",
       "      <th>32</th>\n",
       "      <td>2023</td>\n",
       "      <td>초등학교(저학년)</td>\n",
       "      <td>23651</td>\n",
       "    </tr>\n",
       "    <tr>\n",
       "      <th>33</th>\n",
       "      <td>2023</td>\n",
       "      <td>초등학교(고학년)</td>\n",
       "      <td>46242</td>\n",
       "    </tr>\n",
       "    <tr>\n",
       "      <th>34</th>\n",
       "      <td>2023</td>\n",
       "      <td>중학교</td>\n",
       "      <td>69494</td>\n",
       "    </tr>\n",
       "    <tr>\n",
       "      <th>35</th>\n",
       "      <td>2023</td>\n",
       "      <td>고등학교</td>\n",
       "      <td>38212</td>\n",
       "    </tr>\n",
       "    <tr>\n",
       "      <th>36</th>\n",
       "      <td>2023</td>\n",
       "      <td>특수학교</td>\n",
       "      <td>681</td>\n",
       "    </tr>\n",
       "    <tr>\n",
       "      <th>37</th>\n",
       "      <td>2023</td>\n",
       "      <td>기타학교</td>\n",
       "      <td>585</td>\n",
       "    </tr>\n",
       "  </tbody>\n",
       "</table>\n",
       "</div>"
      ],
      "text/plain": [
       "      연도        학교급  총 사고수\n",
       "0   2019        유치원   8735\n",
       "1   2019  초등학교(저학년)  21340\n",
       "2   2019  초등학교(고학년)  32195\n",
       "3   2019        중학교  43579\n",
       "4   2019       고등학교  31601\n",
       "5   2019       특수학교    545\n",
       "6   2019       기타학교    357\n",
       "8   2020        유치원   6026\n",
       "9   2020  초등학교(저학년)   4674\n",
       "10  2020  초등학교(고학년)   6242\n",
       "11  2020        중학교  11214\n",
       "12  2020       고등학교  10752\n",
       "13  2020       특수학교    269\n",
       "14  2020       기타학교    152\n",
       "16  2021        유치원   9187\n",
       "17  2021  초등학교(저학년)  11712\n",
       "18  2021  초등학교(고학년)  18885\n",
       "19  2021        중학교  34037\n",
       "20  2021       고등학교  19822\n",
       "21  2021       특수학교    440\n",
       "22  2021       기타학교    340\n",
       "23  2022        유치원   9104\n",
       "24  2022  초등학교(저학년)  17633\n",
       "25  2022  초등학교(고학년)  35492\n",
       "26  2022        중학교  57568\n",
       "27  2022       고등학교  29428\n",
       "28  2022       특수학교    536\n",
       "29  2022       기타학교    502\n",
       "31  2023        유치원   9002\n",
       "32  2023  초등학교(저학년)  23651\n",
       "33  2023  초등학교(고학년)  46242\n",
       "34  2023        중학교  69494\n",
       "35  2023       고등학교  38212\n",
       "36  2023       특수학교    681\n",
       "37  2023       기타학교    585"
      ]
     },
     "execution_count": 162,
     "metadata": {},
     "output_type": "execute_result"
    }
   ],
   "source": [
    "# sch_tot_acci2 데이터프레임(초등학교 저학년/고학년 구분O)\n",
    "sch_tot_acci2 = sch_df.copy()\n",
    "# 초등학교 저학년/고학년 구분\n",
    "sch_tot_acci2.loc[(sch_tot_acci2['학교급']=='초등학교')&(sch_tot_acci2['사고자학년'].isin(['1학년','2학년','3학년'])),'학교급']='초등학교(저학년)'\n",
    "sch_tot_acci2.loc[(sch_tot_acci2['학교급']=='초등학교')&(sch_tot_acci2['사고자학년'].isin(['4학년','5학년','6학년'])),'학교급']='초등학교(고학년)'\n",
    "# 연도, 학교급 기준으로 groupby\n",
    "sch_tot_acci2 = sch_tot_acci2.groupby(['연도', '학교급']).size().reset_index(name='총 사고수')\n",
    "# 연도, 학교급 기준으로 정렬\n",
    "custom_order = [\"유치원\", \"초등학교(저학년)\", \"초등학교(고학년)\", \"중학교\", \"고등학교\", \"특수학교\", \"기타학교\"]\n",
    "sch_tot_acci2['학교급'] = pd.Categorical(sch_tot_acci2['학교급'], categories=custom_order, ordered=True)\n",
    "sch_tot_acci2 = sch_tot_acci2.sort_values(['연도', '학교급']).reset_index(drop=True)\n",
    "# 초등학교 저학년/고학년 구분 과정에서 생긴 nan 값(사고자학년 값이 유아인 경우) 처리\n",
    "sch_tot_acci2 = sch_tot_acci2.dropna()\n",
    "sch_tot_acci2 "
   ]
  },
  {
   "cell_type": "code",
   "execution_count": 166,
   "metadata": {},
   "outputs": [
    {
     "data": {
      "application/vnd.plotly.v1+json": {
       "config": {
        "plotlyServerURL": "https://plot.ly"
       },
       "data": [
        {
         "customdata": [
          [
           "유치원"
          ],
          [
           "초등학교(저학년)"
          ],
          [
           "초등학교(고학년)"
          ],
          [
           "중학교"
          ],
          [
           "고등학교"
          ],
          [
           "특수학교"
          ],
          [
           "기타학교"
          ]
         ],
         "direction": "clockwise",
         "domain": {
          "x": [
           0,
           1
          ],
          "y": [
           0,
           1
          ]
         },
         "hovertemplate": "<b>%{label}</b><br>사고수: %{value}건<br>",
         "labels": [
          "유치원",
          "초등학교(저학년)",
          "초등학교(고학년)",
          "중학교",
          "고등학교",
          "특수학교",
          "기타학교"
         ],
         "legendgroup": "",
         "marker": {
          "colors": [
           "#5c7dd2",
           "#92b8ff",
           "#aeceff",
           "#c7e4ff",
           "#c3b7eb",
           "#9590e6",
           "#837ed5"
          ]
         },
         "name": "",
         "showlegend": true,
         "sort": false,
         "texttemplate": "%{label}<br><span style=\"font-size:15px\">%{percent:.2%}</span>",
         "type": "pie",
         "values": [
          8735,
          21340,
          32195,
          43579,
          31601,
          545,
          357
         ]
        }
       ],
       "layout": {
        "font": {
         "family": "KoPubWorld돋움체_Pro"
        },
        "height": 400,
        "hoverlabel": {
         "font": {
          "family": "KoPubWorld돋움체_Pro",
          "size": 14
         }
        },
        "legend": {
         "tracegroupgap": 0
        },
        "margin": {
         "r": 60,
         "t": 120
        },
        "showlegend": false,
        "template": {
         "data": {
          "candlestick": [
           {
            "decreasing": {
             "line": {
              "color": "#000033"
             }
            },
            "increasing": {
             "line": {
              "color": "#000032"
             }
            },
            "type": "candlestick"
           }
          ],
          "contour": [
           {
            "colorscale": [
             [
              0,
              "#000011"
             ],
             [
              0.1111111111111111,
              "#000012"
             ],
             [
              0.2222222222222222,
              "#000013"
             ],
             [
              0.3333333333333333,
              "#000014"
             ],
             [
              0.4444444444444444,
              "#000015"
             ],
             [
              0.5555555555555556,
              "#000016"
             ],
             [
              0.6666666666666666,
              "#000017"
             ],
             [
              0.7777777777777778,
              "#000018"
             ],
             [
              0.8888888888888888,
              "#000019"
             ],
             [
              1,
              "#000020"
             ]
            ],
            "type": "contour"
           }
          ],
          "contourcarpet": [
           {
            "colorscale": [
             [
              0,
              "#000011"
             ],
             [
              0.1111111111111111,
              "#000012"
             ],
             [
              0.2222222222222222,
              "#000013"
             ],
             [
              0.3333333333333333,
              "#000014"
             ],
             [
              0.4444444444444444,
              "#000015"
             ],
             [
              0.5555555555555556,
              "#000016"
             ],
             [
              0.6666666666666666,
              "#000017"
             ],
             [
              0.7777777777777778,
              "#000018"
             ],
             [
              0.8888888888888888,
              "#000019"
             ],
             [
              1,
              "#000020"
             ]
            ],
            "type": "contourcarpet"
           }
          ],
          "heatmap": [
           {
            "colorscale": [
             [
              0,
              "#000011"
             ],
             [
              0.1111111111111111,
              "#000012"
             ],
             [
              0.2222222222222222,
              "#000013"
             ],
             [
              0.3333333333333333,
              "#000014"
             ],
             [
              0.4444444444444444,
              "#000015"
             ],
             [
              0.5555555555555556,
              "#000016"
             ],
             [
              0.6666666666666666,
              "#000017"
             ],
             [
              0.7777777777777778,
              "#000018"
             ],
             [
              0.8888888888888888,
              "#000019"
             ],
             [
              1,
              "#000020"
             ]
            ],
            "type": "heatmap"
           }
          ],
          "histogram2d": [
           {
            "colorscale": [
             [
              0,
              "#000011"
             ],
             [
              0.1111111111111111,
              "#000012"
             ],
             [
              0.2222222222222222,
              "#000013"
             ],
             [
              0.3333333333333333,
              "#000014"
             ],
             [
              0.4444444444444444,
              "#000015"
             ],
             [
              0.5555555555555556,
              "#000016"
             ],
             [
              0.6666666666666666,
              "#000017"
             ],
             [
              0.7777777777777778,
              "#000018"
             ],
             [
              0.8888888888888888,
              "#000019"
             ],
             [
              1,
              "#000020"
             ]
            ],
            "type": "histogram2d"
           }
          ],
          "icicle": [
           {
            "textfont": {
             "color": "white"
            },
            "type": "icicle"
           }
          ],
          "sankey": [
           {
            "textfont": {
             "color": "#000036"
            },
            "type": "sankey"
           }
          ],
          "scatter": [
           {
            "marker": {
             "line": {
              "width": 0
             }
            },
            "type": "scatter"
           }
          ],
          "table": [
           {
            "cells": {
             "fill": {
              "color": "#000038"
             },
             "font": {
              "color": "#000037"
             },
             "line": {
              "color": "#000039"
             }
            },
            "header": {
             "fill": {
              "color": "#000040"
             },
             "font": {
              "color": "#000036"
             },
             "line": {
              "color": "#000039"
             }
            },
            "type": "table"
           }
          ],
          "waterfall": [
           {
            "connector": {
             "line": {
              "color": "#000036",
              "width": 2
             }
            },
            "decreasing": {
             "marker": {
              "color": "#000033"
             }
            },
            "increasing": {
             "marker": {
              "color": "#000032"
             }
            },
            "totals": {
             "marker": {
              "color": "#000034"
             }
            },
            "type": "waterfall"
           }
          ]
         },
         "layout": {
          "coloraxis": {
           "colorscale": [
            [
             0,
             "#000011"
            ],
            [
             0.1111111111111111,
             "#000012"
            ],
            [
             0.2222222222222222,
             "#000013"
            ],
            [
             0.3333333333333333,
             "#000014"
            ],
            [
             0.4444444444444444,
             "#000015"
            ],
            [
             0.5555555555555556,
             "#000016"
            ],
            [
             0.6666666666666666,
             "#000017"
            ],
            [
             0.7777777777777778,
             "#000018"
            ],
            [
             0.8888888888888888,
             "#000019"
            ],
            [
             1,
             "#000020"
            ]
           ]
          },
          "colorscale": {
           "diverging": [
            [
             0,
             "#000021"
            ],
            [
             0.1,
             "#000022"
            ],
            [
             0.2,
             "#000023"
            ],
            [
             0.3,
             "#000024"
            ],
            [
             0.4,
             "#000025"
            ],
            [
             0.5,
             "#000026"
            ],
            [
             0.6,
             "#000027"
            ],
            [
             0.7,
             "#000028"
            ],
            [
             0.8,
             "#000029"
            ],
            [
             0.9,
             "#000030"
            ],
            [
             1,
             "#000031"
            ]
           ],
           "sequential": [
            [
             0,
             "#000011"
            ],
            [
             0.1111111111111111,
             "#000012"
            ],
            [
             0.2222222222222222,
             "#000013"
            ],
            [
             0.3333333333333333,
             "#000014"
            ],
            [
             0.4444444444444444,
             "#000015"
            ],
            [
             0.5555555555555556,
             "#000016"
            ],
            [
             0.6666666666666666,
             "#000017"
            ],
            [
             0.7777777777777778,
             "#000018"
            ],
            [
             0.8888888888888888,
             "#000019"
            ],
            [
             1,
             "#000020"
            ]
           ],
           "sequentialminus": [
            [
             0,
             "#000011"
            ],
            [
             0.1111111111111111,
             "#000012"
            ],
            [
             0.2222222222222222,
             "#000013"
            ],
            [
             0.3333333333333333,
             "#000014"
            ],
            [
             0.4444444444444444,
             "#000015"
            ],
            [
             0.5555555555555556,
             "#000016"
            ],
            [
             0.6666666666666666,
             "#000017"
            ],
            [
             0.7777777777777778,
             "#000018"
            ],
            [
             0.8888888888888888,
             "#000019"
            ],
            [
             1,
             "#000020"
            ]
           ]
          },
          "colorway": [
           "#000001",
           "#000002",
           "#000003",
           "#000004",
           "#000005",
           "#000006",
           "#000007",
           "#000008",
           "#000009",
           "#000010"
          ]
         }
        },
        "width": 400
       }
      }
     },
     "metadata": {},
     "output_type": "display_data"
    }
   ],
   "source": [
    "# sch_tot_acci2 그래프 시각화(2019년)\n",
    "custom_order = [\"유치원\", \"초등학교(저학년)\", \"초등학교(고학년)\", \"중학교\", \"고등학교\", \"특수학교\", \"기타학교\"]\n",
    "colors = {\n",
    "    \"유치원\": '#5c7dd2', \n",
    "    \"초등학교(저학년)\": '#92b8ff', \n",
    "    \"초등학교(고학년)\": '#aeceff', \n",
    "    \"중학교\": '#c7e4ff', \n",
    "    \"고등학교\": '#c3b7eb', \n",
    "    \"특수학교\": '#9590e6', \n",
    "    \"기타학교\": '#837ed5'\n",
    "    }\n",
    "create_piechart(sch_tot_acci2, '2019', '학교급', '총 사고수', custom_order, colors)"
   ]
  },
  {
   "cell_type": "markdown",
   "metadata": {},
   "source": [
    "#### 1-3-3. 학교급별 성별별 사고 수"
   ]
  },
  {
   "cell_type": "code",
   "execution_count": 163,
   "metadata": {},
   "outputs": [
    {
     "name": "stderr",
     "output_type": "stream",
     "text": [
      "C:\\Users\\cabby\\AppData\\Local\\Temp\\ipykernel_28384\\3710615621.py:14: FutureWarning:\n",
      "\n",
      "The default of observed=False is deprecated and will be changed to True in a future version of pandas. Pass observed=False to retain current behavior or observed=True to adopt the future default and silence this warning.\n",
      "\n"
     ]
    },
    {
     "data": {
      "text/html": [
       "<div>\n",
       "<style scoped>\n",
       "    .dataframe tbody tr th:only-of-type {\n",
       "        vertical-align: middle;\n",
       "    }\n",
       "\n",
       "    .dataframe tbody tr th {\n",
       "        vertical-align: top;\n",
       "    }\n",
       "\n",
       "    .dataframe thead th {\n",
       "        text-align: right;\n",
       "    }\n",
       "</style>\n",
       "<table border=\"1\" class=\"dataframe\">\n",
       "  <thead>\n",
       "    <tr style=\"text-align: right;\">\n",
       "      <th></th>\n",
       "      <th>연도</th>\n",
       "      <th>학교급</th>\n",
       "      <th>사고자성별</th>\n",
       "      <th>사고수</th>\n",
       "      <th>사고수 비율</th>\n",
       "    </tr>\n",
       "  </thead>\n",
       "  <tbody>\n",
       "    <tr>\n",
       "      <th>0</th>\n",
       "      <td>2019</td>\n",
       "      <td>유치원</td>\n",
       "      <td>남</td>\n",
       "      <td>5269</td>\n",
       "      <td>60.32</td>\n",
       "    </tr>\n",
       "    <tr>\n",
       "      <th>1</th>\n",
       "      <td>2019</td>\n",
       "      <td>유치원</td>\n",
       "      <td>여</td>\n",
       "      <td>3466</td>\n",
       "      <td>39.68</td>\n",
       "    </tr>\n",
       "    <tr>\n",
       "      <th>2</th>\n",
       "      <td>2020</td>\n",
       "      <td>유치원</td>\n",
       "      <td>남</td>\n",
       "      <td>3600</td>\n",
       "      <td>59.74</td>\n",
       "    </tr>\n",
       "    <tr>\n",
       "      <th>3</th>\n",
       "      <td>2020</td>\n",
       "      <td>유치원</td>\n",
       "      <td>여</td>\n",
       "      <td>2426</td>\n",
       "      <td>40.26</td>\n",
       "    </tr>\n",
       "    <tr>\n",
       "      <th>4</th>\n",
       "      <td>2021</td>\n",
       "      <td>유치원</td>\n",
       "      <td>남</td>\n",
       "      <td>5557</td>\n",
       "      <td>60.49</td>\n",
       "    </tr>\n",
       "    <tr>\n",
       "      <th>5</th>\n",
       "      <td>2021</td>\n",
       "      <td>유치원</td>\n",
       "      <td>여</td>\n",
       "      <td>3630</td>\n",
       "      <td>39.51</td>\n",
       "    </tr>\n",
       "    <tr>\n",
       "      <th>6</th>\n",
       "      <td>2022</td>\n",
       "      <td>유치원</td>\n",
       "      <td>남</td>\n",
       "      <td>5486</td>\n",
       "      <td>60.26</td>\n",
       "    </tr>\n",
       "    <tr>\n",
       "      <th>7</th>\n",
       "      <td>2022</td>\n",
       "      <td>유치원</td>\n",
       "      <td>여</td>\n",
       "      <td>3618</td>\n",
       "      <td>39.74</td>\n",
       "    </tr>\n",
       "    <tr>\n",
       "      <th>8</th>\n",
       "      <td>2023</td>\n",
       "      <td>유치원</td>\n",
       "      <td>남</td>\n",
       "      <td>5312</td>\n",
       "      <td>59.01</td>\n",
       "    </tr>\n",
       "    <tr>\n",
       "      <th>9</th>\n",
       "      <td>2023</td>\n",
       "      <td>유치원</td>\n",
       "      <td>여</td>\n",
       "      <td>3690</td>\n",
       "      <td>40.99</td>\n",
       "    </tr>\n",
       "    <tr>\n",
       "      <th>10</th>\n",
       "      <td>2019</td>\n",
       "      <td>초등학교(저학년)</td>\n",
       "      <td>남</td>\n",
       "      <td>13632</td>\n",
       "      <td>63.88</td>\n",
       "    </tr>\n",
       "    <tr>\n",
       "      <th>11</th>\n",
       "      <td>2019</td>\n",
       "      <td>초등학교(저학년)</td>\n",
       "      <td>여</td>\n",
       "      <td>7708</td>\n",
       "      <td>36.12</td>\n",
       "    </tr>\n",
       "    <tr>\n",
       "      <th>12</th>\n",
       "      <td>2020</td>\n",
       "      <td>초등학교(저학년)</td>\n",
       "      <td>남</td>\n",
       "      <td>2913</td>\n",
       "      <td>62.32</td>\n",
       "    </tr>\n",
       "    <tr>\n",
       "      <th>13</th>\n",
       "      <td>2020</td>\n",
       "      <td>초등학교(저학년)</td>\n",
       "      <td>여</td>\n",
       "      <td>1761</td>\n",
       "      <td>37.68</td>\n",
       "    </tr>\n",
       "    <tr>\n",
       "      <th>14</th>\n",
       "      <td>2021</td>\n",
       "      <td>초등학교(저학년)</td>\n",
       "      <td>남</td>\n",
       "      <td>7391</td>\n",
       "      <td>63.11</td>\n",
       "    </tr>\n",
       "    <tr>\n",
       "      <th>15</th>\n",
       "      <td>2021</td>\n",
       "      <td>초등학교(저학년)</td>\n",
       "      <td>여</td>\n",
       "      <td>4321</td>\n",
       "      <td>36.89</td>\n",
       "    </tr>\n",
       "    <tr>\n",
       "      <th>16</th>\n",
       "      <td>2022</td>\n",
       "      <td>초등학교(저학년)</td>\n",
       "      <td>남</td>\n",
       "      <td>11430</td>\n",
       "      <td>64.82</td>\n",
       "    </tr>\n",
       "    <tr>\n",
       "      <th>17</th>\n",
       "      <td>2022</td>\n",
       "      <td>초등학교(저학년)</td>\n",
       "      <td>여</td>\n",
       "      <td>6203</td>\n",
       "      <td>35.18</td>\n",
       "    </tr>\n",
       "    <tr>\n",
       "      <th>18</th>\n",
       "      <td>2023</td>\n",
       "      <td>초등학교(저학년)</td>\n",
       "      <td>남</td>\n",
       "      <td>15255</td>\n",
       "      <td>64.50</td>\n",
       "    </tr>\n",
       "    <tr>\n",
       "      <th>19</th>\n",
       "      <td>2023</td>\n",
       "      <td>초등학교(저학년)</td>\n",
       "      <td>여</td>\n",
       "      <td>8396</td>\n",
       "      <td>35.50</td>\n",
       "    </tr>\n",
       "    <tr>\n",
       "      <th>20</th>\n",
       "      <td>2019</td>\n",
       "      <td>초등학교(고학년)</td>\n",
       "      <td>남</td>\n",
       "      <td>21114</td>\n",
       "      <td>65.58</td>\n",
       "    </tr>\n",
       "    <tr>\n",
       "      <th>21</th>\n",
       "      <td>2019</td>\n",
       "      <td>초등학교(고학년)</td>\n",
       "      <td>여</td>\n",
       "      <td>11081</td>\n",
       "      <td>34.42</td>\n",
       "    </tr>\n",
       "    <tr>\n",
       "      <th>22</th>\n",
       "      <td>2020</td>\n",
       "      <td>초등학교(고학년)</td>\n",
       "      <td>남</td>\n",
       "      <td>4011</td>\n",
       "      <td>64.26</td>\n",
       "    </tr>\n",
       "    <tr>\n",
       "      <th>23</th>\n",
       "      <td>2020</td>\n",
       "      <td>초등학교(고학년)</td>\n",
       "      <td>여</td>\n",
       "      <td>2231</td>\n",
       "      <td>35.74</td>\n",
       "    </tr>\n",
       "    <tr>\n",
       "      <th>24</th>\n",
       "      <td>2021</td>\n",
       "      <td>초등학교(고학년)</td>\n",
       "      <td>남</td>\n",
       "      <td>11990</td>\n",
       "      <td>63.49</td>\n",
       "    </tr>\n",
       "    <tr>\n",
       "      <th>25</th>\n",
       "      <td>2021</td>\n",
       "      <td>초등학교(고학년)</td>\n",
       "      <td>여</td>\n",
       "      <td>6895</td>\n",
       "      <td>36.51</td>\n",
       "    </tr>\n",
       "    <tr>\n",
       "      <th>26</th>\n",
       "      <td>2022</td>\n",
       "      <td>초등학교(고학년)</td>\n",
       "      <td>남</td>\n",
       "      <td>23224</td>\n",
       "      <td>65.43</td>\n",
       "    </tr>\n",
       "    <tr>\n",
       "      <th>27</th>\n",
       "      <td>2022</td>\n",
       "      <td>초등학교(고학년)</td>\n",
       "      <td>여</td>\n",
       "      <td>12268</td>\n",
       "      <td>34.57</td>\n",
       "    </tr>\n",
       "    <tr>\n",
       "      <th>28</th>\n",
       "      <td>2023</td>\n",
       "      <td>초등학교(고학년)</td>\n",
       "      <td>남</td>\n",
       "      <td>30096</td>\n",
       "      <td>65.08</td>\n",
       "    </tr>\n",
       "    <tr>\n",
       "      <th>29</th>\n",
       "      <td>2023</td>\n",
       "      <td>초등학교(고학년)</td>\n",
       "      <td>여</td>\n",
       "      <td>16146</td>\n",
       "      <td>34.92</td>\n",
       "    </tr>\n",
       "    <tr>\n",
       "      <th>30</th>\n",
       "      <td>2019</td>\n",
       "      <td>중학교</td>\n",
       "      <td>남</td>\n",
       "      <td>30698</td>\n",
       "      <td>70.44</td>\n",
       "    </tr>\n",
       "    <tr>\n",
       "      <th>31</th>\n",
       "      <td>2019</td>\n",
       "      <td>중학교</td>\n",
       "      <td>여</td>\n",
       "      <td>12881</td>\n",
       "      <td>29.56</td>\n",
       "    </tr>\n",
       "    <tr>\n",
       "      <th>32</th>\n",
       "      <td>2020</td>\n",
       "      <td>중학교</td>\n",
       "      <td>남</td>\n",
       "      <td>7956</td>\n",
       "      <td>70.95</td>\n",
       "    </tr>\n",
       "    <tr>\n",
       "      <th>33</th>\n",
       "      <td>2020</td>\n",
       "      <td>중학교</td>\n",
       "      <td>여</td>\n",
       "      <td>3258</td>\n",
       "      <td>29.05</td>\n",
       "    </tr>\n",
       "    <tr>\n",
       "      <th>34</th>\n",
       "      <td>2021</td>\n",
       "      <td>중학교</td>\n",
       "      <td>남</td>\n",
       "      <td>23485</td>\n",
       "      <td>69.00</td>\n",
       "    </tr>\n",
       "    <tr>\n",
       "      <th>35</th>\n",
       "      <td>2021</td>\n",
       "      <td>중학교</td>\n",
       "      <td>여</td>\n",
       "      <td>10552</td>\n",
       "      <td>31.00</td>\n",
       "    </tr>\n",
       "    <tr>\n",
       "      <th>36</th>\n",
       "      <td>2022</td>\n",
       "      <td>중학교</td>\n",
       "      <td>남</td>\n",
       "      <td>39162</td>\n",
       "      <td>68.03</td>\n",
       "    </tr>\n",
       "    <tr>\n",
       "      <th>37</th>\n",
       "      <td>2022</td>\n",
       "      <td>중학교</td>\n",
       "      <td>여</td>\n",
       "      <td>18406</td>\n",
       "      <td>31.97</td>\n",
       "    </tr>\n",
       "    <tr>\n",
       "      <th>38</th>\n",
       "      <td>2023</td>\n",
       "      <td>중학교</td>\n",
       "      <td>남</td>\n",
       "      <td>47311</td>\n",
       "      <td>68.08</td>\n",
       "    </tr>\n",
       "    <tr>\n",
       "      <th>39</th>\n",
       "      <td>2023</td>\n",
       "      <td>중학교</td>\n",
       "      <td>여</td>\n",
       "      <td>22183</td>\n",
       "      <td>31.92</td>\n",
       "    </tr>\n",
       "    <tr>\n",
       "      <th>40</th>\n",
       "      <td>2019</td>\n",
       "      <td>고등학교</td>\n",
       "      <td>남</td>\n",
       "      <td>21664</td>\n",
       "      <td>68.55</td>\n",
       "    </tr>\n",
       "    <tr>\n",
       "      <th>41</th>\n",
       "      <td>2019</td>\n",
       "      <td>고등학교</td>\n",
       "      <td>여</td>\n",
       "      <td>9937</td>\n",
       "      <td>31.45</td>\n",
       "    </tr>\n",
       "    <tr>\n",
       "      <th>42</th>\n",
       "      <td>2020</td>\n",
       "      <td>고등학교</td>\n",
       "      <td>남</td>\n",
       "      <td>7532</td>\n",
       "      <td>70.05</td>\n",
       "    </tr>\n",
       "    <tr>\n",
       "      <th>43</th>\n",
       "      <td>2020</td>\n",
       "      <td>고등학교</td>\n",
       "      <td>여</td>\n",
       "      <td>3220</td>\n",
       "      <td>29.95</td>\n",
       "    </tr>\n",
       "    <tr>\n",
       "      <th>44</th>\n",
       "      <td>2021</td>\n",
       "      <td>고등학교</td>\n",
       "      <td>남</td>\n",
       "      <td>14119</td>\n",
       "      <td>71.23</td>\n",
       "    </tr>\n",
       "    <tr>\n",
       "      <th>45</th>\n",
       "      <td>2021</td>\n",
       "      <td>고등학교</td>\n",
       "      <td>여</td>\n",
       "      <td>5703</td>\n",
       "      <td>28.77</td>\n",
       "    </tr>\n",
       "    <tr>\n",
       "      <th>46</th>\n",
       "      <td>2022</td>\n",
       "      <td>고등학교</td>\n",
       "      <td>남</td>\n",
       "      <td>20704</td>\n",
       "      <td>70.35</td>\n",
       "    </tr>\n",
       "    <tr>\n",
       "      <th>47</th>\n",
       "      <td>2022</td>\n",
       "      <td>고등학교</td>\n",
       "      <td>여</td>\n",
       "      <td>8724</td>\n",
       "      <td>29.65</td>\n",
       "    </tr>\n",
       "    <tr>\n",
       "      <th>48</th>\n",
       "      <td>2023</td>\n",
       "      <td>고등학교</td>\n",
       "      <td>남</td>\n",
       "      <td>26825</td>\n",
       "      <td>70.20</td>\n",
       "    </tr>\n",
       "    <tr>\n",
       "      <th>49</th>\n",
       "      <td>2023</td>\n",
       "      <td>고등학교</td>\n",
       "      <td>여</td>\n",
       "      <td>11387</td>\n",
       "      <td>29.80</td>\n",
       "    </tr>\n",
       "    <tr>\n",
       "      <th>50</th>\n",
       "      <td>2019</td>\n",
       "      <td>특수학교</td>\n",
       "      <td>남</td>\n",
       "      <td>374</td>\n",
       "      <td>68.62</td>\n",
       "    </tr>\n",
       "    <tr>\n",
       "      <th>51</th>\n",
       "      <td>2019</td>\n",
       "      <td>특수학교</td>\n",
       "      <td>여</td>\n",
       "      <td>171</td>\n",
       "      <td>31.38</td>\n",
       "    </tr>\n",
       "    <tr>\n",
       "      <th>52</th>\n",
       "      <td>2020</td>\n",
       "      <td>특수학교</td>\n",
       "      <td>남</td>\n",
       "      <td>182</td>\n",
       "      <td>67.66</td>\n",
       "    </tr>\n",
       "    <tr>\n",
       "      <th>53</th>\n",
       "      <td>2020</td>\n",
       "      <td>특수학교</td>\n",
       "      <td>여</td>\n",
       "      <td>87</td>\n",
       "      <td>32.34</td>\n",
       "    </tr>\n",
       "    <tr>\n",
       "      <th>54</th>\n",
       "      <td>2021</td>\n",
       "      <td>특수학교</td>\n",
       "      <td>남</td>\n",
       "      <td>296</td>\n",
       "      <td>67.27</td>\n",
       "    </tr>\n",
       "    <tr>\n",
       "      <th>55</th>\n",
       "      <td>2021</td>\n",
       "      <td>특수학교</td>\n",
       "      <td>여</td>\n",
       "      <td>144</td>\n",
       "      <td>32.73</td>\n",
       "    </tr>\n",
       "    <tr>\n",
       "      <th>56</th>\n",
       "      <td>2022</td>\n",
       "      <td>특수학교</td>\n",
       "      <td>남</td>\n",
       "      <td>371</td>\n",
       "      <td>69.22</td>\n",
       "    </tr>\n",
       "    <tr>\n",
       "      <th>57</th>\n",
       "      <td>2022</td>\n",
       "      <td>특수학교</td>\n",
       "      <td>여</td>\n",
       "      <td>165</td>\n",
       "      <td>30.78</td>\n",
       "    </tr>\n",
       "    <tr>\n",
       "      <th>58</th>\n",
       "      <td>2023</td>\n",
       "      <td>특수학교</td>\n",
       "      <td>남</td>\n",
       "      <td>464</td>\n",
       "      <td>68.14</td>\n",
       "    </tr>\n",
       "    <tr>\n",
       "      <th>59</th>\n",
       "      <td>2023</td>\n",
       "      <td>특수학교</td>\n",
       "      <td>여</td>\n",
       "      <td>217</td>\n",
       "      <td>31.86</td>\n",
       "    </tr>\n",
       "  </tbody>\n",
       "</table>\n",
       "</div>"
      ],
      "text/plain": [
       "      연도        학교급 사고자성별    사고수  사고수 비율\n",
       "0   2019        유치원     남   5269   60.32\n",
       "1   2019        유치원     여   3466   39.68\n",
       "2   2020        유치원     남   3600   59.74\n",
       "3   2020        유치원     여   2426   40.26\n",
       "4   2021        유치원     남   5557   60.49\n",
       "5   2021        유치원     여   3630   39.51\n",
       "6   2022        유치원     남   5486   60.26\n",
       "7   2022        유치원     여   3618   39.74\n",
       "8   2023        유치원     남   5312   59.01\n",
       "9   2023        유치원     여   3690   40.99\n",
       "10  2019  초등학교(저학년)     남  13632   63.88\n",
       "11  2019  초등학교(저학년)     여   7708   36.12\n",
       "12  2020  초등학교(저학년)     남   2913   62.32\n",
       "13  2020  초등학교(저학년)     여   1761   37.68\n",
       "14  2021  초등학교(저학년)     남   7391   63.11\n",
       "15  2021  초등학교(저학년)     여   4321   36.89\n",
       "16  2022  초등학교(저학년)     남  11430   64.82\n",
       "17  2022  초등학교(저학년)     여   6203   35.18\n",
       "18  2023  초등학교(저학년)     남  15255   64.50\n",
       "19  2023  초등학교(저학년)     여   8396   35.50\n",
       "20  2019  초등학교(고학년)     남  21114   65.58\n",
       "21  2019  초등학교(고학년)     여  11081   34.42\n",
       "22  2020  초등학교(고학년)     남   4011   64.26\n",
       "23  2020  초등학교(고학년)     여   2231   35.74\n",
       "24  2021  초등학교(고학년)     남  11990   63.49\n",
       "25  2021  초등학교(고학년)     여   6895   36.51\n",
       "26  2022  초등학교(고학년)     남  23224   65.43\n",
       "27  2022  초등학교(고학년)     여  12268   34.57\n",
       "28  2023  초등학교(고학년)     남  30096   65.08\n",
       "29  2023  초등학교(고학년)     여  16146   34.92\n",
       "30  2019        중학교     남  30698   70.44\n",
       "31  2019        중학교     여  12881   29.56\n",
       "32  2020        중학교     남   7956   70.95\n",
       "33  2020        중학교     여   3258   29.05\n",
       "34  2021        중학교     남  23485   69.00\n",
       "35  2021        중학교     여  10552   31.00\n",
       "36  2022        중학교     남  39162   68.03\n",
       "37  2022        중학교     여  18406   31.97\n",
       "38  2023        중학교     남  47311   68.08\n",
       "39  2023        중학교     여  22183   31.92\n",
       "40  2019       고등학교     남  21664   68.55\n",
       "41  2019       고등학교     여   9937   31.45\n",
       "42  2020       고등학교     남   7532   70.05\n",
       "43  2020       고등학교     여   3220   29.95\n",
       "44  2021       고등학교     남  14119   71.23\n",
       "45  2021       고등학교     여   5703   28.77\n",
       "46  2022       고등학교     남  20704   70.35\n",
       "47  2022       고등학교     여   8724   29.65\n",
       "48  2023       고등학교     남  26825   70.20\n",
       "49  2023       고등학교     여  11387   29.80\n",
       "50  2019       특수학교     남    374   68.62\n",
       "51  2019       특수학교     여    171   31.38\n",
       "52  2020       특수학교     남    182   67.66\n",
       "53  2020       특수학교     여     87   32.34\n",
       "54  2021       특수학교     남    296   67.27\n",
       "55  2021       특수학교     여    144   32.73\n",
       "56  2022       특수학교     남    371   69.22\n",
       "57  2022       특수학교     여    165   30.78\n",
       "58  2023       특수학교     남    464   68.14\n",
       "59  2023       특수학교     여    217   31.86"
      ]
     },
     "execution_count": 163,
     "metadata": {},
     "output_type": "execute_result"
    }
   ],
   "source": [
    "# sch_gender_acci 데이터프레임\n",
    "# 기타학교 값 제외\n",
    "sch_gender_acci = sch_df[sch_df['학교급'] != '기타학교']\n",
    "# 초등학교 저학년/고학년 구분\n",
    "sch_gender_acci.loc[(sch_gender_acci['학교급']=='초등학교')&(sch_gender_acci['사고자학년'].isin(['1학년','2학년','3학년'])),'학교급']='초등학교(저학년)'\n",
    "sch_gender_acci.loc[(sch_gender_acci['학교급']=='초등학교')&(sch_gender_acci['사고자학년'].isin(['4학년','5학년','6학년'])),'학교급']='초등학교(고학년)'\n",
    "# 연도, 학교급, 사고자성별 기준으로 groupby\n",
    "sch_gender_acci = sch_gender_acci.groupby(['연도', '학교급', '사고자성별']).size().reset_index(name='사고수')\n",
    "# 연도, 학교급 기준으로 정렬\n",
    "custom_order = [\"유치원\", \"초등학교(저학년)\", \"초등학교(고학년)\", \"중학교\", \"고등학교\", \"특수학교\", \"기타학교\"]\n",
    "sch_gender_acci['학교급'] = pd.Categorical(sch_gender_acci['학교급'], categories=custom_order, ordered=True)\n",
    "sch_gender_acci = sch_gender_acci.sort_values(['학교급','연도']).reset_index(drop=True)\n",
    "# 사고자성별별 사고수 비율 계산\n",
    "sch_gender_acci['사고수 비율'] = sch_gender_acci.groupby(['연도', '학교급'])['사고수'].transform(lambda x: (x / x.sum() * 100).round(2))\n",
    "# 초등학교 저학년/고학년 구분 과정에서 생긴 nan 값(사고자학년 값이 유아인 경우) 처리\n",
    "sch_gender_acci = sch_gender_acci.dropna()\n",
    "sch_gender_acci"
   ]
  },
  {
   "cell_type": "code",
   "execution_count": 167,
   "metadata": {},
   "outputs": [
    {
     "data": {
      "application/vnd.plotly.v1+json": {
       "config": {
        "plotlyServerURL": "https://plot.ly"
       },
       "data": [
        {
         "customdata": [
          [
           5269,
           60.32
          ],
          [
           13632,
           63.88
          ],
          [
           21114,
           65.58
          ],
          [
           30698,
           70.44
          ],
          [
           21664,
           68.55
          ],
          [
           374,
           68.62
          ]
         ],
         "hovertemplate": "<b>%{y}</b><br>사고수: %{customdata[0]:.f}건<br>퍼센트: %{customdata[1]:.2f}%",
         "marker": {
          "color": "#c7e4ff"
         },
         "name": "남",
         "orientation": "h",
         "text": [
          "60.32%",
          "63.88%",
          "65.58%",
          "70.44%",
          "68.55%",
          "68.62%"
         ],
         "textposition": "inside",
         "texttemplate": "%{text}",
         "type": "bar",
         "x": [
          -5269,
          -13632,
          -21114,
          -30698,
          -21664,
          -374
         ],
         "y": [
          "유치원",
          "초등학교(저학년)",
          "초등학교(고학년)",
          "중학교",
          "고등학교",
          "특수학교"
         ]
        },
        {
         "customdata": [
          [
           3466,
           39.68
          ],
          [
           7708,
           36.12
          ],
          [
           11081,
           34.42
          ],
          [
           12881,
           29.56
          ],
          [
           9937,
           31.45
          ],
          [
           171,
           31.38
          ]
         ],
         "hovertemplate": "<b>%{y}</b><br>사고수: %{customdata[0]:.f}건<br>퍼센트: %{customdata[1]:.2f}%",
         "marker": {
          "color": "#FFE0B2"
         },
         "name": "여",
         "orientation": "h",
         "text": [
          "39.68%",
          "36.12%",
          "34.42%",
          "29.56%",
          "31.45%",
          "31.38%"
         ],
         "textposition": "inside",
         "texttemplate": "%{text}",
         "type": "bar",
         "x": [
          3466,
          7708,
          11081,
          12881,
          9937,
          171
         ],
         "y": [
          "유치원",
          "초등학교(저학년)",
          "초등학교(고학년)",
          "중학교",
          "고등학교",
          "특수학교"
         ]
        }
       ],
       "layout": {
        "bargap": 0.01,
        "barmode": "relative",
        "font": {
         "color": "black",
         "family": "KoPubWorld돋움체_Pro"
        },
        "height": 430,
        "hoverlabel": {
         "font": {
          "family": "KoPubWorld돋움체_Pro",
          "size": 14
         }
        },
        "legend": {
         "orientation": "h",
         "title": {
          "text": " "
         },
         "x": 1,
         "xanchor": "right",
         "y": 1.24,
         "yanchor": "top"
        },
        "margin": {
         "r": 30,
         "t": 85
        },
        "paper_bgcolor": "white",
        "plot_bgcolor": "white",
        "template": {
         "data": {
          "candlestick": [
           {
            "decreasing": {
             "line": {
              "color": "#000033"
             }
            },
            "increasing": {
             "line": {
              "color": "#000032"
             }
            },
            "type": "candlestick"
           }
          ],
          "contour": [
           {
            "colorscale": [
             [
              0,
              "#000011"
             ],
             [
              0.1111111111111111,
              "#000012"
             ],
             [
              0.2222222222222222,
              "#000013"
             ],
             [
              0.3333333333333333,
              "#000014"
             ],
             [
              0.4444444444444444,
              "#000015"
             ],
             [
              0.5555555555555556,
              "#000016"
             ],
             [
              0.6666666666666666,
              "#000017"
             ],
             [
              0.7777777777777778,
              "#000018"
             ],
             [
              0.8888888888888888,
              "#000019"
             ],
             [
              1,
              "#000020"
             ]
            ],
            "type": "contour"
           }
          ],
          "contourcarpet": [
           {
            "colorscale": [
             [
              0,
              "#000011"
             ],
             [
              0.1111111111111111,
              "#000012"
             ],
             [
              0.2222222222222222,
              "#000013"
             ],
             [
              0.3333333333333333,
              "#000014"
             ],
             [
              0.4444444444444444,
              "#000015"
             ],
             [
              0.5555555555555556,
              "#000016"
             ],
             [
              0.6666666666666666,
              "#000017"
             ],
             [
              0.7777777777777778,
              "#000018"
             ],
             [
              0.8888888888888888,
              "#000019"
             ],
             [
              1,
              "#000020"
             ]
            ],
            "type": "contourcarpet"
           }
          ],
          "heatmap": [
           {
            "colorscale": [
             [
              0,
              "#000011"
             ],
             [
              0.1111111111111111,
              "#000012"
             ],
             [
              0.2222222222222222,
              "#000013"
             ],
             [
              0.3333333333333333,
              "#000014"
             ],
             [
              0.4444444444444444,
              "#000015"
             ],
             [
              0.5555555555555556,
              "#000016"
             ],
             [
              0.6666666666666666,
              "#000017"
             ],
             [
              0.7777777777777778,
              "#000018"
             ],
             [
              0.8888888888888888,
              "#000019"
             ],
             [
              1,
              "#000020"
             ]
            ],
            "type": "heatmap"
           }
          ],
          "histogram2d": [
           {
            "colorscale": [
             [
              0,
              "#000011"
             ],
             [
              0.1111111111111111,
              "#000012"
             ],
             [
              0.2222222222222222,
              "#000013"
             ],
             [
              0.3333333333333333,
              "#000014"
             ],
             [
              0.4444444444444444,
              "#000015"
             ],
             [
              0.5555555555555556,
              "#000016"
             ],
             [
              0.6666666666666666,
              "#000017"
             ],
             [
              0.7777777777777778,
              "#000018"
             ],
             [
              0.8888888888888888,
              "#000019"
             ],
             [
              1,
              "#000020"
             ]
            ],
            "type": "histogram2d"
           }
          ],
          "icicle": [
           {
            "textfont": {
             "color": "white"
            },
            "type": "icicle"
           }
          ],
          "sankey": [
           {
            "textfont": {
             "color": "#000036"
            },
            "type": "sankey"
           }
          ],
          "scatter": [
           {
            "marker": {
             "line": {
              "width": 0
             }
            },
            "type": "scatter"
           }
          ],
          "table": [
           {
            "cells": {
             "fill": {
              "color": "#000038"
             },
             "font": {
              "color": "#000037"
             },
             "line": {
              "color": "#000039"
             }
            },
            "header": {
             "fill": {
              "color": "#000040"
             },
             "font": {
              "color": "#000036"
             },
             "line": {
              "color": "#000039"
             }
            },
            "type": "table"
           }
          ],
          "waterfall": [
           {
            "connector": {
             "line": {
              "color": "#000036",
              "width": 2
             }
            },
            "decreasing": {
             "marker": {
              "color": "#000033"
             }
            },
            "increasing": {
             "marker": {
              "color": "#000032"
             }
            },
            "totals": {
             "marker": {
              "color": "#000034"
             }
            },
            "type": "waterfall"
           }
          ]
         },
         "layout": {
          "coloraxis": {
           "colorscale": [
            [
             0,
             "#000011"
            ],
            [
             0.1111111111111111,
             "#000012"
            ],
            [
             0.2222222222222222,
             "#000013"
            ],
            [
             0.3333333333333333,
             "#000014"
            ],
            [
             0.4444444444444444,
             "#000015"
            ],
            [
             0.5555555555555556,
             "#000016"
            ],
            [
             0.6666666666666666,
             "#000017"
            ],
            [
             0.7777777777777778,
             "#000018"
            ],
            [
             0.8888888888888888,
             "#000019"
            ],
            [
             1,
             "#000020"
            ]
           ]
          },
          "colorscale": {
           "diverging": [
            [
             0,
             "#000021"
            ],
            [
             0.1,
             "#000022"
            ],
            [
             0.2,
             "#000023"
            ],
            [
             0.3,
             "#000024"
            ],
            [
             0.4,
             "#000025"
            ],
            [
             0.5,
             "#000026"
            ],
            [
             0.6,
             "#000027"
            ],
            [
             0.7,
             "#000028"
            ],
            [
             0.8,
             "#000029"
            ],
            [
             0.9,
             "#000030"
            ],
            [
             1,
             "#000031"
            ]
           ],
           "sequential": [
            [
             0,
             "#000011"
            ],
            [
             0.1111111111111111,
             "#000012"
            ],
            [
             0.2222222222222222,
             "#000013"
            ],
            [
             0.3333333333333333,
             "#000014"
            ],
            [
             0.4444444444444444,
             "#000015"
            ],
            [
             0.5555555555555556,
             "#000016"
            ],
            [
             0.6666666666666666,
             "#000017"
            ],
            [
             0.7777777777777778,
             "#000018"
            ],
            [
             0.8888888888888888,
             "#000019"
            ],
            [
             1,
             "#000020"
            ]
           ],
           "sequentialminus": [
            [
             0,
             "#000011"
            ],
            [
             0.1111111111111111,
             "#000012"
            ],
            [
             0.2222222222222222,
             "#000013"
            ],
            [
             0.3333333333333333,
             "#000014"
            ],
            [
             0.4444444444444444,
             "#000015"
            ],
            [
             0.5555555555555556,
             "#000016"
            ],
            [
             0.6666666666666666,
             "#000017"
            ],
            [
             0.7777777777777778,
             "#000018"
            ],
            [
             0.8888888888888888,
             "#000019"
            ],
            [
             1,
             "#000020"
            ]
           ]
          },
          "colorway": [
           "#000001",
           "#000002",
           "#000003",
           "#000004",
           "#000005",
           "#000006",
           "#000007",
           "#000008",
           "#000009",
           "#000010"
          ]
         }
        },
        "width": 800,
        "xaxis": {
         "showticklabels": true,
         "title": {
          "font": {
           "size": 12
          },
          "text": ""
         }
        },
        "yaxis": {
         "tickfont": {
          "size": 12
         }
        }
       }
      }
     },
     "metadata": {},
     "output_type": "display_data"
    }
   ],
   "source": [
    "# sch_gender_acci 그래프 시각화(2019년)\n",
    "create_pyramid_chart(sch_gender_acci, '2019', '사고수', '학교급')"
   ]
  },
  {
   "cell_type": "markdown",
   "metadata": {},
   "source": [
    "#### 1-3-4. 학교급별 학년별 사고 수"
   ]
  },
  {
   "cell_type": "code",
   "execution_count": 164,
   "metadata": {},
   "outputs": [
    {
     "data": {
      "text/html": [
       "<div>\n",
       "<style scoped>\n",
       "    .dataframe tbody tr th:only-of-type {\n",
       "        vertical-align: middle;\n",
       "    }\n",
       "\n",
       "    .dataframe tbody tr th {\n",
       "        vertical-align: top;\n",
       "    }\n",
       "\n",
       "    .dataframe thead th {\n",
       "        text-align: right;\n",
       "    }\n",
       "</style>\n",
       "<table border=\"1\" class=\"dataframe\">\n",
       "  <thead>\n",
       "    <tr style=\"text-align: right;\">\n",
       "      <th></th>\n",
       "      <th>연도</th>\n",
       "      <th>학교급</th>\n",
       "      <th>사고자학년</th>\n",
       "      <th>사고수</th>\n",
       "    </tr>\n",
       "  </thead>\n",
       "  <tbody>\n",
       "    <tr>\n",
       "      <th>0</th>\n",
       "      <td>2019</td>\n",
       "      <td>초등학교</td>\n",
       "      <td>1학년</td>\n",
       "      <td>7014</td>\n",
       "    </tr>\n",
       "    <tr>\n",
       "      <th>1</th>\n",
       "      <td>2019</td>\n",
       "      <td>초등학교</td>\n",
       "      <td>2학년</td>\n",
       "      <td>6578</td>\n",
       "    </tr>\n",
       "    <tr>\n",
       "      <th>2</th>\n",
       "      <td>2019</td>\n",
       "      <td>초등학교</td>\n",
       "      <td>3학년</td>\n",
       "      <td>7748</td>\n",
       "    </tr>\n",
       "    <tr>\n",
       "      <th>3</th>\n",
       "      <td>2019</td>\n",
       "      <td>초등학교</td>\n",
       "      <td>4학년</td>\n",
       "      <td>8669</td>\n",
       "    </tr>\n",
       "    <tr>\n",
       "      <th>4</th>\n",
       "      <td>2019</td>\n",
       "      <td>초등학교</td>\n",
       "      <td>5학년</td>\n",
       "      <td>10837</td>\n",
       "    </tr>\n",
       "    <tr>\n",
       "      <th>5</th>\n",
       "      <td>2019</td>\n",
       "      <td>초등학교</td>\n",
       "      <td>6학년</td>\n",
       "      <td>12689</td>\n",
       "    </tr>\n",
       "    <tr>\n",
       "      <th>6</th>\n",
       "      <td>2020</td>\n",
       "      <td>초등학교</td>\n",
       "      <td>1학년</td>\n",
       "      <td>1670</td>\n",
       "    </tr>\n",
       "    <tr>\n",
       "      <th>7</th>\n",
       "      <td>2020</td>\n",
       "      <td>초등학교</td>\n",
       "      <td>2학년</td>\n",
       "      <td>1514</td>\n",
       "    </tr>\n",
       "    <tr>\n",
       "      <th>8</th>\n",
       "      <td>2020</td>\n",
       "      <td>초등학교</td>\n",
       "      <td>3학년</td>\n",
       "      <td>1490</td>\n",
       "    </tr>\n",
       "    <tr>\n",
       "      <th>9</th>\n",
       "      <td>2020</td>\n",
       "      <td>초등학교</td>\n",
       "      <td>4학년</td>\n",
       "      <td>1839</td>\n",
       "    </tr>\n",
       "    <tr>\n",
       "      <th>10</th>\n",
       "      <td>2020</td>\n",
       "      <td>초등학교</td>\n",
       "      <td>5학년</td>\n",
       "      <td>2139</td>\n",
       "    </tr>\n",
       "    <tr>\n",
       "      <th>11</th>\n",
       "      <td>2020</td>\n",
       "      <td>초등학교</td>\n",
       "      <td>6학년</td>\n",
       "      <td>2264</td>\n",
       "    </tr>\n",
       "    <tr>\n",
       "      <th>12</th>\n",
       "      <td>2021</td>\n",
       "      <td>초등학교</td>\n",
       "      <td>1학년</td>\n",
       "      <td>3776</td>\n",
       "    </tr>\n",
       "    <tr>\n",
       "      <th>13</th>\n",
       "      <td>2021</td>\n",
       "      <td>초등학교</td>\n",
       "      <td>2학년</td>\n",
       "      <td>3704</td>\n",
       "    </tr>\n",
       "    <tr>\n",
       "      <th>14</th>\n",
       "      <td>2021</td>\n",
       "      <td>초등학교</td>\n",
       "      <td>3학년</td>\n",
       "      <td>4232</td>\n",
       "    </tr>\n",
       "    <tr>\n",
       "      <th>15</th>\n",
       "      <td>2021</td>\n",
       "      <td>초등학교</td>\n",
       "      <td>4학년</td>\n",
       "      <td>5502</td>\n",
       "    </tr>\n",
       "    <tr>\n",
       "      <th>16</th>\n",
       "      <td>2021</td>\n",
       "      <td>초등학교</td>\n",
       "      <td>5학년</td>\n",
       "      <td>6371</td>\n",
       "    </tr>\n",
       "    <tr>\n",
       "      <th>17</th>\n",
       "      <td>2021</td>\n",
       "      <td>초등학교</td>\n",
       "      <td>6학년</td>\n",
       "      <td>7012</td>\n",
       "    </tr>\n",
       "    <tr>\n",
       "      <th>18</th>\n",
       "      <td>2022</td>\n",
       "      <td>초등학교</td>\n",
       "      <td>1학년</td>\n",
       "      <td>5401</td>\n",
       "    </tr>\n",
       "    <tr>\n",
       "      <th>19</th>\n",
       "      <td>2022</td>\n",
       "      <td>초등학교</td>\n",
       "      <td>2학년</td>\n",
       "      <td>5377</td>\n",
       "    </tr>\n",
       "    <tr>\n",
       "      <th>20</th>\n",
       "      <td>2022</td>\n",
       "      <td>초등학교</td>\n",
       "      <td>3학년</td>\n",
       "      <td>6855</td>\n",
       "    </tr>\n",
       "    <tr>\n",
       "      <th>21</th>\n",
       "      <td>2022</td>\n",
       "      <td>초등학교</td>\n",
       "      <td>4학년</td>\n",
       "      <td>9600</td>\n",
       "    </tr>\n",
       "    <tr>\n",
       "      <th>22</th>\n",
       "      <td>2022</td>\n",
       "      <td>초등학교</td>\n",
       "      <td>5학년</td>\n",
       "      <td>11965</td>\n",
       "    </tr>\n",
       "    <tr>\n",
       "      <th>23</th>\n",
       "      <td>2022</td>\n",
       "      <td>초등학교</td>\n",
       "      <td>6학년</td>\n",
       "      <td>13927</td>\n",
       "    </tr>\n",
       "    <tr>\n",
       "      <th>24</th>\n",
       "      <td>2023</td>\n",
       "      <td>초등학교</td>\n",
       "      <td>1학년</td>\n",
       "      <td>6762</td>\n",
       "    </tr>\n",
       "    <tr>\n",
       "      <th>25</th>\n",
       "      <td>2023</td>\n",
       "      <td>초등학교</td>\n",
       "      <td>2학년</td>\n",
       "      <td>7503</td>\n",
       "    </tr>\n",
       "    <tr>\n",
       "      <th>26</th>\n",
       "      <td>2023</td>\n",
       "      <td>초등학교</td>\n",
       "      <td>3학년</td>\n",
       "      <td>9386</td>\n",
       "    </tr>\n",
       "    <tr>\n",
       "      <th>27</th>\n",
       "      <td>2023</td>\n",
       "      <td>초등학교</td>\n",
       "      <td>4학년</td>\n",
       "      <td>11838</td>\n",
       "    </tr>\n",
       "    <tr>\n",
       "      <th>28</th>\n",
       "      <td>2023</td>\n",
       "      <td>초등학교</td>\n",
       "      <td>5학년</td>\n",
       "      <td>16250</td>\n",
       "    </tr>\n",
       "    <tr>\n",
       "      <th>29</th>\n",
       "      <td>2023</td>\n",
       "      <td>초등학교</td>\n",
       "      <td>6학년</td>\n",
       "      <td>18154</td>\n",
       "    </tr>\n",
       "    <tr>\n",
       "      <th>30</th>\n",
       "      <td>2019</td>\n",
       "      <td>중학교</td>\n",
       "      <td>1학년</td>\n",
       "      <td>15335</td>\n",
       "    </tr>\n",
       "    <tr>\n",
       "      <th>31</th>\n",
       "      <td>2019</td>\n",
       "      <td>중학교</td>\n",
       "      <td>2학년</td>\n",
       "      <td>13875</td>\n",
       "    </tr>\n",
       "    <tr>\n",
       "      <th>32</th>\n",
       "      <td>2019</td>\n",
       "      <td>중학교</td>\n",
       "      <td>3학년</td>\n",
       "      <td>14361</td>\n",
       "    </tr>\n",
       "    <tr>\n",
       "      <th>33</th>\n",
       "      <td>2020</td>\n",
       "      <td>중학교</td>\n",
       "      <td>1학년</td>\n",
       "      <td>4274</td>\n",
       "    </tr>\n",
       "    <tr>\n",
       "      <th>34</th>\n",
       "      <td>2020</td>\n",
       "      <td>중학교</td>\n",
       "      <td>2학년</td>\n",
       "      <td>3486</td>\n",
       "    </tr>\n",
       "    <tr>\n",
       "      <th>35</th>\n",
       "      <td>2020</td>\n",
       "      <td>중학교</td>\n",
       "      <td>3학년</td>\n",
       "      <td>3454</td>\n",
       "    </tr>\n",
       "    <tr>\n",
       "      <th>36</th>\n",
       "      <td>2021</td>\n",
       "      <td>중학교</td>\n",
       "      <td>1학년</td>\n",
       "      <td>12160</td>\n",
       "    </tr>\n",
       "    <tr>\n",
       "      <th>37</th>\n",
       "      <td>2021</td>\n",
       "      <td>중학교</td>\n",
       "      <td>2학년</td>\n",
       "      <td>11677</td>\n",
       "    </tr>\n",
       "    <tr>\n",
       "      <th>38</th>\n",
       "      <td>2021</td>\n",
       "      <td>중학교</td>\n",
       "      <td>3학년</td>\n",
       "      <td>10199</td>\n",
       "    </tr>\n",
       "    <tr>\n",
       "      <th>39</th>\n",
       "      <td>2022</td>\n",
       "      <td>중학교</td>\n",
       "      <td>1학년</td>\n",
       "      <td>19667</td>\n",
       "    </tr>\n",
       "    <tr>\n",
       "      <th>40</th>\n",
       "      <td>2022</td>\n",
       "      <td>중학교</td>\n",
       "      <td>2학년</td>\n",
       "      <td>19006</td>\n",
       "    </tr>\n",
       "    <tr>\n",
       "      <th>41</th>\n",
       "      <td>2022</td>\n",
       "      <td>중학교</td>\n",
       "      <td>3학년</td>\n",
       "      <td>18895</td>\n",
       "    </tr>\n",
       "    <tr>\n",
       "      <th>42</th>\n",
       "      <td>2023</td>\n",
       "      <td>중학교</td>\n",
       "      <td>1학년</td>\n",
       "      <td>25333</td>\n",
       "    </tr>\n",
       "    <tr>\n",
       "      <th>43</th>\n",
       "      <td>2023</td>\n",
       "      <td>중학교</td>\n",
       "      <td>2학년</td>\n",
       "      <td>21967</td>\n",
       "    </tr>\n",
       "    <tr>\n",
       "      <th>44</th>\n",
       "      <td>2023</td>\n",
       "      <td>중학교</td>\n",
       "      <td>3학년</td>\n",
       "      <td>22194</td>\n",
       "    </tr>\n",
       "    <tr>\n",
       "      <th>45</th>\n",
       "      <td>2019</td>\n",
       "      <td>고등학교</td>\n",
       "      <td>1학년</td>\n",
       "      <td>11630</td>\n",
       "    </tr>\n",
       "    <tr>\n",
       "      <th>46</th>\n",
       "      <td>2019</td>\n",
       "      <td>고등학교</td>\n",
       "      <td>2학년</td>\n",
       "      <td>11889</td>\n",
       "    </tr>\n",
       "    <tr>\n",
       "      <th>47</th>\n",
       "      <td>2019</td>\n",
       "      <td>고등학교</td>\n",
       "      <td>3학년</td>\n",
       "      <td>8080</td>\n",
       "    </tr>\n",
       "    <tr>\n",
       "      <th>48</th>\n",
       "      <td>2020</td>\n",
       "      <td>고등학교</td>\n",
       "      <td>1학년</td>\n",
       "      <td>3727</td>\n",
       "    </tr>\n",
       "    <tr>\n",
       "      <th>49</th>\n",
       "      <td>2020</td>\n",
       "      <td>고등학교</td>\n",
       "      <td>2학년</td>\n",
       "      <td>3958</td>\n",
       "    </tr>\n",
       "    <tr>\n",
       "      <th>50</th>\n",
       "      <td>2020</td>\n",
       "      <td>고등학교</td>\n",
       "      <td>3학년</td>\n",
       "      <td>3067</td>\n",
       "    </tr>\n",
       "    <tr>\n",
       "      <th>51</th>\n",
       "      <td>2021</td>\n",
       "      <td>고등학교</td>\n",
       "      <td>1학년</td>\n",
       "      <td>6805</td>\n",
       "    </tr>\n",
       "    <tr>\n",
       "      <th>52</th>\n",
       "      <td>2021</td>\n",
       "      <td>고등학교</td>\n",
       "      <td>2학년</td>\n",
       "      <td>6963</td>\n",
       "    </tr>\n",
       "    <tr>\n",
       "      <th>53</th>\n",
       "      <td>2021</td>\n",
       "      <td>고등학교</td>\n",
       "      <td>3학년</td>\n",
       "      <td>6054</td>\n",
       "    </tr>\n",
       "    <tr>\n",
       "      <th>54</th>\n",
       "      <td>2022</td>\n",
       "      <td>고등학교</td>\n",
       "      <td>1학년</td>\n",
       "      <td>11547</td>\n",
       "    </tr>\n",
       "    <tr>\n",
       "      <th>55</th>\n",
       "      <td>2022</td>\n",
       "      <td>고등학교</td>\n",
       "      <td>2학년</td>\n",
       "      <td>11352</td>\n",
       "    </tr>\n",
       "    <tr>\n",
       "      <th>56</th>\n",
       "      <td>2022</td>\n",
       "      <td>고등학교</td>\n",
       "      <td>3학년</td>\n",
       "      <td>6529</td>\n",
       "    </tr>\n",
       "    <tr>\n",
       "      <th>57</th>\n",
       "      <td>2023</td>\n",
       "      <td>고등학교</td>\n",
       "      <td>1학년</td>\n",
       "      <td>15469</td>\n",
       "    </tr>\n",
       "    <tr>\n",
       "      <th>58</th>\n",
       "      <td>2023</td>\n",
       "      <td>고등학교</td>\n",
       "      <td>2학년</td>\n",
       "      <td>14435</td>\n",
       "    </tr>\n",
       "    <tr>\n",
       "      <th>59</th>\n",
       "      <td>2023</td>\n",
       "      <td>고등학교</td>\n",
       "      <td>3학년</td>\n",
       "      <td>8308</td>\n",
       "    </tr>\n",
       "    <tr>\n",
       "      <th>60</th>\n",
       "      <td>2019</td>\n",
       "      <td>특수학교</td>\n",
       "      <td>1학년</td>\n",
       "      <td>166</td>\n",
       "    </tr>\n",
       "    <tr>\n",
       "      <th>61</th>\n",
       "      <td>2019</td>\n",
       "      <td>특수학교</td>\n",
       "      <td>2학년</td>\n",
       "      <td>171</td>\n",
       "    </tr>\n",
       "    <tr>\n",
       "      <th>62</th>\n",
       "      <td>2019</td>\n",
       "      <td>특수학교</td>\n",
       "      <td>3학년</td>\n",
       "      <td>100</td>\n",
       "    </tr>\n",
       "    <tr>\n",
       "      <th>63</th>\n",
       "      <td>2019</td>\n",
       "      <td>특수학교</td>\n",
       "      <td>4학년</td>\n",
       "      <td>22</td>\n",
       "    </tr>\n",
       "    <tr>\n",
       "      <th>64</th>\n",
       "      <td>2019</td>\n",
       "      <td>특수학교</td>\n",
       "      <td>5학년</td>\n",
       "      <td>35</td>\n",
       "    </tr>\n",
       "    <tr>\n",
       "      <th>65</th>\n",
       "      <td>2019</td>\n",
       "      <td>특수학교</td>\n",
       "      <td>6학년</td>\n",
       "      <td>31</td>\n",
       "    </tr>\n",
       "    <tr>\n",
       "      <th>66</th>\n",
       "      <td>2020</td>\n",
       "      <td>특수학교</td>\n",
       "      <td>1학년</td>\n",
       "      <td>87</td>\n",
       "    </tr>\n",
       "    <tr>\n",
       "      <th>67</th>\n",
       "      <td>2020</td>\n",
       "      <td>특수학교</td>\n",
       "      <td>2학년</td>\n",
       "      <td>61</td>\n",
       "    </tr>\n",
       "    <tr>\n",
       "      <th>68</th>\n",
       "      <td>2020</td>\n",
       "      <td>특수학교</td>\n",
       "      <td>3학년</td>\n",
       "      <td>62</td>\n",
       "    </tr>\n",
       "    <tr>\n",
       "      <th>69</th>\n",
       "      <td>2020</td>\n",
       "      <td>특수학교</td>\n",
       "      <td>4학년</td>\n",
       "      <td>15</td>\n",
       "    </tr>\n",
       "    <tr>\n",
       "      <th>70</th>\n",
       "      <td>2020</td>\n",
       "      <td>특수학교</td>\n",
       "      <td>5학년</td>\n",
       "      <td>13</td>\n",
       "    </tr>\n",
       "    <tr>\n",
       "      <th>71</th>\n",
       "      <td>2020</td>\n",
       "      <td>특수학교</td>\n",
       "      <td>6학년</td>\n",
       "      <td>20</td>\n",
       "    </tr>\n",
       "    <tr>\n",
       "      <th>72</th>\n",
       "      <td>2020</td>\n",
       "      <td>특수학교</td>\n",
       "      <td>유아</td>\n",
       "      <td>11</td>\n",
       "    </tr>\n",
       "    <tr>\n",
       "      <th>73</th>\n",
       "      <td>2021</td>\n",
       "      <td>특수학교</td>\n",
       "      <td>1학년</td>\n",
       "      <td>133</td>\n",
       "    </tr>\n",
       "    <tr>\n",
       "      <th>74</th>\n",
       "      <td>2021</td>\n",
       "      <td>특수학교</td>\n",
       "      <td>2학년</td>\n",
       "      <td>115</td>\n",
       "    </tr>\n",
       "    <tr>\n",
       "      <th>75</th>\n",
       "      <td>2021</td>\n",
       "      <td>특수학교</td>\n",
       "      <td>3학년</td>\n",
       "      <td>85</td>\n",
       "    </tr>\n",
       "    <tr>\n",
       "      <th>76</th>\n",
       "      <td>2021</td>\n",
       "      <td>특수학교</td>\n",
       "      <td>4학년</td>\n",
       "      <td>27</td>\n",
       "    </tr>\n",
       "    <tr>\n",
       "      <th>77</th>\n",
       "      <td>2021</td>\n",
       "      <td>특수학교</td>\n",
       "      <td>5학년</td>\n",
       "      <td>31</td>\n",
       "    </tr>\n",
       "    <tr>\n",
       "      <th>78</th>\n",
       "      <td>2021</td>\n",
       "      <td>특수학교</td>\n",
       "      <td>6학년</td>\n",
       "      <td>27</td>\n",
       "    </tr>\n",
       "    <tr>\n",
       "      <th>79</th>\n",
       "      <td>2021</td>\n",
       "      <td>특수학교</td>\n",
       "      <td>유아</td>\n",
       "      <td>22</td>\n",
       "    </tr>\n",
       "    <tr>\n",
       "      <th>80</th>\n",
       "      <td>2022</td>\n",
       "      <td>특수학교</td>\n",
       "      <td>1학년</td>\n",
       "      <td>158</td>\n",
       "    </tr>\n",
       "    <tr>\n",
       "      <th>81</th>\n",
       "      <td>2022</td>\n",
       "      <td>특수학교</td>\n",
       "      <td>2학년</td>\n",
       "      <td>167</td>\n",
       "    </tr>\n",
       "    <tr>\n",
       "      <th>82</th>\n",
       "      <td>2022</td>\n",
       "      <td>특수학교</td>\n",
       "      <td>3학년</td>\n",
       "      <td>108</td>\n",
       "    </tr>\n",
       "    <tr>\n",
       "      <th>83</th>\n",
       "      <td>2022</td>\n",
       "      <td>특수학교</td>\n",
       "      <td>4학년</td>\n",
       "      <td>24</td>\n",
       "    </tr>\n",
       "    <tr>\n",
       "      <th>84</th>\n",
       "      <td>2022</td>\n",
       "      <td>특수학교</td>\n",
       "      <td>5학년</td>\n",
       "      <td>34</td>\n",
       "    </tr>\n",
       "    <tr>\n",
       "      <th>85</th>\n",
       "      <td>2022</td>\n",
       "      <td>특수학교</td>\n",
       "      <td>6학년</td>\n",
       "      <td>23</td>\n",
       "    </tr>\n",
       "    <tr>\n",
       "      <th>86</th>\n",
       "      <td>2022</td>\n",
       "      <td>특수학교</td>\n",
       "      <td>유아</td>\n",
       "      <td>22</td>\n",
       "    </tr>\n",
       "    <tr>\n",
       "      <th>87</th>\n",
       "      <td>2023</td>\n",
       "      <td>특수학교</td>\n",
       "      <td>1학년</td>\n",
       "      <td>220</td>\n",
       "    </tr>\n",
       "    <tr>\n",
       "      <th>88</th>\n",
       "      <td>2023</td>\n",
       "      <td>특수학교</td>\n",
       "      <td>2학년</td>\n",
       "      <td>202</td>\n",
       "    </tr>\n",
       "    <tr>\n",
       "      <th>89</th>\n",
       "      <td>2023</td>\n",
       "      <td>특수학교</td>\n",
       "      <td>3학년</td>\n",
       "      <td>124</td>\n",
       "    </tr>\n",
       "    <tr>\n",
       "      <th>90</th>\n",
       "      <td>2023</td>\n",
       "      <td>특수학교</td>\n",
       "      <td>4학년</td>\n",
       "      <td>40</td>\n",
       "    </tr>\n",
       "    <tr>\n",
       "      <th>91</th>\n",
       "      <td>2023</td>\n",
       "      <td>특수학교</td>\n",
       "      <td>5학년</td>\n",
       "      <td>33</td>\n",
       "    </tr>\n",
       "    <tr>\n",
       "      <th>92</th>\n",
       "      <td>2023</td>\n",
       "      <td>특수학교</td>\n",
       "      <td>6학년</td>\n",
       "      <td>44</td>\n",
       "    </tr>\n",
       "    <tr>\n",
       "      <th>93</th>\n",
       "      <td>2023</td>\n",
       "      <td>특수학교</td>\n",
       "      <td>유아</td>\n",
       "      <td>18</td>\n",
       "    </tr>\n",
       "  </tbody>\n",
       "</table>\n",
       "</div>"
      ],
      "text/plain": [
       "      연도   학교급 사고자학년    사고수\n",
       "0   2019  초등학교   1학년   7014\n",
       "1   2019  초등학교   2학년   6578\n",
       "2   2019  초등학교   3학년   7748\n",
       "3   2019  초등학교   4학년   8669\n",
       "4   2019  초등학교   5학년  10837\n",
       "5   2019  초등학교   6학년  12689\n",
       "6   2020  초등학교   1학년   1670\n",
       "7   2020  초등학교   2학년   1514\n",
       "8   2020  초등학교   3학년   1490\n",
       "9   2020  초등학교   4학년   1839\n",
       "10  2020  초등학교   5학년   2139\n",
       "11  2020  초등학교   6학년   2264\n",
       "12  2021  초등학교   1학년   3776\n",
       "13  2021  초등학교   2학년   3704\n",
       "14  2021  초등학교   3학년   4232\n",
       "15  2021  초등학교   4학년   5502\n",
       "16  2021  초등학교   5학년   6371\n",
       "17  2021  초등학교   6학년   7012\n",
       "18  2022  초등학교   1학년   5401\n",
       "19  2022  초등학교   2학년   5377\n",
       "20  2022  초등학교   3학년   6855\n",
       "21  2022  초등학교   4학년   9600\n",
       "22  2022  초등학교   5학년  11965\n",
       "23  2022  초등학교   6학년  13927\n",
       "24  2023  초등학교   1학년   6762\n",
       "25  2023  초등학교   2학년   7503\n",
       "26  2023  초등학교   3학년   9386\n",
       "27  2023  초등학교   4학년  11838\n",
       "28  2023  초등학교   5학년  16250\n",
       "29  2023  초등학교   6학년  18154\n",
       "30  2019   중학교   1학년  15335\n",
       "31  2019   중학교   2학년  13875\n",
       "32  2019   중학교   3학년  14361\n",
       "33  2020   중학교   1학년   4274\n",
       "34  2020   중학교   2학년   3486\n",
       "35  2020   중학교   3학년   3454\n",
       "36  2021   중학교   1학년  12160\n",
       "37  2021   중학교   2학년  11677\n",
       "38  2021   중학교   3학년  10199\n",
       "39  2022   중학교   1학년  19667\n",
       "40  2022   중학교   2학년  19006\n",
       "41  2022   중학교   3학년  18895\n",
       "42  2023   중학교   1학년  25333\n",
       "43  2023   중학교   2학년  21967\n",
       "44  2023   중학교   3학년  22194\n",
       "45  2019  고등학교   1학년  11630\n",
       "46  2019  고등학교   2학년  11889\n",
       "47  2019  고등학교   3학년   8080\n",
       "48  2020  고등학교   1학년   3727\n",
       "49  2020  고등학교   2학년   3958\n",
       "50  2020  고등학교   3학년   3067\n",
       "51  2021  고등학교   1학년   6805\n",
       "52  2021  고등학교   2학년   6963\n",
       "53  2021  고등학교   3학년   6054\n",
       "54  2022  고등학교   1학년  11547\n",
       "55  2022  고등학교   2학년  11352\n",
       "56  2022  고등학교   3학년   6529\n",
       "57  2023  고등학교   1학년  15469\n",
       "58  2023  고등학교   2학년  14435\n",
       "59  2023  고등학교   3학년   8308\n",
       "60  2019  특수학교   1학년    166\n",
       "61  2019  특수학교   2학년    171\n",
       "62  2019  특수학교   3학년    100\n",
       "63  2019  특수학교   4학년     22\n",
       "64  2019  특수학교   5학년     35\n",
       "65  2019  특수학교   6학년     31\n",
       "66  2020  특수학교   1학년     87\n",
       "67  2020  특수학교   2학년     61\n",
       "68  2020  특수학교   3학년     62\n",
       "69  2020  특수학교   4학년     15\n",
       "70  2020  특수학교   5학년     13\n",
       "71  2020  특수학교   6학년     20\n",
       "72  2020  특수학교    유아     11\n",
       "73  2021  특수학교   1학년    133\n",
       "74  2021  특수학교   2학년    115\n",
       "75  2021  특수학교   3학년     85\n",
       "76  2021  특수학교   4학년     27\n",
       "77  2021  특수학교   5학년     31\n",
       "78  2021  특수학교   6학년     27\n",
       "79  2021  특수학교    유아     22\n",
       "80  2022  특수학교   1학년    158\n",
       "81  2022  특수학교   2학년    167\n",
       "82  2022  특수학교   3학년    108\n",
       "83  2022  특수학교   4학년     24\n",
       "84  2022  특수학교   5학년     34\n",
       "85  2022  특수학교   6학년     23\n",
       "86  2022  특수학교    유아     22\n",
       "87  2023  특수학교   1학년    220\n",
       "88  2023  특수학교   2학년    202\n",
       "89  2023  특수학교   3학년    124\n",
       "90  2023  특수학교   4학년     40\n",
       "91  2023  특수학교   5학년     33\n",
       "92  2023  특수학교   6학년     44\n",
       "93  2023  특수학교    유아     18"
      ]
     },
     "execution_count": 164,
     "metadata": {},
     "output_type": "execute_result"
    }
   ],
   "source": [
    "# sch_grade_acci 데이터프레임\n",
    "# '학교급'의 '유치원', '기타학교' 값 '사고자학년'의 'nan' 값 제외\n",
    "sch_grade_acci = sch_df[\n",
    "    (sch_df['학교급'] != '기타학교') &\n",
    "    (sch_df['학교급'] != '유치원') &\n",
    "    (sch_df['사고자학년'] != 'nan')\n",
    "    ]\n",
    "# 연도, 학교급, 사고자학년 기준으로 groupby\n",
    "sch_grade_acci = sch_grade_acci.groupby(['연도', '학교급', '사고자학년']).size().reset_index(name='사고수')\n",
    "# '초등학교'의 '사고자학년'에서 '유아' 값을 제외\n",
    "sch_grade_acci = sch_grade_acci[~((sch_grade_acci['학교급'] == '초등학교') & \n",
    "                                  (sch_grade_acci['사고자학년'] == '유아'))]\n",
    "# '중학교'의 '사고자학년'에서 '4학년'과 '5학년' 값을 제외\n",
    "sch_grade_acci = sch_grade_acci[~((sch_grade_acci['학교급'] == '중학교') & \n",
    "                                  ((sch_grade_acci['사고자학년'] == '4학년') | \n",
    "                                   (sch_grade_acci['사고자학년'] == '5학년')))]\n",
    "# 연도, 학교급 기준으로 정렬\n",
    "custom_order = [\"유치원\", \"초등학교\", \"중학교\", \"고등학교\", \"특수학교\"]\n",
    "sch_grade_acci['학교급'] = pd.Categorical(sch_grade_acci['학교급'], categories=custom_order, ordered=True)\n",
    "sch_grade_acci = sch_grade_acci.sort_values(['학교급','연도']).reset_index(drop=True)\n",
    "sch_grade_acci"
   ]
  },
  {
   "cell_type": "code",
   "execution_count": 168,
   "metadata": {},
   "outputs": [
    {
     "data": {
      "application/vnd.plotly.v1+json": {
       "config": {
        "plotlyServerURL": "https://plot.ly"
       },
       "data": [
        {
         "customdata": [
          [
           "1학년"
          ],
          [
           "2학년"
          ],
          [
           "3학년"
          ],
          [
           "4학년"
          ],
          [
           "5학년"
          ],
          [
           "6학년"
          ]
         ],
         "direction": "clockwise",
         "domain": {
          "x": [
           0,
           1
          ],
          "y": [
           0,
           1
          ]
         },
         "hole": 0.4,
         "hovertemplate": "<b>%{label}</b><br>사고수: %{value:,}건<br>",
         "labels": [
          "1학년",
          "2학년",
          "3학년",
          "4학년",
          "5학년",
          "6학년"
         ],
         "legendgroup": "",
         "marker": {
          "colors": [
           "#92b8ff",
           "#aeceff",
           "#c7e4ff",
           "#c3b7eb",
           "#9590e6",
           "#837ed5"
          ]
         },
         "name": "",
         "showlegend": true,
         "sort": false,
         "texttemplate": "%{label}<br><span style=\"font-size:13px\">%{percent:.2%}</span>",
         "type": "pie",
         "values": [
          7014,
          6578,
          7748,
          8669,
          10837,
          12689
         ]
        }
       ],
       "layout": {
        "annotations": [
         {
          "font": {
           "size": 15
          },
          "showarrow": false,
          "text": "초등학교",
          "x": 0.5,
          "y": 0.5
         }
        ],
        "font": {
         "color": "black",
         "family": "KoPubWorld돋움체_Pro"
        },
        "height": 360,
        "hoverlabel": {
         "font": {
          "family": "KoPubWorld돋움체_Pro",
          "size": 14
         }
        },
        "legend": {
         "tracegroupgap": 0
        },
        "margin": {
         "t": 60
        },
        "paper_bgcolor": "white",
        "plot_bgcolor": "white",
        "showlegend": false,
        "template": {
         "data": {
          "candlestick": [
           {
            "decreasing": {
             "line": {
              "color": "#000033"
             }
            },
            "increasing": {
             "line": {
              "color": "#000032"
             }
            },
            "type": "candlestick"
           }
          ],
          "contour": [
           {
            "colorscale": [
             [
              0,
              "#000011"
             ],
             [
              0.1111111111111111,
              "#000012"
             ],
             [
              0.2222222222222222,
              "#000013"
             ],
             [
              0.3333333333333333,
              "#000014"
             ],
             [
              0.4444444444444444,
              "#000015"
             ],
             [
              0.5555555555555556,
              "#000016"
             ],
             [
              0.6666666666666666,
              "#000017"
             ],
             [
              0.7777777777777778,
              "#000018"
             ],
             [
              0.8888888888888888,
              "#000019"
             ],
             [
              1,
              "#000020"
             ]
            ],
            "type": "contour"
           }
          ],
          "contourcarpet": [
           {
            "colorscale": [
             [
              0,
              "#000011"
             ],
             [
              0.1111111111111111,
              "#000012"
             ],
             [
              0.2222222222222222,
              "#000013"
             ],
             [
              0.3333333333333333,
              "#000014"
             ],
             [
              0.4444444444444444,
              "#000015"
             ],
             [
              0.5555555555555556,
              "#000016"
             ],
             [
              0.6666666666666666,
              "#000017"
             ],
             [
              0.7777777777777778,
              "#000018"
             ],
             [
              0.8888888888888888,
              "#000019"
             ],
             [
              1,
              "#000020"
             ]
            ],
            "type": "contourcarpet"
           }
          ],
          "heatmap": [
           {
            "colorscale": [
             [
              0,
              "#000011"
             ],
             [
              0.1111111111111111,
              "#000012"
             ],
             [
              0.2222222222222222,
              "#000013"
             ],
             [
              0.3333333333333333,
              "#000014"
             ],
             [
              0.4444444444444444,
              "#000015"
             ],
             [
              0.5555555555555556,
              "#000016"
             ],
             [
              0.6666666666666666,
              "#000017"
             ],
             [
              0.7777777777777778,
              "#000018"
             ],
             [
              0.8888888888888888,
              "#000019"
             ],
             [
              1,
              "#000020"
             ]
            ],
            "type": "heatmap"
           }
          ],
          "histogram2d": [
           {
            "colorscale": [
             [
              0,
              "#000011"
             ],
             [
              0.1111111111111111,
              "#000012"
             ],
             [
              0.2222222222222222,
              "#000013"
             ],
             [
              0.3333333333333333,
              "#000014"
             ],
             [
              0.4444444444444444,
              "#000015"
             ],
             [
              0.5555555555555556,
              "#000016"
             ],
             [
              0.6666666666666666,
              "#000017"
             ],
             [
              0.7777777777777778,
              "#000018"
             ],
             [
              0.8888888888888888,
              "#000019"
             ],
             [
              1,
              "#000020"
             ]
            ],
            "type": "histogram2d"
           }
          ],
          "icicle": [
           {
            "textfont": {
             "color": "white"
            },
            "type": "icicle"
           }
          ],
          "sankey": [
           {
            "textfont": {
             "color": "#000036"
            },
            "type": "sankey"
           }
          ],
          "scatter": [
           {
            "marker": {
             "line": {
              "width": 0
             }
            },
            "type": "scatter"
           }
          ],
          "table": [
           {
            "cells": {
             "fill": {
              "color": "#000038"
             },
             "font": {
              "color": "#000037"
             },
             "line": {
              "color": "#000039"
             }
            },
            "header": {
             "fill": {
              "color": "#000040"
             },
             "font": {
              "color": "#000036"
             },
             "line": {
              "color": "#000039"
             }
            },
            "type": "table"
           }
          ],
          "waterfall": [
           {
            "connector": {
             "line": {
              "color": "#000036",
              "width": 2
             }
            },
            "decreasing": {
             "marker": {
              "color": "#000033"
             }
            },
            "increasing": {
             "marker": {
              "color": "#000032"
             }
            },
            "totals": {
             "marker": {
              "color": "#000034"
             }
            },
            "type": "waterfall"
           }
          ]
         },
         "layout": {
          "coloraxis": {
           "colorscale": [
            [
             0,
             "#000011"
            ],
            [
             0.1111111111111111,
             "#000012"
            ],
            [
             0.2222222222222222,
             "#000013"
            ],
            [
             0.3333333333333333,
             "#000014"
            ],
            [
             0.4444444444444444,
             "#000015"
            ],
            [
             0.5555555555555556,
             "#000016"
            ],
            [
             0.6666666666666666,
             "#000017"
            ],
            [
             0.7777777777777778,
             "#000018"
            ],
            [
             0.8888888888888888,
             "#000019"
            ],
            [
             1,
             "#000020"
            ]
           ]
          },
          "colorscale": {
           "diverging": [
            [
             0,
             "#000021"
            ],
            [
             0.1,
             "#000022"
            ],
            [
             0.2,
             "#000023"
            ],
            [
             0.3,
             "#000024"
            ],
            [
             0.4,
             "#000025"
            ],
            [
             0.5,
             "#000026"
            ],
            [
             0.6,
             "#000027"
            ],
            [
             0.7,
             "#000028"
            ],
            [
             0.8,
             "#000029"
            ],
            [
             0.9,
             "#000030"
            ],
            [
             1,
             "#000031"
            ]
           ],
           "sequential": [
            [
             0,
             "#000011"
            ],
            [
             0.1111111111111111,
             "#000012"
            ],
            [
             0.2222222222222222,
             "#000013"
            ],
            [
             0.3333333333333333,
             "#000014"
            ],
            [
             0.4444444444444444,
             "#000015"
            ],
            [
             0.5555555555555556,
             "#000016"
            ],
            [
             0.6666666666666666,
             "#000017"
            ],
            [
             0.7777777777777778,
             "#000018"
            ],
            [
             0.8888888888888888,
             "#000019"
            ],
            [
             1,
             "#000020"
            ]
           ],
           "sequentialminus": [
            [
             0,
             "#000011"
            ],
            [
             0.1111111111111111,
             "#000012"
            ],
            [
             0.2222222222222222,
             "#000013"
            ],
            [
             0.3333333333333333,
             "#000014"
            ],
            [
             0.4444444444444444,
             "#000015"
            ],
            [
             0.5555555555555556,
             "#000016"
            ],
            [
             0.6666666666666666,
             "#000017"
            ],
            [
             0.7777777777777778,
             "#000018"
            ],
            [
             0.8888888888888888,
             "#000019"
            ],
            [
             1,
             "#000020"
            ]
           ]
          },
          "colorway": [
           "#000001",
           "#000002",
           "#000003",
           "#000004",
           "#000005",
           "#000006",
           "#000007",
           "#000008",
           "#000009",
           "#000010"
          ]
         }
        },
        "width": 360
       }
      }
     },
     "metadata": {},
     "output_type": "display_data"
    }
   ],
   "source": [
    "# sch_grade_acci 그래프 시각화(2019년, 초등)\n",
    "# 사고자학년 순서 지정\n",
    "es_order = [\"1학년\", \"2학년\", \"3학년\", \"4학년\", \"5학년\", \"6학년\"]\n",
    "# 그래프 색 지정\n",
    "es_colors = {\n",
    "    '1학년': '#92b8ff',\n",
    "    '2학년': '#aeceff',\n",
    "    '3학년': '#c7e4ff',\n",
    "    '4학년': '#c3b7eb',\n",
    "    '5학년': '#9590e6',\n",
    "    '6학년': '#837ed5'\n",
    "    }\n",
    "create_donut_chart(sch_grade_acci, '2019', '초등학교', '사고자학년', '사고수', es_order, es_colors)"
   ]
  },
  {
   "cell_type": "markdown",
   "metadata": {},
   "source": [
    "#### 1-3-5. 학교급별 사고 내용"
   ]
  },
  {
   "cell_type": "markdown",
   "metadata": {},
   "source": [
    "(1) 사고 시간"
   ]
  },
  {
   "cell_type": "code",
   "execution_count": 170,
   "metadata": {},
   "outputs": [
    {
     "data": {
      "text/html": [
       "<div>\n",
       "<style scoped>\n",
       "    .dataframe tbody tr th:only-of-type {\n",
       "        vertical-align: middle;\n",
       "    }\n",
       "\n",
       "    .dataframe tbody tr th {\n",
       "        vertical-align: top;\n",
       "    }\n",
       "\n",
       "    .dataframe thead th {\n",
       "        text-align: right;\n",
       "    }\n",
       "</style>\n",
       "<table border=\"1\" class=\"dataframe\">\n",
       "  <thead>\n",
       "    <tr style=\"text-align: right;\">\n",
       "      <th></th>\n",
       "      <th>학교급</th>\n",
       "      <th>사고시간</th>\n",
       "      <th>사고수</th>\n",
       "    </tr>\n",
       "  </thead>\n",
       "  <tbody>\n",
       "    <tr>\n",
       "      <th>0</th>\n",
       "      <td>유치원</td>\n",
       "      <td>수업시간</td>\n",
       "      <td>22815</td>\n",
       "    </tr>\n",
       "    <tr>\n",
       "      <th>1</th>\n",
       "      <td>유치원</td>\n",
       "      <td>기타</td>\n",
       "      <td>4499</td>\n",
       "    </tr>\n",
       "    <tr>\n",
       "      <th>2</th>\n",
       "      <td>유치원</td>\n",
       "      <td>식사시간</td>\n",
       "      <td>3299</td>\n",
       "    </tr>\n",
       "    <tr>\n",
       "      <th>3</th>\n",
       "      <td>유치원</td>\n",
       "      <td>체육수업</td>\n",
       "      <td>3235</td>\n",
       "    </tr>\n",
       "    <tr>\n",
       "      <th>4</th>\n",
       "      <td>유치원</td>\n",
       "      <td>등하교</td>\n",
       "      <td>2329</td>\n",
       "    </tr>\n",
       "    <tr>\n",
       "      <th>5</th>\n",
       "      <td>유치원</td>\n",
       "      <td>체육활동</td>\n",
       "      <td>2111</td>\n",
       "    </tr>\n",
       "    <tr>\n",
       "      <th>6</th>\n",
       "      <td>유치원</td>\n",
       "      <td>휴식/청소시간</td>\n",
       "      <td>1993</td>\n",
       "    </tr>\n",
       "    <tr>\n",
       "      <th>7</th>\n",
       "      <td>유치원</td>\n",
       "      <td>학교행사</td>\n",
       "      <td>1323</td>\n",
       "    </tr>\n",
       "    <tr>\n",
       "      <th>8</th>\n",
       "      <td>유치원</td>\n",
       "      <td>쉬는시간</td>\n",
       "      <td>239</td>\n",
       "    </tr>\n",
       "    <tr>\n",
       "      <th>9</th>\n",
       "      <td>유치원</td>\n",
       "      <td>특별활동</td>\n",
       "      <td>211</td>\n",
       "    </tr>\n",
       "    <tr>\n",
       "      <th>10</th>\n",
       "      <td>초등학교(저학년)</td>\n",
       "      <td>식사시간</td>\n",
       "      <td>19634</td>\n",
       "    </tr>\n",
       "    <tr>\n",
       "      <th>11</th>\n",
       "      <td>초등학교(저학년)</td>\n",
       "      <td>수업시간</td>\n",
       "      <td>16702</td>\n",
       "    </tr>\n",
       "    <tr>\n",
       "      <th>12</th>\n",
       "      <td>초등학교(저학년)</td>\n",
       "      <td>휴식/청소시간</td>\n",
       "      <td>10813</td>\n",
       "    </tr>\n",
       "    <tr>\n",
       "      <th>13</th>\n",
       "      <td>초등학교(저학년)</td>\n",
       "      <td>등하교</td>\n",
       "      <td>8073</td>\n",
       "    </tr>\n",
       "    <tr>\n",
       "      <th>14</th>\n",
       "      <td>초등학교(저학년)</td>\n",
       "      <td>체육수업</td>\n",
       "      <td>8060</td>\n",
       "    </tr>\n",
       "    <tr>\n",
       "      <th>15</th>\n",
       "      <td>초등학교(저학년)</td>\n",
       "      <td>쉬는시간</td>\n",
       "      <td>6406</td>\n",
       "    </tr>\n",
       "    <tr>\n",
       "      <th>16</th>\n",
       "      <td>초등학교(저학년)</td>\n",
       "      <td>체육활동</td>\n",
       "      <td>3834</td>\n",
       "    </tr>\n",
       "    <tr>\n",
       "      <th>17</th>\n",
       "      <td>초등학교(저학년)</td>\n",
       "      <td>기타</td>\n",
       "      <td>2666</td>\n",
       "    </tr>\n",
       "    <tr>\n",
       "      <th>18</th>\n",
       "      <td>초등학교(저학년)</td>\n",
       "      <td>학교행사</td>\n",
       "      <td>1555</td>\n",
       "    </tr>\n",
       "    <tr>\n",
       "      <th>19</th>\n",
       "      <td>초등학교(저학년)</td>\n",
       "      <td>특별활동</td>\n",
       "      <td>1266</td>\n",
       "    </tr>\n",
       "    <tr>\n",
       "      <th>20</th>\n",
       "      <td>초등학교(저학년)</td>\n",
       "      <td>기숙사생활</td>\n",
       "      <td>1</td>\n",
       "    </tr>\n",
       "    <tr>\n",
       "      <th>21</th>\n",
       "      <td>초등학교(고학년)</td>\n",
       "      <td>체육수업</td>\n",
       "      <td>36669</td>\n",
       "    </tr>\n",
       "    <tr>\n",
       "      <th>22</th>\n",
       "      <td>초등학교(고학년)</td>\n",
       "      <td>식사시간</td>\n",
       "      <td>25604</td>\n",
       "    </tr>\n",
       "    <tr>\n",
       "      <th>23</th>\n",
       "      <td>초등학교(고학년)</td>\n",
       "      <td>체육활동</td>\n",
       "      <td>17831</td>\n",
       "    </tr>\n",
       "    <tr>\n",
       "      <th>24</th>\n",
       "      <td>초등학교(고학년)</td>\n",
       "      <td>수업시간</td>\n",
       "      <td>14955</td>\n",
       "    </tr>\n",
       "    <tr>\n",
       "      <th>25</th>\n",
       "      <td>초등학교(고학년)</td>\n",
       "      <td>휴식/청소시간</td>\n",
       "      <td>13056</td>\n",
       "    </tr>\n",
       "    <tr>\n",
       "      <th>26</th>\n",
       "      <td>초등학교(고학년)</td>\n",
       "      <td>쉬는시간</td>\n",
       "      <td>9576</td>\n",
       "    </tr>\n",
       "    <tr>\n",
       "      <th>27</th>\n",
       "      <td>초등학교(고학년)</td>\n",
       "      <td>등하교</td>\n",
       "      <td>8284</td>\n",
       "    </tr>\n",
       "    <tr>\n",
       "      <th>28</th>\n",
       "      <td>초등학교(고학년)</td>\n",
       "      <td>학교행사</td>\n",
       "      <td>4895</td>\n",
       "    </tr>\n",
       "    <tr>\n",
       "      <th>29</th>\n",
       "      <td>초등학교(고학년)</td>\n",
       "      <td>특별활동</td>\n",
       "      <td>4578</td>\n",
       "    </tr>\n",
       "    <tr>\n",
       "      <th>30</th>\n",
       "      <td>초등학교(고학년)</td>\n",
       "      <td>기타</td>\n",
       "      <td>3604</td>\n",
       "    </tr>\n",
       "    <tr>\n",
       "      <th>31</th>\n",
       "      <td>초등학교(고학년)</td>\n",
       "      <td>기숙사생활</td>\n",
       "      <td>4</td>\n",
       "    </tr>\n",
       "    <tr>\n",
       "      <th>32</th>\n",
       "      <td>중학교</td>\n",
       "      <td>체육수업</td>\n",
       "      <td>65694</td>\n",
       "    </tr>\n",
       "    <tr>\n",
       "      <th>33</th>\n",
       "      <td>중학교</td>\n",
       "      <td>식사시간</td>\n",
       "      <td>34892</td>\n",
       "    </tr>\n",
       "    <tr>\n",
       "      <th>34</th>\n",
       "      <td>중학교</td>\n",
       "      <td>체육활동</td>\n",
       "      <td>29591</td>\n",
       "    </tr>\n",
       "    <tr>\n",
       "      <th>35</th>\n",
       "      <td>중학교</td>\n",
       "      <td>휴식/청소시간</td>\n",
       "      <td>18990</td>\n",
       "    </tr>\n",
       "    <tr>\n",
       "      <th>36</th>\n",
       "      <td>중학교</td>\n",
       "      <td>수업시간</td>\n",
       "      <td>16042</td>\n",
       "    </tr>\n",
       "    <tr>\n",
       "      <th>37</th>\n",
       "      <td>중학교</td>\n",
       "      <td>특별활동</td>\n",
       "      <td>14542</td>\n",
       "    </tr>\n",
       "    <tr>\n",
       "      <th>38</th>\n",
       "      <td>중학교</td>\n",
       "      <td>학교행사</td>\n",
       "      <td>12403</td>\n",
       "    </tr>\n",
       "    <tr>\n",
       "      <th>39</th>\n",
       "      <td>중학교</td>\n",
       "      <td>쉬는시간</td>\n",
       "      <td>11765</td>\n",
       "    </tr>\n",
       "    <tr>\n",
       "      <th>40</th>\n",
       "      <td>중학교</td>\n",
       "      <td>등하교</td>\n",
       "      <td>6309</td>\n",
       "    </tr>\n",
       "    <tr>\n",
       "      <th>41</th>\n",
       "      <td>중학교</td>\n",
       "      <td>기타</td>\n",
       "      <td>5555</td>\n",
       "    </tr>\n",
       "    <tr>\n",
       "      <th>42</th>\n",
       "      <td>중학교</td>\n",
       "      <td>기숙사생활</td>\n",
       "      <td>109</td>\n",
       "    </tr>\n",
       "    <tr>\n",
       "      <th>43</th>\n",
       "      <td>고등학교</td>\n",
       "      <td>체육수업</td>\n",
       "      <td>36489</td>\n",
       "    </tr>\n",
       "    <tr>\n",
       "      <th>44</th>\n",
       "      <td>고등학교</td>\n",
       "      <td>식사시간</td>\n",
       "      <td>22367</td>\n",
       "    </tr>\n",
       "    <tr>\n",
       "      <th>45</th>\n",
       "      <td>고등학교</td>\n",
       "      <td>체육활동</td>\n",
       "      <td>15782</td>\n",
       "    </tr>\n",
       "    <tr>\n",
       "      <th>46</th>\n",
       "      <td>고등학교</td>\n",
       "      <td>학교행사</td>\n",
       "      <td>13408</td>\n",
       "    </tr>\n",
       "    <tr>\n",
       "      <th>47</th>\n",
       "      <td>고등학교</td>\n",
       "      <td>수업시간</td>\n",
       "      <td>11445</td>\n",
       "    </tr>\n",
       "    <tr>\n",
       "      <th>48</th>\n",
       "      <td>고등학교</td>\n",
       "      <td>휴식/청소시간</td>\n",
       "      <td>8514</td>\n",
       "    </tr>\n",
       "    <tr>\n",
       "      <th>49</th>\n",
       "      <td>고등학교</td>\n",
       "      <td>특별활동</td>\n",
       "      <td>6834</td>\n",
       "    </tr>\n",
       "    <tr>\n",
       "      <th>50</th>\n",
       "      <td>고등학교</td>\n",
       "      <td>등하교</td>\n",
       "      <td>5179</td>\n",
       "    </tr>\n",
       "    <tr>\n",
       "      <th>51</th>\n",
       "      <td>고등학교</td>\n",
       "      <td>쉬는시간</td>\n",
       "      <td>4098</td>\n",
       "    </tr>\n",
       "    <tr>\n",
       "      <th>52</th>\n",
       "      <td>고등학교</td>\n",
       "      <td>기타</td>\n",
       "      <td>3981</td>\n",
       "    </tr>\n",
       "    <tr>\n",
       "      <th>53</th>\n",
       "      <td>고등학교</td>\n",
       "      <td>기숙사생활</td>\n",
       "      <td>1718</td>\n",
       "    </tr>\n",
       "    <tr>\n",
       "      <th>54</th>\n",
       "      <td>특수학교</td>\n",
       "      <td>수업시간</td>\n",
       "      <td>846</td>\n",
       "    </tr>\n",
       "    <tr>\n",
       "      <th>55</th>\n",
       "      <td>특수학교</td>\n",
       "      <td>식사시간</td>\n",
       "      <td>364</td>\n",
       "    </tr>\n",
       "    <tr>\n",
       "      <th>56</th>\n",
       "      <td>특수학교</td>\n",
       "      <td>체육수업</td>\n",
       "      <td>262</td>\n",
       "    </tr>\n",
       "    <tr>\n",
       "      <th>57</th>\n",
       "      <td>특수학교</td>\n",
       "      <td>등하교</td>\n",
       "      <td>246</td>\n",
       "    </tr>\n",
       "    <tr>\n",
       "      <th>58</th>\n",
       "      <td>특수학교</td>\n",
       "      <td>휴식/청소시간</td>\n",
       "      <td>203</td>\n",
       "    </tr>\n",
       "    <tr>\n",
       "      <th>59</th>\n",
       "      <td>특수학교</td>\n",
       "      <td>기타</td>\n",
       "      <td>135</td>\n",
       "    </tr>\n",
       "    <tr>\n",
       "      <th>60</th>\n",
       "      <td>특수학교</td>\n",
       "      <td>특별활동</td>\n",
       "      <td>114</td>\n",
       "    </tr>\n",
       "    <tr>\n",
       "      <th>61</th>\n",
       "      <td>특수학교</td>\n",
       "      <td>학교행사</td>\n",
       "      <td>98</td>\n",
       "    </tr>\n",
       "    <tr>\n",
       "      <th>62</th>\n",
       "      <td>특수학교</td>\n",
       "      <td>체육활동</td>\n",
       "      <td>94</td>\n",
       "    </tr>\n",
       "    <tr>\n",
       "      <th>63</th>\n",
       "      <td>특수학교</td>\n",
       "      <td>쉬는시간</td>\n",
       "      <td>92</td>\n",
       "    </tr>\n",
       "    <tr>\n",
       "      <th>64</th>\n",
       "      <td>특수학교</td>\n",
       "      <td>기숙사생활</td>\n",
       "      <td>17</td>\n",
       "    </tr>\n",
       "  </tbody>\n",
       "</table>\n",
       "</div>"
      ],
      "text/plain": [
       "          학교급     사고시간    사고수\n",
       "0         유치원     수업시간  22815\n",
       "1         유치원       기타   4499\n",
       "2         유치원     식사시간   3299\n",
       "3         유치원     체육수업   3235\n",
       "4         유치원      등하교   2329\n",
       "5         유치원     체육활동   2111\n",
       "6         유치원  휴식/청소시간   1993\n",
       "7         유치원     학교행사   1323\n",
       "8         유치원     쉬는시간    239\n",
       "9         유치원     특별활동    211\n",
       "10  초등학교(저학년)     식사시간  19634\n",
       "11  초등학교(저학년)     수업시간  16702\n",
       "12  초등학교(저학년)  휴식/청소시간  10813\n",
       "13  초등학교(저학년)      등하교   8073\n",
       "14  초등학교(저학년)     체육수업   8060\n",
       "15  초등학교(저학년)     쉬는시간   6406\n",
       "16  초등학교(저학년)     체육활동   3834\n",
       "17  초등학교(저학년)       기타   2666\n",
       "18  초등학교(저학년)     학교행사   1555\n",
       "19  초등학교(저학년)     특별활동   1266\n",
       "20  초등학교(저학년)    기숙사생활      1\n",
       "21  초등학교(고학년)     체육수업  36669\n",
       "22  초등학교(고학년)     식사시간  25604\n",
       "23  초등학교(고학년)     체육활동  17831\n",
       "24  초등학교(고학년)     수업시간  14955\n",
       "25  초등학교(고학년)  휴식/청소시간  13056\n",
       "26  초등학교(고학년)     쉬는시간   9576\n",
       "27  초등학교(고학년)      등하교   8284\n",
       "28  초등학교(고학년)     학교행사   4895\n",
       "29  초등학교(고학년)     특별활동   4578\n",
       "30  초등학교(고학년)       기타   3604\n",
       "31  초등학교(고학년)    기숙사생활      4\n",
       "32        중학교     체육수업  65694\n",
       "33        중학교     식사시간  34892\n",
       "34        중학교     체육활동  29591\n",
       "35        중학교  휴식/청소시간  18990\n",
       "36        중학교     수업시간  16042\n",
       "37        중학교     특별활동  14542\n",
       "38        중학교     학교행사  12403\n",
       "39        중학교     쉬는시간  11765\n",
       "40        중학교      등하교   6309\n",
       "41        중학교       기타   5555\n",
       "42        중학교    기숙사생활    109\n",
       "43       고등학교     체육수업  36489\n",
       "44       고등학교     식사시간  22367\n",
       "45       고등학교     체육활동  15782\n",
       "46       고등학교     학교행사  13408\n",
       "47       고등학교     수업시간  11445\n",
       "48       고등학교  휴식/청소시간   8514\n",
       "49       고등학교     특별활동   6834\n",
       "50       고등학교      등하교   5179\n",
       "51       고등학교     쉬는시간   4098\n",
       "52       고등학교       기타   3981\n",
       "53       고등학교    기숙사생활   1718\n",
       "54       특수학교     수업시간    846\n",
       "55       특수학교     식사시간    364\n",
       "56       특수학교     체육수업    262\n",
       "57       특수학교      등하교    246\n",
       "58       특수학교  휴식/청소시간    203\n",
       "59       특수학교       기타    135\n",
       "60       특수학교     특별활동    114\n",
       "61       특수학교     학교행사     98\n",
       "62       특수학교     체육활동     94\n",
       "63       특수학교     쉬는시간     92\n",
       "64       특수학교    기숙사생활     17"
      ]
     },
     "execution_count": 170,
     "metadata": {},
     "output_type": "execute_result"
    }
   ],
   "source": [
    "# sch_acci_time 데이터프레임(사고시간 5개년 누적)\n",
    "# '학교급'의 '기타학교' 값 제외\n",
    "sch_acci_time = sch_df[sch_df['학교급'] != '기타학교']\n",
    "# 초등학교 저학년/고학년 구분\n",
    "sch_acci_time.loc[(sch_acci_time['학교급']=='초등학교')&(sch_acci_time['사고자학년'].isin(['1학년','2학년','3학년'])),'학교급']='초등학교(저학년)'\n",
    "sch_acci_time.loc[(sch_acci_time['학교급']=='초등학교')&(sch_acci_time['사고자학년'].isin(['4학년','5학년','6학년'])),'학교급']='초등학교(고학년)'\n",
    "# 분석 편의를 위해 일부 데이터 값 변경\n",
    "sch_acci_time = sch_acci_time.replace('점심시간', '식사시간')\n",
    "sch_acci_time = sch_acci_time.replace('석식시간', '식사시간')\n",
    "sch_acci_time = sch_acci_time.replace('휴식시간 및 청소시간', '휴식/청소시간')\n",
    "# 연도, 학교급, 사고시간별 사고수 계산\n",
    "sch_acci_time = sch_acci_time.groupby(['학교급', '사고시간']).size().reset_index(name='사고수')\n",
    "# 학교급 기준으로 정렬\n",
    "sch_acci_time['학교급'] = pd.Categorical(sch_acci_time['학교급'], categories=custom_order, ordered=True)\n",
    "sch_acci_time = sch_acci_time.sort_values(['학교급', '사고수'], ascending=[True, False]).reset_index(drop=True)\n",
    "# 초등학교 저학년/고학년 구분 과정에서 생긴 nan 값(사고자학년 값이 유아인 경우) 처리\n",
    "sch_acci_time = sch_acci_time.dropna()\n",
    "sch_acci_time"
   ]
  },
  {
   "cell_type": "markdown",
   "metadata": {},
   "source": [
    "(2) 사고 장소"
   ]
  },
  {
   "cell_type": "code",
   "execution_count": 171,
   "metadata": {},
   "outputs": [
    {
     "data": {
      "text/html": [
       "<div>\n",
       "<style scoped>\n",
       "    .dataframe tbody tr th:only-of-type {\n",
       "        vertical-align: middle;\n",
       "    }\n",
       "\n",
       "    .dataframe tbody tr th {\n",
       "        vertical-align: top;\n",
       "    }\n",
       "\n",
       "    .dataframe thead th {\n",
       "        text-align: right;\n",
       "    }\n",
       "</style>\n",
       "<table border=\"1\" class=\"dataframe\">\n",
       "  <thead>\n",
       "    <tr style=\"text-align: right;\">\n",
       "      <th></th>\n",
       "      <th>학교급</th>\n",
       "      <th>사고장소</th>\n",
       "      <th>사고수</th>\n",
       "    </tr>\n",
       "  </thead>\n",
       "  <tbody>\n",
       "    <tr>\n",
       "      <th>0</th>\n",
       "      <td>유치원</td>\n",
       "      <td>교실</td>\n",
       "      <td>21144</td>\n",
       "    </tr>\n",
       "    <tr>\n",
       "      <th>1</th>\n",
       "      <td>유치원</td>\n",
       "      <td>부속시설</td>\n",
       "      <td>7756</td>\n",
       "    </tr>\n",
       "    <tr>\n",
       "      <th>2</th>\n",
       "      <td>유치원</td>\n",
       "      <td>운동장</td>\n",
       "      <td>7330</td>\n",
       "    </tr>\n",
       "    <tr>\n",
       "      <th>3</th>\n",
       "      <td>유치원</td>\n",
       "      <td>통로</td>\n",
       "      <td>3565</td>\n",
       "    </tr>\n",
       "    <tr>\n",
       "      <th>4</th>\n",
       "      <td>유치원</td>\n",
       "      <td>교외</td>\n",
       "      <td>2259</td>\n",
       "    </tr>\n",
       "    <tr>\n",
       "      <th>5</th>\n",
       "      <td>초등학교(저학년)</td>\n",
       "      <td>운동장</td>\n",
       "      <td>20314</td>\n",
       "    </tr>\n",
       "    <tr>\n",
       "      <th>6</th>\n",
       "      <td>초등학교(저학년)</td>\n",
       "      <td>교실</td>\n",
       "      <td>19511</td>\n",
       "    </tr>\n",
       "    <tr>\n",
       "      <th>7</th>\n",
       "      <td>초등학교(저학년)</td>\n",
       "      <td>부속시설</td>\n",
       "      <td>19090</td>\n",
       "    </tr>\n",
       "    <tr>\n",
       "      <th>8</th>\n",
       "      <td>초등학교(저학년)</td>\n",
       "      <td>통로</td>\n",
       "      <td>17563</td>\n",
       "    </tr>\n",
       "    <tr>\n",
       "      <th>9</th>\n",
       "      <td>초등학교(저학년)</td>\n",
       "      <td>교외</td>\n",
       "      <td>2532</td>\n",
       "    </tr>\n",
       "    <tr>\n",
       "      <th>10</th>\n",
       "      <td>초등학교(고학년)</td>\n",
       "      <td>부속시설</td>\n",
       "      <td>54234</td>\n",
       "    </tr>\n",
       "    <tr>\n",
       "      <th>11</th>\n",
       "      <td>초등학교(고학년)</td>\n",
       "      <td>운동장</td>\n",
       "      <td>33177</td>\n",
       "    </tr>\n",
       "    <tr>\n",
       "      <th>12</th>\n",
       "      <td>초등학교(고학년)</td>\n",
       "      <td>교실</td>\n",
       "      <td>23542</td>\n",
       "    </tr>\n",
       "    <tr>\n",
       "      <th>13</th>\n",
       "      <td>초등학교(고학년)</td>\n",
       "      <td>통로</td>\n",
       "      <td>23008</td>\n",
       "    </tr>\n",
       "    <tr>\n",
       "      <th>14</th>\n",
       "      <td>초등학교(고학년)</td>\n",
       "      <td>교외</td>\n",
       "      <td>5095</td>\n",
       "    </tr>\n",
       "    <tr>\n",
       "      <th>15</th>\n",
       "      <td>중학교</td>\n",
       "      <td>운동장</td>\n",
       "      <td>86365</td>\n",
       "    </tr>\n",
       "    <tr>\n",
       "      <th>16</th>\n",
       "      <td>중학교</td>\n",
       "      <td>부속시설</td>\n",
       "      <td>71658</td>\n",
       "    </tr>\n",
       "    <tr>\n",
       "      <th>17</th>\n",
       "      <td>중학교</td>\n",
       "      <td>통로</td>\n",
       "      <td>26437</td>\n",
       "    </tr>\n",
       "    <tr>\n",
       "      <th>18</th>\n",
       "      <td>중학교</td>\n",
       "      <td>교실</td>\n",
       "      <td>23355</td>\n",
       "    </tr>\n",
       "    <tr>\n",
       "      <th>19</th>\n",
       "      <td>중학교</td>\n",
       "      <td>교외</td>\n",
       "      <td>8077</td>\n",
       "    </tr>\n",
       "    <tr>\n",
       "      <th>20</th>\n",
       "      <td>고등학교</td>\n",
       "      <td>운동장</td>\n",
       "      <td>51204</td>\n",
       "    </tr>\n",
       "    <tr>\n",
       "      <th>21</th>\n",
       "      <td>고등학교</td>\n",
       "      <td>부속시설</td>\n",
       "      <td>47332</td>\n",
       "    </tr>\n",
       "    <tr>\n",
       "      <th>22</th>\n",
       "      <td>고등학교</td>\n",
       "      <td>교실</td>\n",
       "      <td>12083</td>\n",
       "    </tr>\n",
       "    <tr>\n",
       "      <th>23</th>\n",
       "      <td>고등학교</td>\n",
       "      <td>통로</td>\n",
       "      <td>11690</td>\n",
       "    </tr>\n",
       "    <tr>\n",
       "      <th>24</th>\n",
       "      <td>고등학교</td>\n",
       "      <td>교외</td>\n",
       "      <td>7506</td>\n",
       "    </tr>\n",
       "    <tr>\n",
       "      <th>25</th>\n",
       "      <td>특수학교</td>\n",
       "      <td>교실</td>\n",
       "      <td>865</td>\n",
       "    </tr>\n",
       "    <tr>\n",
       "      <th>26</th>\n",
       "      <td>특수학교</td>\n",
       "      <td>부속시설</td>\n",
       "      <td>720</td>\n",
       "    </tr>\n",
       "    <tr>\n",
       "      <th>27</th>\n",
       "      <td>특수학교</td>\n",
       "      <td>통로</td>\n",
       "      <td>395</td>\n",
       "    </tr>\n",
       "    <tr>\n",
       "      <th>28</th>\n",
       "      <td>특수학교</td>\n",
       "      <td>운동장</td>\n",
       "      <td>314</td>\n",
       "    </tr>\n",
       "    <tr>\n",
       "      <th>29</th>\n",
       "      <td>특수학교</td>\n",
       "      <td>교외</td>\n",
       "      <td>177</td>\n",
       "    </tr>\n",
       "  </tbody>\n",
       "</table>\n",
       "</div>"
      ],
      "text/plain": [
       "          학교급  사고장소    사고수\n",
       "0         유치원    교실  21144\n",
       "1         유치원  부속시설   7756\n",
       "2         유치원   운동장   7330\n",
       "3         유치원    통로   3565\n",
       "4         유치원    교외   2259\n",
       "5   초등학교(저학년)   운동장  20314\n",
       "6   초등학교(저학년)    교실  19511\n",
       "7   초등학교(저학년)  부속시설  19090\n",
       "8   초등학교(저학년)    통로  17563\n",
       "9   초등학교(저학년)    교외   2532\n",
       "10  초등학교(고학년)  부속시설  54234\n",
       "11  초등학교(고학년)   운동장  33177\n",
       "12  초등학교(고학년)    교실  23542\n",
       "13  초등학교(고학년)    통로  23008\n",
       "14  초등학교(고학년)    교외   5095\n",
       "15        중학교   운동장  86365\n",
       "16        중학교  부속시설  71658\n",
       "17        중학교    통로  26437\n",
       "18        중학교    교실  23355\n",
       "19        중학교    교외   8077\n",
       "20       고등학교   운동장  51204\n",
       "21       고등학교  부속시설  47332\n",
       "22       고등학교    교실  12083\n",
       "23       고등학교    통로  11690\n",
       "24       고등학교    교외   7506\n",
       "25       특수학교    교실    865\n",
       "26       특수학교  부속시설    720\n",
       "27       특수학교    통로    395\n",
       "28       특수학교   운동장    314\n",
       "29       특수학교    교외    177"
      ]
     },
     "execution_count": 171,
     "metadata": {},
     "output_type": "execute_result"
    }
   ],
   "source": [
    "# sch_acci_place 데이터프레임(사고장소 5개년 누적)\n",
    "# '학교급'의 '기타학교' 값 제외\n",
    "sch_acci_place = sch_df[sch_df['학교급'] != '기타학교']\n",
    "# 초등학교 저학년/고학년 구분\n",
    "sch_acci_place.loc[(sch_acci_place['학교급']=='초등학교')&(sch_acci_place['사고자학년'].isin(['1학년','2학년','3학년'])),'학교급']='초등학교(저학년)'\n",
    "sch_acci_place.loc[(sch_acci_place['학교급']=='초등학교')&(sch_acci_place['사고자학년'].isin(['4학년','5학년','6학년'])),'학교급']='초등학교(고학년)'\n",
    "# 분석 편의를 위해 일부 데이터 값 변경\n",
    "sch_acci_place = sch_acci_place.replace('교외활동', '교외')\n",
    "# 연도, 학교급, 사고장소별 사고수 계산\n",
    "sch_acci_place = sch_acci_place.groupby(['학교급', '사고장소']).size().reset_index(name='사고수')\n",
    "# 학교급 기준으로 정렬\n",
    "sch_acci_place['학교급'] = pd.Categorical(sch_acci_place['학교급'], categories=custom_order, ordered=True)\n",
    "sch_acci_place = sch_acci_place.sort_values(['학교급', '사고수'], ascending=[True, False]).reset_index(drop=True)\n",
    "# 초등학교 저학년/고학년 구분 과정에서 생긴 nan 값(사고자학년 값이 유아인 경우) 처리\n",
    "sch_acci_place = sch_acci_place.dropna()\n",
    "sch_acci_place"
   ]
  },
  {
   "cell_type": "markdown",
   "metadata": {},
   "source": [
    "(3) 사고 부위"
   ]
  },
  {
   "cell_type": "code",
   "execution_count": 172,
   "metadata": {},
   "outputs": [
    {
     "name": "stderr",
     "output_type": "stream",
     "text": [
      "C:\\Users\\cabby\\AppData\\Local\\Temp\\ipykernel_28384\\313399637.py:8: SettingWithCopyWarning:\n",
      "\n",
      "\n",
      "A value is trying to be set on a copy of a slice from a DataFrame.\n",
      "Try using .loc[row_indexer,col_indexer] = value instead\n",
      "\n",
      "See the caveats in the documentation: https://pandas.pydata.org/pandas-docs/stable/user_guide/indexing.html#returning-a-view-versus-a-copy\n",
      "\n"
     ]
    },
    {
     "data": {
      "text/html": [
       "<div>\n",
       "<style scoped>\n",
       "    .dataframe tbody tr th:only-of-type {\n",
       "        vertical-align: middle;\n",
       "    }\n",
       "\n",
       "    .dataframe tbody tr th {\n",
       "        vertical-align: top;\n",
       "    }\n",
       "\n",
       "    .dataframe thead th {\n",
       "        text-align: right;\n",
       "    }\n",
       "</style>\n",
       "<table border=\"1\" class=\"dataframe\">\n",
       "  <thead>\n",
       "    <tr style=\"text-align: right;\">\n",
       "      <th></th>\n",
       "      <th>학교급</th>\n",
       "      <th>사고부위</th>\n",
       "      <th>사고수</th>\n",
       "    </tr>\n",
       "  </thead>\n",
       "  <tbody>\n",
       "    <tr>\n",
       "      <th>0</th>\n",
       "      <td>유치원</td>\n",
       "      <td>머리</td>\n",
       "      <td>16983</td>\n",
       "    </tr>\n",
       "    <tr>\n",
       "      <th>1</th>\n",
       "      <td>유치원</td>\n",
       "      <td>손</td>\n",
       "      <td>5440</td>\n",
       "    </tr>\n",
       "    <tr>\n",
       "      <th>2</th>\n",
       "      <td>유치원</td>\n",
       "      <td>치아</td>\n",
       "      <td>5026</td>\n",
       "    </tr>\n",
       "    <tr>\n",
       "      <th>3</th>\n",
       "      <td>유치원</td>\n",
       "      <td>발</td>\n",
       "      <td>4502</td>\n",
       "    </tr>\n",
       "    <tr>\n",
       "      <th>4</th>\n",
       "      <td>유치원</td>\n",
       "      <td>팔</td>\n",
       "      <td>3313</td>\n",
       "    </tr>\n",
       "    <tr>\n",
       "      <th>5</th>\n",
       "      <td>유치원</td>\n",
       "      <td>복합부위</td>\n",
       "      <td>3164</td>\n",
       "    </tr>\n",
       "    <tr>\n",
       "      <th>6</th>\n",
       "      <td>유치원</td>\n",
       "      <td>기타</td>\n",
       "      <td>2259</td>\n",
       "    </tr>\n",
       "    <tr>\n",
       "      <th>7</th>\n",
       "      <td>유치원</td>\n",
       "      <td>다리</td>\n",
       "      <td>1064</td>\n",
       "    </tr>\n",
       "    <tr>\n",
       "      <th>8</th>\n",
       "      <td>유치원</td>\n",
       "      <td>흉복부</td>\n",
       "      <td>303</td>\n",
       "    </tr>\n",
       "    <tr>\n",
       "      <th>9</th>\n",
       "      <td>초등학교(저학년)</td>\n",
       "      <td>머리</td>\n",
       "      <td>21803</td>\n",
       "    </tr>\n",
       "    <tr>\n",
       "      <th>10</th>\n",
       "      <td>초등학교(저학년)</td>\n",
       "      <td>발</td>\n",
       "      <td>15041</td>\n",
       "    </tr>\n",
       "    <tr>\n",
       "      <th>11</th>\n",
       "      <td>초등학교(저학년)</td>\n",
       "      <td>손</td>\n",
       "      <td>13057</td>\n",
       "    </tr>\n",
       "    <tr>\n",
       "      <th>12</th>\n",
       "      <td>초등학교(저학년)</td>\n",
       "      <td>치아</td>\n",
       "      <td>8121</td>\n",
       "    </tr>\n",
       "    <tr>\n",
       "      <th>13</th>\n",
       "      <td>초등학교(저학년)</td>\n",
       "      <td>복합부위</td>\n",
       "      <td>7972</td>\n",
       "    </tr>\n",
       "    <tr>\n",
       "      <th>14</th>\n",
       "      <td>초등학교(저학년)</td>\n",
       "      <td>팔</td>\n",
       "      <td>5644</td>\n",
       "    </tr>\n",
       "    <tr>\n",
       "      <th>15</th>\n",
       "      <td>초등학교(저학년)</td>\n",
       "      <td>다리</td>\n",
       "      <td>4636</td>\n",
       "    </tr>\n",
       "    <tr>\n",
       "      <th>16</th>\n",
       "      <td>초등학교(저학년)</td>\n",
       "      <td>기타</td>\n",
       "      <td>1914</td>\n",
       "    </tr>\n",
       "    <tr>\n",
       "      <th>17</th>\n",
       "      <td>초등학교(저학년)</td>\n",
       "      <td>흉복부</td>\n",
       "      <td>822</td>\n",
       "    </tr>\n",
       "    <tr>\n",
       "      <th>18</th>\n",
       "      <td>초등학교(고학년)</td>\n",
       "      <td>손</td>\n",
       "      <td>43164</td>\n",
       "    </tr>\n",
       "    <tr>\n",
       "      <th>19</th>\n",
       "      <td>초등학교(고학년)</td>\n",
       "      <td>발</td>\n",
       "      <td>34692</td>\n",
       "    </tr>\n",
       "    <tr>\n",
       "      <th>20</th>\n",
       "      <td>초등학교(고학년)</td>\n",
       "      <td>머리</td>\n",
       "      <td>17773</td>\n",
       "    </tr>\n",
       "    <tr>\n",
       "      <th>21</th>\n",
       "      <td>초등학교(고학년)</td>\n",
       "      <td>복합부위</td>\n",
       "      <td>12414</td>\n",
       "    </tr>\n",
       "    <tr>\n",
       "      <th>22</th>\n",
       "      <td>초등학교(고학년)</td>\n",
       "      <td>다리</td>\n",
       "      <td>11294</td>\n",
       "    </tr>\n",
       "    <tr>\n",
       "      <th>23</th>\n",
       "      <td>초등학교(고학년)</td>\n",
       "      <td>팔</td>\n",
       "      <td>9694</td>\n",
       "    </tr>\n",
       "    <tr>\n",
       "      <th>24</th>\n",
       "      <td>초등학교(고학년)</td>\n",
       "      <td>치아</td>\n",
       "      <td>5786</td>\n",
       "    </tr>\n",
       "    <tr>\n",
       "      <th>25</th>\n",
       "      <td>초등학교(고학년)</td>\n",
       "      <td>기타</td>\n",
       "      <td>2329</td>\n",
       "    </tr>\n",
       "    <tr>\n",
       "      <th>26</th>\n",
       "      <td>초등학교(고학년)</td>\n",
       "      <td>흉복부</td>\n",
       "      <td>1910</td>\n",
       "    </tr>\n",
       "    <tr>\n",
       "      <th>27</th>\n",
       "      <td>중학교</td>\n",
       "      <td>손</td>\n",
       "      <td>68456</td>\n",
       "    </tr>\n",
       "    <tr>\n",
       "      <th>28</th>\n",
       "      <td>중학교</td>\n",
       "      <td>발</td>\n",
       "      <td>56972</td>\n",
       "    </tr>\n",
       "    <tr>\n",
       "      <th>29</th>\n",
       "      <td>중학교</td>\n",
       "      <td>머리</td>\n",
       "      <td>25926</td>\n",
       "    </tr>\n",
       "    <tr>\n",
       "      <th>30</th>\n",
       "      <td>중학교</td>\n",
       "      <td>다리</td>\n",
       "      <td>21670</td>\n",
       "    </tr>\n",
       "    <tr>\n",
       "      <th>31</th>\n",
       "      <td>중학교</td>\n",
       "      <td>복합부위</td>\n",
       "      <td>17375</td>\n",
       "    </tr>\n",
       "    <tr>\n",
       "      <th>32</th>\n",
       "      <td>중학교</td>\n",
       "      <td>팔</td>\n",
       "      <td>12804</td>\n",
       "    </tr>\n",
       "    <tr>\n",
       "      <th>33</th>\n",
       "      <td>중학교</td>\n",
       "      <td>치아</td>\n",
       "      <td>4756</td>\n",
       "    </tr>\n",
       "    <tr>\n",
       "      <th>34</th>\n",
       "      <td>중학교</td>\n",
       "      <td>기타</td>\n",
       "      <td>4313</td>\n",
       "    </tr>\n",
       "    <tr>\n",
       "      <th>35</th>\n",
       "      <td>중학교</td>\n",
       "      <td>흉복부</td>\n",
       "      <td>3620</td>\n",
       "    </tr>\n",
       "    <tr>\n",
       "      <th>36</th>\n",
       "      <td>고등학교</td>\n",
       "      <td>발</td>\n",
       "      <td>43230</td>\n",
       "    </tr>\n",
       "    <tr>\n",
       "      <th>37</th>\n",
       "      <td>고등학교</td>\n",
       "      <td>손</td>\n",
       "      <td>30888</td>\n",
       "    </tr>\n",
       "    <tr>\n",
       "      <th>38</th>\n",
       "      <td>고등학교</td>\n",
       "      <td>다리</td>\n",
       "      <td>16858</td>\n",
       "    </tr>\n",
       "    <tr>\n",
       "      <th>39</th>\n",
       "      <td>고등학교</td>\n",
       "      <td>머리</td>\n",
       "      <td>13692</td>\n",
       "    </tr>\n",
       "    <tr>\n",
       "      <th>40</th>\n",
       "      <td>고등학교</td>\n",
       "      <td>복합부위</td>\n",
       "      <td>10533</td>\n",
       "    </tr>\n",
       "    <tr>\n",
       "      <th>41</th>\n",
       "      <td>고등학교</td>\n",
       "      <td>팔</td>\n",
       "      <td>6839</td>\n",
       "    </tr>\n",
       "    <tr>\n",
       "      <th>42</th>\n",
       "      <td>고등학교</td>\n",
       "      <td>치아</td>\n",
       "      <td>2620</td>\n",
       "    </tr>\n",
       "    <tr>\n",
       "      <th>43</th>\n",
       "      <td>고등학교</td>\n",
       "      <td>기타</td>\n",
       "      <td>2604</td>\n",
       "    </tr>\n",
       "    <tr>\n",
       "      <th>44</th>\n",
       "      <td>고등학교</td>\n",
       "      <td>흉복부</td>\n",
       "      <td>2551</td>\n",
       "    </tr>\n",
       "    <tr>\n",
       "      <th>45</th>\n",
       "      <td>특수학교</td>\n",
       "      <td>발</td>\n",
       "      <td>547</td>\n",
       "    </tr>\n",
       "    <tr>\n",
       "      <th>46</th>\n",
       "      <td>특수학교</td>\n",
       "      <td>머리</td>\n",
       "      <td>527</td>\n",
       "    </tr>\n",
       "    <tr>\n",
       "      <th>47</th>\n",
       "      <td>특수학교</td>\n",
       "      <td>손</td>\n",
       "      <td>356</td>\n",
       "    </tr>\n",
       "    <tr>\n",
       "      <th>48</th>\n",
       "      <td>특수학교</td>\n",
       "      <td>복합부위</td>\n",
       "      <td>345</td>\n",
       "    </tr>\n",
       "    <tr>\n",
       "      <th>49</th>\n",
       "      <td>특수학교</td>\n",
       "      <td>다리</td>\n",
       "      <td>201</td>\n",
       "    </tr>\n",
       "    <tr>\n",
       "      <th>50</th>\n",
       "      <td>특수학교</td>\n",
       "      <td>치아</td>\n",
       "      <td>186</td>\n",
       "    </tr>\n",
       "    <tr>\n",
       "      <th>51</th>\n",
       "      <td>특수학교</td>\n",
       "      <td>팔</td>\n",
       "      <td>167</td>\n",
       "    </tr>\n",
       "    <tr>\n",
       "      <th>52</th>\n",
       "      <td>특수학교</td>\n",
       "      <td>기타</td>\n",
       "      <td>109</td>\n",
       "    </tr>\n",
       "    <tr>\n",
       "      <th>53</th>\n",
       "      <td>특수학교</td>\n",
       "      <td>흉복부</td>\n",
       "      <td>33</td>\n",
       "    </tr>\n",
       "  </tbody>\n",
       "</table>\n",
       "</div>"
      ],
      "text/plain": [
       "          학교급  사고부위    사고수\n",
       "0         유치원    머리  16983\n",
       "1         유치원     손   5440\n",
       "2         유치원    치아   5026\n",
       "3         유치원     발   4502\n",
       "4         유치원     팔   3313\n",
       "5         유치원  복합부위   3164\n",
       "6         유치원    기타   2259\n",
       "7         유치원    다리   1064\n",
       "8         유치원   흉복부    303\n",
       "9   초등학교(저학년)    머리  21803\n",
       "10  초등학교(저학년)     발  15041\n",
       "11  초등학교(저학년)     손  13057\n",
       "12  초등학교(저학년)    치아   8121\n",
       "13  초등학교(저학년)  복합부위   7972\n",
       "14  초등학교(저학년)     팔   5644\n",
       "15  초등학교(저학년)    다리   4636\n",
       "16  초등학교(저학년)    기타   1914\n",
       "17  초등학교(저학년)   흉복부    822\n",
       "18  초등학교(고학년)     손  43164\n",
       "19  초등학교(고학년)     발  34692\n",
       "20  초등학교(고학년)    머리  17773\n",
       "21  초등학교(고학년)  복합부위  12414\n",
       "22  초등학교(고학년)    다리  11294\n",
       "23  초등학교(고학년)     팔   9694\n",
       "24  초등학교(고학년)    치아   5786\n",
       "25  초등학교(고학년)    기타   2329\n",
       "26  초등학교(고학년)   흉복부   1910\n",
       "27        중학교     손  68456\n",
       "28        중학교     발  56972\n",
       "29        중학교    머리  25926\n",
       "30        중학교    다리  21670\n",
       "31        중학교  복합부위  17375\n",
       "32        중학교     팔  12804\n",
       "33        중학교    치아   4756\n",
       "34        중학교    기타   4313\n",
       "35        중학교   흉복부   3620\n",
       "36       고등학교     발  43230\n",
       "37       고등학교     손  30888\n",
       "38       고등학교    다리  16858\n",
       "39       고등학교    머리  13692\n",
       "40       고등학교  복합부위  10533\n",
       "41       고등학교     팔   6839\n",
       "42       고등학교    치아   2620\n",
       "43       고등학교    기타   2604\n",
       "44       고등학교   흉복부   2551\n",
       "45       특수학교     발    547\n",
       "46       특수학교    머리    527\n",
       "47       특수학교     손    356\n",
       "48       특수학교  복합부위    345\n",
       "49       특수학교    다리    201\n",
       "50       특수학교    치아    186\n",
       "51       특수학교     팔    167\n",
       "52       특수학교    기타    109\n",
       "53       특수학교   흉복부     33"
      ]
     },
     "execution_count": 172,
     "metadata": {},
     "output_type": "execute_result"
    }
   ],
   "source": [
    "# sch_acci_part 데이터프레임(사고부위 5개년 누적)\n",
    "# '학교급'의 '기타학교' 값 제외\n",
    "sch_acci_part = sch_df[sch_df['학교급'] != '기타학교']\n",
    "# 초등학교 저학년/고학년 구분\n",
    "sch_acci_part.loc[(sch_acci_part['학교급']=='초등학교') & (sch_acci_part['사고자학년'].isin(['1학년','2학년','3학년'])), '학교급'] = '초등학교(저학년)'\n",
    "sch_acci_part.loc[(sch_acci_part['학교급']=='초등학교') & (sch_acci_part['사고자학년'].isin(['4학년','5학년','6학년'])), '학교급'] = '초등학교(고학년)'\n",
    "# 분석 편의를 위해 일부 데이터 값 변경\n",
    "sch_acci_part['사고부위'] = sch_acci_part['사고부위'].str.replace(r'\\([^)]*\\)', '', regex=True).str.strip()\n",
    "# 연도, 학교급, 사고부위별 사고수 계산\n",
    "sch_acci_part = sch_acci_part.groupby(['학교급', '사고부위']).size().reset_index(name='사고수')\n",
    "# 학교급 기준으로 정렬\n",
    "sch_acci_part['학교급'] = pd.Categorical(sch_acci_part['학교급'], categories=custom_order, ordered=True)\n",
    "sch_acci_part = sch_acci_part.sort_values(['학교급', '사고수'], ascending=[True, False]).reset_index(drop=True)\n",
    "# 초등학교 저학년/고학년 구분 과정에서 생긴 nan 값(사고자학년 값이 유아인 경우) 처리\n",
    "sch_acci_part = sch_acci_part.dropna()\n",
    "sch_acci_part"
   ]
  },
  {
   "cell_type": "markdown",
   "metadata": {},
   "source": [
    "(4) 사고 형태"
   ]
  },
  {
   "cell_type": "code",
   "execution_count": 173,
   "metadata": {},
   "outputs": [
    {
     "data": {
      "text/html": [
       "<div>\n",
       "<style scoped>\n",
       "    .dataframe tbody tr th:only-of-type {\n",
       "        vertical-align: middle;\n",
       "    }\n",
       "\n",
       "    .dataframe tbody tr th {\n",
       "        vertical-align: top;\n",
       "    }\n",
       "\n",
       "    .dataframe thead th {\n",
       "        text-align: right;\n",
       "    }\n",
       "</style>\n",
       "<table border=\"1\" class=\"dataframe\">\n",
       "  <thead>\n",
       "    <tr style=\"text-align: right;\">\n",
       "      <th></th>\n",
       "      <th>학교급</th>\n",
       "      <th>사고형태</th>\n",
       "      <th>사고수</th>\n",
       "    </tr>\n",
       "  </thead>\n",
       "  <tbody>\n",
       "    <tr>\n",
       "      <th>0</th>\n",
       "      <td>유치원</td>\n",
       "      <td>물리적힘 노출</td>\n",
       "      <td>18861</td>\n",
       "    </tr>\n",
       "    <tr>\n",
       "      <th>1</th>\n",
       "      <td>유치원</td>\n",
       "      <td>낙상</td>\n",
       "      <td>13476</td>\n",
       "    </tr>\n",
       "    <tr>\n",
       "      <th>2</th>\n",
       "      <td>유치원</td>\n",
       "      <td>기타</td>\n",
       "      <td>6315</td>\n",
       "    </tr>\n",
       "    <tr>\n",
       "      <th>3</th>\n",
       "      <td>유치원</td>\n",
       "      <td>사람과의 충돌</td>\n",
       "      <td>2759</td>\n",
       "    </tr>\n",
       "    <tr>\n",
       "      <th>4</th>\n",
       "      <td>유치원</td>\n",
       "      <td>신체 충격</td>\n",
       "      <td>643</td>\n",
       "    </tr>\n",
       "    <tr>\n",
       "      <th>5</th>\n",
       "      <td>초등학교(저학년)</td>\n",
       "      <td>낙상</td>\n",
       "      <td>34398</td>\n",
       "    </tr>\n",
       "    <tr>\n",
       "      <th>6</th>\n",
       "      <td>초등학교(저학년)</td>\n",
       "      <td>물리적힘 노출</td>\n",
       "      <td>29473</td>\n",
       "    </tr>\n",
       "    <tr>\n",
       "      <th>7</th>\n",
       "      <td>초등학교(저학년)</td>\n",
       "      <td>사람과의 충돌</td>\n",
       "      <td>7375</td>\n",
       "    </tr>\n",
       "    <tr>\n",
       "      <th>8</th>\n",
       "      <td>초등학교(저학년)</td>\n",
       "      <td>기타</td>\n",
       "      <td>4689</td>\n",
       "    </tr>\n",
       "    <tr>\n",
       "      <th>9</th>\n",
       "      <td>초등학교(저학년)</td>\n",
       "      <td>신체 충격</td>\n",
       "      <td>3075</td>\n",
       "    </tr>\n",
       "    <tr>\n",
       "      <th>10</th>\n",
       "      <td>초등학교(고학년)</td>\n",
       "      <td>물리적힘 노출</td>\n",
       "      <td>56405</td>\n",
       "    </tr>\n",
       "    <tr>\n",
       "      <th>11</th>\n",
       "      <td>초등학교(고학년)</td>\n",
       "      <td>낙상</td>\n",
       "      <td>51836</td>\n",
       "    </tr>\n",
       "    <tr>\n",
       "      <th>12</th>\n",
       "      <td>초등학교(고학년)</td>\n",
       "      <td>사람과의 충돌</td>\n",
       "      <td>11840</td>\n",
       "    </tr>\n",
       "    <tr>\n",
       "      <th>13</th>\n",
       "      <td>초등학교(고학년)</td>\n",
       "      <td>신체 충격</td>\n",
       "      <td>10628</td>\n",
       "    </tr>\n",
       "    <tr>\n",
       "      <th>14</th>\n",
       "      <td>초등학교(고학년)</td>\n",
       "      <td>기타</td>\n",
       "      <td>8347</td>\n",
       "    </tr>\n",
       "    <tr>\n",
       "      <th>15</th>\n",
       "      <td>중학교</td>\n",
       "      <td>물리적힘 노출</td>\n",
       "      <td>94455</td>\n",
       "    </tr>\n",
       "    <tr>\n",
       "      <th>16</th>\n",
       "      <td>중학교</td>\n",
       "      <td>낙상</td>\n",
       "      <td>73873</td>\n",
       "    </tr>\n",
       "    <tr>\n",
       "      <th>17</th>\n",
       "      <td>중학교</td>\n",
       "      <td>사람과의 충돌</td>\n",
       "      <td>17668</td>\n",
       "    </tr>\n",
       "    <tr>\n",
       "      <th>18</th>\n",
       "      <td>중학교</td>\n",
       "      <td>신체 충격</td>\n",
       "      <td>16688</td>\n",
       "    </tr>\n",
       "    <tr>\n",
       "      <th>19</th>\n",
       "      <td>중학교</td>\n",
       "      <td>기타</td>\n",
       "      <td>13208</td>\n",
       "    </tr>\n",
       "    <tr>\n",
       "      <th>20</th>\n",
       "      <td>고등학교</td>\n",
       "      <td>낙상</td>\n",
       "      <td>50343</td>\n",
       "    </tr>\n",
       "    <tr>\n",
       "      <th>21</th>\n",
       "      <td>고등학교</td>\n",
       "      <td>물리적힘 노출</td>\n",
       "      <td>46070</td>\n",
       "    </tr>\n",
       "    <tr>\n",
       "      <th>22</th>\n",
       "      <td>고등학교</td>\n",
       "      <td>신체 충격</td>\n",
       "      <td>11335</td>\n",
       "    </tr>\n",
       "    <tr>\n",
       "      <th>23</th>\n",
       "      <td>고등학교</td>\n",
       "      <td>사람과의 충돌</td>\n",
       "      <td>11198</td>\n",
       "    </tr>\n",
       "    <tr>\n",
       "      <th>24</th>\n",
       "      <td>고등학교</td>\n",
       "      <td>기타</td>\n",
       "      <td>10869</td>\n",
       "    </tr>\n",
       "    <tr>\n",
       "      <th>25</th>\n",
       "      <td>특수학교</td>\n",
       "      <td>낙상</td>\n",
       "      <td>1080</td>\n",
       "    </tr>\n",
       "    <tr>\n",
       "      <th>26</th>\n",
       "      <td>특수학교</td>\n",
       "      <td>물리적힘 노출</td>\n",
       "      <td>807</td>\n",
       "    </tr>\n",
       "    <tr>\n",
       "      <th>27</th>\n",
       "      <td>특수학교</td>\n",
       "      <td>기타</td>\n",
       "      <td>431</td>\n",
       "    </tr>\n",
       "    <tr>\n",
       "      <th>28</th>\n",
       "      <td>특수학교</td>\n",
       "      <td>신체 충격</td>\n",
       "      <td>78</td>\n",
       "    </tr>\n",
       "    <tr>\n",
       "      <th>29</th>\n",
       "      <td>특수학교</td>\n",
       "      <td>사람과의 충돌</td>\n",
       "      <td>75</td>\n",
       "    </tr>\n",
       "  </tbody>\n",
       "</table>\n",
       "</div>"
      ],
      "text/plain": [
       "          학교급     사고형태    사고수\n",
       "0         유치원  물리적힘 노출  18861\n",
       "1         유치원       낙상  13476\n",
       "2         유치원       기타   6315\n",
       "3         유치원  사람과의 충돌   2759\n",
       "4         유치원    신체 충격    643\n",
       "5   초등학교(저학년)       낙상  34398\n",
       "6   초등학교(저학년)  물리적힘 노출  29473\n",
       "7   초등학교(저학년)  사람과의 충돌   7375\n",
       "8   초등학교(저학년)       기타   4689\n",
       "9   초등학교(저학년)    신체 충격   3075\n",
       "10  초등학교(고학년)  물리적힘 노출  56405\n",
       "11  초등학교(고학년)       낙상  51836\n",
       "12  초등학교(고학년)  사람과의 충돌  11840\n",
       "13  초등학교(고학년)    신체 충격  10628\n",
       "14  초등학교(고학년)       기타   8347\n",
       "15        중학교  물리적힘 노출  94455\n",
       "16        중학교       낙상  73873\n",
       "17        중학교  사람과의 충돌  17668\n",
       "18        중학교    신체 충격  16688\n",
       "19        중학교       기타  13208\n",
       "20       고등학교       낙상  50343\n",
       "21       고등학교  물리적힘 노출  46070\n",
       "22       고등학교    신체 충격  11335\n",
       "23       고등학교  사람과의 충돌  11198\n",
       "24       고등학교       기타  10869\n",
       "25       특수학교       낙상   1080\n",
       "26       특수학교  물리적힘 노출    807\n",
       "27       특수학교       기타    431\n",
       "28       특수학교    신체 충격     78\n",
       "29       특수학교  사람과의 충돌     75"
      ]
     },
     "execution_count": 173,
     "metadata": {},
     "output_type": "execute_result"
    }
   ],
   "source": [
    "# sch_acci_type 데이터프레임(사고형태 5개년 누적)\n",
    "# '학교급'의 '기타학교' 값 제외\n",
    "sch_acci_type = sch_df[sch_df['학교급'] != '기타학교']\n",
    "# 초등학교 저학년/고학년 구분\n",
    "sch_acci_type.loc[(sch_acci_type['학교급']=='초등학교') & (sch_acci_type['사고자학년'].isin(['1학년','2학년','3학년'])), '학교급'] = '초등학교(저학년)'\n",
    "sch_acci_type.loc[(sch_acci_type['학교급']=='초등학교') & (sch_acci_type['사고자학년'].isin(['4학년','5학년','6학년'])), '학교급'] = '초등학교(고학년)'\n",
    "# 분석 편의를 위해 일부 데이터 값 변경\n",
    "sch_acci_type = sch_acci_type.replace('낙상-미끄러짐', '낙상')\n",
    "sch_acci_type = sch_acci_type.replace('낙상-넘어짐', '낙상')\n",
    "sch_acci_type = sch_acci_type.replace('낙상-떨어짐', '낙상')\n",
    "sch_acci_type = sch_acci_type.replace('염좌·삐임 등 신체 충격', '신체 충격')\n",
    "# 연도, 학교급, 사고형태별 사고수 계산\n",
    "sch_acci_type = sch_acci_type.groupby(['학교급', '사고형태']).size().reset_index(name='사고수')\n",
    "# 학교급 기준으로 정렬\n",
    "sch_acci_type['학교급'] = pd.Categorical(sch_acci_type['학교급'], categories=custom_order, ordered=True)\n",
    "sch_acci_type = sch_acci_type.sort_values(['학교급', '사고수'], ascending=[True, False]).reset_index(drop=True)\n",
    "# 초등학교 저학년/고학년 구분 과정에서 생긴 nan 값(사고자학년 값이 유아인 경우) 처리\n",
    "sch_acci_type = sch_acci_type.dropna()\n",
    "sch_acci_type"
   ]
  },
  {
   "cell_type": "markdown",
   "metadata": {},
   "source": [
    "(5) 사고 당시 활동"
   ]
  },
  {
   "cell_type": "code",
   "execution_count": 174,
   "metadata": {},
   "outputs": [
    {
     "data": {
      "text/html": [
       "<div>\n",
       "<style scoped>\n",
       "    .dataframe tbody tr th:only-of-type {\n",
       "        vertical-align: middle;\n",
       "    }\n",
       "\n",
       "    .dataframe tbody tr th {\n",
       "        vertical-align: top;\n",
       "    }\n",
       "\n",
       "    .dataframe thead th {\n",
       "        text-align: right;\n",
       "    }\n",
       "</style>\n",
       "<table border=\"1\" class=\"dataframe\">\n",
       "  <thead>\n",
       "    <tr style=\"text-align: right;\">\n",
       "      <th></th>\n",
       "      <th>학교급</th>\n",
       "      <th>사고당시활동</th>\n",
       "      <th>사고수</th>\n",
       "    </tr>\n",
       "  </thead>\n",
       "  <tbody>\n",
       "    <tr>\n",
       "      <th>0</th>\n",
       "      <td>유치원</td>\n",
       "      <td>실험실습</td>\n",
       "      <td>205</td>\n",
       "    </tr>\n",
       "    <tr>\n",
       "      <th>1</th>\n",
       "      <td>유치원</td>\n",
       "      <td>구기운동</td>\n",
       "      <td>749</td>\n",
       "    </tr>\n",
       "    <tr>\n",
       "      <th>2</th>\n",
       "      <td>유치원</td>\n",
       "      <td>기타운동</td>\n",
       "      <td>2202</td>\n",
       "    </tr>\n",
       "    <tr>\n",
       "      <th>3</th>\n",
       "      <td>유치원</td>\n",
       "      <td>식사/수면/휴식</td>\n",
       "      <td>3182</td>\n",
       "    </tr>\n",
       "    <tr>\n",
       "      <th>4</th>\n",
       "      <td>유치원</td>\n",
       "      <td>공부</td>\n",
       "      <td>3548</td>\n",
       "    </tr>\n",
       "    <tr>\n",
       "      <th>5</th>\n",
       "      <td>유치원</td>\n",
       "      <td>보행/주행</td>\n",
       "      <td>6184</td>\n",
       "    </tr>\n",
       "    <tr>\n",
       "      <th>6</th>\n",
       "      <td>유치원</td>\n",
       "      <td>기타</td>\n",
       "      <td>11100</td>\n",
       "    </tr>\n",
       "    <tr>\n",
       "      <th>7</th>\n",
       "      <td>유치원</td>\n",
       "      <td>장난/놀이</td>\n",
       "      <td>14884</td>\n",
       "    </tr>\n",
       "    <tr>\n",
       "      <th>8</th>\n",
       "      <td>초등학교(저학년)</td>\n",
       "      <td>실험실습</td>\n",
       "      <td>936</td>\n",
       "    </tr>\n",
       "    <tr>\n",
       "      <th>9</th>\n",
       "      <td>초등학교(저학년)</td>\n",
       "      <td>공부</td>\n",
       "      <td>5660</td>\n",
       "    </tr>\n",
       "    <tr>\n",
       "      <th>10</th>\n",
       "      <td>초등학교(저학년)</td>\n",
       "      <td>식사/수면/휴식</td>\n",
       "      <td>7136</td>\n",
       "    </tr>\n",
       "    <tr>\n",
       "      <th>11</th>\n",
       "      <td>초등학교(저학년)</td>\n",
       "      <td>기타운동</td>\n",
       "      <td>7279</td>\n",
       "    </tr>\n",
       "    <tr>\n",
       "      <th>12</th>\n",
       "      <td>초등학교(저학년)</td>\n",
       "      <td>구기운동</td>\n",
       "      <td>8767</td>\n",
       "    </tr>\n",
       "    <tr>\n",
       "      <th>13</th>\n",
       "      <td>초등학교(저학년)</td>\n",
       "      <td>기타</td>\n",
       "      <td>9331</td>\n",
       "    </tr>\n",
       "    <tr>\n",
       "      <th>14</th>\n",
       "      <td>초등학교(저학년)</td>\n",
       "      <td>장난/놀이</td>\n",
       "      <td>18746</td>\n",
       "    </tr>\n",
       "    <tr>\n",
       "      <th>15</th>\n",
       "      <td>초등학교(저학년)</td>\n",
       "      <td>보행/주행</td>\n",
       "      <td>21155</td>\n",
       "    </tr>\n",
       "    <tr>\n",
       "      <th>16</th>\n",
       "      <td>초등학교(고학년)</td>\n",
       "      <td>실험실습</td>\n",
       "      <td>2657</td>\n",
       "    </tr>\n",
       "    <tr>\n",
       "      <th>17</th>\n",
       "      <td>초등학교(고학년)</td>\n",
       "      <td>공부</td>\n",
       "      <td>4905</td>\n",
       "    </tr>\n",
       "    <tr>\n",
       "      <th>18</th>\n",
       "      <td>초등학교(고학년)</td>\n",
       "      <td>식사/수면/휴식</td>\n",
       "      <td>7570</td>\n",
       "    </tr>\n",
       "    <tr>\n",
       "      <th>19</th>\n",
       "      <td>초등학교(고학년)</td>\n",
       "      <td>기타</td>\n",
       "      <td>13260</td>\n",
       "    </tr>\n",
       "    <tr>\n",
       "      <th>20</th>\n",
       "      <td>초등학교(고학년)</td>\n",
       "      <td>기타운동</td>\n",
       "      <td>17222</td>\n",
       "    </tr>\n",
       "    <tr>\n",
       "      <th>21</th>\n",
       "      <td>초등학교(고학년)</td>\n",
       "      <td>장난/놀이</td>\n",
       "      <td>20353</td>\n",
       "    </tr>\n",
       "    <tr>\n",
       "      <th>22</th>\n",
       "      <td>초등학교(고학년)</td>\n",
       "      <td>보행/주행</td>\n",
       "      <td>23836</td>\n",
       "    </tr>\n",
       "    <tr>\n",
       "      <th>23</th>\n",
       "      <td>초등학교(고학년)</td>\n",
       "      <td>구기운동</td>\n",
       "      <td>49253</td>\n",
       "    </tr>\n",
       "    <tr>\n",
       "      <th>24</th>\n",
       "      <td>중학교</td>\n",
       "      <td>실험실습</td>\n",
       "      <td>3331</td>\n",
       "    </tr>\n",
       "    <tr>\n",
       "      <th>25</th>\n",
       "      <td>중학교</td>\n",
       "      <td>공부</td>\n",
       "      <td>3727</td>\n",
       "    </tr>\n",
       "    <tr>\n",
       "      <th>26</th>\n",
       "      <td>중학교</td>\n",
       "      <td>식사/수면/휴식</td>\n",
       "      <td>8669</td>\n",
       "    </tr>\n",
       "    <tr>\n",
       "      <th>27</th>\n",
       "      <td>중학교</td>\n",
       "      <td>기타운동</td>\n",
       "      <td>16942</td>\n",
       "    </tr>\n",
       "    <tr>\n",
       "      <th>28</th>\n",
       "      <td>중학교</td>\n",
       "      <td>기타</td>\n",
       "      <td>18726</td>\n",
       "    </tr>\n",
       "    <tr>\n",
       "      <th>29</th>\n",
       "      <td>중학교</td>\n",
       "      <td>장난/놀이</td>\n",
       "      <td>18903</td>\n",
       "    </tr>\n",
       "    <tr>\n",
       "      <th>30</th>\n",
       "      <td>중학교</td>\n",
       "      <td>보행/주행</td>\n",
       "      <td>26747</td>\n",
       "    </tr>\n",
       "    <tr>\n",
       "      <th>31</th>\n",
       "      <td>중학교</td>\n",
       "      <td>구기운동</td>\n",
       "      <td>118847</td>\n",
       "    </tr>\n",
       "    <tr>\n",
       "      <th>32</th>\n",
       "      <td>고등학교</td>\n",
       "      <td>공부</td>\n",
       "      <td>2282</td>\n",
       "    </tr>\n",
       "    <tr>\n",
       "      <th>33</th>\n",
       "      <td>고등학교</td>\n",
       "      <td>장난/놀이</td>\n",
       "      <td>4496</td>\n",
       "    </tr>\n",
       "    <tr>\n",
       "      <th>34</th>\n",
       "      <td>고등학교</td>\n",
       "      <td>식사/수면/휴식</td>\n",
       "      <td>4609</td>\n",
       "    </tr>\n",
       "    <tr>\n",
       "      <th>35</th>\n",
       "      <td>고등학교</td>\n",
       "      <td>실험실습</td>\n",
       "      <td>4792</td>\n",
       "    </tr>\n",
       "    <tr>\n",
       "      <th>36</th>\n",
       "      <td>고등학교</td>\n",
       "      <td>기타운동</td>\n",
       "      <td>10857</td>\n",
       "    </tr>\n",
       "    <tr>\n",
       "      <th>37</th>\n",
       "      <td>고등학교</td>\n",
       "      <td>기타</td>\n",
       "      <td>10981</td>\n",
       "    </tr>\n",
       "    <tr>\n",
       "      <th>38</th>\n",
       "      <td>고등학교</td>\n",
       "      <td>보행/주행</td>\n",
       "      <td>16339</td>\n",
       "    </tr>\n",
       "    <tr>\n",
       "      <th>39</th>\n",
       "      <td>고등학교</td>\n",
       "      <td>구기운동</td>\n",
       "      <td>75459</td>\n",
       "    </tr>\n",
       "    <tr>\n",
       "      <th>40</th>\n",
       "      <td>특수학교</td>\n",
       "      <td>구기운동</td>\n",
       "      <td>121</td>\n",
       "    </tr>\n",
       "    <tr>\n",
       "      <th>41</th>\n",
       "      <td>특수학교</td>\n",
       "      <td>실험실습</td>\n",
       "      <td>138</td>\n",
       "    </tr>\n",
       "    <tr>\n",
       "      <th>42</th>\n",
       "      <td>특수학교</td>\n",
       "      <td>장난/놀이</td>\n",
       "      <td>183</td>\n",
       "    </tr>\n",
       "    <tr>\n",
       "      <th>43</th>\n",
       "      <td>특수학교</td>\n",
       "      <td>공부</td>\n",
       "      <td>275</td>\n",
       "    </tr>\n",
       "    <tr>\n",
       "      <th>44</th>\n",
       "      <td>특수학교</td>\n",
       "      <td>기타운동</td>\n",
       "      <td>277</td>\n",
       "    </tr>\n",
       "    <tr>\n",
       "      <th>45</th>\n",
       "      <td>특수학교</td>\n",
       "      <td>식사/수면/휴식</td>\n",
       "      <td>282</td>\n",
       "    </tr>\n",
       "    <tr>\n",
       "      <th>46</th>\n",
       "      <td>특수학교</td>\n",
       "      <td>기타</td>\n",
       "      <td>596</td>\n",
       "    </tr>\n",
       "    <tr>\n",
       "      <th>47</th>\n",
       "      <td>특수학교</td>\n",
       "      <td>보행/주행</td>\n",
       "      <td>599</td>\n",
       "    </tr>\n",
       "  </tbody>\n",
       "</table>\n",
       "</div>"
      ],
      "text/plain": [
       "          학교급    사고당시활동     사고수\n",
       "0         유치원      실험실습     205\n",
       "1         유치원      구기운동     749\n",
       "2         유치원      기타운동    2202\n",
       "3         유치원  식사/수면/휴식    3182\n",
       "4         유치원        공부    3548\n",
       "5         유치원     보행/주행    6184\n",
       "6         유치원        기타   11100\n",
       "7         유치원     장난/놀이   14884\n",
       "8   초등학교(저학년)      실험실습     936\n",
       "9   초등학교(저학년)        공부    5660\n",
       "10  초등학교(저학년)  식사/수면/휴식    7136\n",
       "11  초등학교(저학년)      기타운동    7279\n",
       "12  초등학교(저학년)      구기운동    8767\n",
       "13  초등학교(저학년)        기타    9331\n",
       "14  초등학교(저학년)     장난/놀이   18746\n",
       "15  초등학교(저학년)     보행/주행   21155\n",
       "16  초등학교(고학년)      실험실습    2657\n",
       "17  초등학교(고학년)        공부    4905\n",
       "18  초등학교(고학년)  식사/수면/휴식    7570\n",
       "19  초등학교(고학년)        기타   13260\n",
       "20  초등학교(고학년)      기타운동   17222\n",
       "21  초등학교(고학년)     장난/놀이   20353\n",
       "22  초등학교(고학년)     보행/주행   23836\n",
       "23  초등학교(고학년)      구기운동   49253\n",
       "24        중학교      실험실습    3331\n",
       "25        중학교        공부    3727\n",
       "26        중학교  식사/수면/휴식    8669\n",
       "27        중학교      기타운동   16942\n",
       "28        중학교        기타   18726\n",
       "29        중학교     장난/놀이   18903\n",
       "30        중학교     보행/주행   26747\n",
       "31        중학교      구기운동  118847\n",
       "32       고등학교        공부    2282\n",
       "33       고등학교     장난/놀이    4496\n",
       "34       고등학교  식사/수면/휴식    4609\n",
       "35       고등학교      실험실습    4792\n",
       "36       고등학교      기타운동   10857\n",
       "37       고등학교        기타   10981\n",
       "38       고등학교     보행/주행   16339\n",
       "39       고등학교      구기운동   75459\n",
       "40       특수학교      구기운동     121\n",
       "41       특수학교      실험실습     138\n",
       "42       특수학교     장난/놀이     183\n",
       "43       특수학교        공부     275\n",
       "44       특수학교      기타운동     277\n",
       "45       특수학교  식사/수면/휴식     282\n",
       "46       특수학교        기타     596\n",
       "47       특수학교     보행/주행     599"
      ]
     },
     "execution_count": 174,
     "metadata": {},
     "output_type": "execute_result"
    }
   ],
   "source": [
    "# sch_acci_act 데이터프레임(사고당시활동 5개년 누적)\n",
    "# '학교급'의 '기타학교' 값 제외\n",
    "sch_acci_act = sch_df[sch_df['학교급'] != '기타학교']\n",
    "# 초등학교 저학년/고학년 구분\n",
    "sch_acci_act.loc[(sch_acci_act['학교급']=='초등학교') & (sch_acci_act['사고자학년'].isin(['1학년','2학년','3학년'])), '학교급'] = '초등학교(저학년)'\n",
    "sch_acci_act.loc[(sch_acci_act['학교급']=='초등학교') & (sch_acci_act['사고자학년'].isin(['4학년','5학년','6학년'])), '학교급'] = '초등학교(고학년)'\n",
    "# 연도, 학교급, 사고당시활동별 사고수 계산\n",
    "sch_acci_act = sch_acci_act.groupby(['학교급', '사고당시활동']).size().reset_index(name='사고수')\n",
    "# 연도, 학교급 기준으로 정렬\n",
    "sch_acci_act['학교급'] = pd.Categorical(sch_acci_act['학교급'], categories=custom_order, ordered=True)\n",
    "sch_acci_act = sch_acci_act.sort_values(['학교급', '사고수']).reset_index(drop=True)\n",
    "# 초등학교 저학년/고학년 구분 과정에서 생긴 nan 값(사고자학년 값이 유아인 경우) 처리\n",
    "sch_acci_act = sch_acci_act.dropna()\n",
    "sch_acci_act "
   ]
  },
  {
   "cell_type": "markdown",
   "metadata": {},
   "source": [
    "(6) 사고 매개물"
   ]
  },
  {
   "cell_type": "code",
   "execution_count": 176,
   "metadata": {},
   "outputs": [
    {
     "name": "stderr",
     "output_type": "stream",
     "text": [
      "C:\\Users\\cabby\\AppData\\Local\\Temp\\ipykernel_28384\\1218119953.py:8: SettingWithCopyWarning:\n",
      "\n",
      "\n",
      "A value is trying to be set on a copy of a slice from a DataFrame.\n",
      "Try using .loc[row_indexer,col_indexer] = value instead\n",
      "\n",
      "See the caveats in the documentation: https://pandas.pydata.org/pandas-docs/stable/user_guide/indexing.html#returning-a-view-versus-a-copy\n",
      "\n"
     ]
    },
    {
     "data": {
      "text/html": [
       "<div>\n",
       "<style scoped>\n",
       "    .dataframe tbody tr th:only-of-type {\n",
       "        vertical-align: middle;\n",
       "    }\n",
       "\n",
       "    .dataframe tbody tr th {\n",
       "        vertical-align: top;\n",
       "    }\n",
       "\n",
       "    .dataframe thead th {\n",
       "        text-align: right;\n",
       "    }\n",
       "</style>\n",
       "<table border=\"1\" class=\"dataframe\">\n",
       "  <thead>\n",
       "    <tr style=\"text-align: right;\">\n",
       "      <th></th>\n",
       "      <th>학교급</th>\n",
       "      <th>사고매개물</th>\n",
       "      <th>사고수</th>\n",
       "    </tr>\n",
       "  </thead>\n",
       "  <tbody>\n",
       "    <tr>\n",
       "      <th>0</th>\n",
       "      <td>유치원</td>\n",
       "      <td>운송용구</td>\n",
       "      <td>143</td>\n",
       "    </tr>\n",
       "    <tr>\n",
       "      <th>1</th>\n",
       "      <td>유치원</td>\n",
       "      <td>기계 도구류</td>\n",
       "      <td>227</td>\n",
       "    </tr>\n",
       "    <tr>\n",
       "      <th>2</th>\n",
       "      <td>유치원</td>\n",
       "      <td>열</td>\n",
       "      <td>420</td>\n",
       "    </tr>\n",
       "    <tr>\n",
       "      <th>3</th>\n",
       "      <td>유치원</td>\n",
       "      <td>날카로운 물건</td>\n",
       "      <td>773</td>\n",
       "    </tr>\n",
       "    <tr>\n",
       "      <th>4</th>\n",
       "      <td>유치원</td>\n",
       "      <td>운동용 장비/기구</td>\n",
       "      <td>5515</td>\n",
       "    </tr>\n",
       "    <tr>\n",
       "      <th>5</th>\n",
       "      <td>유치원</td>\n",
       "      <td>건물</td>\n",
       "      <td>7136</td>\n",
       "    </tr>\n",
       "    <tr>\n",
       "      <th>6</th>\n",
       "      <td>유치원</td>\n",
       "      <td>자연</td>\n",
       "      <td>7677</td>\n",
       "    </tr>\n",
       "    <tr>\n",
       "      <th>7</th>\n",
       "      <td>유치원</td>\n",
       "      <td>가구</td>\n",
       "      <td>9087</td>\n",
       "    </tr>\n",
       "    <tr>\n",
       "      <th>8</th>\n",
       "      <td>유치원</td>\n",
       "      <td>기타</td>\n",
       "      <td>11076</td>\n",
       "    </tr>\n",
       "    <tr>\n",
       "      <th>9</th>\n",
       "      <td>초등학교(저학년)</td>\n",
       "      <td>운송용구</td>\n",
       "      <td>157</td>\n",
       "    </tr>\n",
       "    <tr>\n",
       "      <th>10</th>\n",
       "      <td>초등학교(저학년)</td>\n",
       "      <td>기계 도구류</td>\n",
       "      <td>239</td>\n",
       "    </tr>\n",
       "    <tr>\n",
       "      <th>11</th>\n",
       "      <td>초등학교(저학년)</td>\n",
       "      <td>열</td>\n",
       "      <td>687</td>\n",
       "    </tr>\n",
       "    <tr>\n",
       "      <th>12</th>\n",
       "      <td>초등학교(저학년)</td>\n",
       "      <td>날카로운 물건</td>\n",
       "      <td>1535</td>\n",
       "    </tr>\n",
       "    <tr>\n",
       "      <th>13</th>\n",
       "      <td>초등학교(저학년)</td>\n",
       "      <td>가구</td>\n",
       "      <td>8296</td>\n",
       "    </tr>\n",
       "    <tr>\n",
       "      <th>14</th>\n",
       "      <td>초등학교(저학년)</td>\n",
       "      <td>운동용 장비/기구</td>\n",
       "      <td>13667</td>\n",
       "    </tr>\n",
       "    <tr>\n",
       "      <th>15</th>\n",
       "      <td>초등학교(저학년)</td>\n",
       "      <td>자연</td>\n",
       "      <td>14790</td>\n",
       "    </tr>\n",
       "    <tr>\n",
       "      <th>16</th>\n",
       "      <td>초등학교(저학년)</td>\n",
       "      <td>기타</td>\n",
       "      <td>16574</td>\n",
       "    </tr>\n",
       "    <tr>\n",
       "      <th>17</th>\n",
       "      <td>초등학교(저학년)</td>\n",
       "      <td>건물</td>\n",
       "      <td>23065</td>\n",
       "    </tr>\n",
       "    <tr>\n",
       "      <th>18</th>\n",
       "      <td>초등학교(고학년)</td>\n",
       "      <td>기계 도구류</td>\n",
       "      <td>349</td>\n",
       "    </tr>\n",
       "    <tr>\n",
       "      <th>19</th>\n",
       "      <td>초등학교(고학년)</td>\n",
       "      <td>운송용구</td>\n",
       "      <td>417</td>\n",
       "    </tr>\n",
       "    <tr>\n",
       "      <th>20</th>\n",
       "      <td>초등학교(고학년)</td>\n",
       "      <td>열</td>\n",
       "      <td>905</td>\n",
       "    </tr>\n",
       "    <tr>\n",
       "      <th>21</th>\n",
       "      <td>초등학교(고학년)</td>\n",
       "      <td>날카로운 물건</td>\n",
       "      <td>2622</td>\n",
       "    </tr>\n",
       "    <tr>\n",
       "      <th>22</th>\n",
       "      <td>초등학교(고학년)</td>\n",
       "      <td>가구</td>\n",
       "      <td>6967</td>\n",
       "    </tr>\n",
       "    <tr>\n",
       "      <th>23</th>\n",
       "      <td>초등학교(고학년)</td>\n",
       "      <td>기타</td>\n",
       "      <td>24523</td>\n",
       "    </tr>\n",
       "    <tr>\n",
       "      <th>24</th>\n",
       "      <td>초등학교(고학년)</td>\n",
       "      <td>자연</td>\n",
       "      <td>24967</td>\n",
       "    </tr>\n",
       "    <tr>\n",
       "      <th>25</th>\n",
       "      <td>초등학교(고학년)</td>\n",
       "      <td>건물</td>\n",
       "      <td>34318</td>\n",
       "    </tr>\n",
       "    <tr>\n",
       "      <th>26</th>\n",
       "      <td>초등학교(고학년)</td>\n",
       "      <td>운동용 장비/기구</td>\n",
       "      <td>43988</td>\n",
       "    </tr>\n",
       "    <tr>\n",
       "      <th>27</th>\n",
       "      <td>중학교</td>\n",
       "      <td>기계 도구류</td>\n",
       "      <td>556</td>\n",
       "    </tr>\n",
       "    <tr>\n",
       "      <th>28</th>\n",
       "      <td>중학교</td>\n",
       "      <td>열</td>\n",
       "      <td>876</td>\n",
       "    </tr>\n",
       "    <tr>\n",
       "      <th>29</th>\n",
       "      <td>중학교</td>\n",
       "      <td>운송용구</td>\n",
       "      <td>1020</td>\n",
       "    </tr>\n",
       "    <tr>\n",
       "      <th>30</th>\n",
       "      <td>중학교</td>\n",
       "      <td>날카로운 물건</td>\n",
       "      <td>3169</td>\n",
       "    </tr>\n",
       "    <tr>\n",
       "      <th>31</th>\n",
       "      <td>중학교</td>\n",
       "      <td>가구</td>\n",
       "      <td>6713</td>\n",
       "    </tr>\n",
       "    <tr>\n",
       "      <th>32</th>\n",
       "      <td>중학교</td>\n",
       "      <td>기타</td>\n",
       "      <td>33570</td>\n",
       "    </tr>\n",
       "    <tr>\n",
       "      <th>33</th>\n",
       "      <td>중학교</td>\n",
       "      <td>건물</td>\n",
       "      <td>37753</td>\n",
       "    </tr>\n",
       "    <tr>\n",
       "      <th>34</th>\n",
       "      <td>중학교</td>\n",
       "      <td>자연</td>\n",
       "      <td>41277</td>\n",
       "    </tr>\n",
       "    <tr>\n",
       "      <th>35</th>\n",
       "      <td>중학교</td>\n",
       "      <td>운동용 장비/기구</td>\n",
       "      <td>90958</td>\n",
       "    </tr>\n",
       "    <tr>\n",
       "      <th>36</th>\n",
       "      <td>고등학교</td>\n",
       "      <td>운송용구</td>\n",
       "      <td>882</td>\n",
       "    </tr>\n",
       "    <tr>\n",
       "      <th>37</th>\n",
       "      <td>고등학교</td>\n",
       "      <td>열</td>\n",
       "      <td>1018</td>\n",
       "    </tr>\n",
       "    <tr>\n",
       "      <th>38</th>\n",
       "      <td>고등학교</td>\n",
       "      <td>기계 도구류</td>\n",
       "      <td>1221</td>\n",
       "    </tr>\n",
       "    <tr>\n",
       "      <th>39</th>\n",
       "      <td>고등학교</td>\n",
       "      <td>날카로운 물건</td>\n",
       "      <td>1965</td>\n",
       "    </tr>\n",
       "    <tr>\n",
       "      <th>40</th>\n",
       "      <td>고등학교</td>\n",
       "      <td>가구</td>\n",
       "      <td>3518</td>\n",
       "    </tr>\n",
       "    <tr>\n",
       "      <th>41</th>\n",
       "      <td>고등학교</td>\n",
       "      <td>건물</td>\n",
       "      <td>21885</td>\n",
       "    </tr>\n",
       "    <tr>\n",
       "      <th>42</th>\n",
       "      <td>고등학교</td>\n",
       "      <td>기타</td>\n",
       "      <td>23844</td>\n",
       "    </tr>\n",
       "    <tr>\n",
       "      <th>43</th>\n",
       "      <td>고등학교</td>\n",
       "      <td>자연</td>\n",
       "      <td>25286</td>\n",
       "    </tr>\n",
       "    <tr>\n",
       "      <th>44</th>\n",
       "      <td>고등학교</td>\n",
       "      <td>운동용 장비/기구</td>\n",
       "      <td>50196</td>\n",
       "    </tr>\n",
       "    <tr>\n",
       "      <th>45</th>\n",
       "      <td>특수학교</td>\n",
       "      <td>기계 도구류</td>\n",
       "      <td>16</td>\n",
       "    </tr>\n",
       "    <tr>\n",
       "      <th>46</th>\n",
       "      <td>특수학교</td>\n",
       "      <td>날카로운 물건</td>\n",
       "      <td>36</td>\n",
       "    </tr>\n",
       "    <tr>\n",
       "      <th>47</th>\n",
       "      <td>특수학교</td>\n",
       "      <td>열</td>\n",
       "      <td>62</td>\n",
       "    </tr>\n",
       "    <tr>\n",
       "      <th>48</th>\n",
       "      <td>특수학교</td>\n",
       "      <td>운송용구</td>\n",
       "      <td>66</td>\n",
       "    </tr>\n",
       "    <tr>\n",
       "      <th>49</th>\n",
       "      <td>특수학교</td>\n",
       "      <td>자연</td>\n",
       "      <td>291</td>\n",
       "    </tr>\n",
       "    <tr>\n",
       "      <th>50</th>\n",
       "      <td>특수학교</td>\n",
       "      <td>가구</td>\n",
       "      <td>319</td>\n",
       "    </tr>\n",
       "    <tr>\n",
       "      <th>51</th>\n",
       "      <td>특수학교</td>\n",
       "      <td>운동용 장비/기구</td>\n",
       "      <td>434</td>\n",
       "    </tr>\n",
       "    <tr>\n",
       "      <th>52</th>\n",
       "      <td>특수학교</td>\n",
       "      <td>기타</td>\n",
       "      <td>616</td>\n",
       "    </tr>\n",
       "    <tr>\n",
       "      <th>53</th>\n",
       "      <td>특수학교</td>\n",
       "      <td>건물</td>\n",
       "      <td>631</td>\n",
       "    </tr>\n",
       "  </tbody>\n",
       "</table>\n",
       "</div>"
      ],
      "text/plain": [
       "          학교급      사고매개물    사고수\n",
       "0         유치원       운송용구    143\n",
       "1         유치원     기계 도구류    227\n",
       "2         유치원          열    420\n",
       "3         유치원    날카로운 물건    773\n",
       "4         유치원  운동용 장비/기구   5515\n",
       "5         유치원         건물   7136\n",
       "6         유치원         자연   7677\n",
       "7         유치원         가구   9087\n",
       "8         유치원         기타  11076\n",
       "9   초등학교(저학년)       운송용구    157\n",
       "10  초등학교(저학년)     기계 도구류    239\n",
       "11  초등학교(저학년)          열    687\n",
       "12  초등학교(저학년)    날카로운 물건   1535\n",
       "13  초등학교(저학년)         가구   8296\n",
       "14  초등학교(저학년)  운동용 장비/기구  13667\n",
       "15  초등학교(저학년)         자연  14790\n",
       "16  초등학교(저학년)         기타  16574\n",
       "17  초등학교(저학년)         건물  23065\n",
       "18  초등학교(고학년)     기계 도구류    349\n",
       "19  초등학교(고학년)       운송용구    417\n",
       "20  초등학교(고학년)          열    905\n",
       "21  초등학교(고학년)    날카로운 물건   2622\n",
       "22  초등학교(고학년)         가구   6967\n",
       "23  초등학교(고학년)         기타  24523\n",
       "24  초등학교(고학년)         자연  24967\n",
       "25  초등학교(고학년)         건물  34318\n",
       "26  초등학교(고학년)  운동용 장비/기구  43988\n",
       "27        중학교     기계 도구류    556\n",
       "28        중학교          열    876\n",
       "29        중학교       운송용구   1020\n",
       "30        중학교    날카로운 물건   3169\n",
       "31        중학교         가구   6713\n",
       "32        중학교         기타  33570\n",
       "33        중학교         건물  37753\n",
       "34        중학교         자연  41277\n",
       "35        중학교  운동용 장비/기구  90958\n",
       "36       고등학교       운송용구    882\n",
       "37       고등학교          열   1018\n",
       "38       고등학교     기계 도구류   1221\n",
       "39       고등학교    날카로운 물건   1965\n",
       "40       고등학교         가구   3518\n",
       "41       고등학교         건물  21885\n",
       "42       고등학교         기타  23844\n",
       "43       고등학교         자연  25286\n",
       "44       고등학교  운동용 장비/기구  50196\n",
       "45       특수학교     기계 도구류     16\n",
       "46       특수학교    날카로운 물건     36\n",
       "47       특수학교          열     62\n",
       "48       특수학교       운송용구     66\n",
       "49       특수학교         자연    291\n",
       "50       특수학교         가구    319\n",
       "51       특수학교  운동용 장비/기구    434\n",
       "52       특수학교         기타    616\n",
       "53       특수학교         건물    631"
      ]
     },
     "execution_count": 176,
     "metadata": {},
     "output_type": "execute_result"
    }
   ],
   "source": [
    "# sch_acci_mdm 데이터프레임(사고매개물 5개년 누적)\n",
    "# '학교급'의 '기타학교' 값 제외\n",
    "sch_acci_mdm = sch_df[sch_df['학교급'] != '기타학교']\n",
    "# 초등학교 저학년/고학년 구분\n",
    "sch_acci_mdm.loc[(sch_acci_mdm['학교급']=='초등학교') & (sch_acci_mdm['사고자학년'].isin(['1학년','2학년','3학년'])), '학교급'] = '초등학교(저학년)'\n",
    "sch_acci_mdm.loc[(sch_acci_mdm['학교급']=='초등학교') & (sch_acci_mdm['사고자학년'].isin(['4학년','5학년','6학년'])), '학교급'] = '초등학교(고학년)'\n",
    "# 분석 편의를 위해 일부 데이터 값 변경\n",
    "sch_acci_mdm['사고매개물'] = sch_acci_mdm['사고매개물'].str.replace(r'\\([^)]*\\)', '', regex=True).str.strip()\n",
    "# 연도, 학교급, 사고매개물별 사고수 계산\n",
    "sch_acci_mdm = sch_acci_mdm.groupby(['학교급', '사고매개물']).size().reset_index(name='사고수')\n",
    "# 연도, 학교급 기준으로 정렬\n",
    "sch_acci_mdm['학교급'] = pd.Categorical(sch_acci_mdm['학교급'], categories=custom_order, ordered=True)\n",
    "sch_acci_mdm = sch_acci_mdm.sort_values(['학교급', '사고수']).reset_index(drop=True)\n",
    "# 초등학교 저학년/고학년 구분 과정에서 생긴 nan 값(사고자학년 값이 유아인 경우) 처리\n",
    "sch_acci_mdm = sch_acci_mdm.dropna()\n",
    "sch_acci_mdm"
   ]
  }
 ],
 "metadata": {
  "kernelspec": {
   "display_name": "base",
   "language": "python",
   "name": "python3"
  },
  "language_info": {
   "codemirror_mode": {
    "name": "ipython",
    "version": 3
   },
   "file_extension": ".py",
   "mimetype": "text/x-python",
   "name": "python",
   "nbconvert_exporter": "python",
   "pygments_lexer": "ipython3",
   "version": "3.12.4"
  }
 },
 "nbformat": 4,
 "nbformat_minor": 2
}
