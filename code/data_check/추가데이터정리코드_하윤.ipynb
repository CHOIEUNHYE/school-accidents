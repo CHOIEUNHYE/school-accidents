{
 "cells": [
  {
   "cell_type": "markdown",
   "metadata": {},
   "source": [
    "### 라이브러리 설정"
   ]
  },
  {
   "cell_type": "code",
   "execution_count": 49,
   "metadata": {},
   "outputs": [],
   "source": [
    "import pandas as pd"
   ]
  },
  {
   "cell_type": "markdown",
   "metadata": {},
   "source": [
    "### 데이터 정리"
   ]
  },
  {
   "cell_type": "code",
   "execution_count": 50,
   "metadata": {},
   "outputs": [],
   "source": [
    "#여러 CSV 파일을 읽어들여 합친 후 하나의 CSV 파일로 저장하는 함수\n",
    "def merge_data(output_path, *file_paths):\n",
    "    \"\"\"\"\n",
    "    Parameters:\n",
    "    - output_path (str): 합친 데이터를 저장할 CSV 파일의 경로\n",
    "    - file_paths (str): 합칠 CSV 파일들의 경로\n",
    "    \"\"\"\n",
    "    dataframes = []\n",
    "    \n",
    "    for file_path in file_paths:\n",
    "        df = pd.read_csv(file_path)\n",
    "        # '학교과정구분' 컬럼이 존재하면 제거\n",
    "        if '학교과정구분' in df.columns:\n",
    "            df = df.drop(columns=['학교과정구분'])\n",
    "        dataframes.append(df)\n",
    "    \n",
    "    # 데이터프레임 합치기\n",
    "    merged_df = pd.concat(dataframes, ignore_index=True)\n",
    "    \n",
    "    # 합친 데이터프레임을 CSV 파일로 저장\n",
    "    merged_df.to_csv(output_path, index=False)"
   ]
  },
  {
   "cell_type": "markdown",
   "metadata": {},
   "source": [
    "#### 시설 안전 점검 현황"
   ]
  },
  {
   "cell_type": "code",
   "execution_count": 51,
   "metadata": {},
   "outputs": [],
   "source": [
    "# 2019\n",
    "facility2019 = [\n",
    "    r'C:\\Users\\user\\Desktop\\학교안전사고 데이터분석 공모전\\데이터\\시설안전 점검 현황\\2019년도_시설안전 점검 현황(초)_전체.csv',\n",
    "    r'C:\\Users\\user\\Desktop\\학교안전사고 데이터분석 공모전\\데이터\\시설안전 점검 현황\\2019년도_시설안전 점검 현황(중)_전체.csv',\n",
    "    r'C:\\Users\\user\\Desktop\\학교안전사고 데이터분석 공모전\\데이터\\시설안전 점검 현황\\2019년도_시설안전 점검 현황(고)_전체.csv',\n",
    "    r'C:\\Users\\user\\Desktop\\학교안전사고 데이터분석 공모전\\데이터\\시설안전 점검 현황\\2019년도_시설안전 점검 현황(특)_전체.csv',\n",
    "    r'C:\\Users\\user\\Desktop\\학교안전사고 데이터분석 공모전\\데이터\\시설안전 점검 현황\\2019년도_시설안전 점검 현황(각)_전체.csv',\n",
    "    r'C:\\Users\\user\\Desktop\\학교안전사고 데이터분석 공모전\\데이터\\시설안전 점검 현황\\2019년도_시설안전 점검 현황(그)_전체.csv'\n",
    "]\n",
    "\n",
    "# 함수 호출\n",
    "merge_data('2019년도_시설안전 점검 현황(통합).csv', *facility2019)"
   ]
  },
  {
   "cell_type": "code",
   "execution_count": 52,
   "metadata": {},
   "outputs": [],
   "source": [
    "# 2020\n",
    "facility2020 = [\n",
    "    r'C:\\Users\\user\\Desktop\\학교안전사고 데이터분석 공모전\\데이터\\시설안전 점검 현황\\2020년도_시설안전 점검 현황(초)_전체.csv',\n",
    "    r'C:\\Users\\user\\Desktop\\학교안전사고 데이터분석 공모전\\데이터\\시설안전 점검 현황\\2020년도_시설안전 점검 현황(중)_전체.csv',\n",
    "    r'C:\\Users\\user\\Desktop\\학교안전사고 데이터분석 공모전\\데이터\\시설안전 점검 현황\\2020년도_시설안전 점검 현황(고)_전체.csv',\n",
    "    r'C:\\Users\\user\\Desktop\\학교안전사고 데이터분석 공모전\\데이터\\시설안전 점검 현황\\2020년도_시설안전 점검 현황(특)_전체.csv',\n",
    "    r'C:\\Users\\user\\Desktop\\학교안전사고 데이터분석 공모전\\데이터\\시설안전 점검 현황\\2020년도_시설안전 점검 현황(각)_전체.csv',\n",
    "    r'C:\\Users\\user\\Desktop\\학교안전사고 데이터분석 공모전\\데이터\\시설안전 점검 현황\\2020년도_시설안전 점검 현황(그)_전체.csv'\n",
    "]\n",
    "\n",
    "# 함수 호출\n",
    "merge_data('2020년도_시설안전 점검 현황(통합).csv', *facility2020)"
   ]
  },
  {
   "cell_type": "code",
   "execution_count": 53,
   "metadata": {},
   "outputs": [],
   "source": [
    "# 2021\n",
    "facility2021 = [\n",
    "    r'C:\\Users\\user\\Desktop\\학교안전사고 데이터분석 공모전\\데이터\\시설안전 점검 현황\\2021년도_시설안전 점검 현황(초)_전체.csv',\n",
    "    r'C:\\Users\\user\\Desktop\\학교안전사고 데이터분석 공모전\\데이터\\시설안전 점검 현황\\2021년도_시설안전 점검 현황(중)_전체.csv',\n",
    "    r'C:\\Users\\user\\Desktop\\학교안전사고 데이터분석 공모전\\데이터\\시설안전 점검 현황\\2021년도_시설안전 점검 현황(고)_전체.csv',\n",
    "    r'C:\\Users\\user\\Desktop\\학교안전사고 데이터분석 공모전\\데이터\\시설안전 점검 현황\\2021년도_시설안전 점검 현황(특)_전체.csv',\n",
    "    r'C:\\Users\\user\\Desktop\\학교안전사고 데이터분석 공모전\\데이터\\시설안전 점검 현황\\2021년도_시설안전 점검 현황(각)_전체.csv',\n",
    "    r'C:\\Users\\user\\Desktop\\학교안전사고 데이터분석 공모전\\데이터\\시설안전 점검 현황\\2021년도_시설안전 점검 현황(그)_전체.csv'\n",
    "]\n",
    "\n",
    "# 함수 호출\n",
    "merge_data('2021년도_시설안전 점검 현황(통합).csv', *facility2021)"
   ]
  },
  {
   "cell_type": "code",
   "execution_count": 54,
   "metadata": {},
   "outputs": [],
   "source": [
    "# 2022\n",
    "facility2022 = [\n",
    "    r'C:\\Users\\user\\Desktop\\학교안전사고 데이터분석 공모전\\데이터\\시설안전 점검 현황\\2022년도_시설안전 점검 현황(초)_전체.csv',\n",
    "    r'C:\\Users\\user\\Desktop\\학교안전사고 데이터분석 공모전\\데이터\\시설안전 점검 현황\\2022년도_시설안전 점검 현황(중)_전체.csv',\n",
    "    r'C:\\Users\\user\\Desktop\\학교안전사고 데이터분석 공모전\\데이터\\시설안전 점검 현황\\2022년도_시설안전 점검 현황(고)_전체.csv',\n",
    "    r'C:\\Users\\user\\Desktop\\학교안전사고 데이터분석 공모전\\데이터\\시설안전 점검 현황\\2022년도_시설안전 점검 현황(특)_전체.csv',\n",
    "    r'C:\\Users\\user\\Desktop\\학교안전사고 데이터분석 공모전\\데이터\\시설안전 점검 현황\\2022년도_시설안전 점검 현황(각)_전체.csv',\n",
    "    r'C:\\Users\\user\\Desktop\\학교안전사고 데이터분석 공모전\\데이터\\시설안전 점검 현황\\2022년도_시설안전 점검 현황(그)_전체.csv'\n",
    "]\n",
    "\n",
    "# 함수 호출\n",
    "merge_data('2022년도_시설안전 점검 현황(통합).csv', *facility2022)"
   ]
  },
  {
   "cell_type": "code",
   "execution_count": 55,
   "metadata": {},
   "outputs": [],
   "source": [
    "# 2023\n",
    "facility2023 = [\n",
    "    r'C:\\Users\\user\\Desktop\\학교안전사고 데이터분석 공모전\\데이터\\시설안전 점검 현황\\2023년도_시설안전 점검 현황(초)_전체.csv',\n",
    "    r'C:\\Users\\user\\Desktop\\학교안전사고 데이터분석 공모전\\데이터\\시설안전 점검 현황\\2023년도_시설안전 점검 현황(중)_전체.csv',\n",
    "    r'C:\\Users\\user\\Desktop\\학교안전사고 데이터분석 공모전\\데이터\\시설안전 점검 현황\\2023년도_시설안전 점검 현황(고)_전체.csv',\n",
    "    r'C:\\Users\\user\\Desktop\\학교안전사고 데이터분석 공모전\\데이터\\시설안전 점검 현황\\2023년도_시설안전 점검 현황(특)_전체.csv',\n",
    "    r'C:\\Users\\user\\Desktop\\학교안전사고 데이터분석 공모전\\데이터\\시설안전 점검 현황\\2023년도_시설안전 점검 현황(각)_전체.csv',\n",
    "    r'C:\\Users\\user\\Desktop\\학교안전사고 데이터분석 공모전\\데이터\\시설안전 점검 현황\\2023년도_시설안전 점검 현황(그)_전체.csv'\n",
    "]\n",
    "\n",
    "# 함수 호출\n",
    "merge_data('2023년도_시설안전 점검 현황(통합).csv', *facility2023)"
   ]
  },
  {
   "cell_type": "markdown",
   "metadata": {},
   "source": [
    "#### 안전교육 계획 및 실시 현황"
   ]
  },
  {
   "cell_type": "code",
   "execution_count": 58,
   "metadata": {},
   "outputs": [],
   "source": [
    "# 2019\n",
    "education2019 = [\n",
    "    r'C:\\Users\\user\\Desktop\\학교안전사고 데이터분석 공모전\\데이터\\안전교육 계획 및 실시현황\\2019년도_안전교육 계획 및 실시현황(초)_전체.csv',\n",
    "    r'C:\\Users\\user\\Desktop\\학교안전사고 데이터분석 공모전\\데이터\\안전교육 계획 및 실시현황\\2019년도_안전교육 계획 및 실시현황(중)_전체.csv',\n",
    "    r'C:\\Users\\user\\Desktop\\학교안전사고 데이터분석 공모전\\데이터\\안전교육 계획 및 실시현황\\2019년도_안전교육 계획 및 실시현황(고)_전체.csv',\n",
    "    r'C:\\Users\\user\\Desktop\\학교안전사고 데이터분석 공모전\\데이터\\안전교육 계획 및 실시현황\\2019년도_안전교육 계획 및 실시현황(특)_전체.csv',\n",
    "    r'C:\\Users\\user\\Desktop\\학교안전사고 데이터분석 공모전\\데이터\\안전교육 계획 및 실시현황\\2019년도_안전교육 계획 및 실시현황(각)_전체.csv',\n",
    "    r'C:\\Users\\user\\Desktop\\학교안전사고 데이터분석 공모전\\데이터\\안전교육 계획 및 실시현황\\2019년도_안전교육 계획 및 실시현황(그)_전체.csv'\n",
    "]\n",
    "\n",
    "# 함수 호출\n",
    "merge_data('2019년도_안전교육 계획 및 실시현황(통합).csv', *education2019)"
   ]
  },
  {
   "cell_type": "code",
   "execution_count": 59,
   "metadata": {},
   "outputs": [],
   "source": [
    "# 2020\n",
    "education2020 = [\n",
    "    r'C:\\Users\\user\\Desktop\\학교안전사고 데이터분석 공모전\\데이터\\안전교육 계획 및 실시현황\\2020년도_안전교육 계획 및 실시현황(초)_전체.csv',\n",
    "    r'C:\\Users\\user\\Desktop\\학교안전사고 데이터분석 공모전\\데이터\\안전교육 계획 및 실시현황\\2020년도_안전교육 계획 및 실시현황(중)_전체.csv',\n",
    "    r'C:\\Users\\user\\Desktop\\학교안전사고 데이터분석 공모전\\데이터\\안전교육 계획 및 실시현황\\2020년도_안전교육 계획 및 실시현황(고)_전체.csv',\n",
    "    r'C:\\Users\\user\\Desktop\\학교안전사고 데이터분석 공모전\\데이터\\안전교육 계획 및 실시현황\\2020년도_안전교육 계획 및 실시현황(특)_전체.csv',\n",
    "    r'C:\\Users\\user\\Desktop\\학교안전사고 데이터분석 공모전\\데이터\\안전교육 계획 및 실시현황\\2020년도_안전교육 계획 및 실시현황(각)_전체.csv',\n",
    "    r'C:\\Users\\user\\Desktop\\학교안전사고 데이터분석 공모전\\데이터\\안전교육 계획 및 실시현황\\2020년도_안전교육 계획 및 실시현황(그)_전체.csv'\n",
    "]\n",
    "\n",
    "# 함수 호출\n",
    "merge_data('2020년도_안전교육 계획 및 실시현황(통합).csv', *education2020)"
   ]
  },
  {
   "cell_type": "code",
   "execution_count": 60,
   "metadata": {},
   "outputs": [],
   "source": [
    "# 2021\n",
    "education2021 = [\n",
    "    r'C:\\Users\\user\\Desktop\\학교안전사고 데이터분석 공모전\\데이터\\안전교육 계획 및 실시현황\\2021년도_안전교육 계획 및 실시현황(초)_전체.csv',\n",
    "    r'C:\\Users\\user\\Desktop\\학교안전사고 데이터분석 공모전\\데이터\\안전교육 계획 및 실시현황\\2021년도_안전교육 계획 및 실시현황(중)_전체.csv',\n",
    "    r'C:\\Users\\user\\Desktop\\학교안전사고 데이터분석 공모전\\데이터\\안전교육 계획 및 실시현황\\2021년도_안전교육 계획 및 실시현황(고)_전체.csv',\n",
    "    r'C:\\Users\\user\\Desktop\\학교안전사고 데이터분석 공모전\\데이터\\안전교육 계획 및 실시현황\\2021년도_안전교육 계획 및 실시현황(특)_전체.csv',\n",
    "    r'C:\\Users\\user\\Desktop\\학교안전사고 데이터분석 공모전\\데이터\\안전교육 계획 및 실시현황\\2021년도_안전교육 계획 및 실시현황(각)_전체.csv',\n",
    "    r'C:\\Users\\user\\Desktop\\학교안전사고 데이터분석 공모전\\데이터\\안전교육 계획 및 실시현황\\2021년도_안전교육 계획 및 실시현황(그)_전체.csv'\n",
    "]\n",
    "\n",
    "# 함수 호출\n",
    "merge_data('2021년도_안전교육 계획 및 실시현황(통합).csv', *education2021)"
   ]
  },
  {
   "cell_type": "code",
   "execution_count": 61,
   "metadata": {},
   "outputs": [],
   "source": [
    "# 2022\n",
    "education2022 = [\n",
    "    r'C:\\Users\\user\\Desktop\\학교안전사고 데이터분석 공모전\\데이터\\안전교육 계획 및 실시현황\\2022년도_안전교육 계획 및 실시현황(초)_전체.csv',\n",
    "    r'C:\\Users\\user\\Desktop\\학교안전사고 데이터분석 공모전\\데이터\\안전교육 계획 및 실시현황\\2022년도_안전교육 계획 및 실시현황(중)_전체.csv',\n",
    "    r'C:\\Users\\user\\Desktop\\학교안전사고 데이터분석 공모전\\데이터\\안전교육 계획 및 실시현황\\2022년도_안전교육 계획 및 실시현황(고)_전체.csv',\n",
    "    r'C:\\Users\\user\\Desktop\\학교안전사고 데이터분석 공모전\\데이터\\안전교육 계획 및 실시현황\\2022년도_안전교육 계획 및 실시현황(특)_전체.csv',\n",
    "    r'C:\\Users\\user\\Desktop\\학교안전사고 데이터분석 공모전\\데이터\\안전교육 계획 및 실시현황\\2022년도_안전교육 계획 및 실시현황(각)_전체.csv',\n",
    "    r'C:\\Users\\user\\Desktop\\학교안전사고 데이터분석 공모전\\데이터\\안전교육 계획 및 실시현황\\2022년도_안전교육 계획 및 실시현황(그)_전체.csv'\n",
    "]\n",
    "\n",
    "# 함수 호출\n",
    "merge_data('2022년도_안전교육 계획 및 실시현황(통합).csv', *education2022)"
   ]
  },
  {
   "cell_type": "code",
   "execution_count": 62,
   "metadata": {},
   "outputs": [],
   "source": [
    "# 2023\n",
    "education2023 = [\n",
    "    r'C:\\Users\\user\\Desktop\\학교안전사고 데이터분석 공모전\\데이터\\안전교육 계획 및 실시현황\\2023년도_안전교육 계획 및 실시현황(초)_전체.csv',\n",
    "    r'C:\\Users\\user\\Desktop\\학교안전사고 데이터분석 공모전\\데이터\\안전교육 계획 및 실시현황\\2023년도_안전교육 계획 및 실시현황(중)_전체.csv',\n",
    "    r'C:\\Users\\user\\Desktop\\학교안전사고 데이터분석 공모전\\데이터\\안전교육 계획 및 실시현황\\2023년도_안전교육 계획 및 실시현황(고)_전체.csv',\n",
    "    r'C:\\Users\\user\\Desktop\\학교안전사고 데이터분석 공모전\\데이터\\안전교육 계획 및 실시현황\\2023년도_안전교육 계획 및 실시현황(특)_전체.csv',\n",
    "    r'C:\\Users\\user\\Desktop\\학교안전사고 데이터분석 공모전\\데이터\\안전교육 계획 및 실시현황\\2023년도_안전교육 계획 및 실시현황(각)_전체.csv',\n",
    "    r'C:\\Users\\user\\Desktop\\학교안전사고 데이터분석 공모전\\데이터\\안전교육 계획 및 실시현황\\2023년도_안전교육 계획 및 실시현황(그)_전체.csv'\n",
    "]\n",
    "\n",
    "# 함수 호출\n",
    "merge_data('2023년도_안전교육 계획 및 실시현황(통합).csv', *education2023)"
   ]
  }
 ],
 "metadata": {
  "kernelspec": {
   "display_name": "Python 3",
   "language": "python",
   "name": "python3"
  },
  "language_info": {
   "codemirror_mode": {
    "name": "ipython",
    "version": 3
   },
   "file_extension": ".py",
   "mimetype": "text/x-python",
   "name": "python",
   "nbconvert_exporter": "python",
   "pygments_lexer": "ipython3",
   "version": "3.12.0"
  }
 },
 "nbformat": 4,
 "nbformat_minor": 2
}
